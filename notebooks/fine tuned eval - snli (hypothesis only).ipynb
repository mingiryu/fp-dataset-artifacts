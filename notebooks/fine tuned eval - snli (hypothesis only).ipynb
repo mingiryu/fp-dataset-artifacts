{
 "cells": [
  {
   "cell_type": "code",
   "execution_count": 3,
   "id": "73aabf0a",
   "metadata": {},
   "outputs": [],
   "source": [
    "import openai\n",
    "\n",
    "from fp_dataset_artifacts.utils import init_openai, upload, save_results\n",
    "from fp_dataset_artifacts.snli import int2label\n",
    "from datasets import list_datasets, load_dataset, list_metrics, load_metric\n",
    "\n",
    "# Initialize OpenAI API with API_KEY\n",
    "init_openai()"
   ]
  },
  {
   "cell_type": "code",
   "execution_count": 1,
   "id": "3959f287",
   "metadata": {},
   "outputs": [],
   "source": [
    "def map_finetune_hypothesis(x):\n",
    "    hypothesis = x['hypothesis']\n",
    "    label = int2label(x['label'])\n",
    "\n",
    "    return {\n",
    "        'prompt': f\"Hypothesis: {hypothesis}\\n\\nLabel: \",\n",
    "        'completion': label\n",
    "        + '\\n',  # '\\n' added to prevent further text generation.\n",
    "    }"
   ]
  },
  {
   "cell_type": "code",
   "execution_count": 6,
   "id": "03dce382",
   "metadata": {},
   "outputs": [
    {
     "name": "stderr",
     "output_type": "stream",
     "text": [
      "Reusing dataset snli (/home/x/.cache/huggingface/datasets/snli/plain_text/1.0.0/1f60b67533b65ae0275561ff7828aad5ee4282d0e6f844fd148d05d3c6ea251b)\n",
      "Loading cached shuffled indices for dataset at /home/x/.cache/huggingface/datasets/snli/plain_text/1.0.0/1f60b67533b65ae0275561ff7828aad5ee4282d0e6f844fd148d05d3c6ea251b/cache-0e9d0b15c43a175e.arrow\n",
      "Loading cached processed dataset at /home/x/.cache/huggingface/datasets/snli/plain_text/1.0.0/1f60b67533b65ae0275561ff7828aad5ee4282d0e6f844fd148d05d3c6ea251b/cache-32180687a36b9af5.arrow\n"
     ]
    },
    {
     "data": {
      "application/vnd.jupyter.widget-view+json": {
       "model_id": "d52a9e35a9834d72a3bd82e5d5adbac6",
       "version_major": 2,
       "version_minor": 0
      },
      "text/plain": [
       "HBox(children=(FloatProgress(value=0.0, max=10000.0), HTML(value='')))"
      ]
     },
     "metadata": {},
     "output_type": "display_data"
    },
    {
     "name": "stdout",
     "output_type": "stream",
     "text": [
      "\n"
     ]
    },
    {
     "data": {
      "text/plain": [
       "(Dataset({\n",
       "     features: ['prompt', 'completion'],\n",
       "     num_rows: 55000\n",
       " }),\n",
       " Dataset({\n",
       "     features: ['prompt', 'completion'],\n",
       "     num_rows: 10000\n",
       " }))"
      ]
     },
     "execution_count": 6,
     "metadata": {},
     "output_type": "execute_result"
    }
   ],
   "source": [
    "data = load_dataset('snli')\n",
    "\n",
    "train_sample_size = 55000\n",
    "\n",
    "train = (data['train'].shuffle(0).select(list(range(train_sample_size)))).map(map_finetune_hypothesis)\n",
    "train = train.remove_columns(['premise', 'hypothesis', 'label'])\n",
    "\n",
    "valid = data['validation'].map(map_finetune_hypothesis)\n",
    "valid = valid.remove_columns(['premise', 'hypothesis', 'label'])\n",
    "\n",
    "train, valid"
   ]
  },
  {
   "cell_type": "code",
   "execution_count": 11,
   "id": "de2b182e",
   "metadata": {},
   "outputs": [],
   "source": [
    "train_local_filename = 'snli_finetune_train_sample_hypothesis_only.jsonl'\n",
    "valid_local_filename = 'snli_finetune_validation_hypothesis_only.jsonl'"
   ]
  },
  {
   "cell_type": "code",
   "execution_count": 9,
   "id": "1e7e2b19",
   "metadata": {},
   "outputs": [
    {
     "data": {
      "application/vnd.jupyter.widget-view+json": {
       "model_id": "ec7a6e35e2a64d6e8601014c4f4dd1f4",
       "version_major": 2,
       "version_minor": 0
      },
      "text/plain": [
       "HBox(children=(FloatProgress(value=0.0, max=6.0), HTML(value='')))"
      ]
     },
     "metadata": {},
     "output_type": "display_data"
    },
    {
     "name": "stdout",
     "output_type": "stream",
     "text": [
      "\n"
     ]
    },
    {
     "data": {
      "text/plain": [
       "'file-m028aD3lDT3pheuZCp76ML4m'"
      ]
     },
     "execution_count": 9,
     "metadata": {},
     "output_type": "execute_result"
    }
   ],
   "source": [
    "upload(train, train_local_filename)"
   ]
  },
  {
   "cell_type": "code",
   "execution_count": 10,
   "id": "3e8fdbb4",
   "metadata": {},
   "outputs": [
    {
     "data": {
      "application/vnd.jupyter.widget-view+json": {
       "model_id": "a456561f83d449808bdf8f76b5e04993",
       "version_major": 2,
       "version_minor": 0
      },
      "text/plain": [
       "HBox(children=(FloatProgress(value=0.0, max=1.0), HTML(value='')))"
      ]
     },
     "metadata": {},
     "output_type": "display_data"
    },
    {
     "name": "stdout",
     "output_type": "stream",
     "text": [
      "\n"
     ]
    },
    {
     "data": {
      "text/plain": [
       "'file-ZdqDBx6kGH9rUTsYQWhptb96'"
      ]
     },
     "execution_count": 10,
     "metadata": {},
     "output_type": "execute_result"
    }
   ],
   "source": [
    "upload(valid, valid_local_filename)"
   ]
  },
  {
   "cell_type": "code",
   "execution_count": 14,
   "id": "7b81a5e0",
   "metadata": {},
   "outputs": [
    {
     "data": {
      "text/plain": [
       "'ft-9JSpBBaY4vJKmx5yzibrv2am'"
      ]
     },
     "execution_count": 14,
     "metadata": {},
     "output_type": "execute_result"
    }
   ],
   "source": [
    "finetune_resp = openai.FineTune.create(\n",
    "    training_file='file-m028aD3lDT3pheuZCp76ML4m',\n",
    "    validation_file='file-ZdqDBx6kGH9rUTsYQWhptb96',\n",
    "    model='curie',\n",
    "    n_epochs=4,\n",
    "    compute_classification_metrics=True,\n",
    "    classification_n_classes=3,\n",
    ")\n",
    "\n",
    "# Get the fine-tune ID\n",
    "finetune_id = finetune_resp['id']\n",
    "finetune_id"
   ]
  },
  {
   "cell_type": "code",
   "execution_count": 25,
   "id": "39b9854e",
   "metadata": {},
   "outputs": [
    {
     "data": {
      "text/plain": [
       "<FineTune fine-tune id=ft-9JSpBBaY4vJKmx5yzibrv2am at 0x7f7b77a62f90> JSON: {\n",
       "  \"created_at\": 1639093591,\n",
       "  \"events\": [\n",
       "    {\n",
       "      \"created_at\": 1639093591,\n",
       "      \"level\": \"info\",\n",
       "      \"message\": \"Created fine-tune: ft-9JSpBBaY4vJKmx5yzibrv2am\",\n",
       "      \"object\": \"fine-tune-event\"\n",
       "    },\n",
       "    {\n",
       "      \"created_at\": 1639093594,\n",
       "      \"level\": \"info\",\n",
       "      \"message\": \"Fine-tune costs $14.00\",\n",
       "      \"object\": \"fine-tune-event\"\n",
       "    },\n",
       "    {\n",
       "      \"created_at\": 1639093595,\n",
       "      \"level\": \"info\",\n",
       "      \"message\": \"Fine-tune enqueued. Queue number: 0\",\n",
       "      \"object\": \"fine-tune-event\"\n",
       "    },\n",
       "    {\n",
       "      \"created_at\": 1639093598,\n",
       "      \"level\": \"info\",\n",
       "      \"message\": \"Fine-tune started\",\n",
       "      \"object\": \"fine-tune-event\"\n",
       "    },\n",
       "    {\n",
       "      \"created_at\": 1639093956,\n",
       "      \"level\": \"info\",\n",
       "      \"message\": \"Completed epoch 1/4\",\n",
       "      \"object\": \"fine-tune-event\"\n",
       "    },\n",
       "    {\n",
       "      \"created_at\": 1639094876,\n",
       "      \"level\": \"info\",\n",
       "      \"message\": \"Completed epoch 2/4\",\n",
       "      \"object\": \"fine-tune-event\"\n",
       "    },\n",
       "    {\n",
       "      \"created_at\": 1639095796,\n",
       "      \"level\": \"info\",\n",
       "      \"message\": \"Completed epoch 3/4\",\n",
       "      \"object\": \"fine-tune-event\"\n",
       "    },\n",
       "    {\n",
       "      \"created_at\": 1639096709,\n",
       "      \"level\": \"info\",\n",
       "      \"message\": \"Completed epoch 4/4\",\n",
       "      \"object\": \"fine-tune-event\"\n",
       "    },\n",
       "    {\n",
       "      \"created_at\": 1639097347,\n",
       "      \"level\": \"info\",\n",
       "      \"message\": \"Uploaded model: curie:ft-user-5hzndcnnszukksvrzrlnjn8l-2021-12-10-00-49-05\",\n",
       "      \"object\": \"fine-tune-event\"\n",
       "    },\n",
       "    {\n",
       "      \"created_at\": 1639097350,\n",
       "      \"level\": \"info\",\n",
       "      \"message\": \"Uploaded result file: file-wvA9xdPXmoqo8IrN7JNW144L\",\n",
       "      \"object\": \"fine-tune-event\"\n",
       "    },\n",
       "    {\n",
       "      \"created_at\": 1639097350,\n",
       "      \"level\": \"info\",\n",
       "      \"message\": \"Fine-tune succeeded\",\n",
       "      \"object\": \"fine-tune-event\"\n",
       "    }\n",
       "  ],\n",
       "  \"fine_tuned_model\": \"curie:ft-user-5hzndcnnszukksvrzrlnjn8l-2021-12-10-00-49-05\",\n",
       "  \"hyperparams\": {\n",
       "    \"batch_size\": 1,\n",
       "    \"classification_n_classes\": 3,\n",
       "    \"compute_classification_metrics\": true,\n",
       "    \"learning_rate_multiplier\": 0.2,\n",
       "    \"n_epochs\": 4,\n",
       "    \"prompt_loss_weight\": 0.1,\n",
       "    \"use_packing\": true\n",
       "  },\n",
       "  \"id\": \"ft-9JSpBBaY4vJKmx5yzibrv2am\",\n",
       "  \"model\": \"curie\",\n",
       "  \"object\": \"fine-tune\",\n",
       "  \"organization_id\": \"org-5AE307Eg4rc5EAoEA2S2bwkH\",\n",
       "  \"result_files\": [\n",
       "    {\n",
       "      \"bytes\": 148631,\n",
       "      \"created_at\": 1639097348,\n",
       "      \"filename\": \"compiled_results.csv\",\n",
       "      \"id\": \"file-wvA9xdPXmoqo8IrN7JNW144L\",\n",
       "      \"object\": \"file\",\n",
       "      \"purpose\": \"fine-tune-results\",\n",
       "      \"status\": \"processed\",\n",
       "      \"status_details\": null\n",
       "    }\n",
       "  ],\n",
       "  \"status\": \"succeeded\",\n",
       "  \"training_files\": [\n",
       "    {\n",
       "      \"bytes\": 5637081,\n",
       "      \"created_at\": 1639093507,\n",
       "      \"filename\": \"snli_finetune_train_sample_hypothesis_only.jsonl\",\n",
       "      \"id\": \"file-m028aD3lDT3pheuZCp76ML4m\",\n",
       "      \"object\": \"file\",\n",
       "      \"purpose\": \"fine-tune\",\n",
       "      \"status\": \"processed\",\n",
       "      \"status_details\": null\n",
       "    }\n",
       "  ],\n",
       "  \"updated_at\": 1639097351,\n",
       "  \"validation_files\": [\n",
       "    {\n",
       "      \"bytes\": 1029960,\n",
       "      \"created_at\": 1639093519,\n",
       "      \"filename\": \"snli_finetune_validation_hypothesis_only.jsonl\",\n",
       "      \"id\": \"file-ZdqDBx6kGH9rUTsYQWhptb96\",\n",
       "      \"object\": \"file\",\n",
       "      \"purpose\": \"fine-tune\",\n",
       "      \"status\": \"processed\",\n",
       "      \"status_details\": null\n",
       "    }\n",
       "  ]\n",
       "}"
      ]
     },
     "execution_count": 25,
     "metadata": {},
     "output_type": "execute_result"
    }
   ],
   "source": [
    "openai.FineTune.retrieve(finetune_id)"
   ]
  },
  {
   "cell_type": "code",
   "execution_count": 27,
   "id": "90840ef0",
   "metadata": {},
   "outputs": [],
   "source": [
    "save_results('file-wvA9xdPXmoqo8IrN7JNW144L', 'snli_hypothesis_only_results.csv')"
   ]
  },
  {
   "cell_type": "code",
   "execution_count": 28,
   "id": "865f254b",
   "metadata": {},
   "outputs": [
    {
     "data": {
      "text/html": [
       "<div>\n",
       "<style scoped>\n",
       "    .dataframe tbody tr th:only-of-type {\n",
       "        vertical-align: middle;\n",
       "    }\n",
       "\n",
       "    .dataframe tbody tr th {\n",
       "        vertical-align: top;\n",
       "    }\n",
       "\n",
       "    .dataframe thead th {\n",
       "        text-align: right;\n",
       "    }\n",
       "</style>\n",
       "<table border=\"1\" class=\"dataframe\">\n",
       "  <thead>\n",
       "    <tr style=\"text-align: right;\">\n",
       "      <th></th>\n",
       "      <th>step</th>\n",
       "      <th>elapsed_tokens</th>\n",
       "      <th>elapsed_examples</th>\n",
       "      <th>training_loss</th>\n",
       "      <th>training_sequence_accuracy</th>\n",
       "      <th>training_token_accuracy</th>\n",
       "      <th>validation_loss</th>\n",
       "      <th>validation_sequence_accuracy</th>\n",
       "      <th>validation_token_accuracy</th>\n",
       "      <th>classification/accuracy</th>\n",
       "      <th>classification/weighted_f1_score</th>\n",
       "    </tr>\n",
       "  </thead>\n",
       "  <tbody>\n",
       "    <tr>\n",
       "      <th>0</th>\n",
       "      <td>1</td>\n",
       "      <td>2049</td>\n",
       "      <td>1</td>\n",
       "      <td>0.368273</td>\n",
       "      <td>0.0</td>\n",
       "      <td>0.816024</td>\n",
       "      <td>0.314335</td>\n",
       "      <td>1.0</td>\n",
       "      <td>1.0</td>\n",
       "      <td>NaN</td>\n",
       "      <td>NaN</td>\n",
       "    </tr>\n",
       "    <tr>\n",
       "      <th>1</th>\n",
       "      <td>2</td>\n",
       "      <td>4098</td>\n",
       "      <td>2</td>\n",
       "      <td>0.335983</td>\n",
       "      <td>0.0</td>\n",
       "      <td>0.739521</td>\n",
       "      <td>NaN</td>\n",
       "      <td>NaN</td>\n",
       "      <td>NaN</td>\n",
       "      <td>NaN</td>\n",
       "      <td>NaN</td>\n",
       "    </tr>\n",
       "    <tr>\n",
       "      <th>2</th>\n",
       "      <td>3</td>\n",
       "      <td>6147</td>\n",
       "      <td>3</td>\n",
       "      <td>0.442174</td>\n",
       "      <td>0.0</td>\n",
       "      <td>0.836207</td>\n",
       "      <td>NaN</td>\n",
       "      <td>NaN</td>\n",
       "      <td>NaN</td>\n",
       "      <td>NaN</td>\n",
       "      <td>NaN</td>\n",
       "    </tr>\n",
       "    <tr>\n",
       "      <th>3</th>\n",
       "      <td>4</td>\n",
       "      <td>8196</td>\n",
       "      <td>4</td>\n",
       "      <td>0.425365</td>\n",
       "      <td>0.0</td>\n",
       "      <td>0.788520</td>\n",
       "      <td>NaN</td>\n",
       "      <td>NaN</td>\n",
       "      <td>NaN</td>\n",
       "      <td>NaN</td>\n",
       "      <td>NaN</td>\n",
       "    </tr>\n",
       "    <tr>\n",
       "      <th>4</th>\n",
       "      <td>5</td>\n",
       "      <td>10245</td>\n",
       "      <td>5</td>\n",
       "      <td>0.394439</td>\n",
       "      <td>0.0</td>\n",
       "      <td>0.789941</td>\n",
       "      <td>NaN</td>\n",
       "      <td>NaN</td>\n",
       "      <td>NaN</td>\n",
       "      <td>NaN</td>\n",
       "      <td>NaN</td>\n",
       "    </tr>\n",
       "    <tr>\n",
       "      <th>...</th>\n",
       "      <td>...</td>\n",
       "      <td>...</td>\n",
       "      <td>...</td>\n",
       "      <td>...</td>\n",
       "      <td>...</td>\n",
       "      <td>...</td>\n",
       "      <td>...</td>\n",
       "      <td>...</td>\n",
       "      <td>...</td>\n",
       "      <td>...</td>\n",
       "      <td>...</td>\n",
       "    </tr>\n",
       "    <tr>\n",
       "      <th>2284</th>\n",
       "      <td>2285</td>\n",
       "      <td>4681965</td>\n",
       "      <td>2285</td>\n",
       "      <td>0.081135</td>\n",
       "      <td>0.0</td>\n",
       "      <td>0.987805</td>\n",
       "      <td>NaN</td>\n",
       "      <td>NaN</td>\n",
       "      <td>NaN</td>\n",
       "      <td>NaN</td>\n",
       "      <td>NaN</td>\n",
       "    </tr>\n",
       "    <tr>\n",
       "      <th>2285</th>\n",
       "      <td>2286</td>\n",
       "      <td>4684014</td>\n",
       "      <td>2286</td>\n",
       "      <td>0.075433</td>\n",
       "      <td>0.0</td>\n",
       "      <td>0.988060</td>\n",
       "      <td>NaN</td>\n",
       "      <td>NaN</td>\n",
       "      <td>NaN</td>\n",
       "      <td>NaN</td>\n",
       "      <td>NaN</td>\n",
       "    </tr>\n",
       "    <tr>\n",
       "      <th>2286</th>\n",
       "      <td>2287</td>\n",
       "      <td>4686063</td>\n",
       "      <td>2287</td>\n",
       "      <td>0.075334</td>\n",
       "      <td>0.0</td>\n",
       "      <td>0.982301</td>\n",
       "      <td>NaN</td>\n",
       "      <td>NaN</td>\n",
       "      <td>NaN</td>\n",
       "      <td>NaN</td>\n",
       "      <td>NaN</td>\n",
       "    </tr>\n",
       "    <tr>\n",
       "      <th>2287</th>\n",
       "      <td>2288</td>\n",
       "      <td>4688112</td>\n",
       "      <td>2288</td>\n",
       "      <td>0.080177</td>\n",
       "      <td>0.0</td>\n",
       "      <td>0.978979</td>\n",
       "      <td>NaN</td>\n",
       "      <td>NaN</td>\n",
       "      <td>NaN</td>\n",
       "      <td>NaN</td>\n",
       "      <td>NaN</td>\n",
       "    </tr>\n",
       "    <tr>\n",
       "      <th>2288</th>\n",
       "      <td>2289</td>\n",
       "      <td>4690161</td>\n",
       "      <td>2289</td>\n",
       "      <td>0.080471</td>\n",
       "      <td>0.0</td>\n",
       "      <td>0.973988</td>\n",
       "      <td>NaN</td>\n",
       "      <td>NaN</td>\n",
       "      <td>NaN</td>\n",
       "      <td>0.6675</td>\n",
       "      <td>0.667154</td>\n",
       "    </tr>\n",
       "  </tbody>\n",
       "</table>\n",
       "<p>2289 rows × 11 columns</p>\n",
       "</div>"
      ],
      "text/plain": [
       "      step  elapsed_tokens  elapsed_examples  training_loss  \\\n",
       "0        1            2049                 1       0.368273   \n",
       "1        2            4098                 2       0.335983   \n",
       "2        3            6147                 3       0.442174   \n",
       "3        4            8196                 4       0.425365   \n",
       "4        5           10245                 5       0.394439   \n",
       "...    ...             ...               ...            ...   \n",
       "2284  2285         4681965              2285       0.081135   \n",
       "2285  2286         4684014              2286       0.075433   \n",
       "2286  2287         4686063              2287       0.075334   \n",
       "2287  2288         4688112              2288       0.080177   \n",
       "2288  2289         4690161              2289       0.080471   \n",
       "\n",
       "      training_sequence_accuracy  training_token_accuracy  validation_loss  \\\n",
       "0                            0.0                 0.816024         0.314335   \n",
       "1                            0.0                 0.739521              NaN   \n",
       "2                            0.0                 0.836207              NaN   \n",
       "3                            0.0                 0.788520              NaN   \n",
       "4                            0.0                 0.789941              NaN   \n",
       "...                          ...                      ...              ...   \n",
       "2284                         0.0                 0.987805              NaN   \n",
       "2285                         0.0                 0.988060              NaN   \n",
       "2286                         0.0                 0.982301              NaN   \n",
       "2287                         0.0                 0.978979              NaN   \n",
       "2288                         0.0                 0.973988              NaN   \n",
       "\n",
       "      validation_sequence_accuracy  validation_token_accuracy  \\\n",
       "0                              1.0                        1.0   \n",
       "1                              NaN                        NaN   \n",
       "2                              NaN                        NaN   \n",
       "3                              NaN                        NaN   \n",
       "4                              NaN                        NaN   \n",
       "...                            ...                        ...   \n",
       "2284                           NaN                        NaN   \n",
       "2285                           NaN                        NaN   \n",
       "2286                           NaN                        NaN   \n",
       "2287                           NaN                        NaN   \n",
       "2288                           NaN                        NaN   \n",
       "\n",
       "      classification/accuracy  classification/weighted_f1_score  \n",
       "0                         NaN                               NaN  \n",
       "1                         NaN                               NaN  \n",
       "2                         NaN                               NaN  \n",
       "3                         NaN                               NaN  \n",
       "4                         NaN                               NaN  \n",
       "...                       ...                               ...  \n",
       "2284                      NaN                               NaN  \n",
       "2285                      NaN                               NaN  \n",
       "2286                      NaN                               NaN  \n",
       "2287                      NaN                               NaN  \n",
       "2288                   0.6675                          0.667154  \n",
       "\n",
       "[2289 rows x 11 columns]"
      ]
     },
     "execution_count": 28,
     "metadata": {},
     "output_type": "execute_result"
    }
   ],
   "source": [
    "import pandas as pd\n",
    "\n",
    "df = pd.read_csv('../results/snli_hypothesis_only_results.csv')\n",
    "df"
   ]
  },
  {
   "cell_type": "code",
   "execution_count": null,
   "id": "66d59724",
   "metadata": {},
   "outputs": [],
   "source": []
  }
 ],
 "metadata": {
  "kernelspec": {
   "display_name": "Python 3 (ipykernel)",
   "language": "python",
   "name": "python3"
  },
  "language_info": {
   "codemirror_mode": {
    "name": "ipython",
    "version": 3
   },
   "file_extension": ".py",
   "mimetype": "text/x-python",
   "name": "python",
   "nbconvert_exporter": "python",
   "pygments_lexer": "ipython3",
   "version": "3.9.5"
  }
 },
 "nbformat": 4,
 "nbformat_minor": 5
}
