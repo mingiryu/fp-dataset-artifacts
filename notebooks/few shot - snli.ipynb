{
 "cells": [
  {
   "cell_type": "code",
   "execution_count": 1,
   "id": "064ac24c",
   "metadata": {},
   "outputs": [
    {
     "name": "stderr",
     "output_type": "stream",
     "text": [
      "Reusing dataset snli (/home/x/.cache/huggingface/datasets/snli/plain_text/1.0.0/1f60b67533b65ae0275561ff7828aad5ee4282d0e6f844fd148d05d3c6ea251b)\n"
     ]
    },
    {
     "data": {
      "application/vnd.jupyter.widget-view+json": {
       "model_id": "ef5eb1c14b6441f884c402ae79053440",
       "version_major": 2,
       "version_minor": 0
      },
      "text/plain": [
       "  0%|          | 0/3 [00:00<?, ?it/s]"
      ]
     },
     "metadata": {},
     "output_type": "display_data"
    },
    {
     "data": {
      "text/plain": [
       "DatasetDict({\n",
       "    test: Dataset({\n",
       "        features: ['premise', 'hypothesis', 'label'],\n",
       "        num_rows: 10000\n",
       "    })\n",
       "    train: Dataset({\n",
       "        features: ['premise', 'hypothesis', 'label'],\n",
       "        num_rows: 550152\n",
       "    })\n",
       "    validation: Dataset({\n",
       "        features: ['premise', 'hypothesis', 'label'],\n",
       "        num_rows: 10000\n",
       "    })\n",
       "})"
      ]
     },
     "execution_count": 1,
     "metadata": {},
     "output_type": "execute_result"
    }
   ],
   "source": [
    "import openai\n",
    "\n",
    "from fp_dataset_artifacts.utils import init_openai, get_clf_response\n",
    "from fp_dataset_artifacts.snli import (\n",
    "    INTRO, map_example, get_examples, get_premises, get_hypotheses, get_labels\n",
    ")\n",
    "from datasets import list_datasets, load_dataset, list_metrics, load_metric\n",
    "\n",
    "init_openai()\n",
    "\n",
    "data = load_dataset('snli')\n",
    "data"
   ]
  },
  {
   "cell_type": "code",
   "execution_count": 2,
   "id": "cfa1ad13",
   "metadata": {},
   "outputs": [
    {
     "name": "stderr",
     "output_type": "stream",
     "text": [
      "Loading cached shuffled indices for dataset at /home/x/.cache/huggingface/datasets/snli/plain_text/1.0.0/1f60b67533b65ae0275561ff7828aad5ee4282d0e6f844fd148d05d3c6ea251b/cache-58eae7b788318b35.arrow\n",
      "Loading cached processed dataset at /home/x/.cache/huggingface/datasets/snli/plain_text/1.0.0/1f60b67533b65ae0275561ff7828aad5ee4282d0e6f844fd148d05d3c6ea251b/cache-2b2a4a6dc9ad3e25.arrow\n"
     ]
    },
    {
     "data": {
      "text/plain": [
       "Dataset({\n",
       "    features: ['premise', 'hypothesis', 'label', 'example'],\n",
       "    num_rows: 550152\n",
       "})"
      ]
     },
     "execution_count": 2,
     "metadata": {},
     "output_type": "execute_result"
    }
   ],
   "source": [
    "train = data['train'].shuffle(0).map(map_example)\n",
    "train"
   ]
  },
  {
   "cell_type": "code",
   "execution_count": 3,
   "id": "f995c394",
   "metadata": {},
   "outputs": [
    {
     "name": "stdout",
     "output_type": "stream",
     "text": [
      "Premise: A little boy wearing a red wristband grins as he holds something.\n",
      "Hypothesis: little boy wearing red wristband grins as he holds a toy\n",
      "Label: Neutral\n",
      "###\n",
      "Premise: A group of people at a rodeo watching a cowboy being thrown from a white horse.\n",
      "Hypothesis: The horse is black\n",
      "Label: Contradiction\n",
      "###\n",
      "Premise: Old lady sitting in a room full of flowers.\n",
      "Hypothesis: The old person has a lot of flowers.\n",
      "Label: Entailment\n",
      "###\n",
      "Premise: Various people mill about a park, one man in black shorts and a yellow shirt sticking a thumb out and looking at some of the others while a woman walks on with her hands on her hips.\n",
      "Hypothesis: a man is wearing colors of a bee\n",
      "Label: Entailment\n",
      "###\n",
      "Premise: A man and a woman are playing violins outside in front of a window.\n",
      "Hypothesis: A man and a woman are playing instruments outside in front of a window.\n",
      "Label: Entailment\n"
     ]
    }
   ],
   "source": [
    "sample = train[:5]\n",
    "target = train[5:10]\n",
    "examples = get_examples(sample)\n",
    "print(examples)"
   ]
  },
  {
   "cell_type": "code",
   "execution_count": 7,
   "id": "b079f947",
   "metadata": {},
   "outputs": [
    {
     "name": "stdout",
     "output_type": "stream",
     "text": [
      "This is a natural language inference (NLI) classifier\n",
      "Premise: A little boy wearing a red wristband grins as he holds something.\n",
      "Hypothesis: little boy wearing red wristband grins as he holds a toy\n",
      "Label: Neutral\n",
      "###\n",
      "Premise: A group of people at a rodeo watching a cowboy being thrown from a white horse.\n",
      "Hypothesis: The horse is black\n",
      "Label: Contradiction\n",
      "###\n",
      "Premise: Old lady sitting in a room full of flowers.\n",
      "Hypothesis: The old person has a lot of flowers.\n",
      "Label: Entailment\n",
      "###\n",
      "Premise: Various people mill about a park, one man in black shorts and a yellow shirt sticking a thumb out and looking at some of the others while a woman walks on with her hands on her hips.\n",
      "Hypothesis: a man is wearing colors of a bee\n",
      "Label: Entailment\n",
      "###\n",
      "Premise: A man and a woman are playing violins outside in front of a window.\n",
      "Hypothesis: A man and a woman are playing instruments outside in front of a window.\n",
      "Label: Entailment\n",
      "###\n",
      "NLI premise\n",
      "\n",
      "\n",
      "\n",
      "1. \"A little boy wearing a red wristband grins as he holds something.\"\n",
      "2. \"A group of people at a rodeo watching a cowboy being thrown from a white horse.\"\n",
      "3. \"Old lady sitting in a room full of flowers.\"\n",
      "4. \"Various people mill about a park, one man in black shorts and a yellow shirt sticking a thumb out and looking at some of the others while a woman walks on with her hands on her hips.\"\n",
      "5. \"A man and a woman are playing violins outside in front of a window.\"\n",
      "\n",
      "\n",
      "\n",
      "NLI hypothese\n",
      "\n",
      "\n",
      "\n",
      "1. \"little boy wearing red wristband grins as he holds a toy\"\n",
      "2. \"The horse is black\"\n",
      "3. \"The old person has a lot of flowers.\"\n",
      "4. \"a man is wearing colors of a bee\"\n",
      "5. \"A man and a woman are playing instruments outside in front of a window.\"\n",
      "\n",
      "\n",
      "\n",
      "NLI labels\n",
      "1: Neutral\n",
      "2: Contradiction\n",
      "3: Entailment\n",
      "4: Entailment\n",
      "5: Entailment\n",
      "\n",
      "\n",
      "\n",
      "###\n",
      "NLI premise\n",
      "\n",
      "\n",
      "\n",
      "1. \"An empty chair at an upscale restaurant.\"\n",
      "2. \"A boy is jumping on yellow spots that are painted on the floor of a water fountain.\"\n",
      "3. \"A female kicking a soccer ball while in front of a soccer goal.\"\n",
      "4. \"A black-haired woman in a white skirt and black boots is carrying a red bag and walking down the street.\"\n",
      "5. \"Pedestrians stop to watch a man create a mural on a wall at the side of a street.\"\n",
      "\n",
      "\n",
      "\n",
      "NLI hypothese\n",
      "\n",
      "\n",
      "\n",
      "1. \"All of the chairs have people sitting in them.\"\n",
      "2. \"Boy getting sprayed by water in the fountain.\"\n",
      "3. \"The woman is taking a nap.\"\n",
      "4. \"A woman walks on the way to her job interview.\"\n",
      "5. \"people are watching a man create a clay sculpture.\"\n",
      "\n",
      "\n",
      "NLI labels:\n",
      "1.\n",
      "\n",
      "\n"
     ]
    }
   ],
   "source": [
    "prompt = f\"\"\"{INTRO}\\n{examples}\n",
    "###\n",
    "NLI premise\n",
    "\n",
    "\n",
    "\n",
    "{get_premises(sample)}\n",
    "\n",
    "\n",
    "\n",
    "NLI hypothese\n",
    "\n",
    "\n",
    "\n",
    "{get_hypotheses(sample)}\n",
    "\n",
    "\n",
    "\n",
    "NLI labels\n",
    "{get_labels(sample)}\n",
    "\n",
    "\n",
    "\n",
    "###\n",
    "NLI premise\n",
    "\n",
    "\n",
    "\n",
    "{get_premises(target)}\n",
    "\n",
    "\n",
    "\n",
    "NLI hypothese\n",
    "\n",
    "\n",
    "\n",
    "{get_hypotheses(target)}\n",
    "\n",
    "\n",
    "NLI labels:\n",
    "1.\n",
    "\n",
    "\"\"\"\n",
    "print(prompt)"
   ]
  },
  {
   "cell_type": "code",
   "execution_count": 8,
   "id": "d5a48782",
   "metadata": {},
   "outputs": [
    {
     "data": {
      "text/plain": [
       "<OpenAIObject text_completion id=cmpl-4BxL0zPiFsjpxDMHZf3SPyGMWWBBI at 0x7f238402da40> JSON: {\n",
       "  \"choices\": [\n",
       "    {\n",
       "      \"finish_reason\": \"length\",\n",
       "      \"index\": 0,\n",
       "      \"logprobs\": null,\n",
       "      \"text\": \"\\n\\nNLI labels:\\n1.\\n\\n\\n\\nNLI labels:\\n1.\\n\\n\\n\\nNLI labels:\\n1.\\n\\n\\n\\nNLI labels:\\n1.\\n\\n\\n\\nNLI labels:\\n1.\\n\\n\\n\\nNLI labels:\\n1.\\n\\n\"\n",
       "    }\n",
       "  ],\n",
       "  \"created\": 1638755050,\n",
       "  \"id\": \"cmpl-4BxL0zPiFsjpxDMHZf3SPyGMWWBBI\",\n",
       "  \"model\": \"curie:2020-05-03\",\n",
       "  \"object\": \"text_completion\"\n",
       "}"
      ]
     },
     "execution_count": 8,
     "metadata": {},
     "output_type": "execute_result"
    }
   ],
   "source": [
    "get_clf_response(prompt)"
   ]
  },
  {
   "cell_type": "code",
   "execution_count": null,
   "id": "e8c77f22",
   "metadata": {},
   "outputs": [],
   "source": []
  }
 ],
 "metadata": {
  "kernelspec": {
   "display_name": "Python 3 (ipykernel)",
   "language": "python",
   "name": "python3"
  },
  "language_info": {
   "codemirror_mode": {
    "name": "ipython",
    "version": 3
   },
   "file_extension": ".py",
   "mimetype": "text/x-python",
   "name": "python",
   "nbconvert_exporter": "python",
   "pygments_lexer": "ipython3",
   "version": "3.9.5"
  }
 },
 "nbformat": 4,
 "nbformat_minor": 5
}
