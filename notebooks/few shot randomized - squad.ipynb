{
 "cells": [
  {
   "cell_type": "code",
   "execution_count": 38,
   "id": "ddf1d9bf",
   "metadata": {},
   "outputs": [
    {
     "name": "stderr",
     "output_type": "stream",
     "text": [
      "Reusing dataset squad (/home/x/.cache/huggingface/datasets/squad/plain_text/1.0.0/d6ec3ceb99ca480ce37cdd35555d6cb2511d223b9150cce08a837ef62ffea453)\n"
     ]
    },
    {
     "data": {
      "application/vnd.jupyter.widget-view+json": {
       "model_id": "47f460f825df4da39d25f6594e18b046",
       "version_major": 2,
       "version_minor": 0
      },
      "text/plain": [
       "  0%|          | 0/2 [00:00<?, ?it/s]"
      ]
     },
     "metadata": {},
     "output_type": "display_data"
    },
    {
     "data": {
      "text/plain": [
       "DatasetDict({\n",
       "    train: Dataset({\n",
       "        features: ['id', 'title', 'context', 'question', 'answers'],\n",
       "        num_rows: 87599\n",
       "    })\n",
       "    validation: Dataset({\n",
       "        features: ['id', 'title', 'context', 'question', 'answers'],\n",
       "        num_rows: 10570\n",
       "    })\n",
       "})"
      ]
     },
     "execution_count": 38,
     "metadata": {},
     "output_type": "execute_result"
    }
   ],
   "source": [
    "import openai\n",
    "import datasets\n",
    "import pandas as pd\n",
    "\n",
    "from fp_dataset_artifacts.utils import init_openai, get_qa_response\n",
    "from fp_dataset_artifacts.squad import INTRO\n",
    "from datasets import list_datasets, load_dataset, list_metrics, load_metric, concatenate_datasets, Dataset\n",
    "\n",
    "init_openai()\n",
    "\n",
    "data = load_dataset('squad')\n",
    "data"
   ]
  },
  {
   "cell_type": "code",
   "execution_count": 5,
   "id": "f0be1a89",
   "metadata": {},
   "outputs": [],
   "source": [
    "train = data['train']\n",
    "valid = data['validation']"
   ]
  },
  {
   "cell_type": "code",
   "execution_count": 6,
   "id": "490c2b05",
   "metadata": {},
   "outputs": [
    {
     "data": {
      "text/plain": [
       "New_York_City            817\n",
       "American_Idol            802\n",
       "Beyoncé                  758\n",
       "Frédéric_Chopin          697\n",
       "Queen_Victoria           680\n",
       "                        ... \n",
       "Great_Plains              47\n",
       "Tristan_da_Cunha          44\n",
       "Pitch_(music)             36\n",
       "Matter                    24\n",
       "Myocardial_infarction     22\n",
       "Name: title, Length: 442, dtype: int64"
      ]
     },
     "execution_count": 6,
     "metadata": {},
     "output_type": "execute_result"
    }
   ],
   "source": [
    "# Get counts for each title and count of unique titles\n",
    "train.remove_columns(['context', 'question', 'answers']).to_pandas().title.value_counts()"
   ]
  },
  {
   "cell_type": "code",
   "execution_count": 7,
   "id": "f29a0adf",
   "metadata": {},
   "outputs": [
    {
     "data": {
      "text/plain": [
       "Super_Bowl_50                                810\n",
       "Nikola_Tesla                                 511\n",
       "Martin_Luther                                479\n",
       "American_Broadcasting_Company                407\n",
       "Doctor_Who                                   319\n",
       "Economic_inequality                          297\n",
       "Victoria_and_Albert_Museum                   295\n",
       "Chloroplast                                  295\n",
       "Rhine                                        291\n",
       "Teacher                                      268\n",
       "Newcastle_upon_Tyne                          264\n",
       "Oxygen                                       247\n",
       "Warsaw                                       247\n",
       "Genghis_Khan                                 245\n",
       "European_Union_law                           243\n",
       "Apollo_program                               242\n",
       "Immune_system                                238\n",
       "Kenya                                        231\n",
       "Yuan_dynasty                                 228\n",
       "Huguenot                                     217\n",
       "Steam_engine                                 215\n",
       "Force                                        206\n",
       "Islamism                                     200\n",
       "Civil_disobedience                           197\n",
       "Computational_complexity_theory              197\n",
       "United_Methodist_Church                      191\n",
       "Scottish_Parliament                          189\n",
       "Imperialism                                  187\n",
       "Amazon_rainforest                            183\n",
       "Ctenophora                                   182\n",
       "Southern_California                          180\n",
       "University_of_Chicago                        176\n",
       "French_and_Indian_War                        172\n",
       "Prime_number                                 153\n",
       "Fresno,_California                           136\n",
       "Pharmacy                                     129\n",
       "Victoria_(Australia)                         124\n",
       "Geology                                      116\n",
       "Private_school                               113\n",
       "Harvard_University                           112\n",
       "Normans                                      112\n",
       "Sky_(United_Kingdom)                         108\n",
       "Black_Death                                  108\n",
       "Packet_switching                             106\n",
       "1973_oil_crisis                              106\n",
       "Intergovernmental_Panel_on_Climate_Change    104\n",
       "Construction                                  98\n",
       "Jacksonville,_Florida                         96\n",
       "Name: title, dtype: int64"
      ]
     },
     "execution_count": 7,
     "metadata": {},
     "output_type": "execute_result"
    }
   ],
   "source": [
    "# Get counts for each title and count of unique titles\n",
    "valid.remove_columns(['context', 'question', 'answers']).to_pandas().title.value_counts()"
   ]
  },
  {
   "cell_type": "code",
   "execution_count": 8,
   "id": "ed3d726f",
   "metadata": {},
   "outputs": [
    {
     "data": {
      "text/plain": [
       "{'id': '56beb3083aeaaa14008c923e',\n",
       " 'title': 'Super_Bowl_50',\n",
       " 'context': 'Despite waiving longtime running back DeAngelo Williams and losing top wide receiver Kelvin Benjamin to a torn ACL in the preseason, the Carolina Panthers had their best regular season in franchise history, becoming the seventh team to win at least 15 regular season games since the league expanded to a 16-game schedule in 1978. Carolina started the season 14–0, not only setting franchise records for the best start and the longest single-season winning streak, but also posting the best start to a season by an NFC team in NFL history, breaking the 13–0 record previously shared with the 2009 New Orleans Saints and the 2011 Green Bay Packers. With their NFC-best 15–1 regular season record, the Panthers clinched home-field advantage throughout the NFC playoffs for the first time in franchise history. Ten players were selected to the Pro Bowl (the most in franchise history) along with eight All-Pro selections.',\n",
       " 'question': 'Who had the best record in the NFC?',\n",
       " 'answers': {'text': ['Carolina Panthers', 'the Panthers', 'Carolina'],\n",
       "  'answer_start': [137, 695, 330]}}"
      ]
     },
     "execution_count": 8,
     "metadata": {},
     "output_type": "execute_result"
    }
   ],
   "source": [
    "# Make examples without context\n",
    "valid[200]"
   ]
  },
  {
   "cell_type": "code",
   "execution_count": 52,
   "id": "e02590df",
   "metadata": {},
   "outputs": [
    {
     "name": "stdout",
     "output_type": "stream",
     "text": [
      "The league eventually narrowed the bids to three sites: New Orleans' Mercedes-Benz Superdome, Miami's Sun Life Stadium, and the San Francisco Bay Area's Levi's Stadium.\n",
      "Q: What was the name of New Orleans' superdome at the time that Super Bowl 50 took place?\n",
      "A: Mercedes-Benz Superdome\n",
      "The league eventually narrowed the bids to three sites: New Orleans' Mercedes-Benz Superdome, Miami's Sun Life Stadium, and the San Francisco Bay Area's Levi's Stadium.\n",
      "Q: What was the name of New Orleans' superdome at the time that Super Bowl 50 took place?\n",
      "A: \n"
     ]
    }
   ],
   "source": [
    "# Prep examples and prompts for evaluation\n",
    "def map_example(x):\n",
    "    question = x['question']\n",
    "    answer = x['answers']['text'][0]\n",
    "    context = x['context']\n",
    "    return {'example': f'{context}\\nQ: {question}\\nA: {answer}'}\n",
    "\n",
    "def map_query(x):\n",
    "    question = x['question']\n",
    "    context = x['context']\n",
    "    return {'query': f'{context}\\nQ: {question}\\nA: '}\n",
    "    \n",
    "print(map_example(valid[123])['example'])\n",
    "print(map_query(valid[123])['query'])"
   ]
  },
  {
   "cell_type": "code",
   "execution_count": 53,
   "id": "45938f70",
   "metadata": {},
   "outputs": [
    {
     "data": {
      "application/vnd.jupyter.widget-view+json": {
       "model_id": "421a00b4b2524b26901869261f63ffa3",
       "version_major": 2,
       "version_minor": 0
      },
      "text/plain": [
       "  0%|          | 0/87599 [00:00<?, ?ex/s]"
      ]
     },
     "metadata": {},
     "output_type": "display_data"
    }
   ],
   "source": [
    "train = train.map(map_example)"
   ]
  },
  {
   "cell_type": "code",
   "execution_count": 54,
   "id": "9b1509f1",
   "metadata": {},
   "outputs": [
    {
     "data": {
      "application/vnd.jupyter.widget-view+json": {
       "model_id": "457624d5fe514dca85540d21c393a777",
       "version_major": 2,
       "version_minor": 0
      },
      "text/plain": [
       "  0%|          | 0/10570 [00:00<?, ?ex/s]"
      ]
     },
     "metadata": {},
     "output_type": "display_data"
    }
   ],
   "source": [
    "valid = valid.map(map_query)"
   ]
  },
  {
   "cell_type": "code",
   "execution_count": 55,
   "id": "a40c22aa",
   "metadata": {},
   "outputs": [],
   "source": [
    "train = train.shuffle(0)"
   ]
  },
  {
   "cell_type": "code",
   "execution_count": 66,
   "id": "c8f3ead9",
   "metadata": {},
   "outputs": [],
   "source": [
    "n_examples = 5\n",
    "n_samples = 10\n",
    "\n",
    "prompts = []\n",
    "for i in range(n_samples):\n",
    "    examples = train[i:i+n_examples]\n",
    "    examples = '\\n\\n'.join(examples['example'])\n",
    "    query = valid[i]['query']\n",
    "    \n",
    "    prompt = f\"\"\"{INTRO}\\n\\n{examples}\\n\\n{query}\"\"\"\n",
    "    answers = valid['answers'][0]['text']\n",
    "    prompts.append({'prompt': prompt, 'answers': answers})"
   ]
  },
  {
   "cell_type": "code",
   "execution_count": 67,
   "id": "8dde02c2",
   "metadata": {},
   "outputs": [
    {
     "data": {
      "text/plain": [
       "Dataset({\n",
       "    features: ['prompt', 'answers'],\n",
       "    num_rows: 10\n",
       "})"
      ]
     },
     "execution_count": 67,
     "metadata": {},
     "output_type": "execute_result"
    }
   ],
   "source": [
    "sample_data = Dataset.from_pandas(pd.DataFrame(prompts))\n",
    "sample_data"
   ]
  },
  {
   "cell_type": "code",
   "execution_count": 68,
   "id": "3338fc4d",
   "metadata": {},
   "outputs": [
    {
     "name": "stdout",
     "output_type": "stream",
     "text": [
      "I am a highly intelligent question answering bot. If you ask me a question that is rooted in truth, I will give you the answer.\n",
      "\n",
      "Certain technological inventions of the period – whether of Arab or Chinese origin, or unique European innovations – were to have great influence on political and social developments, in particular gunpowder, the printing press and the compass. The introduction of gunpowder to the field of battle affected not only military organisation, but helped advance the nation state. Gutenberg's movable type printing press made possible not only the Reformation, but also a dissemination of knowledge that would lead to a gradually more egalitarian society. The compass, along with other innovations such as the cross-staff, the mariner's astrolabe, and advances in shipbuilding, enabled the navigation of the World Oceans, and the early phases of colonialism. Other inventions had a greater impact on everyday life, such as eyeglasses and the weight-driven clock.\n",
      "Q: Which invention with military applications helped bring about the nation state?\n",
      "A: gunpowder\n",
      "\n",
      "This law is a fundamental principle of physics. As shown rigorously by Noether's theorem, the conservation of energy is a mathematical consequence of translational symmetry of time, a property of most phenomena below the cosmic scale that makes them independent of their locations on the time coordinate. Put differently, yesterday, today, and tomorrow are physically indistinguishable. This is because energy is the quantity which is canonical conjugate to time. This mathematical entanglement of energy and time also results in the uncertainty principle - it is impossible to define the exact amount of energy during any definite time interval. The uncertainty principle should not be confused with energy conservation - rather it provides mathematical limits to which energy can in principle be defined and measured.\n",
      "Q: What states it is impossible to define the exact amount of energy during any definite time interval?\n",
      "A: uncertainty principle\n",
      "\n",
      "At the time of her accession, the government was led by the Whig prime minister Lord Melbourne, who at once became a powerful influence on the politically inexperienced Queen, who relied on him for advice. Charles Greville supposed that the widowed and childless Melbourne was \"passionately fond of her as he might be of his daughter if he had one\", and Victoria probably saw him as a father figure. Her coronation took place on 28 June 1838 at Westminster Abbey. Over 400,000 visitors came to London for the celebrations. She became the first sovereign to take up residence at Buckingham Palace and inherited the revenues of the duchies of Lancaster and Cornwall as well as being granted a civil list allowance of £385,000 per year. Financially prudent, she paid off her father's debts.\n",
      "Q: When was Queen Victorias coronation held?\n",
      "A: 28 June 1838\n",
      "\n",
      "In February 1907, the Royal Dutch Shell Group was created through the amalgamation of two rival companies: the Royal Dutch Petroleum Company of the Netherlands and the \"Shell\" Transport and Trading Company Ltd of the United Kingdom. It was a move largely driven by the need to compete globally with Standard Oil. The Royal Dutch Petroleum Company was a Dutch company founded in 1890 to develop an oilfield in Sumatra, and initially led by August Kessler, Hugo Loudon, and Henri Deterding. The \"Shell\" Transport and Trading Company (the quotation marks were part of the legal name) was a British company, founded in 1897 by Marcus Samuel, 1st Viscount Bearsted, and his brother Samuel Samuel. Their father had owned an antique company in Houndsditch, London, which expanded in 1833 to import and sell sea-shells, after which the company \"Shell\" took its name.\n",
      "Q: When was the Royal Dutch Petroleum Company founded?\n",
      "A: 1890\n",
      "\n",
      "Hyderabadi cuisine comprises a broad repertoire of rice, wheat and meat dishes and the skilled use of various spices. Hyderabadi biryani and Hyderabadi haleem, with their blend of Mughlai and Arab cuisines, have become iconic dishes of India. Hyderabadi cuisine is highly influenced by Mughlai and to some extent by French, Arabic, Turkish, Iranian and native Telugu and Marathwada cuisines. Other popular native dishes include nihari, chakna, baghara baingan and the desserts qubani ka meetha, double ka meetha and kaddu ki kheer (a sweet porridge made with sweet gourd).\n",
      "Q: What types of cuisine are noted within Hyderabadi haleem?\n",
      "A: Mughlai and Arab\n",
      "\n",
      "Super Bowl 50 was an American football game to determine the champion of the National Football League (NFL) for the 2015 season. The American Football Conference (AFC) champion Denver Broncos defeated the National Football Conference (NFC) champion Carolina Panthers 24–10 to earn their third Super Bowl title. The game was played on February 7, 2016, at Levi's Stadium in the San Francisco Bay Area at Santa Clara, California. As this was the 50th Super Bowl, the league emphasized the \"golden anniversary\" with various gold-themed initiatives, as well as temporarily suspending the tradition of naming each Super Bowl game with Roman numerals (under which the game would have been known as \"Super Bowl L\"), so that the logo could prominently feature the Arabic numerals 50.\n",
      "Q: Which NFL team represented the AFC at Super Bowl 50?\n",
      "A: \n"
     ]
    }
   ],
   "source": [
    "print(sample_data[0]['prompt'])"
   ]
  },
  {
   "cell_type": "code",
   "execution_count": 65,
   "id": "18de656e",
   "metadata": {},
   "outputs": [
    {
     "data": {
      "text/plain": [
       "<OpenAIObject text_completion id=cmpl-4CE9hxERmlseR5kD3GAXpA1RIRAE5 at 0x7f5e016e84a0> JSON: {\n",
       "  \"choices\": [\n",
       "    {\n",
       "      \"finish_reason\": \"stop\",\n",
       "      \"index\": 0,\n",
       "      \"logprobs\": null,\n",
       "      \"text\": \"\"\n",
       "    }\n",
       "  ],\n",
       "  \"created\": 1638819697,\n",
       "  \"id\": \"cmpl-4CE9hxERmlseR5kD3GAXpA1RIRAE5\",\n",
       "  \"model\": \"curie:2020-05-03\",\n",
       "  \"object\": \"text_completion\"\n",
       "}"
      ]
     },
     "execution_count": 65,
     "metadata": {},
     "output_type": "execute_result"
    }
   ],
   "source": [
    "get_qa_response(sample_data[0]['prompt'])"
   ]
  },
  {
   "cell_type": "code",
   "execution_count": 45,
   "id": "75d11ce4",
   "metadata": {},
   "outputs": [
    {
     "data": {
      "text/plain": [
       "<OpenAIObject text_completion id=cmpl-4CE400RiseZxFUzlUzqgzUr16uwc5 at 0x7f5e882f79f0> JSON: {\n",
       "  \"choices\": [\n",
       "    {\n",
       "      \"finish_reason\": \"stop\",\n",
       "      \"index\": 0,\n",
       "      \"logprobs\": null,\n",
       "      \"text\": \"\"\n",
       "    }\n",
       "  ],\n",
       "  \"created\": 1638819344,\n",
       "  \"id\": \"cmpl-4CE400RiseZxFUzlUzqgzUr16uwc5\",\n",
       "  \"model\": \"curie:2020-05-03\",\n",
       "  \"object\": \"text_completion\"\n",
       "}"
      ]
     },
     "execution_count": 45,
     "metadata": {},
     "output_type": "execute_result"
    }
   ],
   "source": [
    "get_qa_response(sample_data[1]['prompt'])"
   ]
  },
  {
   "cell_type": "code",
   "execution_count": 46,
   "id": "ebd33b15",
   "metadata": {},
   "outputs": [
    {
     "data": {
      "text/plain": [
       "<OpenAIObject text_completion id=cmpl-4CE4fTgI7bME57BzwcDPDDYteBXCX at 0x7f5e2c124540> JSON: {\n",
       "  \"choices\": [\n",
       "    {\n",
       "      \"finish_reason\": \"stop\",\n",
       "      \"index\": 0,\n",
       "      \"logprobs\": null,\n",
       "      \"text\": \"\"\n",
       "    }\n",
       "  ],\n",
       "  \"created\": 1638819385,\n",
       "  \"id\": \"cmpl-4CE4fTgI7bME57BzwcDPDDYteBXCX\",\n",
       "  \"model\": \"curie:2020-05-03\",\n",
       "  \"object\": \"text_completion\"\n",
       "}"
      ]
     },
     "execution_count": 46,
     "metadata": {},
     "output_type": "execute_result"
    }
   ],
   "source": [
    "get_qa_response(sample_data[2]['prompt'])"
   ]
  },
  {
   "cell_type": "code",
   "execution_count": 60,
   "id": "c0be563f",
   "metadata": {},
   "outputs": [],
   "source": [
    "def get_qa_response(prompt, engine='curie'):\n",
    "    response = openai.Completion.create(\n",
    "        engine=engine,\n",
    "        prompt=prompt,\n",
    "        temperature=0.9,\n",
    "        max_tokens=100,\n",
    "        top_p=1,\n",
    "        frequency_penalty=0.0,\n",
    "        presence_penalty=0.0,\n",
    "        stop=['\\n'],\n",
    "    )\n",
    "    return response"
   ]
  },
  {
   "cell_type": "code",
   "execution_count": 61,
   "id": "2e70463c",
   "metadata": {},
   "outputs": [
    {
     "data": {
      "text/plain": [
       "<OpenAIObject text_completion id=cmpl-4CE9OqmS7DJ6RkTGxAq2bYUPzB3lx at 0x7f5e01668f90> JSON: {\n",
       "  \"choices\": [\n",
       "    {\n",
       "      \"finish_reason\": \"stop\",\n",
       "      \"index\": 0,\n",
       "      \"logprobs\": null,\n",
       "      \"text\": \"\"\n",
       "    }\n",
       "  ],\n",
       "  \"created\": 1638819678,\n",
       "  \"id\": \"cmpl-4CE9OqmS7DJ6RkTGxAq2bYUPzB3lx\",\n",
       "  \"model\": \"curie:2020-05-03\",\n",
       "  \"object\": \"text_completion\"\n",
       "}"
      ]
     },
     "execution_count": 61,
     "metadata": {},
     "output_type": "execute_result"
    }
   ],
   "source": [
    "get_qa_response(sample_data[2]['prompt'])"
   ]
  },
  {
   "cell_type": "code",
   "execution_count": 49,
   "id": "561d4cf8",
   "metadata": {},
   "outputs": [
    {
     "data": {
      "text/plain": [
       "<OpenAIObject text_completion id=cmpl-4CE71tI6u7UZOp70N4fe931BlU4gj at 0x7f5e015a8f40> JSON: {\n",
       "  \"choices\": [\n",
       "    {\n",
       "      \"finish_reason\": \"stop\",\n",
       "      \"index\": 0,\n",
       "      \"logprobs\": null,\n",
       "      \"text\": \"\"\n",
       "    }\n",
       "  ],\n",
       "  \"created\": 1638819531,\n",
       "  \"id\": \"cmpl-4CE71tI6u7UZOp70N4fe931BlU4gj\",\n",
       "  \"model\": \"davinci:2020-05-03\",\n",
       "  \"object\": \"text_completion\"\n",
       "}"
      ]
     },
     "execution_count": 49,
     "metadata": {},
     "output_type": "execute_result"
    }
   ],
   "source": [
    "get_qa_response(sample_data[2]['prompt'], 'davinci')"
   ]
  },
  {
   "cell_type": "code",
   "execution_count": null,
   "id": "a38b4fd6",
   "metadata": {},
   "outputs": [],
   "source": []
  }
 ],
 "metadata": {
  "kernelspec": {
   "display_name": "Python 3 (ipykernel)",
   "language": "python",
   "name": "python3"
  },
  "language_info": {
   "codemirror_mode": {
    "name": "ipython",
    "version": 3
   },
   "file_extension": ".py",
   "mimetype": "text/x-python",
   "name": "python",
   "nbconvert_exporter": "python",
   "pygments_lexer": "ipython3",
   "version": "3.9.5"
  }
 },
 "nbformat": 4,
 "nbformat_minor": 5
}
