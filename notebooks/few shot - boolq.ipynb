{
 "cells": [
  {
   "cell_type": "code",
   "execution_count": 1,
   "id": "8d9c6313",
   "metadata": {},
   "outputs": [
    {
     "name": "stderr",
     "output_type": "stream",
     "text": [
      "Using custom data configuration default\n",
      "Reusing dataset boolq (/home/x/.cache/huggingface/datasets/boolq/default/0.1.0/bf0dd57da941c50de94ae3ce3cef7fea48c08f337a4b7aac484e9dddc5aa24e5)\n"
     ]
    },
    {
     "data": {
      "application/vnd.jupyter.widget-view+json": {
       "model_id": "6e28519ec99440339ddf1d3f98dd01b0",
       "version_major": 2,
       "version_minor": 0
      },
      "text/plain": [
       "  0%|          | 0/2 [00:00<?, ?it/s]"
      ]
     },
     "metadata": {},
     "output_type": "display_data"
    },
    {
     "data": {
      "text/plain": [
       "DatasetDict({\n",
       "    train: Dataset({\n",
       "        features: ['question', 'answer', 'passage'],\n",
       "        num_rows: 9427\n",
       "    })\n",
       "    validation: Dataset({\n",
       "        features: ['question', 'answer', 'passage'],\n",
       "        num_rows: 3270\n",
       "    })\n",
       "})"
      ]
     },
     "execution_count": 1,
     "metadata": {},
     "output_type": "execute_result"
    }
   ],
   "source": [
    "import openai\n",
    "\n",
    "from fp_dataset_artifacts.utils import init_openai, get_qa_response\n",
    "from fp_dataset_artifacts.boolq import INTRO, LONG_INTRO, format_question, format_answer, get_zeroshot_prompt\n",
    "from datasets import list_datasets, load_dataset, list_metrics, load_metric\n",
    "\n",
    "init_openai()\n",
    "\n",
    "data = load_dataset('boolq')\n",
    "data"
   ]
  },
  {
   "cell_type": "code",
   "execution_count": 3,
   "id": "0f46cc7c",
   "metadata": {},
   "outputs": [
    {
     "name": "stderr",
     "output_type": "stream",
     "text": [
      "Loading cached shuffled indices for dataset at /home/x/.cache/huggingface/datasets/boolq/default/0.1.0/bf0dd57da941c50de94ae3ce3cef7fea48c08f337a4b7aac484e9dddc5aa24e5/cache-deec76edf279b5b0.arrow\n"
     ]
    },
    {
     "data": {
      "text/plain": [
       "Dataset({\n",
       "    features: ['question', 'answer', 'passage'],\n",
       "    num_rows: 9427\n",
       "})"
      ]
     },
     "execution_count": 3,
     "metadata": {},
     "output_type": "execute_result"
    }
   ],
   "source": [
    "train = data['train'].shuffle(0)\n",
    "train"
   ]
  },
  {
   "cell_type": "code",
   "execution_count": 17,
   "id": "b7f7461a",
   "metadata": {},
   "outputs": [
    {
     "data": {
      "text/plain": [
       "{'question': ['can a drug be an agonist and antagonist',\n",
       "  'has there ever been a hole in one on a par five',\n",
       "  'is hydraulic oil the same as power steering fluid',\n",
       "  'was pam actually pregnant in the office season 8',\n",
       "  \"is the lord's supper the same as the last supper\",\n",
       "  'is the movie the quiet place based on a book',\n",
       "  'can you be a hypochondriac about mental illness',\n",
       "  'is cash flow from operations the same as ebitda',\n",
       "  'is notre dame considered an ivy league school',\n",
       "  'are there any mgm casinos in atlantic city'],\n",
       " 'answer': [True, True, True, True, True, False, True, False, False, False],\n",
       " 'passage': ['In pharmacology the term agonist-antagonist or mixed agonist/antagonist is used to refer to a drug which under some conditions behaves as an agonist (a substance that fully activates the receptor that it binds to) while under other conditions, behaves as an antagonist (a substance that binds to a receptor but does not activate and can block the activity of other agonists).',\n",
       "  'Holes in one most commonly occur on par 3 holes, the shortest distance holes on a standard size golf course. Longer hitters have also accomplished this feat on longer holes, though nearly all par 4 and par 5 holes are too long for golfers to reach in a single shot. While well known outside of golf and often requiring a well hit shot and significant power, holes in one are considered to also contain an element of luck. As such, they are more common and considered less impressive than other hole accomplishments such as completing a par 5 in two shots (an albatross). As of October 2008, a condor (four under par) hole-in-one on a par 5 hole had been recorded on four occasions, aided by thin air at high altitude, or by cutting the corner on a doglegged or horseshoe-shaped hole.',\n",
       "  'Power steering fluid is a sub type of hydraulic fluid. Most are mineral oil or silicone based fluids, while some use automatic transmission fluid, made from synthetic base oil.',\n",
       "  \"The episode was written by consulting producer Allison Silverman, her first writing credit for the series after joining the writing staff in the eighth season. It was directed by Matt Sohn, one of the series' cinematographers and camera operators, his third directing credit for the series. The episode features a guest appearance from Lindsey Broad, and her character was described as ``Pam's competent and likable pal,'' Cathy. She appeared in a recurring role in the eighth season. The episode also relates to Pam's pregnancy. Jenna Fischer was actually pregnant and her pregnancy was written into the series with Pam and Jim having their second baby. The man who played Robert's skilled drummer friend is Steve Moore, better known as ``The Mad Drummer'' for the viral video he featured in, ``This drummer is at the wrong gig''.\",\n",
       "  \"The Last Supper is the final meal that, in the Gospel accounts, Jesus shared with his Apostles in Jerusalem before his crucifixion. The Last Supper is commemorated by Christians especially on Maundy Thursday. The Last Supper provides the scriptural basis for the Eucharist, also known as ``Holy Communion'' or ``The Lord's Supper''.\",\n",
       "  'A Quiet Place is a production of Sunday Night and Platinum Dunes; it was produced on a budget of $17 million. Krasinski wrote the screenplay with story co-writers Scott Beck and Bryan Woods. Beck and Woods grew up together in the US state of Iowa, and had watched numerous silent films in college. By 2013, they began working on the story that would lead to the film. They used their experience growing up close to farmland as the basis, including a grain silo setting as a place considered dangerous in their upbringing. They initiated their approach with a 15-page proof of concept. Initially, the writers had considered developing the film into a Cloverfield installment, but after pitching their ideas to the studio collectively, all of those involved decided to keep the film its own entity.',\n",
       "  'Patients with hypochondriasis often are not aware that depression and anxiety produce their own physical symptoms, and mistake these symptoms for manifestations of another mental or physical disorder or disease. For example, people with depression often experience changes in appetite and weight fluctuation, fatigue, decreased interest in sex and motivation in life overall. Intense anxiety is associated with rapid heartbeat, palpitations, sweating, muscle tension, stomach discomfort, dizziness, and numbness or tingling in certain parts of the body (hands, forehead, etc.).',\n",
       "  \"Earnings before interest, taxes, depreciation and amortization (EBITDA) is a non-GAAP metric that can be used to evaluate a company's profitability based on net working capital. The difference between EBITDA and OCF would then reflect how the entity finances its net working capital in the short term. OCF is not a measure of free cash flow and the effect of investment activities would need to be considered to arrive at the free cash flow of the entity.\",\n",
       "  'The Ivy League is a collegiate athletic conference comprising sports teams from eight private universities in the Northeastern United States. The conference name is also commonly used to refer to those eight schools as a group beyond the sports context. The eight members are Brown University, Columbia University, Cornell University, Dartmouth College, Harvard University, the University of Pennsylvania, Princeton University, and Yale University. The term Ivy League has connotations of academic excellence, selectivity in admissions, and social elitism.',\n",
       "  \"Announcing the resort in October 2007, MGM Mirage estimated the construction would ``have a budget in the $4.5-$5 billion range'', with ground to be broken in 2008 and the hotel to open in 2012. In October 2008, MGM Mirage declared in its third-quarter financial report that development activities for the resort other than design and pre-development had been postponed due to economic conditions of the late-2000s recession and the credit market environment from the financial crisis of 2007--2010. On March 12, 2010, MGM Mirage announced it would stop doing business as a gaming licensee in New Jersey, effectively abandoned the project.\"]}"
      ]
     },
     "execution_count": 17,
     "metadata": {},
     "output_type": "execute_result"
    }
   ],
   "source": [
    "train[:10]"
   ]
  },
  {
   "cell_type": "code",
   "execution_count": 13,
   "id": "2cfca34a",
   "metadata": {},
   "outputs": [
    {
     "name": "stdout",
     "output_type": "stream",
     "text": [
      "I am a highly intelligent question answering bot. If you ask me a question that is rooted in truth, I will answer in either \"Yes\" or \"No\".\n",
      "\n",
      "Q: Can a drug be an agonist and antagonist?\n",
      "A: Yes\n",
      "\n",
      "Q: Has there ever been a hole in one on a par five?\n",
      "A: \n",
      "\n"
     ]
    }
   ],
   "source": [
    "# A single example without passage\n",
    "prompt = f\"\"\"{INTRO}\n",
    "\n",
    "Q: {format_question('can a drug be an agonist and antagonist')}\n",
    "A: {format_answer(True)}\n",
    "\n",
    "Q: {format_question('has there ever been a hole in one on a par five')}\n",
    "A: \n",
    "\"\"\"\n",
    "print(prompt)"
   ]
  },
  {
   "cell_type": "code",
   "execution_count": 14,
   "id": "7b04d12a",
   "metadata": {},
   "outputs": [
    {
     "data": {
      "text/plain": [
       "<OpenAIObject text_completion id=cmpl-4BX8iYAceaP7fAbsClFD7rW8K0ziB at 0x7f15f97e20e0> JSON: {\n",
       "  \"choices\": [\n",
       "    {\n",
       "      \"finish_reason\": \"stop\",\n",
       "      \"index\": 0,\n",
       "      \"logprobs\": null,\n",
       "      \"text\": \"\"\n",
       "    }\n",
       "  ],\n",
       "  \"created\": 1638654344,\n",
       "  \"id\": \"cmpl-4BX8iYAceaP7fAbsClFD7rW8K0ziB\",\n",
       "  \"model\": \"curie:2020-05-03\",\n",
       "  \"object\": \"text_completion\"\n",
       "}"
      ]
     },
     "execution_count": 14,
     "metadata": {},
     "output_type": "execute_result"
    }
   ],
   "source": [
    "get_qa_response(prompt)"
   ]
  },
  {
   "cell_type": "code",
   "execution_count": 15,
   "id": "28685e1b",
   "metadata": {},
   "outputs": [
    {
     "name": "stdout",
     "output_type": "stream",
     "text": [
      "I am a highly intelligent question answering bot. If you ask me a question that is rooted in truth, I will answer in either \"Yes\" or \"No\".\n",
      "\n",
      "Q: Can a drug be an agonist and antagonist?\n",
      "A: Yes\n",
      "\n",
      "Q: Is hydraulic oil the same as power steering fluid?\n",
      "A: Yes\n",
      "\n",
      "Q: Has there ever been a hole in one on a par five?\n",
      "A: \n",
      "\n"
     ]
    }
   ],
   "source": [
    "# 2 examples without passage\n",
    "prompt = f\"\"\"{INTRO}\n",
    "\n",
    "Q: {format_question('can a drug be an agonist and antagonist')}\n",
    "A: {format_answer(True)}\n",
    "\n",
    "Q: {format_question('is hydraulic oil the same as power steering fluid')}\n",
    "A: {format_answer(True)}\n",
    "\n",
    "Q: {format_question('has there ever been a hole in one on a par five')}\n",
    "A: \n",
    "\"\"\"\n",
    "print(prompt)"
   ]
  },
  {
   "cell_type": "code",
   "execution_count": 16,
   "id": "0e2606e7",
   "metadata": {},
   "outputs": [
    {
     "data": {
      "text/plain": [
       "<OpenAIObject text_completion id=cmpl-4BX9vuEbYHhKrBO1XzIBUImE5jXHI at 0x7f15fa5b0310> JSON: {\n",
       "  \"choices\": [\n",
       "    {\n",
       "      \"finish_reason\": \"stop\",\n",
       "      \"index\": 0,\n",
       "      \"logprobs\": null,\n",
       "      \"text\": \"\"\n",
       "    }\n",
       "  ],\n",
       "  \"created\": 1638654419,\n",
       "  \"id\": \"cmpl-4BX9vuEbYHhKrBO1XzIBUImE5jXHI\",\n",
       "  \"model\": \"curie:2020-05-03\",\n",
       "  \"object\": \"text_completion\"\n",
       "}"
      ]
     },
     "execution_count": 16,
     "metadata": {},
     "output_type": "execute_result"
    }
   ],
   "source": [
    "get_qa_response(prompt)"
   ]
  },
  {
   "cell_type": "code",
   "execution_count": 18,
   "id": "4257d2d2",
   "metadata": {},
   "outputs": [
    {
     "name": "stdout",
     "output_type": "stream",
     "text": [
      "I am a highly intelligent question answering bot. If you ask me a question that is rooted in truth, I will answer in either \"Yes\" or \"No\".\n",
      "\n",
      "Q: Can a drug be an agonist and antagonist?\n",
      "A: Yes\n",
      "\n",
      "Q: Is the movie the quiet place based on a book?\n",
      "A: No\n",
      "\n",
      "Q: Has there ever been a hole in one on a par five?\n",
      "A: \n",
      "\n"
     ]
    }
   ],
   "source": [
    "# 2 examples without passage but with both labels\n",
    "prompt = f\"\"\"{INTRO}\n",
    "\n",
    "Q: {format_question('can a drug be an agonist and antagonist')}\n",
    "A: {format_answer(True)}\n",
    "\n",
    "Q: {format_question('is the movie the quiet place based on a book')}\n",
    "A: {format_answer(False)}\n",
    "\n",
    "Q: {format_question('has there ever been a hole in one on a par five')}\n",
    "A: \n",
    "\"\"\"\n",
    "print(prompt)"
   ]
  },
  {
   "cell_type": "code",
   "execution_count": 19,
   "id": "e7a1b0bf",
   "metadata": {},
   "outputs": [
    {
     "data": {
      "text/plain": [
       "<OpenAIObject text_completion id=cmpl-4BXBeEGACgYpiijrQDtFb0pRVkqIX at 0x7f15fa5c6b80> JSON: {\n",
       "  \"choices\": [\n",
       "    {\n",
       "      \"finish_reason\": \"stop\",\n",
       "      \"index\": 0,\n",
       "      \"logprobs\": null,\n",
       "      \"text\": \"\"\n",
       "    }\n",
       "  ],\n",
       "  \"created\": 1638654526,\n",
       "  \"id\": \"cmpl-4BXBeEGACgYpiijrQDtFb0pRVkqIX\",\n",
       "  \"model\": \"curie:2020-05-03\",\n",
       "  \"object\": \"text_completion\"\n",
       "}"
      ]
     },
     "execution_count": 19,
     "metadata": {},
     "output_type": "execute_result"
    }
   ],
   "source": [
    "get_qa_response(prompt)"
   ]
  },
  {
   "cell_type": "code",
   "execution_count": 21,
   "id": "9c7d313d",
   "metadata": {},
   "outputs": [
    {
     "name": "stdout",
     "output_type": "stream",
     "text": [
      "I am a highly intelligent question answering bot. If you ask me a question that is rooted in truth, I will answer in either \"Yes\" or \"No\".\n",
      "\n",
      "Passage: In pharmacology the term agonist-antagonist or mixed agonist/antagonist is used to refer to a drug which under some conditions behaves as an agonist (a substance that fully activates the receptor that it binds to) while under other conditions, behaves as an antagonist (a substance that binds to a receptor but does not activate and can block the activity of other agonists).\n",
      "\n",
      "Q: Can a drug be an agonist and antagonist?\n",
      "A: Yes\n",
      "\n",
      "Passage: Holes in one most commonly occur on par 3 holes, the shortest distance holes on a standard size golf course. Longer hitters have also accomplished this feat on longer holes, though nearly all par 4 and par 5 holes are too long for golfers to reach in a single shot. While well known outside of golf and often requiring a well hit shot and significant power, holes in one are considered to also contain an element of luck. As such, they are more common and considered less impressive than other hole accomplishments such as completing a par 5 in two shots (an albatross). As of October 2008, a condor (four under par) hole-in-one on a par 5 hole had been recorded on four occasions, aided by thin air at high altitude, or by cutting the corner on a doglegged or horseshoe-shaped hole.\n",
      "\n",
      "Q: Has there ever been a hole in one on a par five?\n",
      "A: \n",
      "\n"
     ]
    }
   ],
   "source": [
    "# A single example with passage\n",
    "prompt = f\"\"\"{INTRO}\n",
    "\n",
    "Passage: In pharmacology the term agonist-antagonist or mixed agonist/antagonist is used to refer to a drug which under some conditions behaves as an agonist (a substance that fully activates the receptor that it binds to) while under other conditions, behaves as an antagonist (a substance that binds to a receptor but does not activate and can block the activity of other agonists).\n",
    "\n",
    "Q: {format_question('can a drug be an agonist and antagonist')}\n",
    "A: {format_answer(True)}\n",
    "\n",
    "Passage: Holes in one most commonly occur on par 3 holes, the shortest distance holes on a standard size golf course. Longer hitters have also accomplished this feat on longer holes, though nearly all par 4 and par 5 holes are too long for golfers to reach in a single shot. While well known outside of golf and often requiring a well hit shot and significant power, holes in one are considered to also contain an element of luck. As such, they are more common and considered less impressive than other hole accomplishments such as completing a par 5 in two shots (an albatross). As of October 2008, a condor (four under par) hole-in-one on a par 5 hole had been recorded on four occasions, aided by thin air at high altitude, or by cutting the corner on a doglegged or horseshoe-shaped hole.\n",
    "\n",
    "Q: {format_question('has there ever been a hole in one on a par five')}\n",
    "A: \n",
    "\"\"\"\n",
    "print(prompt)"
   ]
  },
  {
   "cell_type": "code",
   "execution_count": 22,
   "id": "dd7ba4d6",
   "metadata": {},
   "outputs": [
    {
     "data": {
      "text/plain": [
       "<OpenAIObject text_completion id=cmpl-4BXCvAAeGOg1hiIkM53iWQl8yeWW7 at 0x7f15fa5b0770> JSON: {\n",
       "  \"choices\": [\n",
       "    {\n",
       "      \"finish_reason\": \"stop\",\n",
       "      \"index\": 0,\n",
       "      \"logprobs\": null,\n",
       "      \"text\": \"\"\n",
       "    }\n",
       "  ],\n",
       "  \"created\": 1638654605,\n",
       "  \"id\": \"cmpl-4BXCvAAeGOg1hiIkM53iWQl8yeWW7\",\n",
       "  \"model\": \"curie:2020-05-03\",\n",
       "  \"object\": \"text_completion\"\n",
       "}"
      ]
     },
     "execution_count": 22,
     "metadata": {},
     "output_type": "execute_result"
    }
   ],
   "source": [
    "get_qa_response(prompt)"
   ]
  },
  {
   "cell_type": "code",
   "execution_count": 23,
   "id": "0b5658f6",
   "metadata": {},
   "outputs": [
    {
     "name": "stdout",
     "output_type": "stream",
     "text": [
      "I am a highly intelligent question answering bot. If you ask me a question that is rooted in truth, I will answer in either \"Yes\" or \"No\".\n",
      "\n",
      "###\n",
      "\n",
      "Passage: In pharmacology the term agonist-antagonist or mixed agonist/antagonist is used to refer to a drug which under some conditions behaves as an agonist (a substance that fully activates the receptor that it binds to) while under other conditions, behaves as an antagonist (a substance that binds to a receptor but does not activate and can block the activity of other agonists).\n",
      "\n",
      "Q: Can a drug be an agonist and antagonist?\n",
      "A: Yes\n",
      "\n",
      "###\n",
      "\n",
      "Passage: Holes in one most commonly occur on par 3 holes, the shortest distance holes on a standard size golf course. Longer hitters have also accomplished this feat on longer holes, though nearly all par 4 and par 5 holes are too long for golfers to reach in a single shot. While well known outside of golf and often requiring a well hit shot and significant power, holes in one are considered to also contain an element of luck. As such, they are more common and considered less impressive than other hole accomplishments such as completing a par 5 in two shots (an albatross). As of October 2008, a condor (four under par) hole-in-one on a par 5 hole had been recorded on four occasions, aided by thin air at high altitude, or by cutting the corner on a doglegged or horseshoe-shaped hole.\n",
      "\n",
      "Q: Has there ever been a hole in one on a par five?\n",
      "A: \n",
      "\n"
     ]
    }
   ],
   "source": [
    "# Since the context (passage) isn't shared in this dataset,\n",
    "# we need to make it clear that the questions are unrelated to each other\n",
    "prompt = f\"\"\"{INTRO}\n",
    "\n",
    "###\n",
    "\n",
    "Passage: In pharmacology the term agonist-antagonist or mixed agonist/antagonist is used to refer to a drug which under some conditions behaves as an agonist (a substance that fully activates the receptor that it binds to) while under other conditions, behaves as an antagonist (a substance that binds to a receptor but does not activate and can block the activity of other agonists).\n",
    "\n",
    "Q: {format_question('can a drug be an agonist and antagonist')}\n",
    "A: {format_answer(True)}\n",
    "\n",
    "###\n",
    "\n",
    "Passage: Holes in one most commonly occur on par 3 holes, the shortest distance holes on a standard size golf course. Longer hitters have also accomplished this feat on longer holes, though nearly all par 4 and par 5 holes are too long for golfers to reach in a single shot. While well known outside of golf and often requiring a well hit shot and significant power, holes in one are considered to also contain an element of luck. As such, they are more common and considered less impressive than other hole accomplishments such as completing a par 5 in two shots (an albatross). As of October 2008, a condor (four under par) hole-in-one on a par 5 hole had been recorded on four occasions, aided by thin air at high altitude, or by cutting the corner on a doglegged or horseshoe-shaped hole.\n",
    "\n",
    "Q: {format_question('has there ever been a hole in one on a par five')}\n",
    "A: \n",
    "\"\"\"\n",
    "print(prompt)"
   ]
  },
  {
   "cell_type": "code",
   "execution_count": 24,
   "id": "e7b23010",
   "metadata": {},
   "outputs": [
    {
     "data": {
      "text/plain": [
       "<OpenAIObject text_completion id=cmpl-4BXDOAr969DbsHP38JyrqbbzQ646w at 0x7f15f97e2220> JSON: {\n",
       "  \"choices\": [\n",
       "    {\n",
       "      \"finish_reason\": \"stop\",\n",
       "      \"index\": 0,\n",
       "      \"logprobs\": null,\n",
       "      \"text\": \"\"\n",
       "    }\n",
       "  ],\n",
       "  \"created\": 1638654634,\n",
       "  \"id\": \"cmpl-4BXDOAr969DbsHP38JyrqbbzQ646w\",\n",
       "  \"model\": \"curie:2020-05-03\",\n",
       "  \"object\": \"text_completion\"\n",
       "}"
      ]
     },
     "execution_count": 24,
     "metadata": {},
     "output_type": "execute_result"
    }
   ],
   "source": [
    "get_qa_response(prompt)"
   ]
  },
  {
   "cell_type": "code",
   "execution_count": 25,
   "id": "f4126d77",
   "metadata": {},
   "outputs": [
    {
     "name": "stdout",
     "output_type": "stream",
     "text": [
      "I am a highly intelligent question answering bot. If you ask me a question that is rooted in truth, I will read the given passage thoroughly and answer question in either \"Yes\" or \"No\".\n",
      "\n",
      "###\n",
      "\n",
      "Passage: In pharmacology the term agonist-antagonist or mixed agonist/antagonist is used to refer to a drug which under some conditions behaves as an agonist (a substance that fully activates the receptor that it binds to) while under other conditions, behaves as an antagonist (a substance that binds to a receptor but does not activate and can block the activity of other agonists).\n",
      "\n",
      "Q: Can a drug be an agonist and antagonist?\n",
      "A: Yes\n",
      "\n",
      "###\n",
      "\n",
      "Passage: Holes in one most commonly occur on par 3 holes, the shortest distance holes on a standard size golf course. Longer hitters have also accomplished this feat on longer holes, though nearly all par 4 and par 5 holes are too long for golfers to reach in a single shot. While well known outside of golf and often requiring a well hit shot and significant power, holes in one are considered to also contain an element of luck. As such, they are more common and considered less impressive than other hole accomplishments such as completing a par 5 in two shots (an albatross). As of October 2008, a condor (four under par) hole-in-one on a par 5 hole had been recorded on four occasions, aided by thin air at high altitude, or by cutting the corner on a doglegged or horseshoe-shaped hole.\n",
      "\n",
      "Q: Has there ever been a hole in one on a par five?\n",
      "A: \n",
      "\n"
     ]
    }
   ],
   "source": [
    "# Make the into more descriptive\n",
    "# Since the context (passage) isn't shared in this dataset,\n",
    "# we need to make it clear that the questions are unrelated to each other\n",
    "prompt = f\"\"\"I am a highly intelligent question answering bot. If you ask me a question that is rooted in truth, I will read the given passage thoroughly and answer question in either \"Yes\" or \"No\".\n",
    "\n",
    "###\n",
    "\n",
    "Passage: In pharmacology the term agonist-antagonist or mixed agonist/antagonist is used to refer to a drug which under some conditions behaves as an agonist (a substance that fully activates the receptor that it binds to) while under other conditions, behaves as an antagonist (a substance that binds to a receptor but does not activate and can block the activity of other agonists).\n",
    "\n",
    "Q: {format_question('can a drug be an agonist and antagonist')}\n",
    "A: {format_answer(True)}\n",
    "\n",
    "###\n",
    "\n",
    "Passage: Holes in one most commonly occur on par 3 holes, the shortest distance holes on a standard size golf course. Longer hitters have also accomplished this feat on longer holes, though nearly all par 4 and par 5 holes are too long for golfers to reach in a single shot. While well known outside of golf and often requiring a well hit shot and significant power, holes in one are considered to also contain an element of luck. As such, they are more common and considered less impressive than other hole accomplishments such as completing a par 5 in two shots (an albatross). As of October 2008, a condor (four under par) hole-in-one on a par 5 hole had been recorded on four occasions, aided by thin air at high altitude, or by cutting the corner on a doglegged or horseshoe-shaped hole.\n",
    "\n",
    "Q: {format_question('has there ever been a hole in one on a par five')}\n",
    "A: \n",
    "\"\"\"\n",
    "print(prompt)"
   ]
  },
  {
   "cell_type": "code",
   "execution_count": 26,
   "id": "162f37c4",
   "metadata": {},
   "outputs": [
    {
     "data": {
      "text/plain": [
       "<OpenAIObject text_completion id=cmpl-4BXFQEryAu0N9j2LIiYCIkgLKrium at 0x7f15f9528130> JSON: {\n",
       "  \"choices\": [\n",
       "    {\n",
       "      \"finish_reason\": \"stop\",\n",
       "      \"index\": 0,\n",
       "      \"logprobs\": null,\n",
       "      \"text\": \"\"\n",
       "    }\n",
       "  ],\n",
       "  \"created\": 1638654760,\n",
       "  \"id\": \"cmpl-4BXFQEryAu0N9j2LIiYCIkgLKrium\",\n",
       "  \"model\": \"curie:2020-05-03\",\n",
       "  \"object\": \"text_completion\"\n",
       "}"
      ]
     },
     "execution_count": 26,
     "metadata": {},
     "output_type": "execute_result"
    }
   ],
   "source": [
    "get_qa_response(prompt)"
   ]
  },
  {
   "cell_type": "code",
   "execution_count": 28,
   "id": "11d4776e",
   "metadata": {},
   "outputs": [
    {
     "data": {
      "text/plain": [
       "<OpenAIObject text_completion id=cmpl-4BXGFZeot22YfqHmortiNCZ1e4vvj at 0x7f15f9518220> JSON: {\n",
       "  \"choices\": [\n",
       "    {\n",
       "      \"finish_reason\": \"length\",\n",
       "      \"index\": 0,\n",
       "      \"logprobs\": null,\n",
       "      \"text\": \"\\n###\\n\\nPassage: The first known hole in one was achieved by a golfer named James Braid in 1894. He was playing at the Royal and Ancient Golf Club in St Andrews, Scotland. He hit a shot that landed in the cup on the first hole of the course.\\n\\nQ: What is the first hole in one?\\nA: \\n\\n###\\n\\nPassage: The first hole in one was achieved by a golfer named James Braid in\"\n",
       "    }\n",
       "  ],\n",
       "  \"created\": 1638654811,\n",
       "  \"id\": \"cmpl-4BXGFZeot22YfqHmortiNCZ1e4vvj\",\n",
       "  \"model\": \"curie:2020-05-03\",\n",
       "  \"object\": \"text_completion\"\n",
       "}"
      ]
     },
     "execution_count": 28,
     "metadata": {},
     "output_type": "execute_result"
    }
   ],
   "source": [
    "# No stop paramter\n",
    "response = openai.Completion.create(\n",
    "    engine='curie',\n",
    "    prompt=prompt,\n",
    "    temperature=0,\n",
    "    max_tokens=100,\n",
    "    top_p=1,\n",
    "    frequency_penalty=0.0,\n",
    "    presence_penalty=0.0,\n",
    ")\n",
    "response"
   ]
  },
  {
   "cell_type": "code",
   "execution_count": 28,
   "id": "6f7d02cf",
   "metadata": {},
   "outputs": [
    {
     "name": "stderr",
     "output_type": "stream",
     "text": [
      "Loading cached shuffled indices for dataset at /home/x/.cache/huggingface/datasets/boolq/default/0.1.0/bf0dd57da941c50de94ae3ce3cef7fea48c08f337a4b7aac484e9dddc5aa24e5/cache-d8dad4882520c76d.arrow\n",
      "Loading cached shuffled indices for dataset at /home/x/.cache/huggingface/datasets/boolq/default/0.1.0/bf0dd57da941c50de94ae3ce3cef7fea48c08f337a4b7aac484e9dddc5aa24e5/cache-d8dad4882520c76d.arrow\n",
      "Loading cached shuffled indices for dataset at /home/x/.cache/huggingface/datasets/boolq/default/0.1.0/bf0dd57da941c50de94ae3ce3cef7fea48c08f337a4b7aac484e9dddc5aa24e5/cache-d8dad4882520c76d.arrow\n",
      "Loading cached shuffled indices for dataset at /home/x/.cache/huggingface/datasets/boolq/default/0.1.0/bf0dd57da941c50de94ae3ce3cef7fea48c08f337a4b7aac484e9dddc5aa24e5/cache-d8dad4882520c76d.arrow\n",
      "Loading cached shuffled indices for dataset at /home/x/.cache/huggingface/datasets/boolq/default/0.1.0/bf0dd57da941c50de94ae3ce3cef7fea48c08f337a4b7aac484e9dddc5aa24e5/cache-d8dad4882520c76d.arrow\n"
     ]
    },
    {
     "name": "stdout",
     "output_type": "stream",
     "text": [
      "I am a highly intelligent question answering bot. If you ask me a question that is rooted in truth, I will read the given passage thoroughly and answer in either \"Yes\" or \"No\".\n",
      "\n",
      "###\n",
      "\n",
      "Mistrials are generally not covered by the double jeopardy clause. If a judge dismisses the case or concludes the trial without deciding the facts in the defendant's favor (for example, by dismissing the case on procedural grounds), the case is a mistrial and may normally be retried. Furthermore, if a jury cannot reach a verdict, the judge may declare a mistrial and order a retrial as was addressed in United States v. Josef Perez, 22 U.S. 579 (1824). When the defendant moves for a mistrial, there is no bar to retrial, even if the prosecutor or judge caused the error that forms the basis of the motion. An exception exists, however, where the prosecutor or judge has acted in bad faith. In Oregon v. Kennedy, 456 U.S. 667 (1982), the Supreme Court held that ``only where the governmental conduct in question is intended to 'goad' the defendant into moving for a mistrial may a defendant raise the bar of double jeopardy to a second trial after having succeeded in aborting the first on his own motion.''\n",
      "\n",
      "Q: Can you go back to trial after a mistrial?\n",
      "\n",
      "A: Yes\n",
      "\n",
      "###\n",
      "\n",
      "The United States Virgin Islands (USVI; also called the American Virgin Islands), officially the Virgin Islands of the United States, is a group of islands in the Caribbean and an unincorporated and organized territory of the United States. The islands are geographically part of the Virgin Islands archipelago and are located in the Leeward Islands of the Lesser Antilles.\n",
      "\n",
      "Q: Is the virgin islands part of the usa?\n",
      "\n",
      "A: Yes\n",
      "\n",
      "###\n",
      "\n",
      "Prime Minister's Questions (often abbreviated to PMQs and officially known as Questions to the Prime Minister) is a constitutional convention in the United Kingdom, currently held as a single session every Wednesday at noon when the House of Commons is sitting, during which the Prime Minister spends around half an hour answering questions from Members of Parliament (MPs).\n",
      "\n",
      "Q: Is the prime minister part of the house of commons?\n",
      "\n",
      "A: Yes\n",
      "\n",
      "###\n",
      "\n",
      "The FIFA World Cup, often simply called the World Cup, is an international association football competition contested by the senior men's national teams of the members of the Fédération Internationale de Football Association (FIFA), the sport's global governing body. The championship has been awarded every four years since the inaugural tournament in 1930, except in 1942 and 1946 when it was not held because of the Second World War. The current champion is France, which won its second title at the 2018 tournament in Russia.\n",
      "\n",
      "Q: Is the world cup of soccer played every year?\n",
      "\n",
      "A: No\n",
      "\n",
      "###\n",
      "\n",
      "In the European Union (EU), HFCS, known as isoglucose in sugar regime, is subject to a production quota. In 2005, this quota was set at 303,000 tonnes; in comparison, the EU produced an average of 18.6 million tonnes of sugar annually between 1999 and 2001.\n",
      "\n",
      "Q: Is high fructose corn syrup illegal in europe?\n",
      "\n",
      "A: No\n",
      "\n",
      "###\n",
      "\n",
      "In pharmacology the term agonist-antagonist or mixed agonist/antagonist is used to refer to a drug which under some conditions behaves as an agonist (a substance that fully activates the receptor that it binds to) while under other conditions, behaves as an antagonist (a substance that binds to a receptor but does not activate and can block the activity of other agonists).\n",
      "\n",
      "Q: Can a drug be an agonist and antagonist?\n",
      "\n",
      "A: \n"
     ]
    }
   ],
   "source": [
    "# More examples\n",
    "def get_fewshot_prompt(x, exs, intro=LONG_INTRO, passage=True, sep='###'):\n",
    "    examples = [\n",
    "        get_zeroshot_prompt(\n",
    "            ex, intro=sep, passage=passage\n",
    "        ) + format_answer(ex['answer']) \n",
    "        for ex in exs\n",
    "    ]\n",
    "    target = get_zeroshot_prompt(x, intro=sep, passage=passage)\n",
    "    return '\\n\\n'.join([intro, *examples, target])\n",
    "\n",
    "prompt = get_fewshot_prompt(train[0], [train.shuffle(0)[i] for i in range(5)])\n",
    "print(prompt)"
   ]
  },
  {
   "cell_type": "code",
   "execution_count": 29,
   "id": "5fe9dd10",
   "metadata": {},
   "outputs": [
    {
     "data": {
      "text/plain": [
       "<OpenAIObject text_completion id=cmpl-4BXgxPETM2ft7Js0vAiTZztQJbtpF at 0x7fd23e353860> JSON: {\n",
       "  \"choices\": [\n",
       "    {\n",
       "      \"finish_reason\": \"stop\",\n",
       "      \"index\": 0,\n",
       "      \"logprobs\": null,\n",
       "      \"text\": \"\"\n",
       "    }\n",
       "  ],\n",
       "  \"created\": 1638656467,\n",
       "  \"id\": \"cmpl-4BXgxPETM2ft7Js0vAiTZztQJbtpF\",\n",
       "  \"model\": \"curie:2020-05-03\",\n",
       "  \"object\": \"text_completion\"\n",
       "}"
      ]
     },
     "execution_count": 29,
     "metadata": {},
     "output_type": "execute_result"
    }
   ],
   "source": [
    "get_qa_response(prompt)"
   ]
  },
  {
   "cell_type": "code",
   "execution_count": null,
   "id": "99951754",
   "metadata": {},
   "outputs": [],
   "source": []
  }
 ],
 "metadata": {
  "kernelspec": {
   "display_name": "Python 3 (ipykernel)",
   "language": "python",
   "name": "python3"
  },
  "language_info": {
   "codemirror_mode": {
    "name": "ipython",
    "version": 3
   },
   "file_extension": ".py",
   "mimetype": "text/x-python",
   "name": "python",
   "nbconvert_exporter": "python",
   "pygments_lexer": "ipython3",
   "version": "3.9.5"
  }
 },
 "nbformat": 4,
 "nbformat_minor": 5
}
