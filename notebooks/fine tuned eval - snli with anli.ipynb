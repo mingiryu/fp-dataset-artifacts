{
 "cells": [
  {
   "cell_type": "code",
   "execution_count": 1,
   "id": "73aabf0a",
   "metadata": {},
   "outputs": [],
   "source": [
    "import openai\n",
    "\n",
    "from fp_dataset_artifacts.utils import init_openai\n",
    "from fp_dataset_artifacts.anli import finetune, evaluate, map_finetune\n",
    "from datasets import list_datasets, load_dataset, list_metrics, load_metric\n",
    "\n",
    "# Initialize OpenAI API with API_KEY\n",
    "init_openai()"
   ]
  },
  {
   "cell_type": "code",
   "execution_count": 2,
   "id": "39b9854e",
   "metadata": {},
   "outputs": [
    {
     "name": "stderr",
     "output_type": "stream",
     "text": [
      "Reusing dataset anli (/home/x/.cache/huggingface/datasets/anli/plain_text/0.1.0/aabce88453b06dff21c201855ea83283bab0390bff746deadb30b65695755c0b)\n",
      "Loading cached shuffled indices for dataset at /home/x/.cache/huggingface/datasets/anli/plain_text/0.1.0/aabce88453b06dff21c201855ea83283bab0390bff746deadb30b65695755c0b/cache-14bcc170afed3deb.arrow\n"
     ]
    },
    {
     "data": {
      "application/vnd.jupyter.widget-view+json": {
       "model_id": "c92abad45fd74bae8873bf9d9eea0356",
       "version_major": 2,
       "version_minor": 0
      },
      "text/plain": [
       "HBox(children=(FloatProgress(value=0.0, max=1000.0), HTML(value='')))"
      ]
     },
     "metadata": {},
     "output_type": "display_data"
    },
    {
     "name": "stdout",
     "output_type": "stream",
     "text": [
      "\n"
     ]
    },
    {
     "data": {
      "text/plain": [
       "Dataset({\n",
       "    features: ['prompt', 'completion'],\n",
       "    num_rows: 1000\n",
       "})"
      ]
     },
     "execution_count": 2,
     "metadata": {},
     "output_type": "execute_result"
    }
   ],
   "source": [
    "anli = load_dataset('anli')\n",
    "anli_test = anli['test_r1'].shuffle(0)\n",
    "anli_test = anli_test.map(map_finetune)\n",
    "anli_test = anli_test.remove_columns(['uid', 'reason', 'premise', 'hypothesis', 'label'])\n",
    "anli_test"
   ]
  },
  {
   "cell_type": "code",
   "execution_count": 3,
   "id": "14456c0c",
   "metadata": {},
   "outputs": [],
   "source": [
    "finetune_id = 'ft-8brkU9ndEMQxJrA6PuE8CRdS'"
   ]
  },
  {
   "cell_type": "code",
   "execution_count": 5,
   "id": "a0d2c836",
   "metadata": {},
   "outputs": [
    {
     "data": {
      "application/vnd.jupyter.widget-view+json": {
       "model_id": "f76979e7385d4258be8e7b8ad96d3131",
       "version_major": 2,
       "version_minor": 0
      },
      "text/plain": [
       "HBox(children=(FloatProgress(value=0.0, max=1000.0), HTML(value='')))"
      ]
     },
     "metadata": {},
     "output_type": "display_data"
    },
    {
     "name": "stdout",
     "output_type": "stream",
     "text": [
      "\n"
     ]
    },
    {
     "data": {
      "application/vnd.jupyter.widget-view+json": {
       "model_id": "37664febbf6047c4b5e8bbb6ec8a6bc2",
       "version_major": 2,
       "version_minor": 0
      },
      "text/plain": [
       "HBox(children=(FloatProgress(value=0.0, max=1.0), HTML(value='')))"
      ]
     },
     "metadata": {},
     "output_type": "display_data"
    },
    {
     "name": "stdout",
     "output_type": "stream",
     "text": [
      "\n"
     ]
    },
    {
     "data": {
      "application/vnd.jupyter.widget-view+json": {
       "model_id": "0e69fd11d879425988899277b7627104",
       "version_major": 2,
       "version_minor": 0
      },
      "text/plain": [
       "HBox(children=(FloatProgress(value=0.0, max=1000.0), HTML(value='')))"
      ]
     },
     "metadata": {},
     "output_type": "display_data"
    },
    {
     "name": "stdout",
     "output_type": "stream",
     "text": [
      "\n",
      "f1={'f1': 0.36316819821933644}\n",
      "accuracy={'accuracy': 0.362}\n"
     ]
    },
    {
     "data": {
      "text/plain": [
       "'curie:ft-user-5hzndcnnszukksvrzrlnjn8l-2021-12-07-01-05-46'"
      ]
     },
     "execution_count": 5,
     "metadata": {},
     "output_type": "execute_result"
    }
   ],
   "source": [
    "evaluate(finetune_id, anli_test, 'snli_anli_responses.jsonl')"
   ]
  },
  {
   "cell_type": "code",
   "execution_count": 7,
   "id": "c5f5a106",
   "metadata": {},
   "outputs": [
    {
     "data": {
      "text/html": [
       "<div>\n",
       "<style scoped>\n",
       "    .dataframe tbody tr th:only-of-type {\n",
       "        vertical-align: middle;\n",
       "    }\n",
       "\n",
       "    .dataframe tbody tr th {\n",
       "        vertical-align: top;\n",
       "    }\n",
       "\n",
       "    .dataframe thead th {\n",
       "        text-align: right;\n",
       "    }\n",
       "</style>\n",
       "<table border=\"1\" class=\"dataframe\">\n",
       "  <thead>\n",
       "    <tr style=\"text-align: right;\">\n",
       "      <th></th>\n",
       "      <th>prompt</th>\n",
       "      <th>completion</th>\n",
       "      <th>response</th>\n",
       "    </tr>\n",
       "  </thead>\n",
       "  <tbody>\n",
       "    <tr>\n",
       "      <th>0</th>\n",
       "      <td>Premise: Fulton James MacGregor MSP is a Scott...</td>\n",
       "      <td>Contradiction\\n</td>\n",
       "      <td>Contradiction</td>\n",
       "    </tr>\n",
       "    <tr>\n",
       "      <th>1</th>\n",
       "      <td>Premise: Alan Merrill (born Allan Preston Sach...</td>\n",
       "      <td>Contradiction\\n</td>\n",
       "      <td>Contradiction</td>\n",
       "    </tr>\n",
       "    <tr>\n",
       "      <th>2</th>\n",
       "      <td>Premise: The 11th (Craigavon) Battalion, Ulste...</td>\n",
       "      <td>Contradiction\\n</td>\n",
       "      <td>Contradiction</td>\n",
       "    </tr>\n",
       "    <tr>\n",
       "      <th>3</th>\n",
       "      <td>Premise: Elisa Albert (born July 2, 1978) is t...</td>\n",
       "      <td>Neutral\\n</td>\n",
       "      <td>Contradiction</td>\n",
       "    </tr>\n",
       "    <tr>\n",
       "      <th>4</th>\n",
       "      <td>Premise: EPOC is a discontinued family of grap...</td>\n",
       "      <td>Contradiction\\n</td>\n",
       "      <td>Entailment</td>\n",
       "    </tr>\n",
       "    <tr>\n",
       "      <th>...</th>\n",
       "      <td>...</td>\n",
       "      <td>...</td>\n",
       "      <td>...</td>\n",
       "    </tr>\n",
       "    <tr>\n",
       "      <th>995</th>\n",
       "      <td>Premise: Minoru Suzuki (鈴木 実 , Suzuki Minoru ,...</td>\n",
       "      <td>Entailment\\n</td>\n",
       "      <td>Contradiction</td>\n",
       "    </tr>\n",
       "    <tr>\n",
       "      <th>996</th>\n",
       "      <td>Premise: The 1992 Boise State Broncos football...</td>\n",
       "      <td>Contradiction\\n</td>\n",
       "      <td>Neutral</td>\n",
       "    </tr>\n",
       "    <tr>\n",
       "      <th>997</th>\n",
       "      <td>Premise: Laurence Alma-Tadema (born Laurense T...</td>\n",
       "      <td>Contradiction\\n</td>\n",
       "      <td>Contradiction</td>\n",
       "    </tr>\n",
       "    <tr>\n",
       "      <th>998</th>\n",
       "      <td>Premise: Suzy Nakamura is an American actress....</td>\n",
       "      <td>Contradiction\\n</td>\n",
       "      <td>Neutral</td>\n",
       "    </tr>\n",
       "    <tr>\n",
       "      <th>999</th>\n",
       "      <td>Premise: \"Ae Dil Hai Mushkil\" (English: \"This ...</td>\n",
       "      <td>Contradiction\\n</td>\n",
       "      <td>Neutral</td>\n",
       "    </tr>\n",
       "  </tbody>\n",
       "</table>\n",
       "<p>1000 rows × 3 columns</p>\n",
       "</div>"
      ],
      "text/plain": [
       "                                                prompt       completion  \\\n",
       "0    Premise: Fulton James MacGregor MSP is a Scott...  Contradiction\\n   \n",
       "1    Premise: Alan Merrill (born Allan Preston Sach...  Contradiction\\n   \n",
       "2    Premise: The 11th (Craigavon) Battalion, Ulste...  Contradiction\\n   \n",
       "3    Premise: Elisa Albert (born July 2, 1978) is t...        Neutral\\n   \n",
       "4    Premise: EPOC is a discontinued family of grap...  Contradiction\\n   \n",
       "..                                                 ...              ...   \n",
       "995  Premise: Minoru Suzuki (鈴木 実 , Suzuki Minoru ,...     Entailment\\n   \n",
       "996  Premise: The 1992 Boise State Broncos football...  Contradiction\\n   \n",
       "997  Premise: Laurence Alma-Tadema (born Laurense T...  Contradiction\\n   \n",
       "998  Premise: Suzy Nakamura is an American actress....  Contradiction\\n   \n",
       "999  Premise: \"Ae Dil Hai Mushkil\" (English: \"This ...  Contradiction\\n   \n",
       "\n",
       "          response  \n",
       "0    Contradiction  \n",
       "1    Contradiction  \n",
       "2    Contradiction  \n",
       "3    Contradiction  \n",
       "4       Entailment  \n",
       "..             ...  \n",
       "995  Contradiction  \n",
       "996        Neutral  \n",
       "997  Contradiction  \n",
       "998        Neutral  \n",
       "999        Neutral  \n",
       "\n",
       "[1000 rows x 3 columns]"
      ]
     },
     "execution_count": 7,
     "metadata": {},
     "output_type": "execute_result"
    }
   ],
   "source": [
    "import pandas as pd\n",
    "\n",
    "df = pd.read_json('../results/snli_anli_responses.jsonl', lines=True)\n",
    "df"
   ]
  },
  {
   "cell_type": "code",
   "execution_count": 16,
   "id": "e2efc678",
   "metadata": {},
   "outputs": [
    {
     "data": {
      "text/plain": [
       "Contradiction    392\n",
       "Neutral          352\n",
       "Entailment       256\n",
       "Name: response, dtype: int64"
      ]
     },
     "execution_count": 16,
     "metadata": {},
     "output_type": "execute_result"
    }
   ],
   "source": [
    "df.response.value_counts()"
   ]
  },
  {
   "cell_type": "code",
   "execution_count": null,
   "id": "66d59724",
   "metadata": {},
   "outputs": [],
   "source": []
  }
 ],
 "metadata": {
  "kernelspec": {
   "display_name": "Python 3 (ipykernel)",
   "language": "python",
   "name": "python3"
  },
  "language_info": {
   "codemirror_mode": {
    "name": "ipython",
    "version": 3
   },
   "file_extension": ".py",
   "mimetype": "text/x-python",
   "name": "python",
   "nbconvert_exporter": "python",
   "pygments_lexer": "ipython3",
   "version": "3.9.5"
  }
 },
 "nbformat": 4,
 "nbformat_minor": 5
}
