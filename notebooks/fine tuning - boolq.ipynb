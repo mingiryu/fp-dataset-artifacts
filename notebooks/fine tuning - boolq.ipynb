{
 "cells": [
  {
   "cell_type": "code",
   "execution_count": 1,
   "id": "143f063b",
   "metadata": {},
   "outputs": [
    {
     "name": "stderr",
     "output_type": "stream",
     "text": [
      "Using custom data configuration default\n",
      "Reusing dataset boolq (/home/x/.cache/huggingface/datasets/boolq/default/0.1.0/bf0dd57da941c50de94ae3ce3cef7fea48c08f337a4b7aac484e9dddc5aa24e5)\n"
     ]
    },
    {
     "data": {
      "application/vnd.jupyter.widget-view+json": {
       "model_id": "a23be23803ee42fdab0b80069f571788",
       "version_major": 2,
       "version_minor": 0
      },
      "text/plain": [
       "  0%|          | 0/2 [00:00<?, ?it/s]"
      ]
     },
     "metadata": {},
     "output_type": "display_data"
    },
    {
     "data": {
      "text/plain": [
       "DatasetDict({\n",
       "    train: Dataset({\n",
       "        features: ['question', 'answer', 'passage'],\n",
       "        num_rows: 9427\n",
       "    })\n",
       "    validation: Dataset({\n",
       "        features: ['question', 'answer', 'passage'],\n",
       "        num_rows: 3270\n",
       "    })\n",
       "})"
      ]
     },
     "execution_count": 1,
     "metadata": {},
     "output_type": "execute_result"
    }
   ],
   "source": [
    "import openai\n",
    "\n",
    "from fp_dataset_artifacts.utils import init_openai\n",
    "from fp_dataset_artifacts.boolq import format_question, format_answer\n",
    "from datasets import list_datasets, load_dataset, list_metrics, load_metric\n",
    "\n",
    "init_openai()\n",
    "\n",
    "data = load_dataset('boolq')\n",
    "data"
   ]
  },
  {
   "cell_type": "code",
   "execution_count": 43,
   "id": "025a8728",
   "metadata": {},
   "outputs": [],
   "source": [
    "def map_finetune_train(x):\n",
    "    question = format_question(x['question'])\n",
    "    passage = x['passage']\n",
    "    answer = format_answer(x['answer'])\n",
    "\n",
    "    return {\n",
    "        'prompt': f\"{passage}\\n\\nQ: {question}\\n\\nA: \",\n",
    "        'completion': answer,\n",
    "    }"
   ]
  },
  {
   "cell_type": "code",
   "execution_count": 38,
   "id": "fd0ef21b",
   "metadata": {},
   "outputs": [
    {
     "name": "stderr",
     "output_type": "stream",
     "text": [
      "Loading cached processed dataset at /home/x/.cache/huggingface/datasets/boolq/default/0.1.0/bf0dd57da941c50de94ae3ce3cef7fea48c08f337a4b7aac484e9dddc5aa24e5/cache-5ebed985e83a6877.arrow\n"
     ]
    }
   ],
   "source": [
    "train = data['train'].map(map_finetune_train)\n",
    "train = train.remove_columns(['question', 'answer', 'passage'])"
   ]
  },
  {
   "cell_type": "code",
   "execution_count": 51,
   "id": "6526ab09",
   "metadata": {},
   "outputs": [
    {
     "data": {
      "text/plain": [
       "{'prompt': 'Persian (/ˈpɜːrʒən, -ʃən/), also known by its endonym Farsi (فارسی fārsi (fɒːɾˈsiː) ( listen)), is one of the Western Iranian languages within the Indo-Iranian branch of the Indo-European language family. It is primarily spoken in Iran, Afghanistan (officially known as Dari since 1958), and Tajikistan (officially known as Tajiki since the Soviet era), and some other regions which historically were Persianate societies and considered part of Greater Iran. It is written in the Persian alphabet, a modified variant of the Arabic script, which itself evolved from the Aramaic alphabet.\\n\\nQ: Do iran and afghanistan speak the same language?\\n\\nA: ',\n",
       " 'completion': 'Yes'}"
      ]
     },
     "execution_count": 51,
     "metadata": {},
     "output_type": "execute_result"
    }
   ],
   "source": [
    "train[0]"
   ]
  },
  {
   "cell_type": "code",
   "execution_count": 41,
   "id": "f9fa5b16",
   "metadata": {},
   "outputs": [
    {
     "data": {
      "application/vnd.jupyter.widget-view+json": {
       "model_id": "679e874747e5423fbbb8bae1c2e160e3",
       "version_major": 2,
       "version_minor": 0
      },
      "text/plain": [
       "Creating json from Arrow format:   0%|          | 0/1 [00:00<?, ?ba/s]"
      ]
     },
     "metadata": {},
     "output_type": "display_data"
    },
    {
     "data": {
      "text/plain": [
       "6223009"
      ]
     },
     "execution_count": 41,
     "metadata": {},
     "output_type": "execute_result"
    }
   ],
   "source": [
    "train.to_json('boolq_finetune_train.jsonl')"
   ]
  },
  {
   "cell_type": "code",
   "execution_count": 44,
   "id": "d517b4eb",
   "metadata": {},
   "outputs": [
    {
     "data": {
      "application/vnd.jupyter.widget-view+json": {
       "model_id": "f29ca73e92d44e6bb93127d3c199d222",
       "version_major": 2,
       "version_minor": 0
      },
      "text/plain": [
       "  0%|          | 0/3270 [00:00<?, ?ex/s]"
      ]
     },
     "metadata": {},
     "output_type": "display_data"
    },
    {
     "data": {
      "application/vnd.jupyter.widget-view+json": {
       "model_id": "3e750b734cf44a1d94a967923c5db5b6",
       "version_major": 2,
       "version_minor": 0
      },
      "text/plain": [
       "Creating json from Arrow format:   0%|          | 0/1 [00:00<?, ?ba/s]"
      ]
     },
     "metadata": {},
     "output_type": "display_data"
    },
    {
     "data": {
      "text/plain": [
       "2134729"
      ]
     },
     "execution_count": 44,
     "metadata": {},
     "output_type": "execute_result"
    }
   ],
   "source": [
    "valid = data['validation'].map(map_finetune_train)\n",
    "valid = valid.remove_columns(['question', 'answer', 'passage'])\n",
    "valid.to_json('boolq_finetune_valid.jsonl')"
   ]
  },
  {
   "cell_type": "code",
   "execution_count": 45,
   "id": "69f07e58",
   "metadata": {},
   "outputs": [
    {
     "data": {
      "text/plain": [
       "<File file id=file-gJIlaEZ4vKpcMs8kOd8Tzifx at 0x7f1cfc7172c0> JSON: {\n",
       "  \"bytes\": 6223009,\n",
       "  \"created_at\": 1638669386,\n",
       "  \"filename\": \"boolq_finetune_train.jsonl\",\n",
       "  \"id\": \"file-gJIlaEZ4vKpcMs8kOd8Tzifx\",\n",
       "  \"object\": \"file\",\n",
       "  \"purpose\": \"fine-tune\",\n",
       "  \"status\": \"uploaded\",\n",
       "  \"status_details\": null\n",
       "}"
      ]
     },
     "execution_count": 45,
     "metadata": {},
     "output_type": "execute_result"
    }
   ],
   "source": [
    "openai.File.create(file=open('boolq_finetune_train.jsonl'), purpose='fine-tune')"
   ]
  },
  {
   "cell_type": "code",
   "execution_count": 46,
   "id": "40235d33",
   "metadata": {},
   "outputs": [
    {
     "data": {
      "text/plain": [
       "<File file id=file-MahHYpnc6hjHw2EZQ1CH3jOw at 0x7f1cfc735a90> JSON: {\n",
       "  \"bytes\": 2134729,\n",
       "  \"created_at\": 1638669392,\n",
       "  \"filename\": \"boolq_finetune_valid.jsonl\",\n",
       "  \"id\": \"file-MahHYpnc6hjHw2EZQ1CH3jOw\",\n",
       "  \"object\": \"file\",\n",
       "  \"purpose\": \"fine-tune\",\n",
       "  \"status\": \"uploaded\",\n",
       "  \"status_details\": null\n",
       "}"
      ]
     },
     "execution_count": 46,
     "metadata": {},
     "output_type": "execute_result"
    }
   ],
   "source": [
    "openai.File.create(file=open('boolq_finetune_valid.jsonl'), purpose='fine-tune')"
   ]
  },
  {
   "cell_type": "code",
   "execution_count": 48,
   "id": "f83a2a26",
   "metadata": {},
   "outputs": [
    {
     "data": {
      "text/plain": [
       "<FineTune fine-tune id=ft-9ZmeSNYkAUhZEmXkoiigSMdJ at 0x7f1cfc717a40> JSON: {\n",
       "  \"created_at\": 1638669489,\n",
       "  \"events\": [\n",
       "    {\n",
       "      \"created_at\": 1638669489,\n",
       "      \"level\": \"info\",\n",
       "      \"message\": \"Created fine-tune: ft-9ZmeSNYkAUhZEmXkoiigSMdJ\",\n",
       "      \"object\": \"fine-tune-event\"\n",
       "    }\n",
       "  ],\n",
       "  \"fine_tuned_model\": null,\n",
       "  \"hyperparams\": {\n",
       "    \"batch_size\": null,\n",
       "    \"classification_n_classes\": 2,\n",
       "    \"classification_positive_class\": \"Yes\",\n",
       "    \"compute_classification_metrics\": true,\n",
       "    \"learning_rate_multiplier\": null,\n",
       "    \"n_epochs\": 4,\n",
       "    \"prompt_loss_weight\": 0.1,\n",
       "    \"use_packing\": null\n",
       "  },\n",
       "  \"id\": \"ft-9ZmeSNYkAUhZEmXkoiigSMdJ\",\n",
       "  \"model\": \"curie\",\n",
       "  \"object\": \"fine-tune\",\n",
       "  \"organization_id\": \"org-5AE307Eg4rc5EAoEA2S2bwkH\",\n",
       "  \"result_files\": [],\n",
       "  \"status\": \"pending\",\n",
       "  \"training_files\": [\n",
       "    {\n",
       "      \"bytes\": 6223009,\n",
       "      \"created_at\": 1638669386,\n",
       "      \"filename\": \"boolq_finetune_train.jsonl\",\n",
       "      \"id\": \"file-gJIlaEZ4vKpcMs8kOd8Tzifx\",\n",
       "      \"object\": \"file\",\n",
       "      \"purpose\": \"fine-tune\",\n",
       "      \"status\": \"processed\",\n",
       "      \"status_details\": null\n",
       "    }\n",
       "  ],\n",
       "  \"updated_at\": 1638669489,\n",
       "  \"validation_files\": [\n",
       "    {\n",
       "      \"bytes\": 2134729,\n",
       "      \"created_at\": 1638669392,\n",
       "      \"filename\": \"boolq_finetune_valid.jsonl\",\n",
       "      \"id\": \"file-MahHYpnc6hjHw2EZQ1CH3jOw\",\n",
       "      \"object\": \"file\",\n",
       "      \"purpose\": \"fine-tune\",\n",
       "      \"status\": \"processed\",\n",
       "      \"status_details\": null\n",
       "    }\n",
       "  ]\n",
       "}"
      ]
     },
     "execution_count": 48,
     "metadata": {},
     "output_type": "execute_result"
    }
   ],
   "source": [
    "openai.FineTune.create(\n",
    "    training_file='file-gJIlaEZ4vKpcMs8kOd8Tzifx',\n",
    "    validation_file='file-MahHYpnc6hjHw2EZQ1CH3jOw',\n",
    "    model='curie',\n",
    "    n_epochs=4,\n",
    "    compute_classification_metrics=True,\n",
    "    classification_positive_class='Yes',\n",
    "    classification_n_classes=2\n",
    ")"
   ]
  },
  {
   "cell_type": "code",
   "execution_count": 64,
   "id": "e765ebed",
   "metadata": {
    "scrolled": false
   },
   "outputs": [
    {
     "data": {
      "text/plain": [
       "<FineTune fine-tune id=ft-9ZmeSNYkAUhZEmXkoiigSMdJ at 0x7f1cfc328a90> JSON: {\n",
       "  \"created_at\": 1638669489,\n",
       "  \"events\": [\n",
       "    {\n",
       "      \"created_at\": 1638669489,\n",
       "      \"level\": \"info\",\n",
       "      \"message\": \"Created fine-tune: ft-9ZmeSNYkAUhZEmXkoiigSMdJ\",\n",
       "      \"object\": \"fine-tune-event\"\n",
       "    },\n",
       "    {\n",
       "      \"created_at\": 1638669494,\n",
       "      \"level\": \"info\",\n",
       "      \"message\": \"Fine-tune enqueued. Queue number: 0\",\n",
       "      \"object\": \"fine-tune-event\"\n",
       "    },\n",
       "    {\n",
       "      \"created_at\": 1638669499,\n",
       "      \"level\": \"info\",\n",
       "      \"message\": \"Fine-tune started\",\n",
       "      \"object\": \"fine-tune-event\"\n",
       "    },\n",
       "    {\n",
       "      \"created_at\": 1638669912,\n",
       "      \"level\": \"info\",\n",
       "      \"message\": \"Completed epoch 1/4\",\n",
       "      \"object\": \"fine-tune-event\"\n",
       "    },\n",
       "    {\n",
       "      \"created_at\": 1638670500,\n",
       "      \"level\": \"info\",\n",
       "      \"message\": \"Completed epoch 2/4\",\n",
       "      \"object\": \"fine-tune-event\"\n",
       "    },\n",
       "    {\n",
       "      \"created_at\": 1638671084,\n",
       "      \"level\": \"info\",\n",
       "      \"message\": \"Completed epoch 3/4\",\n",
       "      \"object\": \"fine-tune-event\"\n",
       "    },\n",
       "    {\n",
       "      \"created_at\": 1638671668,\n",
       "      \"level\": \"info\",\n",
       "      \"message\": \"Completed epoch 4/4\",\n",
       "      \"object\": \"fine-tune-event\"\n",
       "    },\n",
       "    {\n",
       "      \"created_at\": 1638671920,\n",
       "      \"level\": \"info\",\n",
       "      \"message\": \"Uploaded model: curie:ft-user-5hzndcnnszukksvrzrlnjn8l-2021-12-05-02-38-38\",\n",
       "      \"object\": \"fine-tune-event\"\n",
       "    },\n",
       "    {\n",
       "      \"created_at\": 1638671923,\n",
       "      \"level\": \"info\",\n",
       "      \"message\": \"Uploaded result file: file-7mMJchteVwqmaih6gj199hXk\",\n",
       "      \"object\": \"fine-tune-event\"\n",
       "    },\n",
       "    {\n",
       "      \"created_at\": 1638671923,\n",
       "      \"level\": \"info\",\n",
       "      \"message\": \"Fine-tune succeeded\",\n",
       "      \"object\": \"fine-tune-event\"\n",
       "    }\n",
       "  ],\n",
       "  \"fine_tuned_model\": \"curie:ft-user-5hzndcnnszukksvrzrlnjn8l-2021-12-05-02-38-38\",\n",
       "  \"hyperparams\": {\n",
       "    \"batch_size\": 1,\n",
       "    \"classification_n_classes\": 2,\n",
       "    \"classification_positive_class\": \"Yes\",\n",
       "    \"compute_classification_metrics\": true,\n",
       "    \"learning_rate_multiplier\": 0.1,\n",
       "    \"n_epochs\": 4,\n",
       "    \"prompt_loss_weight\": 0.1,\n",
       "    \"use_packing\": true\n",
       "  },\n",
       "  \"id\": \"ft-9ZmeSNYkAUhZEmXkoiigSMdJ\",\n",
       "  \"model\": \"curie\",\n",
       "  \"object\": \"fine-tune\",\n",
       "  \"organization_id\": \"org-5AE307Eg4rc5EAoEA2S2bwkH\",\n",
       "  \"result_files\": [\n",
       "    {\n",
       "      \"bytes\": 163900,\n",
       "      \"created_at\": 1638671921,\n",
       "      \"filename\": \"compiled_results.csv\",\n",
       "      \"id\": \"file-7mMJchteVwqmaih6gj199hXk\",\n",
       "      \"object\": \"file\",\n",
       "      \"purpose\": \"fine-tune-results\",\n",
       "      \"status\": \"processed\",\n",
       "      \"status_details\": null\n",
       "    }\n",
       "  ],\n",
       "  \"status\": \"succeeded\",\n",
       "  \"training_files\": [\n",
       "    {\n",
       "      \"bytes\": 6223009,\n",
       "      \"created_at\": 1638669386,\n",
       "      \"filename\": \"boolq_finetune_train.jsonl\",\n",
       "      \"id\": \"file-gJIlaEZ4vKpcMs8kOd8Tzifx\",\n",
       "      \"object\": \"file\",\n",
       "      \"purpose\": \"fine-tune\",\n",
       "      \"status\": \"processed\",\n",
       "      \"status_details\": null\n",
       "    }\n",
       "  ],\n",
       "  \"updated_at\": 1638671924,\n",
       "  \"validation_files\": [\n",
       "    {\n",
       "      \"bytes\": 2134729,\n",
       "      \"created_at\": 1638669392,\n",
       "      \"filename\": \"boolq_finetune_valid.jsonl\",\n",
       "      \"id\": \"file-MahHYpnc6hjHw2EZQ1CH3jOw\",\n",
       "      \"object\": \"file\",\n",
       "      \"purpose\": \"fine-tune\",\n",
       "      \"status\": \"processed\",\n",
       "      \"status_details\": null\n",
       "    }\n",
       "  ]\n",
       "}"
      ]
     },
     "execution_count": 64,
     "metadata": {},
     "output_type": "execute_result"
    }
   ],
   "source": [
    "openai.FineTune.retrieve('ft-9ZmeSNYkAUhZEmXkoiigSMdJ')"
   ]
  },
  {
   "cell_type": "code",
   "execution_count": 63,
   "id": "0fa795ba",
   "metadata": {},
   "outputs": [
    {
     "data": {
      "text/plain": [
       "{'prompt': \"All biomass goes through at least some of these steps: it needs to be grown, collected, dried, fermented, distilled, and burned. All of these steps require resources and an infrastructure. The total amount of energy input into the process compared to the energy released by burning the resulting ethanol fuel is known as the energy balance (or ``energy returned on energy invested''). Figures compiled in a 2007 report by National Geographic Magazine point to modest results for corn ethanol produced in the US: one unit of fossil-fuel energy is required to create 1.3 energy units from the resulting ethanol. The energy balance for sugarcane ethanol produced in Brazil is more favorable, with one unit of fossil-fuel energy required to create 8 from the ethanol. Energy balance estimates are not easily produced, thus numerous such reports have been generated that are contradictory. For instance, a separate survey reports that production of ethanol from sugarcane, which requires a tropical climate to grow productively, returns from 8 to 9 units of energy for each unit expended, as compared to corn, which only returns about 1.34 units of fuel energy for each unit of energy expended. A 2006 University of California Berkeley study, after analyzing six separate studies, concluded that producing ethanol from corn uses much less petroleum than producing gasoline.\\n\\nQ: Does ethanol take more energy make that produces?\\n\\nA: \",\n",
       " 'completion': 'No'}"
      ]
     },
     "execution_count": 63,
     "metadata": {},
     "output_type": "execute_result"
    }
   ],
   "source": [
    "valid[0]"
   ]
  },
  {
   "cell_type": "code",
   "execution_count": 65,
   "id": "b7ba3061",
   "metadata": {},
   "outputs": [
    {
     "data": {
      "text/plain": [
       "<OpenAIObject text_completion id=cmpl-4Bbk73cd5LJmxhlQPctCm7SDfu5zz at 0x7f1cfc323860> JSON: {\n",
       "  \"choices\": [\n",
       "    {\n",
       "      \"finish_reason\": \"stop\",\n",
       "      \"index\": 0,\n",
       "      \"logprobs\": null,\n",
       "      \"text\": \"Yes, than it releases?\"\n",
       "    }\n",
       "  ],\n",
       "  \"created\": 1638672039,\n",
       "  \"id\": \"cmpl-4Bbk73cd5LJmxhlQPctCm7SDfu5zz\",\n",
       "  \"model\": \"curie:ft-user-5hzndcnnszukksvrzrlnjn8l-2021-12-05-02-38-38\",\n",
       "  \"object\": \"text_completion\"\n",
       "}"
      ]
     },
     "execution_count": 65,
     "metadata": {},
     "output_type": "execute_result"
    }
   ],
   "source": [
    "openai.Completion.create(\n",
    "    model='curie:ft-user-5hzndcnnszukksvrzrlnjn8l-2021-12-05-02-38-38',\n",
    "    prompt=valid[0]['prompt'],\n",
    "    temperature=0.3,\n",
    "    max_tokens=10,\n",
    "    stop=['\\n'],\n",
    "    top_p=1,\n",
    "    frequency_penalty=0.5,\n",
    "    presence_penalty=0,\n",
    ")"
   ]
  },
  {
   "cell_type": "code",
   "execution_count": 66,
   "id": "99ae1d0b",
   "metadata": {},
   "outputs": [
    {
     "data": {
      "text/plain": [
       "{'prompt': \"Property tax or 'house tax' is a local tax on buildings, along with appurtenant land. It is and imposed on the Possessor (not the custodian of property as per 1978, 44th amendment of constitution). It resembles the US-type wealth tax and differs from the excise-type UK rate. The tax power is vested in the states and is delegated to local bodies, specifying the valuation method, rate band, and collection procedures. The tax base is the annual rental value (ARV) or area-based rating. Owner-occupied and other properties not producing rent are assessed on cost and then converted into ARV by applying a percentage of cost, usually four percent. Vacant land is generally exempt. Central government properties are exempt. Instead a 'service charge' is permissible under executive order. Properties of foreign missions also enjoy tax exemption without requiring reciprocity. The tax is usually accompanied by service taxes, e.g., water tax, drainage tax, conservancy (sanitation) tax, lighting tax, all using the same tax base. The rate structure is flat on rural (panchayat) properties, but in the urban (municipal) areas it is mildly progressive with about 80% of assessments falling in the first two brackets.\\n\\nQ: Is house tax and property tax are same?\\n\\nA: \",\n",
       " 'completion': 'Yes'}"
      ]
     },
     "execution_count": 66,
     "metadata": {},
     "output_type": "execute_result"
    }
   ],
   "source": [
    "valid[1]"
   ]
  },
  {
   "cell_type": "code",
   "execution_count": 67,
   "id": "51dd0dd9",
   "metadata": {},
   "outputs": [
    {
     "data": {
      "text/plain": [
       "<OpenAIObject text_completion id=cmpl-4BbkZ3yNi1LBAxb0AefU5ZZ4b23xT at 0x7f1cfc328720> JSON: {\n",
       "  \"choices\": [\n",
       "    {\n",
       "      \"finish_reason\": \"stop\",\n",
       "      \"index\": 0,\n",
       "      \"logprobs\": null,\n",
       "      \"text\": \"Yes\"\n",
       "    }\n",
       "  ],\n",
       "  \"created\": 1638672067,\n",
       "  \"id\": \"cmpl-4BbkZ3yNi1LBAxb0AefU5ZZ4b23xT\",\n",
       "  \"model\": \"curie:ft-user-5hzndcnnszukksvrzrlnjn8l-2021-12-05-02-38-38\",\n",
       "  \"object\": \"text_completion\"\n",
       "}"
      ]
     },
     "execution_count": 67,
     "metadata": {},
     "output_type": "execute_result"
    }
   ],
   "source": [
    "openai.Completion.create(\n",
    "    model='curie:ft-user-5hzndcnnszukksvrzrlnjn8l-2021-12-05-02-38-38',\n",
    "    prompt=valid[1]['prompt'],\n",
    "    temperature=0.3,\n",
    "    max_tokens=10,\n",
    "    stop=['\\n'],\n",
    "    top_p=1,\n",
    "    frequency_penalty=0.5,\n",
    "    presence_penalty=0,\n",
    ")"
   ]
  },
  {
   "cell_type": "code",
   "execution_count": 69,
   "id": "82d22de5",
   "metadata": {},
   "outputs": [
    {
     "data": {
      "text/plain": [
       "{'prompt': 'Harry Potter and the Escape from Gringotts is an indoor steel roller coaster at Universal Studios Florida, a theme park located within the Universal Orlando Resort. Similar to dark rides, the roller coaster utilizes special effects in a controlled-lighting environment and also employs motion-based 3-D projection of both animation and live-action sequences to enhance the experience. The ride, which is themed to the Gringotts Wizarding Bank, became the flagship attraction for the expanded Wizarding World of Harry Potter when it opened on July 8, 2014.\\n\\nQ: Is harry potter and the escape from gringotts a roller coaster ride?\\n\\nA: ',\n",
       " 'completion': 'Yes'}"
      ]
     },
     "execution_count": 69,
     "metadata": {},
     "output_type": "execute_result"
    }
   ],
   "source": [
    "valid[3]"
   ]
  },
  {
   "cell_type": "code",
   "execution_count": 70,
   "id": "13cc5466",
   "metadata": {},
   "outputs": [
    {
     "data": {
      "text/plain": [
       "<OpenAIObject text_completion id=cmpl-4BbkweIPDS3f4pjSJw78C5bcANmCw at 0x7f1cfc3426d0> JSON: {\n",
       "  \"choices\": [\n",
       "    {\n",
       "      \"finish_reason\": \"stop\",\n",
       "      \"index\": 0,\n",
       "      \"logprobs\": null,\n",
       "      \"text\": \"Yes\"\n",
       "    }\n",
       "  ],\n",
       "  \"created\": 1638672090,\n",
       "  \"id\": \"cmpl-4BbkweIPDS3f4pjSJw78C5bcANmCw\",\n",
       "  \"model\": \"curie:ft-user-5hzndcnnszukksvrzrlnjn8l-2021-12-05-02-38-38\",\n",
       "  \"object\": \"text_completion\"\n",
       "}"
      ]
     },
     "execution_count": 70,
     "metadata": {},
     "output_type": "execute_result"
    }
   ],
   "source": [
    "openai.Completion.create(\n",
    "    model='curie:ft-user-5hzndcnnszukksvrzrlnjn8l-2021-12-05-02-38-38',\n",
    "    prompt=valid[3]['prompt'],\n",
    "    temperature=0.3,\n",
    "    max_tokens=10,\n",
    "    stop=['\\n'],\n",
    "    top_p=1,\n",
    "    frequency_penalty=0.5,\n",
    "    presence_penalty=0,\n",
    ")"
   ]
  },
  {
   "cell_type": "code",
   "execution_count": 72,
   "id": "0d199162",
   "metadata": {},
   "outputs": [
    {
     "data": {
      "text/plain": [
       "{'prompt': \"Barq's /ˈbɑːrks/ is an American soft drink. Its brand of root beer is notable for having caffeine. Barq's, created by Edward Barq and bottled since the turn of the 20th century, is owned by the Barq family but bottled by the Coca-Cola Company. It was known as Barq's Famous Olde Tyme Root Beer until 2012.\\n\\nQ: Is barq's root beer a pepsi product?\\n\\nA: \",\n",
       " 'completion': 'No'}"
      ]
     },
     "execution_count": 72,
     "metadata": {},
     "output_type": "execute_result"
    }
   ],
   "source": [
    "valid[5]"
   ]
  },
  {
   "cell_type": "code",
   "execution_count": 73,
   "id": "b9379c48",
   "metadata": {},
   "outputs": [
    {
     "data": {
      "text/plain": [
       "<OpenAIObject text_completion id=cmpl-4BblGR2GF0PHvVXRy6sP121LW7i1U at 0x7f1cfc3284f0> JSON: {\n",
       "  \"choices\": [\n",
       "    {\n",
       "      \"finish_reason\": \"length\",\n",
       "      \"index\": 0,\n",
       "      \"logprobs\": null,\n",
       "      \"text\": \"No, it is a Coca-Cola product.\"\n",
       "    }\n",
       "  ],\n",
       "  \"created\": 1638672110,\n",
       "  \"id\": \"cmpl-4BblGR2GF0PHvVXRy6sP121LW7i1U\",\n",
       "  \"model\": \"curie:ft-user-5hzndcnnszukksvrzrlnjn8l-2021-12-05-02-38-38\",\n",
       "  \"object\": \"text_completion\"\n",
       "}"
      ]
     },
     "execution_count": 73,
     "metadata": {},
     "output_type": "execute_result"
    }
   ],
   "source": [
    "openai.Completion.create(\n",
    "    model='curie:ft-user-5hzndcnnszukksvrzrlnjn8l-2021-12-05-02-38-38',\n",
    "    prompt=valid[5]['prompt'],\n",
    "    temperature=0.3,\n",
    "    max_tokens=10,\n",
    "    stop=['\\n'],\n",
    "    top_p=1,\n",
    "    frequency_penalty=0.5,\n",
    "    presence_penalty=0,\n",
    ")"
   ]
  },
  {
   "cell_type": "code",
   "execution_count": 74,
   "id": "1192627b",
   "metadata": {},
   "outputs": [],
   "source": [
    "# Similar to SNLI, it has issue with text generation continuation.\n",
    "# Adding '\\n' to the end of the completion might help with that.\n",
    "# Another issue is that, these should be trained on train test split since it doesn't have a test set."
   ]
  },
  {
   "cell_type": "code",
   "execution_count": 2,
   "id": "2ca1081b",
   "metadata": {},
   "outputs": [],
   "source": [
    "with open('../results/boolq_results.csv', 'wb') as f:\n",
    "    f.write(openai.File.download('file-7mMJchteVwqmaih6gj199hXk'))"
   ]
  },
  {
   "cell_type": "code",
   "execution_count": 3,
   "id": "67ebd774",
   "metadata": {},
   "outputs": [
    {
     "data": {
      "text/html": [
       "<div>\n",
       "<style scoped>\n",
       "    .dataframe tbody tr th:only-of-type {\n",
       "        vertical-align: middle;\n",
       "    }\n",
       "\n",
       "    .dataframe tbody tr th {\n",
       "        vertical-align: top;\n",
       "    }\n",
       "\n",
       "    .dataframe thead th {\n",
       "        text-align: right;\n",
       "    }\n",
       "</style>\n",
       "<table border=\"1\" class=\"dataframe\">\n",
       "  <thead>\n",
       "    <tr style=\"text-align: right;\">\n",
       "      <th></th>\n",
       "      <th>step</th>\n",
       "      <th>elapsed_tokens</th>\n",
       "      <th>elapsed_examples</th>\n",
       "      <th>training_loss</th>\n",
       "      <th>training_sequence_accuracy</th>\n",
       "      <th>training_token_accuracy</th>\n",
       "      <th>validation_loss</th>\n",
       "      <th>validation_sequence_accuracy</th>\n",
       "      <th>validation_token_accuracy</th>\n",
       "      <th>classification/accuracy</th>\n",
       "      <th>classification/precision</th>\n",
       "      <th>classification/recall</th>\n",
       "      <th>classification/auroc</th>\n",
       "      <th>classification/auprc</th>\n",
       "      <th>classification/f1.0</th>\n",
       "    </tr>\n",
       "  </thead>\n",
       "  <tbody>\n",
       "    <tr>\n",
       "      <th>0</th>\n",
       "      <td>1</td>\n",
       "      <td>2049</td>\n",
       "      <td>1</td>\n",
       "      <td>0.266593</td>\n",
       "      <td>0.0</td>\n",
       "      <td>0.000000</td>\n",
       "      <td>0.273952</td>\n",
       "      <td>0.0</td>\n",
       "      <td>0.0</td>\n",
       "      <td>NaN</td>\n",
       "      <td>NaN</td>\n",
       "      <td>NaN</td>\n",
       "      <td>NaN</td>\n",
       "      <td>NaN</td>\n",
       "      <td>NaN</td>\n",
       "    </tr>\n",
       "    <tr>\n",
       "      <th>1</th>\n",
       "      <td>2</td>\n",
       "      <td>4098</td>\n",
       "      <td>2</td>\n",
       "      <td>0.207604</td>\n",
       "      <td>0.0</td>\n",
       "      <td>0.538462</td>\n",
       "      <td>NaN</td>\n",
       "      <td>NaN</td>\n",
       "      <td>NaN</td>\n",
       "      <td>NaN</td>\n",
       "      <td>NaN</td>\n",
       "      <td>NaN</td>\n",
       "      <td>NaN</td>\n",
       "      <td>NaN</td>\n",
       "      <td>NaN</td>\n",
       "    </tr>\n",
       "    <tr>\n",
       "      <th>2</th>\n",
       "      <td>3</td>\n",
       "      <td>6147</td>\n",
       "      <td>3</td>\n",
       "      <td>0.195201</td>\n",
       "      <td>0.0</td>\n",
       "      <td>0.166667</td>\n",
       "      <td>NaN</td>\n",
       "      <td>NaN</td>\n",
       "      <td>NaN</td>\n",
       "      <td>NaN</td>\n",
       "      <td>NaN</td>\n",
       "      <td>NaN</td>\n",
       "      <td>NaN</td>\n",
       "      <td>NaN</td>\n",
       "      <td>NaN</td>\n",
       "    </tr>\n",
       "    <tr>\n",
       "      <th>3</th>\n",
       "      <td>4</td>\n",
       "      <td>8196</td>\n",
       "      <td>4</td>\n",
       "      <td>0.207342</td>\n",
       "      <td>0.0</td>\n",
       "      <td>0.666667</td>\n",
       "      <td>NaN</td>\n",
       "      <td>NaN</td>\n",
       "      <td>NaN</td>\n",
       "      <td>NaN</td>\n",
       "      <td>NaN</td>\n",
       "      <td>NaN</td>\n",
       "      <td>NaN</td>\n",
       "      <td>NaN</td>\n",
       "      <td>NaN</td>\n",
       "    </tr>\n",
       "    <tr>\n",
       "      <th>4</th>\n",
       "      <td>5</td>\n",
       "      <td>10245</td>\n",
       "      <td>5</td>\n",
       "      <td>0.201088</td>\n",
       "      <td>0.0</td>\n",
       "      <td>0.571429</td>\n",
       "      <td>NaN</td>\n",
       "      <td>NaN</td>\n",
       "      <td>NaN</td>\n",
       "      <td>NaN</td>\n",
       "      <td>NaN</td>\n",
       "      <td>NaN</td>\n",
       "      <td>NaN</td>\n",
       "      <td>NaN</td>\n",
       "      <td>NaN</td>\n",
       "    </tr>\n",
       "    <tr>\n",
       "      <th>...</th>\n",
       "      <td>...</td>\n",
       "      <td>...</td>\n",
       "      <td>...</td>\n",
       "      <td>...</td>\n",
       "      <td>...</td>\n",
       "      <td>...</td>\n",
       "      <td>...</td>\n",
       "      <td>...</td>\n",
       "      <td>...</td>\n",
       "      <td>...</td>\n",
       "      <td>...</td>\n",
       "      <td>...</td>\n",
       "      <td>...</td>\n",
       "      <td>...</td>\n",
       "      <td>...</td>\n",
       "    </tr>\n",
       "    <tr>\n",
       "      <th>2712</th>\n",
       "      <td>2713</td>\n",
       "      <td>5558937</td>\n",
       "      <td>2713</td>\n",
       "      <td>0.063869</td>\n",
       "      <td>0.0</td>\n",
       "      <td>0.928571</td>\n",
       "      <td>NaN</td>\n",
       "      <td>NaN</td>\n",
       "      <td>NaN</td>\n",
       "      <td>NaN</td>\n",
       "      <td>NaN</td>\n",
       "      <td>NaN</td>\n",
       "      <td>NaN</td>\n",
       "      <td>NaN</td>\n",
       "      <td>NaN</td>\n",
       "    </tr>\n",
       "    <tr>\n",
       "      <th>2713</th>\n",
       "      <td>2714</td>\n",
       "      <td>5560986</td>\n",
       "      <td>2714</td>\n",
       "      <td>0.039642</td>\n",
       "      <td>1.0</td>\n",
       "      <td>1.000000</td>\n",
       "      <td>NaN</td>\n",
       "      <td>NaN</td>\n",
       "      <td>NaN</td>\n",
       "      <td>NaN</td>\n",
       "      <td>NaN</td>\n",
       "      <td>NaN</td>\n",
       "      <td>NaN</td>\n",
       "      <td>NaN</td>\n",
       "      <td>NaN</td>\n",
       "    </tr>\n",
       "    <tr>\n",
       "      <th>2714</th>\n",
       "      <td>2715</td>\n",
       "      <td>5563035</td>\n",
       "      <td>2715</td>\n",
       "      <td>0.034781</td>\n",
       "      <td>0.0</td>\n",
       "      <td>0.928571</td>\n",
       "      <td>NaN</td>\n",
       "      <td>NaN</td>\n",
       "      <td>NaN</td>\n",
       "      <td>NaN</td>\n",
       "      <td>NaN</td>\n",
       "      <td>NaN</td>\n",
       "      <td>NaN</td>\n",
       "      <td>NaN</td>\n",
       "      <td>NaN</td>\n",
       "    </tr>\n",
       "    <tr>\n",
       "      <th>2715</th>\n",
       "      <td>2716</td>\n",
       "      <td>5565084</td>\n",
       "      <td>2716</td>\n",
       "      <td>0.042580</td>\n",
       "      <td>0.0</td>\n",
       "      <td>0.933333</td>\n",
       "      <td>NaN</td>\n",
       "      <td>NaN</td>\n",
       "      <td>NaN</td>\n",
       "      <td>NaN</td>\n",
       "      <td>NaN</td>\n",
       "      <td>NaN</td>\n",
       "      <td>NaN</td>\n",
       "      <td>NaN</td>\n",
       "      <td>NaN</td>\n",
       "    </tr>\n",
       "    <tr>\n",
       "      <th>2716</th>\n",
       "      <td>2717</td>\n",
       "      <td>5567133</td>\n",
       "      <td>2717</td>\n",
       "      <td>0.041339</td>\n",
       "      <td>1.0</td>\n",
       "      <td>1.000000</td>\n",
       "      <td>NaN</td>\n",
       "      <td>NaN</td>\n",
       "      <td>NaN</td>\n",
       "      <td>0.857798</td>\n",
       "      <td>0.861958</td>\n",
       "      <td>0.918347</td>\n",
       "      <td>0.921189</td>\n",
       "      <td>0.945005</td>\n",
       "      <td>0.889259</td>\n",
       "    </tr>\n",
       "  </tbody>\n",
       "</table>\n",
       "<p>2717 rows × 15 columns</p>\n",
       "</div>"
      ],
      "text/plain": [
       "      step  elapsed_tokens  elapsed_examples  training_loss  \\\n",
       "0        1            2049                 1       0.266593   \n",
       "1        2            4098                 2       0.207604   \n",
       "2        3            6147                 3       0.195201   \n",
       "3        4            8196                 4       0.207342   \n",
       "4        5           10245                 5       0.201088   \n",
       "...    ...             ...               ...            ...   \n",
       "2712  2713         5558937              2713       0.063869   \n",
       "2713  2714         5560986              2714       0.039642   \n",
       "2714  2715         5563035              2715       0.034781   \n",
       "2715  2716         5565084              2716       0.042580   \n",
       "2716  2717         5567133              2717       0.041339   \n",
       "\n",
       "      training_sequence_accuracy  training_token_accuracy  validation_loss  \\\n",
       "0                            0.0                 0.000000         0.273952   \n",
       "1                            0.0                 0.538462              NaN   \n",
       "2                            0.0                 0.166667              NaN   \n",
       "3                            0.0                 0.666667              NaN   \n",
       "4                            0.0                 0.571429              NaN   \n",
       "...                          ...                      ...              ...   \n",
       "2712                         0.0                 0.928571              NaN   \n",
       "2713                         1.0                 1.000000              NaN   \n",
       "2714                         0.0                 0.928571              NaN   \n",
       "2715                         0.0                 0.933333              NaN   \n",
       "2716                         1.0                 1.000000              NaN   \n",
       "\n",
       "      validation_sequence_accuracy  validation_token_accuracy  \\\n",
       "0                              0.0                        0.0   \n",
       "1                              NaN                        NaN   \n",
       "2                              NaN                        NaN   \n",
       "3                              NaN                        NaN   \n",
       "4                              NaN                        NaN   \n",
       "...                            ...                        ...   \n",
       "2712                           NaN                        NaN   \n",
       "2713                           NaN                        NaN   \n",
       "2714                           NaN                        NaN   \n",
       "2715                           NaN                        NaN   \n",
       "2716                           NaN                        NaN   \n",
       "\n",
       "      classification/accuracy  classification/precision  \\\n",
       "0                         NaN                       NaN   \n",
       "1                         NaN                       NaN   \n",
       "2                         NaN                       NaN   \n",
       "3                         NaN                       NaN   \n",
       "4                         NaN                       NaN   \n",
       "...                       ...                       ...   \n",
       "2712                      NaN                       NaN   \n",
       "2713                      NaN                       NaN   \n",
       "2714                      NaN                       NaN   \n",
       "2715                      NaN                       NaN   \n",
       "2716                 0.857798                  0.861958   \n",
       "\n",
       "      classification/recall  classification/auroc  classification/auprc  \\\n",
       "0                       NaN                   NaN                   NaN   \n",
       "1                       NaN                   NaN                   NaN   \n",
       "2                       NaN                   NaN                   NaN   \n",
       "3                       NaN                   NaN                   NaN   \n",
       "4                       NaN                   NaN                   NaN   \n",
       "...                     ...                   ...                   ...   \n",
       "2712                    NaN                   NaN                   NaN   \n",
       "2713                    NaN                   NaN                   NaN   \n",
       "2714                    NaN                   NaN                   NaN   \n",
       "2715                    NaN                   NaN                   NaN   \n",
       "2716               0.918347              0.921189              0.945005   \n",
       "\n",
       "      classification/f1.0  \n",
       "0                     NaN  \n",
       "1                     NaN  \n",
       "2                     NaN  \n",
       "3                     NaN  \n",
       "4                     NaN  \n",
       "...                   ...  \n",
       "2712                  NaN  \n",
       "2713                  NaN  \n",
       "2714                  NaN  \n",
       "2715                  NaN  \n",
       "2716             0.889259  \n",
       "\n",
       "[2717 rows x 15 columns]"
      ]
     },
     "execution_count": 3,
     "metadata": {},
     "output_type": "execute_result"
    }
   ],
   "source": [
    "import pandas as pd\n",
    "df = pd.read_csv('../results/boolq_results.csv')\n",
    "df"
   ]
  },
  {
   "cell_type": "code",
   "execution_count": null,
   "id": "b4ede7ae",
   "metadata": {},
   "outputs": [],
   "source": []
  }
 ],
 "metadata": {
  "kernelspec": {
   "display_name": "Python 3 (ipykernel)",
   "language": "python",
   "name": "python3"
  },
  "language_info": {
   "codemirror_mode": {
    "name": "ipython",
    "version": 3
   },
   "file_extension": ".py",
   "mimetype": "text/x-python",
   "name": "python",
   "nbconvert_exporter": "python",
   "pygments_lexer": "ipython3",
   "version": "3.9.5"
  }
 },
 "nbformat": 4,
 "nbformat_minor": 5
}
