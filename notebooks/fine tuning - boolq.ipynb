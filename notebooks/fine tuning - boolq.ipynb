{
 "cells": [
  {
   "cell_type": "code",
   "execution_count": 1,
   "id": "b2961fb3",
   "metadata": {},
   "outputs": [
    {
     "name": "stderr",
     "output_type": "stream",
     "text": [
      "Using custom data configuration default\n",
      "Reusing dataset boolq (/home/x/.cache/huggingface/datasets/boolq/default/0.1.0/bf0dd57da941c50de94ae3ce3cef7fea48c08f337a4b7aac484e9dddc5aa24e5)\n"
     ]
    },
    {
     "data": {
      "application/vnd.jupyter.widget-view+json": {
       "model_id": "c88271405a7546c59b5363d7cf41244a",
       "version_major": 2,
       "version_minor": 0
      },
      "text/plain": [
       "  0%|          | 0/2 [00:00<?, ?it/s]"
      ]
     },
     "metadata": {},
     "output_type": "display_data"
    },
    {
     "data": {
      "text/plain": [
       "DatasetDict({\n",
       "    train: Dataset({\n",
       "        features: ['question', 'answer', 'passage'],\n",
       "        num_rows: 9427\n",
       "    })\n",
       "    validation: Dataset({\n",
       "        features: ['question', 'answer', 'passage'],\n",
       "        num_rows: 3270\n",
       "    })\n",
       "})"
      ]
     },
     "execution_count": 1,
     "metadata": {},
     "output_type": "execute_result"
    }
   ],
   "source": [
    "import openai\n",
    "\n",
    "from fp_dataset_artifacts.utils import init_openai\n",
    "from fp_dataset_artifacts.boolq import format_question, format_answer\n",
    "from datasets import list_datasets, load_dataset, list_metrics, load_metric\n",
    "\n",
    "init_openai()\n",
    "\n",
    "data = load_dataset('boolq')\n",
    "data"
   ]
  },
  {
   "cell_type": "code",
   "execution_count": 43,
   "id": "7a23d2fd",
   "metadata": {},
   "outputs": [],
   "source": [
    "def map_finetune_train(x):\n",
    "    question = format_question(x['question'])\n",
    "    passage = x['passage']\n",
    "    answer = format_answer(x['answer'])\n",
    "\n",
    "    return {\n",
    "        'prompt': f\"{passage}\\n\\nQ: {question}\\n\\nA: \",\n",
    "        'completion': answer,\n",
    "    }"
   ]
  },
  {
   "cell_type": "code",
   "execution_count": 38,
   "id": "47c474bd",
   "metadata": {},
   "outputs": [
    {
     "name": "stderr",
     "output_type": "stream",
     "text": [
      "Loading cached processed dataset at /home/x/.cache/huggingface/datasets/boolq/default/0.1.0/bf0dd57da941c50de94ae3ce3cef7fea48c08f337a4b7aac484e9dddc5aa24e5/cache-5ebed985e83a6877.arrow\n"
     ]
    }
   ],
   "source": [
    "train = data['train'].map(map_finetune_train)\n",
    "train = train.remove_columns(['question', 'answer', 'passage'])"
   ]
  },
  {
   "cell_type": "code",
   "execution_count": 51,
   "id": "ec6b5e01",
   "metadata": {},
   "outputs": [
    {
     "data": {
      "text/plain": [
       "{'prompt': 'Persian (/ˈpɜːrʒən, -ʃən/), also known by its endonym Farsi (فارسی fārsi (fɒːɾˈsiː) ( listen)), is one of the Western Iranian languages within the Indo-Iranian branch of the Indo-European language family. It is primarily spoken in Iran, Afghanistan (officially known as Dari since 1958), and Tajikistan (officially known as Tajiki since the Soviet era), and some other regions which historically were Persianate societies and considered part of Greater Iran. It is written in the Persian alphabet, a modified variant of the Arabic script, which itself evolved from the Aramaic alphabet.\\n\\nQ: Do iran and afghanistan speak the same language?\\n\\nA: ',\n",
       " 'completion': 'Yes'}"
      ]
     },
     "execution_count": 51,
     "metadata": {},
     "output_type": "execute_result"
    }
   ],
   "source": [
    "train[0]"
   ]
  },
  {
   "cell_type": "code",
   "execution_count": 41,
   "id": "0d1796fd",
   "metadata": {},
   "outputs": [
    {
     "data": {
      "application/vnd.jupyter.widget-view+json": {
       "model_id": "679e874747e5423fbbb8bae1c2e160e3",
       "version_major": 2,
       "version_minor": 0
      },
      "text/plain": [
       "Creating json from Arrow format:   0%|          | 0/1 [00:00<?, ?ba/s]"
      ]
     },
     "metadata": {},
     "output_type": "display_data"
    },
    {
     "data": {
      "text/plain": [
       "6223009"
      ]
     },
     "execution_count": 41,
     "metadata": {},
     "output_type": "execute_result"
    }
   ],
   "source": [
    "train.to_json('boolq_finetune_train.jsonl')"
   ]
  },
  {
   "cell_type": "code",
   "execution_count": 44,
   "id": "af99ca5e",
   "metadata": {},
   "outputs": [
    {
     "data": {
      "application/vnd.jupyter.widget-view+json": {
       "model_id": "f29ca73e92d44e6bb93127d3c199d222",
       "version_major": 2,
       "version_minor": 0
      },
      "text/plain": [
       "  0%|          | 0/3270 [00:00<?, ?ex/s]"
      ]
     },
     "metadata": {},
     "output_type": "display_data"
    },
    {
     "data": {
      "application/vnd.jupyter.widget-view+json": {
       "model_id": "3e750b734cf44a1d94a967923c5db5b6",
       "version_major": 2,
       "version_minor": 0
      },
      "text/plain": [
       "Creating json from Arrow format:   0%|          | 0/1 [00:00<?, ?ba/s]"
      ]
     },
     "metadata": {},
     "output_type": "display_data"
    },
    {
     "data": {
      "text/plain": [
       "2134729"
      ]
     },
     "execution_count": 44,
     "metadata": {},
     "output_type": "execute_result"
    }
   ],
   "source": [
    "valid = data['validation'].map(map_finetune_train)\n",
    "valid = valid.remove_columns(['question', 'answer', 'passage'])\n",
    "valid.to_json('boolq_finetune_valid.jsonl')"
   ]
  },
  {
   "cell_type": "code",
   "execution_count": 45,
   "id": "0f3ce33c",
   "metadata": {},
   "outputs": [
    {
     "data": {
      "text/plain": [
       "<File file id=file-gJIlaEZ4vKpcMs8kOd8Tzifx at 0x7f1cfc7172c0> JSON: {\n",
       "  \"bytes\": 6223009,\n",
       "  \"created_at\": 1638669386,\n",
       "  \"filename\": \"boolq_finetune_train.jsonl\",\n",
       "  \"id\": \"file-gJIlaEZ4vKpcMs8kOd8Tzifx\",\n",
       "  \"object\": \"file\",\n",
       "  \"purpose\": \"fine-tune\",\n",
       "  \"status\": \"uploaded\",\n",
       "  \"status_details\": null\n",
       "}"
      ]
     },
     "execution_count": 45,
     "metadata": {},
     "output_type": "execute_result"
    }
   ],
   "source": [
    "openai.File.create(file=open('boolq_finetune_train.jsonl'), purpose='fine-tune')"
   ]
  },
  {
   "cell_type": "code",
   "execution_count": 46,
   "id": "16985ff5",
   "metadata": {},
   "outputs": [
    {
     "data": {
      "text/plain": [
       "<File file id=file-MahHYpnc6hjHw2EZQ1CH3jOw at 0x7f1cfc735a90> JSON: {\n",
       "  \"bytes\": 2134729,\n",
       "  \"created_at\": 1638669392,\n",
       "  \"filename\": \"boolq_finetune_valid.jsonl\",\n",
       "  \"id\": \"file-MahHYpnc6hjHw2EZQ1CH3jOw\",\n",
       "  \"object\": \"file\",\n",
       "  \"purpose\": \"fine-tune\",\n",
       "  \"status\": \"uploaded\",\n",
       "  \"status_details\": null\n",
       "}"
      ]
     },
     "execution_count": 46,
     "metadata": {},
     "output_type": "execute_result"
    }
   ],
   "source": [
    "openai.File.create(file=open('boolq_finetune_valid.jsonl'), purpose='fine-tune')"
   ]
  },
  {
   "cell_type": "code",
   "execution_count": 48,
   "id": "51a713e7",
   "metadata": {},
   "outputs": [
    {
     "data": {
      "text/plain": [
       "<FineTune fine-tune id=ft-9ZmeSNYkAUhZEmXkoiigSMdJ at 0x7f1cfc717a40> JSON: {\n",
       "  \"created_at\": 1638669489,\n",
       "  \"events\": [\n",
       "    {\n",
       "      \"created_at\": 1638669489,\n",
       "      \"level\": \"info\",\n",
       "      \"message\": \"Created fine-tune: ft-9ZmeSNYkAUhZEmXkoiigSMdJ\",\n",
       "      \"object\": \"fine-tune-event\"\n",
       "    }\n",
       "  ],\n",
       "  \"fine_tuned_model\": null,\n",
       "  \"hyperparams\": {\n",
       "    \"batch_size\": null,\n",
       "    \"classification_n_classes\": 2,\n",
       "    \"classification_positive_class\": \"Yes\",\n",
       "    \"compute_classification_metrics\": true,\n",
       "    \"learning_rate_multiplier\": null,\n",
       "    \"n_epochs\": 4,\n",
       "    \"prompt_loss_weight\": 0.1,\n",
       "    \"use_packing\": null\n",
       "  },\n",
       "  \"id\": \"ft-9ZmeSNYkAUhZEmXkoiigSMdJ\",\n",
       "  \"model\": \"curie\",\n",
       "  \"object\": \"fine-tune\",\n",
       "  \"organization_id\": \"org-5AE307Eg4rc5EAoEA2S2bwkH\",\n",
       "  \"result_files\": [],\n",
       "  \"status\": \"pending\",\n",
       "  \"training_files\": [\n",
       "    {\n",
       "      \"bytes\": 6223009,\n",
       "      \"created_at\": 1638669386,\n",
       "      \"filename\": \"boolq_finetune_train.jsonl\",\n",
       "      \"id\": \"file-gJIlaEZ4vKpcMs8kOd8Tzifx\",\n",
       "      \"object\": \"file\",\n",
       "      \"purpose\": \"fine-tune\",\n",
       "      \"status\": \"processed\",\n",
       "      \"status_details\": null\n",
       "    }\n",
       "  ],\n",
       "  \"updated_at\": 1638669489,\n",
       "  \"validation_files\": [\n",
       "    {\n",
       "      \"bytes\": 2134729,\n",
       "      \"created_at\": 1638669392,\n",
       "      \"filename\": \"boolq_finetune_valid.jsonl\",\n",
       "      \"id\": \"file-MahHYpnc6hjHw2EZQ1CH3jOw\",\n",
       "      \"object\": \"file\",\n",
       "      \"purpose\": \"fine-tune\",\n",
       "      \"status\": \"processed\",\n",
       "      \"status_details\": null\n",
       "    }\n",
       "  ]\n",
       "}"
      ]
     },
     "execution_count": 48,
     "metadata": {},
     "output_type": "execute_result"
    }
   ],
   "source": [
    "openai.FineTune.create(\n",
    "    training_file='file-gJIlaEZ4vKpcMs8kOd8Tzifx',\n",
    "    validation_file='file-MahHYpnc6hjHw2EZQ1CH3jOw',\n",
    "    model='curie',\n",
    "    n_epochs=4,\n",
    "    compute_classification_metrics=True,\n",
    "    classification_positive_class='Yes',\n",
    "    classification_n_classes=2\n",
    ")"
   ]
  },
  {
   "cell_type": "code",
   "execution_count": 64,
   "id": "eb155baa",
   "metadata": {
    "scrolled": false
   },
   "outputs": [
    {
     "data": {
      "text/plain": [
       "<FineTune fine-tune id=ft-9ZmeSNYkAUhZEmXkoiigSMdJ at 0x7f1cfc328a90> JSON: {\n",
       "  \"created_at\": 1638669489,\n",
       "  \"events\": [\n",
       "    {\n",
       "      \"created_at\": 1638669489,\n",
       "      \"level\": \"info\",\n",
       "      \"message\": \"Created fine-tune: ft-9ZmeSNYkAUhZEmXkoiigSMdJ\",\n",
       "      \"object\": \"fine-tune-event\"\n",
       "    },\n",
       "    {\n",
       "      \"created_at\": 1638669494,\n",
       "      \"level\": \"info\",\n",
       "      \"message\": \"Fine-tune enqueued. Queue number: 0\",\n",
       "      \"object\": \"fine-tune-event\"\n",
       "    },\n",
       "    {\n",
       "      \"created_at\": 1638669499,\n",
       "      \"level\": \"info\",\n",
       "      \"message\": \"Fine-tune started\",\n",
       "      \"object\": \"fine-tune-event\"\n",
       "    },\n",
       "    {\n",
       "      \"created_at\": 1638669912,\n",
       "      \"level\": \"info\",\n",
       "      \"message\": \"Completed epoch 1/4\",\n",
       "      \"object\": \"fine-tune-event\"\n",
       "    },\n",
       "    {\n",
       "      \"created_at\": 1638670500,\n",
       "      \"level\": \"info\",\n",
       "      \"message\": \"Completed epoch 2/4\",\n",
       "      \"object\": \"fine-tune-event\"\n",
       "    },\n",
       "    {\n",
       "      \"created_at\": 1638671084,\n",
       "      \"level\": \"info\",\n",
       "      \"message\": \"Completed epoch 3/4\",\n",
       "      \"object\": \"fine-tune-event\"\n",
       "    },\n",
       "    {\n",
       "      \"created_at\": 1638671668,\n",
       "      \"level\": \"info\",\n",
       "      \"message\": \"Completed epoch 4/4\",\n",
       "      \"object\": \"fine-tune-event\"\n",
       "    },\n",
       "    {\n",
       "      \"created_at\": 1638671920,\n",
       "      \"level\": \"info\",\n",
       "      \"message\": \"Uploaded model: curie:ft-user-5hzndcnnszukksvrzrlnjn8l-2021-12-05-02-38-38\",\n",
       "      \"object\": \"fine-tune-event\"\n",
       "    },\n",
       "    {\n",
       "      \"created_at\": 1638671923,\n",
       "      \"level\": \"info\",\n",
       "      \"message\": \"Uploaded result file: file-7mMJchteVwqmaih6gj199hXk\",\n",
       "      \"object\": \"fine-tune-event\"\n",
       "    },\n",
       "    {\n",
       "      \"created_at\": 1638671923,\n",
       "      \"level\": \"info\",\n",
       "      \"message\": \"Fine-tune succeeded\",\n",
       "      \"object\": \"fine-tune-event\"\n",
       "    }\n",
       "  ],\n",
       "  \"fine_tuned_model\": \"curie:ft-user-5hzndcnnszukksvrzrlnjn8l-2021-12-05-02-38-38\",\n",
       "  \"hyperparams\": {\n",
       "    \"batch_size\": 1,\n",
       "    \"classification_n_classes\": 2,\n",
       "    \"classification_positive_class\": \"Yes\",\n",
       "    \"compute_classification_metrics\": true,\n",
       "    \"learning_rate_multiplier\": 0.1,\n",
       "    \"n_epochs\": 4,\n",
       "    \"prompt_loss_weight\": 0.1,\n",
       "    \"use_packing\": true\n",
       "  },\n",
       "  \"id\": \"ft-9ZmeSNYkAUhZEmXkoiigSMdJ\",\n",
       "  \"model\": \"curie\",\n",
       "  \"object\": \"fine-tune\",\n",
       "  \"organization_id\": \"org-5AE307Eg4rc5EAoEA2S2bwkH\",\n",
       "  \"result_files\": [\n",
       "    {\n",
       "      \"bytes\": 163900,\n",
       "      \"created_at\": 1638671921,\n",
       "      \"filename\": \"compiled_results.csv\",\n",
       "      \"id\": \"file-7mMJchteVwqmaih6gj199hXk\",\n",
       "      \"object\": \"file\",\n",
       "      \"purpose\": \"fine-tune-results\",\n",
       "      \"status\": \"processed\",\n",
       "      \"status_details\": null\n",
       "    }\n",
       "  ],\n",
       "  \"status\": \"succeeded\",\n",
       "  \"training_files\": [\n",
       "    {\n",
       "      \"bytes\": 6223009,\n",
       "      \"created_at\": 1638669386,\n",
       "      \"filename\": \"boolq_finetune_train.jsonl\",\n",
       "      \"id\": \"file-gJIlaEZ4vKpcMs8kOd8Tzifx\",\n",
       "      \"object\": \"file\",\n",
       "      \"purpose\": \"fine-tune\",\n",
       "      \"status\": \"processed\",\n",
       "      \"status_details\": null\n",
       "    }\n",
       "  ],\n",
       "  \"updated_at\": 1638671924,\n",
       "  \"validation_files\": [\n",
       "    {\n",
       "      \"bytes\": 2134729,\n",
       "      \"created_at\": 1638669392,\n",
       "      \"filename\": \"boolq_finetune_valid.jsonl\",\n",
       "      \"id\": \"file-MahHYpnc6hjHw2EZQ1CH3jOw\",\n",
       "      \"object\": \"file\",\n",
       "      \"purpose\": \"fine-tune\",\n",
       "      \"status\": \"processed\",\n",
       "      \"status_details\": null\n",
       "    }\n",
       "  ]\n",
       "}"
      ]
     },
     "execution_count": 64,
     "metadata": {},
     "output_type": "execute_result"
    }
   ],
   "source": [
    "openai.FineTune.retrieve('ft-9ZmeSNYkAUhZEmXkoiigSMdJ')"
   ]
  },
  {
   "cell_type": "code",
   "execution_count": 63,
   "id": "5f0f6bb1",
   "metadata": {},
   "outputs": [
    {
     "data": {
      "text/plain": [
       "{'prompt': \"All biomass goes through at least some of these steps: it needs to be grown, collected, dried, fermented, distilled, and burned. All of these steps require resources and an infrastructure. The total amount of energy input into the process compared to the energy released by burning the resulting ethanol fuel is known as the energy balance (or ``energy returned on energy invested''). Figures compiled in a 2007 report by National Geographic Magazine point to modest results for corn ethanol produced in the US: one unit of fossil-fuel energy is required to create 1.3 energy units from the resulting ethanol. The energy balance for sugarcane ethanol produced in Brazil is more favorable, with one unit of fossil-fuel energy required to create 8 from the ethanol. Energy balance estimates are not easily produced, thus numerous such reports have been generated that are contradictory. For instance, a separate survey reports that production of ethanol from sugarcane, which requires a tropical climate to grow productively, returns from 8 to 9 units of energy for each unit expended, as compared to corn, which only returns about 1.34 units of fuel energy for each unit of energy expended. A 2006 University of California Berkeley study, after analyzing six separate studies, concluded that producing ethanol from corn uses much less petroleum than producing gasoline.\\n\\nQ: Does ethanol take more energy make that produces?\\n\\nA: \",\n",
       " 'completion': 'No'}"
      ]
     },
     "execution_count": 63,
     "metadata": {},
     "output_type": "execute_result"
    }
   ],
   "source": [
    "valid[0]"
   ]
  },
  {
   "cell_type": "code",
   "execution_count": 65,
   "id": "a07d4012",
   "metadata": {},
   "outputs": [
    {
     "data": {
      "text/plain": [
       "<OpenAIObject text_completion id=cmpl-4Bbk73cd5LJmxhlQPctCm7SDfu5zz at 0x7f1cfc323860> JSON: {\n",
       "  \"choices\": [\n",
       "    {\n",
       "      \"finish_reason\": \"stop\",\n",
       "      \"index\": 0,\n",
       "      \"logprobs\": null,\n",
       "      \"text\": \"Yes, than it releases?\"\n",
       "    }\n",
       "  ],\n",
       "  \"created\": 1638672039,\n",
       "  \"id\": \"cmpl-4Bbk73cd5LJmxhlQPctCm7SDfu5zz\",\n",
       "  \"model\": \"curie:ft-user-5hzndcnnszukksvrzrlnjn8l-2021-12-05-02-38-38\",\n",
       "  \"object\": \"text_completion\"\n",
       "}"
      ]
     },
     "execution_count": 65,
     "metadata": {},
     "output_type": "execute_result"
    }
   ],
   "source": [
    "openai.Completion.create(\n",
    "    model='curie:ft-user-5hzndcnnszukksvrzrlnjn8l-2021-12-05-02-38-38',\n",
    "    prompt=valid[0]['prompt'],\n",
    "    temperature=0.3,\n",
    "    max_tokens=10,\n",
    "    stop=['\\n'],\n",
    "    top_p=1,\n",
    "    frequency_penalty=0.5,\n",
    "    presence_penalty=0,\n",
    ")"
   ]
  },
  {
   "cell_type": "code",
   "execution_count": 66,
   "id": "339c33be",
   "metadata": {},
   "outputs": [
    {
     "data": {
      "text/plain": [
       "{'prompt': \"Property tax or 'house tax' is a local tax on buildings, along with appurtenant land. It is and imposed on the Possessor (not the custodian of property as per 1978, 44th amendment of constitution). It resembles the US-type wealth tax and differs from the excise-type UK rate. The tax power is vested in the states and is delegated to local bodies, specifying the valuation method, rate band, and collection procedures. The tax base is the annual rental value (ARV) or area-based rating. Owner-occupied and other properties not producing rent are assessed on cost and then converted into ARV by applying a percentage of cost, usually four percent. Vacant land is generally exempt. Central government properties are exempt. Instead a 'service charge' is permissible under executive order. Properties of foreign missions also enjoy tax exemption without requiring reciprocity. The tax is usually accompanied by service taxes, e.g., water tax, drainage tax, conservancy (sanitation) tax, lighting tax, all using the same tax base. The rate structure is flat on rural (panchayat) properties, but in the urban (municipal) areas it is mildly progressive with about 80% of assessments falling in the first two brackets.\\n\\nQ: Is house tax and property tax are same?\\n\\nA: \",\n",
       " 'completion': 'Yes'}"
      ]
     },
     "execution_count": 66,
     "metadata": {},
     "output_type": "execute_result"
    }
   ],
   "source": [
    "valid[1]"
   ]
  },
  {
   "cell_type": "code",
   "execution_count": 67,
   "id": "482a0626",
   "metadata": {},
   "outputs": [
    {
     "data": {
      "text/plain": [
       "<OpenAIObject text_completion id=cmpl-4BbkZ3yNi1LBAxb0AefU5ZZ4b23xT at 0x7f1cfc328720> JSON: {\n",
       "  \"choices\": [\n",
       "    {\n",
       "      \"finish_reason\": \"stop\",\n",
       "      \"index\": 0,\n",
       "      \"logprobs\": null,\n",
       "      \"text\": \"Yes\"\n",
       "    }\n",
       "  ],\n",
       "  \"created\": 1638672067,\n",
       "  \"id\": \"cmpl-4BbkZ3yNi1LBAxb0AefU5ZZ4b23xT\",\n",
       "  \"model\": \"curie:ft-user-5hzndcnnszukksvrzrlnjn8l-2021-12-05-02-38-38\",\n",
       "  \"object\": \"text_completion\"\n",
       "}"
      ]
     },
     "execution_count": 67,
     "metadata": {},
     "output_type": "execute_result"
    }
   ],
   "source": [
    "openai.Completion.create(\n",
    "    model='curie:ft-user-5hzndcnnszukksvrzrlnjn8l-2021-12-05-02-38-38',\n",
    "    prompt=valid[1]['prompt'],\n",
    "    temperature=0.3,\n",
    "    max_tokens=10,\n",
    "    stop=['\\n'],\n",
    "    top_p=1,\n",
    "    frequency_penalty=0.5,\n",
    "    presence_penalty=0,\n",
    ")"
   ]
  },
  {
   "cell_type": "code",
   "execution_count": 69,
   "id": "836fe1f4",
   "metadata": {},
   "outputs": [
    {
     "data": {
      "text/plain": [
       "{'prompt': 'Harry Potter and the Escape from Gringotts is an indoor steel roller coaster at Universal Studios Florida, a theme park located within the Universal Orlando Resort. Similar to dark rides, the roller coaster utilizes special effects in a controlled-lighting environment and also employs motion-based 3-D projection of both animation and live-action sequences to enhance the experience. The ride, which is themed to the Gringotts Wizarding Bank, became the flagship attraction for the expanded Wizarding World of Harry Potter when it opened on July 8, 2014.\\n\\nQ: Is harry potter and the escape from gringotts a roller coaster ride?\\n\\nA: ',\n",
       " 'completion': 'Yes'}"
      ]
     },
     "execution_count": 69,
     "metadata": {},
     "output_type": "execute_result"
    }
   ],
   "source": [
    "valid[3]"
   ]
  },
  {
   "cell_type": "code",
   "execution_count": 70,
   "id": "6fb1bd10",
   "metadata": {},
   "outputs": [
    {
     "data": {
      "text/plain": [
       "<OpenAIObject text_completion id=cmpl-4BbkweIPDS3f4pjSJw78C5bcANmCw at 0x7f1cfc3426d0> JSON: {\n",
       "  \"choices\": [\n",
       "    {\n",
       "      \"finish_reason\": \"stop\",\n",
       "      \"index\": 0,\n",
       "      \"logprobs\": null,\n",
       "      \"text\": \"Yes\"\n",
       "    }\n",
       "  ],\n",
       "  \"created\": 1638672090,\n",
       "  \"id\": \"cmpl-4BbkweIPDS3f4pjSJw78C5bcANmCw\",\n",
       "  \"model\": \"curie:ft-user-5hzndcnnszukksvrzrlnjn8l-2021-12-05-02-38-38\",\n",
       "  \"object\": \"text_completion\"\n",
       "}"
      ]
     },
     "execution_count": 70,
     "metadata": {},
     "output_type": "execute_result"
    }
   ],
   "source": [
    "openai.Completion.create(\n",
    "    model='curie:ft-user-5hzndcnnszukksvrzrlnjn8l-2021-12-05-02-38-38',\n",
    "    prompt=valid[3]['prompt'],\n",
    "    temperature=0.3,\n",
    "    max_tokens=10,\n",
    "    stop=['\\n'],\n",
    "    top_p=1,\n",
    "    frequency_penalty=0.5,\n",
    "    presence_penalty=0,\n",
    ")"
   ]
  },
  {
   "cell_type": "code",
   "execution_count": 72,
   "id": "47cb26f0",
   "metadata": {},
   "outputs": [
    {
     "data": {
      "text/plain": [
       "{'prompt': \"Barq's /ˈbɑːrks/ is an American soft drink. Its brand of root beer is notable for having caffeine. Barq's, created by Edward Barq and bottled since the turn of the 20th century, is owned by the Barq family but bottled by the Coca-Cola Company. It was known as Barq's Famous Olde Tyme Root Beer until 2012.\\n\\nQ: Is barq's root beer a pepsi product?\\n\\nA: \",\n",
       " 'completion': 'No'}"
      ]
     },
     "execution_count": 72,
     "metadata": {},
     "output_type": "execute_result"
    }
   ],
   "source": [
    "valid[5]"
   ]
  },
  {
   "cell_type": "code",
   "execution_count": 73,
   "id": "127d8126",
   "metadata": {},
   "outputs": [
    {
     "data": {
      "text/plain": [
       "<OpenAIObject text_completion id=cmpl-4BblGR2GF0PHvVXRy6sP121LW7i1U at 0x7f1cfc3284f0> JSON: {\n",
       "  \"choices\": [\n",
       "    {\n",
       "      \"finish_reason\": \"length\",\n",
       "      \"index\": 0,\n",
       "      \"logprobs\": null,\n",
       "      \"text\": \"No, it is a Coca-Cola product.\"\n",
       "    }\n",
       "  ],\n",
       "  \"created\": 1638672110,\n",
       "  \"id\": \"cmpl-4BblGR2GF0PHvVXRy6sP121LW7i1U\",\n",
       "  \"model\": \"curie:ft-user-5hzndcnnszukksvrzrlnjn8l-2021-12-05-02-38-38\",\n",
       "  \"object\": \"text_completion\"\n",
       "}"
      ]
     },
     "execution_count": 73,
     "metadata": {},
     "output_type": "execute_result"
    }
   ],
   "source": [
    "openai.Completion.create(\n",
    "    model='curie:ft-user-5hzndcnnszukksvrzrlnjn8l-2021-12-05-02-38-38',\n",
    "    prompt=valid[5]['prompt'],\n",
    "    temperature=0.3,\n",
    "    max_tokens=10,\n",
    "    stop=['\\n'],\n",
    "    top_p=1,\n",
    "    frequency_penalty=0.5,\n",
    "    presence_penalty=0,\n",
    ")"
   ]
  },
  {
   "cell_type": "code",
   "execution_count": 74,
   "id": "b6c902eb",
   "metadata": {},
   "outputs": [],
   "source": [
    "# Similar to SNLI, it has issue with text generation continuation.\n",
    "# Adding '\\n' to the end of the completion might help with that.\n",
    "# Another issue is that, these should be trained on train test split since it doesn't have a test set."
   ]
  },
  {
   "cell_type": "code",
   "execution_count": null,
   "id": "f08e582a",
   "metadata": {},
   "outputs": [],
   "source": []
  }
 ],
 "metadata": {
  "kernelspec": {
   "display_name": "Python 3 (ipykernel)",
   "language": "python",
   "name": "python3"
  },
  "language_info": {
   "codemirror_mode": {
    "name": "ipython",
    "version": 3
   },
   "file_extension": ".py",
   "mimetype": "text/x-python",
   "name": "python",
   "nbconvert_exporter": "python",
   "pygments_lexer": "ipython3",
   "version": "3.9.5"
  }
 },
 "nbformat": 4,
 "nbformat_minor": 5
}
