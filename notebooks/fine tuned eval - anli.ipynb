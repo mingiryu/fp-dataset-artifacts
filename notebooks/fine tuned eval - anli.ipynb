{
 "cells": [
  {
   "cell_type": "code",
   "execution_count": 1,
   "id": "6f892a4f",
   "metadata": {},
   "outputs": [
    {
     "name": "stderr",
     "output_type": "stream",
     "text": [
      "Reusing dataset anli (/home/x/.cache/huggingface/datasets/anli/plain_text/0.1.0/aabce88453b06dff21c201855ea83283bab0390bff746deadb30b65695755c0b)\n"
     ]
    },
    {
     "data": {
      "application/vnd.jupyter.widget-view+json": {
       "model_id": "259547c45b1c428db5bb5d4bbc2c0eb1",
       "version_major": 2,
       "version_minor": 0
      },
      "text/plain": [
       "  0%|          | 0/9 [00:00<?, ?it/s]"
      ]
     },
     "metadata": {},
     "output_type": "display_data"
    },
    {
     "data": {
      "text/plain": [
       "DatasetDict({\n",
       "    train_r1: Dataset({\n",
       "        features: ['uid', 'premise', 'hypothesis', 'label', 'reason'],\n",
       "        num_rows: 16946\n",
       "    })\n",
       "    dev_r1: Dataset({\n",
       "        features: ['uid', 'premise', 'hypothesis', 'label', 'reason'],\n",
       "        num_rows: 1000\n",
       "    })\n",
       "    test_r1: Dataset({\n",
       "        features: ['uid', 'premise', 'hypothesis', 'label', 'reason'],\n",
       "        num_rows: 1000\n",
       "    })\n",
       "    train_r2: Dataset({\n",
       "        features: ['uid', 'premise', 'hypothesis', 'label', 'reason'],\n",
       "        num_rows: 45460\n",
       "    })\n",
       "    dev_r2: Dataset({\n",
       "        features: ['uid', 'premise', 'hypothesis', 'label', 'reason'],\n",
       "        num_rows: 1000\n",
       "    })\n",
       "    test_r2: Dataset({\n",
       "        features: ['uid', 'premise', 'hypothesis', 'label', 'reason'],\n",
       "        num_rows: 1000\n",
       "    })\n",
       "    train_r3: Dataset({\n",
       "        features: ['uid', 'premise', 'hypothesis', 'label', 'reason'],\n",
       "        num_rows: 100459\n",
       "    })\n",
       "    dev_r3: Dataset({\n",
       "        features: ['uid', 'premise', 'hypothesis', 'label', 'reason'],\n",
       "        num_rows: 1200\n",
       "    })\n",
       "    test_r3: Dataset({\n",
       "        features: ['uid', 'premise', 'hypothesis', 'label', 'reason'],\n",
       "        num_rows: 1200\n",
       "    })\n",
       "})"
      ]
     },
     "execution_count": 1,
     "metadata": {},
     "output_type": "execute_result"
    }
   ],
   "source": [
    "import openai\n",
    "\n",
    "from fp_dataset_artifacts.utils import init_openai\n",
    "from fp_dataset_artifacts.anli import map_finetune, get_response\n",
    "from datasets import list_datasets, load_dataset, list_metrics, load_metric, concatenate_datasets\n",
    "\n",
    "init_openai()\n",
    "\n",
    "data = load_dataset('anli')\n",
    "data"
   ]
  },
  {
   "cell_type": "code",
   "execution_count": 2,
   "id": "55245072",
   "metadata": {},
   "outputs": [
    {
     "name": "stderr",
     "output_type": "stream",
     "text": [
      "Loading cached processed dataset at /home/x/.cache/huggingface/datasets/anli/plain_text/0.1.0/aabce88453b06dff21c201855ea83283bab0390bff746deadb30b65695755c0b/cache-2b8a4bc9533ab61a.arrow\n"
     ]
    },
    {
     "data": {
      "text/plain": [
       "Dataset({\n",
       "    features: ['uid', 'premise', 'hypothesis', 'label', 'reason', 'prompt', 'completion'],\n",
       "    num_rows: 1000\n",
       "})"
      ]
     },
     "execution_count": 2,
     "metadata": {},
     "output_type": "execute_result"
    }
   ],
   "source": [
    "test_r1 = data['test_r1'].map(map_finetune)\n",
    "test_r1"
   ]
  },
  {
   "cell_type": "code",
   "execution_count": 3,
   "id": "7e943ba0",
   "metadata": {},
   "outputs": [],
   "source": [
    "model = 'curie:ft-user-5hzndcnnszukksvrzrlnjn8l-2021-12-05-03-26-14'\n",
    "\n",
    "def map_response(x):\n",
    "    try:\n",
    "        response = get_response(x['prompt'], model)\n",
    "        return {\n",
    "            'response': response['choices'][0]['text']\n",
    "        }\n",
    "    except Exception as e:\n",
    "        print(e)\n",
    "        return {\n",
    "            'response': None\n",
    "        }"
   ]
  },
  {
   "cell_type": "code",
   "execution_count": 4,
   "id": "7fd2a472",
   "metadata": {},
   "outputs": [
    {
     "data": {
      "text/plain": [
       "{'response': 'Entailment'}"
      ]
     },
     "execution_count": 4,
     "metadata": {},
     "output_type": "execute_result"
    }
   ],
   "source": [
    "map_response(test_r1[0])"
   ]
  },
  {
   "cell_type": "code",
   "execution_count": 5,
   "id": "1b19e2c6",
   "metadata": {},
   "outputs": [
    {
     "data": {
      "text/plain": [
       "Dataset({\n",
       "    features: ['prompt', 'completion'],\n",
       "    num_rows: 1000\n",
       "})"
      ]
     },
     "execution_count": 5,
     "metadata": {},
     "output_type": "execute_result"
    }
   ],
   "source": [
    "test = test_r1 = test_r1.remove_columns(['uid', 'reason', 'premise', 'hypothesis', 'label'])\n",
    "test"
   ]
  },
  {
   "cell_type": "code",
   "execution_count": 6,
   "id": "54ba6cc9",
   "metadata": {},
   "outputs": [
    {
     "data": {
      "application/vnd.jupyter.widget-view+json": {
       "model_id": "6c0bf1a0db684b6c8277a4a63a57a92b",
       "version_major": 2,
       "version_minor": 0
      },
      "text/plain": [
       "  0%|          | 0/1000 [00:00<?, ?ex/s]"
      ]
     },
     "metadata": {},
     "output_type": "display_data"
    },
    {
     "data": {
      "text/plain": [
       "Dataset({\n",
       "    features: ['prompt', 'completion', 'response'],\n",
       "    num_rows: 1000\n",
       "})"
      ]
     },
     "execution_count": 6,
     "metadata": {},
     "output_type": "execute_result"
    }
   ],
   "source": [
    "test.map(map_response)"
   ]
  },
  {
   "cell_type": "code",
   "execution_count": 7,
   "id": "8325c058",
   "metadata": {},
   "outputs": [
    {
     "data": {
      "application/vnd.jupyter.widget-view+json": {
       "model_id": "aa24c775b7d44e0282daf489cdaf2cc1",
       "version_major": 2,
       "version_minor": 0
      },
      "text/plain": [
       "Creating json from Arrow format:   0%|          | 0/1 [00:00<?, ?ba/s]"
      ]
     },
     "metadata": {},
     "output_type": "display_data"
    },
    {
     "data": {
      "text/plain": [
       "472963"
      ]
     },
     "execution_count": 7,
     "metadata": {},
     "output_type": "execute_result"
    }
   ],
   "source": [
    "test.to_json('../results/anli_responses.jsonl')"
   ]
  },
  {
   "cell_type": "code",
   "execution_count": 8,
   "id": "33ef793f",
   "metadata": {},
   "outputs": [
    {
     "data": {
      "text/html": [
       "<div>\n",
       "<style scoped>\n",
       "    .dataframe tbody tr th:only-of-type {\n",
       "        vertical-align: middle;\n",
       "    }\n",
       "\n",
       "    .dataframe tbody tr th {\n",
       "        vertical-align: top;\n",
       "    }\n",
       "\n",
       "    .dataframe thead th {\n",
       "        text-align: right;\n",
       "    }\n",
       "</style>\n",
       "<table border=\"1\" class=\"dataframe\">\n",
       "  <thead>\n",
       "    <tr style=\"text-align: right;\">\n",
       "      <th></th>\n",
       "      <th>prompt</th>\n",
       "      <th>completion</th>\n",
       "    </tr>\n",
       "  </thead>\n",
       "  <tbody>\n",
       "    <tr>\n",
       "      <th>0</th>\n",
       "      <td>Premise: Ernest Jones is a British jeweller an...</td>\n",
       "      <td>Entailment\\n</td>\n",
       "    </tr>\n",
       "    <tr>\n",
       "      <th>1</th>\n",
       "      <td>Premise: Old Trafford is a football stadium in...</td>\n",
       "      <td>Entailment\\n</td>\n",
       "    </tr>\n",
       "    <tr>\n",
       "      <th>2</th>\n",
       "      <td>Premise: Magnus is a Belgian joint dance proje...</td>\n",
       "      <td>Entailment\\n</td>\n",
       "    </tr>\n",
       "    <tr>\n",
       "      <th>3</th>\n",
       "      <td>Premise: Shadowboxer is a 2005 crime thriller ...</td>\n",
       "      <td>Neutral\\n</td>\n",
       "    </tr>\n",
       "    <tr>\n",
       "      <th>4</th>\n",
       "      <td>Premise: Takaaki Kajita (梶田 隆章 , Kajita Takaak...</td>\n",
       "      <td>Contradiction\\n</td>\n",
       "    </tr>\n",
       "    <tr>\n",
       "      <th>...</th>\n",
       "      <td>...</td>\n",
       "      <td>...</td>\n",
       "    </tr>\n",
       "    <tr>\n",
       "      <th>995</th>\n",
       "      <td>Premise: L'Histoire du soldat (The Soldier's T...</td>\n",
       "      <td>Entailment\\n</td>\n",
       "    </tr>\n",
       "    <tr>\n",
       "      <th>996</th>\n",
       "      <td>Premise: Gianluca Cologna (born 17 May 1990) i...</td>\n",
       "      <td>Neutral\\n</td>\n",
       "    </tr>\n",
       "    <tr>\n",
       "      <th>997</th>\n",
       "      <td>Premise: Fido Dido is a cartoon character crea...</td>\n",
       "      <td>Entailment\\n</td>\n",
       "    </tr>\n",
       "    <tr>\n",
       "      <th>998</th>\n",
       "      <td>Premise: Aspects of Andrew Lloyd Webber is the...</td>\n",
       "      <td>Neutral\\n</td>\n",
       "    </tr>\n",
       "    <tr>\n",
       "      <th>999</th>\n",
       "      <td>Premise: The Doctor is a 1991 drama film direc...</td>\n",
       "      <td>Contradiction\\n</td>\n",
       "    </tr>\n",
       "  </tbody>\n",
       "</table>\n",
       "<p>1000 rows × 2 columns</p>\n",
       "</div>"
      ],
      "text/plain": [
       "                                                prompt       completion\n",
       "0    Premise: Ernest Jones is a British jeweller an...     Entailment\\n\n",
       "1    Premise: Old Trafford is a football stadium in...     Entailment\\n\n",
       "2    Premise: Magnus is a Belgian joint dance proje...     Entailment\\n\n",
       "3    Premise: Shadowboxer is a 2005 crime thriller ...        Neutral\\n\n",
       "4    Premise: Takaaki Kajita (梶田 隆章 , Kajita Takaak...  Contradiction\\n\n",
       "..                                                 ...              ...\n",
       "995  Premise: L'Histoire du soldat (The Soldier's T...     Entailment\\n\n",
       "996  Premise: Gianluca Cologna (born 17 May 1990) i...        Neutral\\n\n",
       "997  Premise: Fido Dido is a cartoon character crea...     Entailment\\n\n",
       "998  Premise: Aspects of Andrew Lloyd Webber is the...        Neutral\\n\n",
       "999  Premise: The Doctor is a 1991 drama film direc...  Contradiction\\n\n",
       "\n",
       "[1000 rows x 2 columns]"
      ]
     },
     "execution_count": 8,
     "metadata": {},
     "output_type": "execute_result"
    }
   ],
   "source": [
    "test.to_pandas()"
   ]
  },
  {
   "cell_type": "code",
   "execution_count": 13,
   "id": "215afc65",
   "metadata": {},
   "outputs": [
    {
     "data": {
      "text/plain": [
       "Dataset({\n",
       "    features: ['prompt', 'completion', 'response'],\n",
       "    num_rows: 1000\n",
       "})"
      ]
     },
     "execution_count": 13,
     "metadata": {},
     "output_type": "execute_result"
    }
   ],
   "source": [
    "# Made a dumb mistake of not setting the variable\n",
    "responses = vars()['_oh'][6]\n",
    "responses"
   ]
  },
  {
   "cell_type": "code",
   "execution_count": 15,
   "id": "3ba9bdf8",
   "metadata": {},
   "outputs": [
    {
     "data": {
      "application/vnd.jupyter.widget-view+json": {
       "model_id": "b0c29805dcb44355bd552e834f7fcfdc",
       "version_major": 2,
       "version_minor": 0
      },
      "text/plain": [
       "Creating json from Arrow format:   0%|          | 0/1 [00:00<?, ?ba/s]"
      ]
     },
     "metadata": {},
     "output_type": "display_data"
    },
    {
     "data": {
      "text/plain": [
       "496780"
      ]
     },
     "execution_count": 15,
     "metadata": {},
     "output_type": "execute_result"
    }
   ],
   "source": [
    "responses.to_json('../results/anli_responses.jsonl')"
   ]
  },
  {
   "cell_type": "code",
   "execution_count": 44,
   "id": "7cf1940b",
   "metadata": {},
   "outputs": [],
   "source": [
    "f1_metric = load_metric('f1')\n",
    "acc_metric = load_metric('accuracy')"
   ]
  },
  {
   "cell_type": "code",
   "execution_count": 45,
   "id": "b2f11526",
   "metadata": {},
   "outputs": [],
   "source": [
    "def label2int(x):\n",
    "    return {\n",
    "        'Entailment': 0,\n",
    "        'Neutral': 1,\n",
    "        'Contradiction': 2\n",
    "    }[x]\n",
    "    \n",
    "df['references'] = df.completion.str.strip().map(label2int)\n",
    "df['predictions'] = df.response.map(label2int)"
   ]
  },
  {
   "cell_type": "code",
   "execution_count": 53,
   "id": "347054b3",
   "metadata": {},
   "outputs": [
    {
     "data": {
      "application/vnd.jupyter.widget-view+json": {
       "model_id": "0845063b5afd401294781d0f2843e072",
       "version_major": 2,
       "version_minor": 0
      },
      "text/plain": [
       "  0%|          | 0/1000 [00:00<?, ?ex/s]"
      ]
     },
     "metadata": {},
     "output_type": "display_data"
    },
    {
     "data": {
      "text/plain": [
       "Dataset({\n",
       "    features: ['prompt', 'completion', 'response', 'references', 'predictions'],\n",
       "    num_rows: 1000\n",
       "})"
      ]
     },
     "execution_count": 53,
     "metadata": {},
     "output_type": "execute_result"
    }
   ],
   "source": [
    "def map_refs_and_preds(x):\n",
    "    return {\n",
    "        'references': label2int(x['completion'].strip()),\n",
    "        'predictions': label2int(x['response'])\n",
    "    }\n",
    "\n",
    "results = responses.map(map_refs_and_preds)\n",
    "results"
   ]
  },
  {
   "cell_type": "code",
   "execution_count": 54,
   "id": "5a4a02aa",
   "metadata": {},
   "outputs": [
    {
     "data": {
      "text/plain": [
       "{'f1': 0.5639837240986442}"
      ]
     },
     "execution_count": 54,
     "metadata": {},
     "output_type": "execute_result"
    }
   ],
   "source": [
    "f1_metric.compute(references=results['references'], predictions=results['predictions'], average='weighted')"
   ]
  },
  {
   "cell_type": "code",
   "execution_count": 56,
   "id": "99e457cc",
   "metadata": {},
   "outputs": [
    {
     "data": {
      "text/plain": [
       "{'accuracy': 0.566}"
      ]
     },
     "execution_count": 56,
     "metadata": {},
     "output_type": "execute_result"
    }
   ],
   "source": [
    "acc_metric.compute(references=results['references'], predictions=results['predictions'])"
   ]
  },
  {
   "cell_type": "code",
   "execution_count": null,
   "id": "2902b6d0",
   "metadata": {},
   "outputs": [],
   "source": []
  }
 ],
 "metadata": {
  "kernelspec": {
   "display_name": "Python 3 (ipykernel)",
   "language": "python",
   "name": "python3"
  },
  "language_info": {
   "codemirror_mode": {
    "name": "ipython",
    "version": 3
   },
   "file_extension": ".py",
   "mimetype": "text/x-python",
   "name": "python",
   "nbconvert_exporter": "python",
   "pygments_lexer": "ipython3",
   "version": "3.9.5"
  }
 },
 "nbformat": 4,
 "nbformat_minor": 5
}
