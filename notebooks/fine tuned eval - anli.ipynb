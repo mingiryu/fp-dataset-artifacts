{
 "cells": [
  {
   "cell_type": "code",
   "execution_count": 1,
   "id": "6dd31475",
   "metadata": {},
   "outputs": [
    {
     "name": "stderr",
     "output_type": "stream",
     "text": [
      "Reusing dataset anli (/home/x/.cache/huggingface/datasets/anli/plain_text/0.1.0/aabce88453b06dff21c201855ea83283bab0390bff746deadb30b65695755c0b)\n"
     ]
    },
    {
     "data": {
      "application/vnd.jupyter.widget-view+json": {
       "model_id": "259547c45b1c428db5bb5d4bbc2c0eb1",
       "version_major": 2,
       "version_minor": 0
      },
      "text/plain": [
       "  0%|          | 0/9 [00:00<?, ?it/s]"
      ]
     },
     "metadata": {},
     "output_type": "display_data"
    },
    {
     "data": {
      "text/plain": [
       "DatasetDict({\n",
       "    train_r1: Dataset({\n",
       "        features: ['uid', 'premise', 'hypothesis', 'label', 'reason'],\n",
       "        num_rows: 16946\n",
       "    })\n",
       "    dev_r1: Dataset({\n",
       "        features: ['uid', 'premise', 'hypothesis', 'label', 'reason'],\n",
       "        num_rows: 1000\n",
       "    })\n",
       "    test_r1: Dataset({\n",
       "        features: ['uid', 'premise', 'hypothesis', 'label', 'reason'],\n",
       "        num_rows: 1000\n",
       "    })\n",
       "    train_r2: Dataset({\n",
       "        features: ['uid', 'premise', 'hypothesis', 'label', 'reason'],\n",
       "        num_rows: 45460\n",
       "    })\n",
       "    dev_r2: Dataset({\n",
       "        features: ['uid', 'premise', 'hypothesis', 'label', 'reason'],\n",
       "        num_rows: 1000\n",
       "    })\n",
       "    test_r2: Dataset({\n",
       "        features: ['uid', 'premise', 'hypothesis', 'label', 'reason'],\n",
       "        num_rows: 1000\n",
       "    })\n",
       "    train_r3: Dataset({\n",
       "        features: ['uid', 'premise', 'hypothesis', 'label', 'reason'],\n",
       "        num_rows: 100459\n",
       "    })\n",
       "    dev_r3: Dataset({\n",
       "        features: ['uid', 'premise', 'hypothesis', 'label', 'reason'],\n",
       "        num_rows: 1200\n",
       "    })\n",
       "    test_r3: Dataset({\n",
       "        features: ['uid', 'premise', 'hypothesis', 'label', 'reason'],\n",
       "        num_rows: 1200\n",
       "    })\n",
       "})"
      ]
     },
     "execution_count": 1,
     "metadata": {},
     "output_type": "execute_result"
    }
   ],
   "source": [
    "import openai\n",
    "\n",
    "from fp_dataset_artifacts.utils import init_openai\n",
    "from fp_dataset_artifacts.anli import map_finetune, get_response\n",
    "from datasets import list_datasets, load_dataset, list_metrics, load_metric, concatenate_datasets\n",
    "\n",
    "init_openai()\n",
    "\n",
    "data = load_dataset('anli')\n",
    "data"
   ]
  },
  {
   "cell_type": "code",
   "execution_count": 2,
   "id": "56af6a2f",
   "metadata": {},
   "outputs": [
    {
     "name": "stderr",
     "output_type": "stream",
     "text": [
      "Loading cached processed dataset at /home/x/.cache/huggingface/datasets/anli/plain_text/0.1.0/aabce88453b06dff21c201855ea83283bab0390bff746deadb30b65695755c0b/cache-2b8a4bc9533ab61a.arrow\n"
     ]
    },
    {
     "data": {
      "text/plain": [
       "Dataset({\n",
       "    features: ['uid', 'premise', 'hypothesis', 'label', 'reason', 'prompt', 'completion'],\n",
       "    num_rows: 1000\n",
       "})"
      ]
     },
     "execution_count": 2,
     "metadata": {},
     "output_type": "execute_result"
    }
   ],
   "source": [
    "test_r1 = data['test_r1'].map(map_finetune)\n",
    "test_r1"
   ]
  },
  {
   "cell_type": "code",
   "execution_count": 3,
   "id": "0f7263cd",
   "metadata": {},
   "outputs": [],
   "source": [
    "model = 'curie:ft-user-5hzndcnnszukksvrzrlnjn8l-2021-12-05-03-26-14'\n",
    "\n",
    "def map_response(x):\n",
    "    try:\n",
    "        response = get_response(x['prompt'], model)\n",
    "        return {\n",
    "            'response': response['choices'][0]['text']\n",
    "        }\n",
    "    except e:\n",
    "        print(e)\n",
    "        return {\n",
    "            'response': None\n",
    "        }"
   ]
  },
  {
   "cell_type": "code",
   "execution_count": 4,
   "id": "14ba9ab0",
   "metadata": {},
   "outputs": [
    {
     "data": {
      "text/plain": [
       "{'response': 'Entailment'}"
      ]
     },
     "execution_count": 4,
     "metadata": {},
     "output_type": "execute_result"
    }
   ],
   "source": [
    "map_response(test_r1[0])"
   ]
  },
  {
   "cell_type": "code",
   "execution_count": 5,
   "id": "de2f641f",
   "metadata": {},
   "outputs": [
    {
     "data": {
      "text/plain": [
       "Dataset({\n",
       "    features: ['prompt', 'completion'],\n",
       "    num_rows: 1000\n",
       "})"
      ]
     },
     "execution_count": 5,
     "metadata": {},
     "output_type": "execute_result"
    }
   ],
   "source": [
    "test = test_r1 = test_r1.remove_columns(['uid', 'reason', 'premise', 'hypothesis', 'label'])\n",
    "test"
   ]
  },
  {
   "cell_type": "code",
   "execution_count": 6,
   "id": "eec2cf8b",
   "metadata": {},
   "outputs": [
    {
     "data": {
      "application/vnd.jupyter.widget-view+json": {
       "model_id": "6c0bf1a0db684b6c8277a4a63a57a92b",
       "version_major": 2,
       "version_minor": 0
      },
      "text/plain": [
       "  0%|          | 0/1000 [00:00<?, ?ex/s]"
      ]
     },
     "metadata": {},
     "output_type": "display_data"
    },
    {
     "data": {
      "text/plain": [
       "Dataset({\n",
       "    features: ['prompt', 'completion', 'response'],\n",
       "    num_rows: 1000\n",
       "})"
      ]
     },
     "execution_count": 6,
     "metadata": {},
     "output_type": "execute_result"
    }
   ],
   "source": [
    "test.map(map_response)"
   ]
  },
  {
   "cell_type": "code",
   "execution_count": 7,
   "id": "7d8b20f1",
   "metadata": {},
   "outputs": [
    {
     "data": {
      "application/vnd.jupyter.widget-view+json": {
       "model_id": "aa24c775b7d44e0282daf489cdaf2cc1",
       "version_major": 2,
       "version_minor": 0
      },
      "text/plain": [
       "Creating json from Arrow format:   0%|          | 0/1 [00:00<?, ?ba/s]"
      ]
     },
     "metadata": {},
     "output_type": "display_data"
    },
    {
     "data": {
      "text/plain": [
       "472963"
      ]
     },
     "execution_count": 7,
     "metadata": {},
     "output_type": "execute_result"
    }
   ],
   "source": [
    "test.to_json('../results/anli_responses.jsonl')"
   ]
  },
  {
   "cell_type": "code",
   "execution_count": 8,
   "id": "5ce4fd53",
   "metadata": {},
   "outputs": [
    {
     "data": {
      "text/html": [
       "<div>\n",
       "<style scoped>\n",
       "    .dataframe tbody tr th:only-of-type {\n",
       "        vertical-align: middle;\n",
       "    }\n",
       "\n",
       "    .dataframe tbody tr th {\n",
       "        vertical-align: top;\n",
       "    }\n",
       "\n",
       "    .dataframe thead th {\n",
       "        text-align: right;\n",
       "    }\n",
       "</style>\n",
       "<table border=\"1\" class=\"dataframe\">\n",
       "  <thead>\n",
       "    <tr style=\"text-align: right;\">\n",
       "      <th></th>\n",
       "      <th>prompt</th>\n",
       "      <th>completion</th>\n",
       "    </tr>\n",
       "  </thead>\n",
       "  <tbody>\n",
       "    <tr>\n",
       "      <th>0</th>\n",
       "      <td>Premise: Ernest Jones is a British jeweller an...</td>\n",
       "      <td>Entailment\\n</td>\n",
       "    </tr>\n",
       "    <tr>\n",
       "      <th>1</th>\n",
       "      <td>Premise: Old Trafford is a football stadium in...</td>\n",
       "      <td>Entailment\\n</td>\n",
       "    </tr>\n",
       "    <tr>\n",
       "      <th>2</th>\n",
       "      <td>Premise: Magnus is a Belgian joint dance proje...</td>\n",
       "      <td>Entailment\\n</td>\n",
       "    </tr>\n",
       "    <tr>\n",
       "      <th>3</th>\n",
       "      <td>Premise: Shadowboxer is a 2005 crime thriller ...</td>\n",
       "      <td>Neutral\\n</td>\n",
       "    </tr>\n",
       "    <tr>\n",
       "      <th>4</th>\n",
       "      <td>Premise: Takaaki Kajita (梶田 隆章 , Kajita Takaak...</td>\n",
       "      <td>Contradiction\\n</td>\n",
       "    </tr>\n",
       "    <tr>\n",
       "      <th>...</th>\n",
       "      <td>...</td>\n",
       "      <td>...</td>\n",
       "    </tr>\n",
       "    <tr>\n",
       "      <th>995</th>\n",
       "      <td>Premise: L'Histoire du soldat (The Soldier's T...</td>\n",
       "      <td>Entailment\\n</td>\n",
       "    </tr>\n",
       "    <tr>\n",
       "      <th>996</th>\n",
       "      <td>Premise: Gianluca Cologna (born 17 May 1990) i...</td>\n",
       "      <td>Neutral\\n</td>\n",
       "    </tr>\n",
       "    <tr>\n",
       "      <th>997</th>\n",
       "      <td>Premise: Fido Dido is a cartoon character crea...</td>\n",
       "      <td>Entailment\\n</td>\n",
       "    </tr>\n",
       "    <tr>\n",
       "      <th>998</th>\n",
       "      <td>Premise: Aspects of Andrew Lloyd Webber is the...</td>\n",
       "      <td>Neutral\\n</td>\n",
       "    </tr>\n",
       "    <tr>\n",
       "      <th>999</th>\n",
       "      <td>Premise: The Doctor is a 1991 drama film direc...</td>\n",
       "      <td>Contradiction\\n</td>\n",
       "    </tr>\n",
       "  </tbody>\n",
       "</table>\n",
       "<p>1000 rows × 2 columns</p>\n",
       "</div>"
      ],
      "text/plain": [
       "                                                prompt       completion\n",
       "0    Premise: Ernest Jones is a British jeweller an...     Entailment\\n\n",
       "1    Premise: Old Trafford is a football stadium in...     Entailment\\n\n",
       "2    Premise: Magnus is a Belgian joint dance proje...     Entailment\\n\n",
       "3    Premise: Shadowboxer is a 2005 crime thriller ...        Neutral\\n\n",
       "4    Premise: Takaaki Kajita (梶田 隆章 , Kajita Takaak...  Contradiction\\n\n",
       "..                                                 ...              ...\n",
       "995  Premise: L'Histoire du soldat (The Soldier's T...     Entailment\\n\n",
       "996  Premise: Gianluca Cologna (born 17 May 1990) i...        Neutral\\n\n",
       "997  Premise: Fido Dido is a cartoon character crea...     Entailment\\n\n",
       "998  Premise: Aspects of Andrew Lloyd Webber is the...        Neutral\\n\n",
       "999  Premise: The Doctor is a 1991 drama film direc...  Contradiction\\n\n",
       "\n",
       "[1000 rows x 2 columns]"
      ]
     },
     "execution_count": 8,
     "metadata": {},
     "output_type": "execute_result"
    }
   ],
   "source": [
    "test.to_pandas()"
   ]
  },
  {
   "cell_type": "code",
   "execution_count": 13,
   "id": "29bac0b6",
   "metadata": {},
   "outputs": [
    {
     "data": {
      "text/plain": [
       "Dataset({\n",
       "    features: ['prompt', 'completion', 'response'],\n",
       "    num_rows: 1000\n",
       "})"
      ]
     },
     "execution_count": 13,
     "metadata": {},
     "output_type": "execute_result"
    }
   ],
   "source": [
    "responses = vars()['_oh'][6]\n",
    "responses"
   ]
  },
  {
   "cell_type": "code",
   "execution_count": 15,
   "id": "4940784f",
   "metadata": {},
   "outputs": [
    {
     "data": {
      "application/vnd.jupyter.widget-view+json": {
       "model_id": "b0c29805dcb44355bd552e834f7fcfdc",
       "version_major": 2,
       "version_minor": 0
      },
      "text/plain": [
       "Creating json from Arrow format:   0%|          | 0/1 [00:00<?, ?ba/s]"
      ]
     },
     "metadata": {},
     "output_type": "display_data"
    },
    {
     "data": {
      "text/plain": [
       "496780"
      ]
     },
     "execution_count": 15,
     "metadata": {},
     "output_type": "execute_result"
    }
   ],
   "source": [
    "responses.to_json('../results/anli_responses.jsonl')"
   ]
  },
  {
   "cell_type": "code",
   "execution_count": 16,
   "id": "9165e4a5",
   "metadata": {},
   "outputs": [
    {
     "data": {
      "text/html": [
       "<div>\n",
       "<style scoped>\n",
       "    .dataframe tbody tr th:only-of-type {\n",
       "        vertical-align: middle;\n",
       "    }\n",
       "\n",
       "    .dataframe tbody tr th {\n",
       "        vertical-align: top;\n",
       "    }\n",
       "\n",
       "    .dataframe thead th {\n",
       "        text-align: right;\n",
       "    }\n",
       "</style>\n",
       "<table border=\"1\" class=\"dataframe\">\n",
       "  <thead>\n",
       "    <tr style=\"text-align: right;\">\n",
       "      <th></th>\n",
       "      <th>prompt</th>\n",
       "      <th>completion</th>\n",
       "      <th>response</th>\n",
       "    </tr>\n",
       "  </thead>\n",
       "  <tbody>\n",
       "    <tr>\n",
       "      <th>0</th>\n",
       "      <td>Premise: Ernest Jones is a British jeweller an...</td>\n",
       "      <td>Entailment\\n</td>\n",
       "      <td>Entailment</td>\n",
       "    </tr>\n",
       "    <tr>\n",
       "      <th>1</th>\n",
       "      <td>Premise: Old Trafford is a football stadium in...</td>\n",
       "      <td>Entailment\\n</td>\n",
       "      <td>Entailment</td>\n",
       "    </tr>\n",
       "    <tr>\n",
       "      <th>2</th>\n",
       "      <td>Premise: Magnus is a Belgian joint dance proje...</td>\n",
       "      <td>Entailment\\n</td>\n",
       "      <td>Entailment</td>\n",
       "    </tr>\n",
       "    <tr>\n",
       "      <th>3</th>\n",
       "      <td>Premise: Shadowboxer is a 2005 crime thriller ...</td>\n",
       "      <td>Neutral\\n</td>\n",
       "      <td>Entailment</td>\n",
       "    </tr>\n",
       "    <tr>\n",
       "      <th>4</th>\n",
       "      <td>Premise: Takaaki Kajita (梶田 隆章 , Kajita Takaak...</td>\n",
       "      <td>Contradiction\\n</td>\n",
       "      <td>Contradiction</td>\n",
       "    </tr>\n",
       "    <tr>\n",
       "      <th>...</th>\n",
       "      <td>...</td>\n",
       "      <td>...</td>\n",
       "      <td>...</td>\n",
       "    </tr>\n",
       "    <tr>\n",
       "      <th>995</th>\n",
       "      <td>Premise: L'Histoire du soldat (The Soldier's T...</td>\n",
       "      <td>Entailment\\n</td>\n",
       "      <td>Contradiction</td>\n",
       "    </tr>\n",
       "    <tr>\n",
       "      <th>996</th>\n",
       "      <td>Premise: Gianluca Cologna (born 17 May 1990) i...</td>\n",
       "      <td>Neutral\\n</td>\n",
       "      <td>Neutral</td>\n",
       "    </tr>\n",
       "    <tr>\n",
       "      <th>997</th>\n",
       "      <td>Premise: Fido Dido is a cartoon character crea...</td>\n",
       "      <td>Entailment\\n</td>\n",
       "      <td>Entailment</td>\n",
       "    </tr>\n",
       "    <tr>\n",
       "      <th>998</th>\n",
       "      <td>Premise: Aspects of Andrew Lloyd Webber is the...</td>\n",
       "      <td>Neutral\\n</td>\n",
       "      <td>Entailment</td>\n",
       "    </tr>\n",
       "    <tr>\n",
       "      <th>999</th>\n",
       "      <td>Premise: The Doctor is a 1991 drama film direc...</td>\n",
       "      <td>Contradiction\\n</td>\n",
       "      <td>Entailment</td>\n",
       "    </tr>\n",
       "  </tbody>\n",
       "</table>\n",
       "<p>1000 rows × 3 columns</p>\n",
       "</div>"
      ],
      "text/plain": [
       "                                                prompt       completion  \\\n",
       "0    Premise: Ernest Jones is a British jeweller an...     Entailment\\n   \n",
       "1    Premise: Old Trafford is a football stadium in...     Entailment\\n   \n",
       "2    Premise: Magnus is a Belgian joint dance proje...     Entailment\\n   \n",
       "3    Premise: Shadowboxer is a 2005 crime thriller ...        Neutral\\n   \n",
       "4    Premise: Takaaki Kajita (梶田 隆章 , Kajita Takaak...  Contradiction\\n   \n",
       "..                                                 ...              ...   \n",
       "995  Premise: L'Histoire du soldat (The Soldier's T...     Entailment\\n   \n",
       "996  Premise: Gianluca Cologna (born 17 May 1990) i...        Neutral\\n   \n",
       "997  Premise: Fido Dido is a cartoon character crea...     Entailment\\n   \n",
       "998  Premise: Aspects of Andrew Lloyd Webber is the...        Neutral\\n   \n",
       "999  Premise: The Doctor is a 1991 drama film direc...  Contradiction\\n   \n",
       "\n",
       "          response  \n",
       "0       Entailment  \n",
       "1       Entailment  \n",
       "2       Entailment  \n",
       "3       Entailment  \n",
       "4    Contradiction  \n",
       "..             ...  \n",
       "995  Contradiction  \n",
       "996        Neutral  \n",
       "997     Entailment  \n",
       "998     Entailment  \n",
       "999     Entailment  \n",
       "\n",
       "[1000 rows x 3 columns]"
      ]
     },
     "execution_count": 16,
     "metadata": {},
     "output_type": "execute_result"
    }
   ],
   "source": [
    "df = responses.to_pandas()\n",
    "df"
   ]
  },
  {
   "cell_type": "code",
   "execution_count": 22,
   "id": "5d964a64",
   "metadata": {},
   "outputs": [
    {
     "data": {
      "text/plain": [
       "0       True\n",
       "1       True\n",
       "2       True\n",
       "3      False\n",
       "4       True\n",
       "       ...  \n",
       "995    False\n",
       "996     True\n",
       "997     True\n",
       "998    False\n",
       "999    False\n",
       "Name: result, Length: 1000, dtype: bool"
      ]
     },
     "execution_count": 22,
     "metadata": {},
     "output_type": "execute_result"
    }
   ],
   "source": [
    "df['result'] = df.completion.str.strip() == df.response\n",
    "df['result']"
   ]
  },
  {
   "cell_type": "code",
   "execution_count": 23,
   "id": "2f29c473",
   "metadata": {},
   "outputs": [
    {
     "name": "stderr",
     "output_type": "stream",
     "text": [
      "/tmp/ipykernel_54449/3698961737.py:1: FutureWarning: Dropping of nuisance columns in DataFrame reductions (with 'numeric_only=None') is deprecated; in a future version this will raise TypeError.  Select only valid columns before calling the reduction.\n",
      "  df.mean()\n"
     ]
    },
    {
     "data": {
      "text/plain": [
       "result    0.566\n",
       "dtype: float64"
      ]
     },
     "execution_count": 23,
     "metadata": {},
     "output_type": "execute_result"
    }
   ],
   "source": [
    "df.mean()"
   ]
  },
  {
   "cell_type": "code",
   "execution_count": 25,
   "id": "af72f7ce",
   "metadata": {},
   "outputs": [],
   "source": [
    "from datasets import load_metric\n",
    "\n",
    "metric = load_metric('f1')"
   ]
  },
  {
   "cell_type": "code",
   "execution_count": 38,
   "id": "33ee1876",
   "metadata": {},
   "outputs": [],
   "source": [
    "def label2int(x):\n",
    "    return {\n",
    "        'Entailment': 0,\n",
    "        'Neutral': 1,\n",
    "        'Contradiction': 2\n",
    "    }[x]\n",
    "    \n",
    "df['references'] = df.completion.str.strip().map(label2int)\n",
    "df['predictions'] = df.response.map(label2int)"
   ]
  },
  {
   "cell_type": "code",
   "execution_count": 39,
   "id": "e89494bc",
   "metadata": {},
   "outputs": [
    {
     "data": {
      "text/html": [
       "<div>\n",
       "<style scoped>\n",
       "    .dataframe tbody tr th:only-of-type {\n",
       "        vertical-align: middle;\n",
       "    }\n",
       "\n",
       "    .dataframe tbody tr th {\n",
       "        vertical-align: top;\n",
       "    }\n",
       "\n",
       "    .dataframe thead th {\n",
       "        text-align: right;\n",
       "    }\n",
       "</style>\n",
       "<table border=\"1\" class=\"dataframe\">\n",
       "  <thead>\n",
       "    <tr style=\"text-align: right;\">\n",
       "      <th></th>\n",
       "      <th>prompt</th>\n",
       "      <th>completion</th>\n",
       "      <th>response</th>\n",
       "      <th>result</th>\n",
       "      <th>references</th>\n",
       "      <th>predictions</th>\n",
       "    </tr>\n",
       "  </thead>\n",
       "  <tbody>\n",
       "    <tr>\n",
       "      <th>0</th>\n",
       "      <td>Premise: Ernest Jones is a British jeweller an...</td>\n",
       "      <td>Entailment\\n</td>\n",
       "      <td>Entailment</td>\n",
       "      <td>True</td>\n",
       "      <td>0</td>\n",
       "      <td>0</td>\n",
       "    </tr>\n",
       "    <tr>\n",
       "      <th>1</th>\n",
       "      <td>Premise: Old Trafford is a football stadium in...</td>\n",
       "      <td>Entailment\\n</td>\n",
       "      <td>Entailment</td>\n",
       "      <td>True</td>\n",
       "      <td>0</td>\n",
       "      <td>0</td>\n",
       "    </tr>\n",
       "    <tr>\n",
       "      <th>2</th>\n",
       "      <td>Premise: Magnus is a Belgian joint dance proje...</td>\n",
       "      <td>Entailment\\n</td>\n",
       "      <td>Entailment</td>\n",
       "      <td>True</td>\n",
       "      <td>0</td>\n",
       "      <td>0</td>\n",
       "    </tr>\n",
       "    <tr>\n",
       "      <th>3</th>\n",
       "      <td>Premise: Shadowboxer is a 2005 crime thriller ...</td>\n",
       "      <td>Neutral\\n</td>\n",
       "      <td>Entailment</td>\n",
       "      <td>False</td>\n",
       "      <td>1</td>\n",
       "      <td>0</td>\n",
       "    </tr>\n",
       "    <tr>\n",
       "      <th>4</th>\n",
       "      <td>Premise: Takaaki Kajita (梶田 隆章 , Kajita Takaak...</td>\n",
       "      <td>Contradiction\\n</td>\n",
       "      <td>Contradiction</td>\n",
       "      <td>True</td>\n",
       "      <td>2</td>\n",
       "      <td>2</td>\n",
       "    </tr>\n",
       "    <tr>\n",
       "      <th>...</th>\n",
       "      <td>...</td>\n",
       "      <td>...</td>\n",
       "      <td>...</td>\n",
       "      <td>...</td>\n",
       "      <td>...</td>\n",
       "      <td>...</td>\n",
       "    </tr>\n",
       "    <tr>\n",
       "      <th>995</th>\n",
       "      <td>Premise: L'Histoire du soldat (The Soldier's T...</td>\n",
       "      <td>Entailment\\n</td>\n",
       "      <td>Contradiction</td>\n",
       "      <td>False</td>\n",
       "      <td>0</td>\n",
       "      <td>2</td>\n",
       "    </tr>\n",
       "    <tr>\n",
       "      <th>996</th>\n",
       "      <td>Premise: Gianluca Cologna (born 17 May 1990) i...</td>\n",
       "      <td>Neutral\\n</td>\n",
       "      <td>Neutral</td>\n",
       "      <td>True</td>\n",
       "      <td>1</td>\n",
       "      <td>1</td>\n",
       "    </tr>\n",
       "    <tr>\n",
       "      <th>997</th>\n",
       "      <td>Premise: Fido Dido is a cartoon character crea...</td>\n",
       "      <td>Entailment\\n</td>\n",
       "      <td>Entailment</td>\n",
       "      <td>True</td>\n",
       "      <td>0</td>\n",
       "      <td>0</td>\n",
       "    </tr>\n",
       "    <tr>\n",
       "      <th>998</th>\n",
       "      <td>Premise: Aspects of Andrew Lloyd Webber is the...</td>\n",
       "      <td>Neutral\\n</td>\n",
       "      <td>Entailment</td>\n",
       "      <td>False</td>\n",
       "      <td>1</td>\n",
       "      <td>0</td>\n",
       "    </tr>\n",
       "    <tr>\n",
       "      <th>999</th>\n",
       "      <td>Premise: The Doctor is a 1991 drama film direc...</td>\n",
       "      <td>Contradiction\\n</td>\n",
       "      <td>Entailment</td>\n",
       "      <td>False</td>\n",
       "      <td>2</td>\n",
       "      <td>0</td>\n",
       "    </tr>\n",
       "  </tbody>\n",
       "</table>\n",
       "<p>1000 rows × 6 columns</p>\n",
       "</div>"
      ],
      "text/plain": [
       "                                                prompt       completion  \\\n",
       "0    Premise: Ernest Jones is a British jeweller an...     Entailment\\n   \n",
       "1    Premise: Old Trafford is a football stadium in...     Entailment\\n   \n",
       "2    Premise: Magnus is a Belgian joint dance proje...     Entailment\\n   \n",
       "3    Premise: Shadowboxer is a 2005 crime thriller ...        Neutral\\n   \n",
       "4    Premise: Takaaki Kajita (梶田 隆章 , Kajita Takaak...  Contradiction\\n   \n",
       "..                                                 ...              ...   \n",
       "995  Premise: L'Histoire du soldat (The Soldier's T...     Entailment\\n   \n",
       "996  Premise: Gianluca Cologna (born 17 May 1990) i...        Neutral\\n   \n",
       "997  Premise: Fido Dido is a cartoon character crea...     Entailment\\n   \n",
       "998  Premise: Aspects of Andrew Lloyd Webber is the...        Neutral\\n   \n",
       "999  Premise: The Doctor is a 1991 drama film direc...  Contradiction\\n   \n",
       "\n",
       "          response  result  references  predictions  \n",
       "0       Entailment    True           0            0  \n",
       "1       Entailment    True           0            0  \n",
       "2       Entailment    True           0            0  \n",
       "3       Entailment   False           1            0  \n",
       "4    Contradiction    True           2            2  \n",
       "..             ...     ...         ...          ...  \n",
       "995  Contradiction   False           0            2  \n",
       "996        Neutral    True           1            1  \n",
       "997     Entailment    True           0            0  \n",
       "998     Entailment   False           1            0  \n",
       "999     Entailment   False           2            0  \n",
       "\n",
       "[1000 rows x 6 columns]"
      ]
     },
     "execution_count": 39,
     "metadata": {},
     "output_type": "execute_result"
    }
   ],
   "source": [
    "df"
   ]
  },
  {
   "cell_type": "code",
   "execution_count": 42,
   "id": "39e47945",
   "metadata": {},
   "outputs": [
    {
     "data": {
      "text/plain": [
       "{'f1': 0.5639837240986442}"
      ]
     },
     "execution_count": 42,
     "metadata": {},
     "output_type": "execute_result"
    }
   ],
   "source": [
    "metric.compute(references=list(df['references']), predictions=list(df['predictions']), average='weighted')"
   ]
  },
  {
   "cell_type": "code",
   "execution_count": null,
   "id": "929a31ba",
   "metadata": {},
   "outputs": [],
   "source": []
  }
 ],
 "metadata": {
  "kernelspec": {
   "display_name": "Python 3 (ipykernel)",
   "language": "python",
   "name": "python3"
  },
  "language_info": {
   "codemirror_mode": {
    "name": "ipython",
    "version": 3
   },
   "file_extension": ".py",
   "mimetype": "text/x-python",
   "name": "python",
   "nbconvert_exporter": "python",
   "pygments_lexer": "ipython3",
   "version": "3.9.5"
  }
 },
 "nbformat": 4,
 "nbformat_minor": 5
}
