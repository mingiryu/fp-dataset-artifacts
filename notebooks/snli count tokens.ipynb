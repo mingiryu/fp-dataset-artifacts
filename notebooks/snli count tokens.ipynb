{
 "cells": [
  {
   "cell_type": "code",
   "execution_count": 17,
   "id": "b37afd00",
   "metadata": {},
   "outputs": [
    {
     "name": "stderr",
     "output_type": "stream",
     "text": [
      "Reusing dataset snli (/home/x/.cache/huggingface/datasets/snli/plain_text/1.0.0/1f60b67533b65ae0275561ff7828aad5ee4282d0e6f844fd148d05d3c6ea251b)\n"
     ]
    },
    {
     "data": {
      "application/vnd.jupyter.widget-view+json": {
       "model_id": "03165edb2dcf432cba7612761749b930",
       "version_major": 2,
       "version_minor": 0
      },
      "text/plain": [
       "  0%|          | 0/3 [00:00<?, ?it/s]"
      ]
     },
     "metadata": {},
     "output_type": "display_data"
    },
    {
     "data": {
      "text/plain": [
       "DatasetDict({\n",
       "    test: Dataset({\n",
       "        features: ['premise', 'hypothesis', 'label'],\n",
       "        num_rows: 10000\n",
       "    })\n",
       "    train: Dataset({\n",
       "        features: ['premise', 'hypothesis', 'label'],\n",
       "        num_rows: 550152\n",
       "    })\n",
       "    validation: Dataset({\n",
       "        features: ['premise', 'hypothesis', 'label'],\n",
       "        num_rows: 10000\n",
       "    })\n",
       "})"
      ]
     },
     "execution_count": 17,
     "metadata": {},
     "output_type": "execute_result"
    }
   ],
   "source": [
    "import openai\n",
    "\n",
    "from fp_dataset_artifacts.utils import init_openai\n",
    "from datasets import list_datasets, load_dataset, list_metrics, load_metric\n",
    "\n",
    "init_openai()\n",
    "\n",
    "data = load_dataset('snli')\n",
    "data"
   ]
  },
  {
   "cell_type": "code",
   "execution_count": 34,
   "id": "3142f1f3",
   "metadata": {},
   "outputs": [
    {
     "name": "stderr",
     "output_type": "stream",
     "text": [
      "Using custom data configuration default-11d967eca02b7246\n"
     ]
    },
    {
     "name": "stdout",
     "output_type": "stream",
     "text": [
      "Downloading and preparing dataset json/default to /home/x/.cache/huggingface/datasets/json/default-11d967eca02b7246/0.0.0/c2d554c3377ea79c7664b93dc65d0803b45e3279000f993c7bfd18937fd7f426...\n"
     ]
    },
    {
     "data": {
      "application/vnd.jupyter.widget-view+json": {
       "model_id": "5ea0c477878a4f9692956ba9dc5150a7",
       "version_major": 2,
       "version_minor": 0
      },
      "text/plain": [
       "  0%|          | 0/1 [00:00<?, ?it/s]"
      ]
     },
     "metadata": {},
     "output_type": "display_data"
    },
    {
     "data": {
      "application/vnd.jupyter.widget-view+json": {
       "model_id": "827a53b3667c49f6b2c6ecd2b06eb8e1",
       "version_major": 2,
       "version_minor": 0
      },
      "text/plain": [
       "  0%|          | 0/1 [00:00<?, ?it/s]"
      ]
     },
     "metadata": {},
     "output_type": "display_data"
    },
    {
     "name": "stdout",
     "output_type": "stream",
     "text": [
      "Dataset json downloaded and prepared to /home/x/.cache/huggingface/datasets/json/default-11d967eca02b7246/0.0.0/c2d554c3377ea79c7664b93dc65d0803b45e3279000f993c7bfd18937fd7f426. Subsequent calls will reuse this data.\n"
     ]
    },
    {
     "data": {
      "application/vnd.jupyter.widget-view+json": {
       "model_id": "8fda8f23efd140ceb579eead693e506c",
       "version_major": 2,
       "version_minor": 0
      },
      "text/plain": [
       "  0%|          | 0/1 [00:00<?, ?it/s]"
      ]
     },
     "metadata": {},
     "output_type": "display_data"
    },
    {
     "data": {
      "text/plain": [
       "DatasetDict({\n",
       "    train: Dataset({\n",
       "        features: ['prompt', 'completion'],\n",
       "        num_rows: 549367\n",
       "    })\n",
       "})"
      ]
     },
     "execution_count": 34,
     "metadata": {},
     "output_type": "execute_result"
    }
   ],
   "source": [
    "data = load_dataset('json', data_files='snli_finetune_train.jsonl')\n",
    "data"
   ]
  },
  {
   "cell_type": "code",
   "execution_count": 22,
   "id": "38d50028",
   "metadata": {},
   "outputs": [],
   "source": [
    "def count_tokens(x):\n",
    "    return {'tokens': len(x['prompt'].split())}"
   ]
  },
  {
   "cell_type": "code",
   "execution_count": 35,
   "id": "b81fffc0",
   "metadata": {},
   "outputs": [
    {
     "data": {
      "application/vnd.jupyter.widget-view+json": {
       "model_id": "64ab1d178caa45f38814eb7d95609626",
       "version_major": 2,
       "version_minor": 0
      },
      "text/plain": [
       "  0%|          | 0/549367 [00:00<?, ?ex/s]"
      ]
     },
     "metadata": {},
     "output_type": "display_data"
    }
   ],
   "source": [
    "data = data.map(count_tokens)"
   ]
  },
  {
   "cell_type": "code",
   "execution_count": 36,
   "id": "aad0acab",
   "metadata": {},
   "outputs": [],
   "source": [
    "total = 0\n",
    "for x in data['train']:\n",
    "    total += x['tokens']"
   ]
  },
  {
   "cell_type": "code",
   "execution_count": 33,
   "id": "1b4a93c8",
   "metadata": {},
   "outputs": [
    {
     "data": {
      "text/plain": [
       "1275591"
      ]
     },
     "execution_count": 33,
     "metadata": {},
     "output_type": "execute_result"
    }
   ],
   "source": [
    "total"
   ]
  },
  {
   "cell_type": "code",
   "execution_count": 37,
   "id": "b606e288",
   "metadata": {},
   "outputs": [
    {
     "data": {
      "text/plain": [
       "12781091"
      ]
     },
     "execution_count": 37,
     "metadata": {},
     "output_type": "execute_result"
    }
   ],
   "source": [
    "total"
   ]
  },
  {
   "cell_type": "code",
   "execution_count": 38,
   "id": "7048031b",
   "metadata": {},
   "outputs": [
    {
     "data": {
      "text/plain": [
       "460"
      ]
     },
     "execution_count": 38,
     "metadata": {},
     "output_type": "execute_result"
    }
   ],
   "source": [
    "text = \"\"\"\n",
    "This is a natural language inference (NLI) classifier\n",
    "Premise: A little boy wearing a red wristband grins as he holds something.\n",
    "Hypothesis: little boy wearing red wristband grins as he holds a toy\n",
    "Label: Neutral\n",
    "###\n",
    "Premise: A group of people at a rodeo watching a cowboy being thrown from a white horse.\n",
    "Hypothesis: The horse is black\n",
    "Label: Contradiction\n",
    "###\n",
    "Premise: Old lady sitting in a room full of flowers.\n",
    "Hypothesis: The old person has a lot of flowers.\n",
    "Label: Entailment\n",
    "###\n",
    "Premise: Various people mill about a park, one man in black shorts and a yellow shirt sticking a thumb out and looking at some of the others while a woman walks on with her hands on her hips.\n",
    "Hypothesis: a man is wearing colors of a bee\n",
    "Label: Entailment\n",
    "###\n",
    "Premise: A man and a woman are playing violins outside in front of a window.\n",
    "Hypothesis: A man and a woman are playing instruments outside in front of a window.\n",
    "Label: Entailment\n",
    "###\n",
    "NLI premise\n",
    "\n",
    "\n",
    "\n",
    "1. \"A little boy wearing a red wristband grins as he holds something.\"\n",
    "2. \"A group of people at a rodeo watching a cowboy being thrown from a white horse.\"\n",
    "3. \"Old lady sitting in a room full of flowers.\"\n",
    "4. \"Various people mill about a park, one man in black shorts and a yellow shirt sticking a thumb out and looking at some of the others while a woman walks on with her hands on her hips.\"\n",
    "5. \"A man and a woman are playing violins outside in front of a window.\"\n",
    "\n",
    "\n",
    "\n",
    "NLI hypothese\n",
    "\n",
    "\n",
    "\n",
    "1. \"little boy wearing red wristband grins as he holds a toy\"\n",
    "2. \"The horse is black\"\n",
    "3. \"The old person has a lot of flowers.\"\n",
    "4. \"a man is wearing colors of a bee\"\n",
    "5. \"A man and a woman are playing instruments outside in front of a window.\"\n",
    "\n",
    "\n",
    "\n",
    "NLI labels\n",
    "1: Neutral\n",
    "2: Contradiction\n",
    "3: Entailment\n",
    "4: Entailment\n",
    "5: Entailment\n",
    "\n",
    "\n",
    "\n",
    "###\n",
    "NLI premise\n",
    "\n",
    "\n",
    "\n",
    "1. \"An empty chair at an upscale restaurant.\"\n",
    "2. \"A boy is jumping on yellow spots that are painted on the floor of a water fountain.\"\n",
    "3. \"A female kicking a soccer ball while in front of a soccer goal.\"\n",
    "4. \"A black-haired woman in a white skirt and black boots is carrying a red bag and walking down the street.\"\n",
    "5. \"Pedestrians stop to watch a man create a mural on a wall at the side of a street.\"\n",
    "\n",
    "\n",
    "\n",
    "NLI hypothese\n",
    "\n",
    "\n",
    "\n",
    "1. \"All of the chairs have people sitting in them.\"\n",
    "2. \"Boy getting sprayed by water in the fountain.\"\n",
    "3. \"The woman is taking a nap.\"\n",
    "4. \"A woman walks on the way to her job interview.\"\n",
    "5. \"people are watching a man create a clay sculpture.\"\n",
    "\n",
    "\n",
    "NLI labels:\n",
    "1.\"\"\"\n",
    "len(text.split())"
   ]
  },
  {
   "cell_type": "code",
   "execution_count": null,
   "id": "adaf36f3",
   "metadata": {},
   "outputs": [],
   "source": []
  }
 ],
 "metadata": {
  "kernelspec": {
   "display_name": "Python 3 (ipykernel)",
   "language": "python",
   "name": "python3"
  },
  "language_info": {
   "codemirror_mode": {
    "name": "ipython",
    "version": 3
   },
   "file_extension": ".py",
   "mimetype": "text/x-python",
   "name": "python",
   "nbconvert_exporter": "python",
   "pygments_lexer": "ipython3",
   "version": "3.9.5"
  }
 },
 "nbformat": 4,
 "nbformat_minor": 5
}
