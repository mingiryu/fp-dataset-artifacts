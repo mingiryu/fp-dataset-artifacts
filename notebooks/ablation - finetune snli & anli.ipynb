{
 "cells": [
  {
   "cell_type": "code",
   "execution_count": 114,
   "id": "54eb4db2",
   "metadata": {},
   "outputs": [
    {
     "name": "stderr",
     "output_type": "stream",
     "text": [
      "Reusing dataset snli (/home/x/.cache/huggingface/datasets/snli/plain_text/1.0.0/1f60b67533b65ae0275561ff7828aad5ee4282d0e6f844fd148d05d3c6ea251b)\n",
      "Reusing dataset anli (/home/x/.cache/huggingface/datasets/anli/plain_text/0.1.0/aabce88453b06dff21c201855ea83283bab0390bff746deadb30b65695755c0b)\n"
     ]
    }
   ],
   "source": [
    "import openai\n",
    "\n",
    "from fp_dataset_artifacts.utils import init_openai, get_finetune_response\n",
    "from fp_dataset_artifacts.snli import map_refs_and_preds\n",
    "from fp_dataset_artifacts.anli import map_finetune, get_response\n",
    "from datasets import (\n",
    "    list_datasets, load_dataset, list_metrics, load_metric, concatenate_datasets\n",
    ")\n",
    "\n",
    "init_openai()\n",
    "\n",
    "snli = load_dataset('snli')\n",
    "anli = load_dataset('anli')"
   ]
  },
  {
   "cell_type": "code",
   "execution_count": 70,
   "id": "9a9194a9",
   "metadata": {},
   "outputs": [
    {
     "data": {
      "text/plain": [
       "41946"
      ]
     },
     "execution_count": 70,
     "metadata": {},
     "output_type": "execute_result"
    }
   ],
   "source": [
    "# Prepare two seperate training set for fine-tuning\n",
    "# One for training with only snli\n",
    "# Another with training with snli and anli round 1\n",
    "# We make sure that the trainging set size is equal\n",
    "snli_training_size = 25000\n",
    "anli_training_size = anli['train_r1'].num_rows\n",
    "total_training_size = snli_training_size + anli_training_size\n",
    "total_training_size"
   ]
  },
  {
   "cell_type": "code",
   "execution_count": 71,
   "id": "f11d7889",
   "metadata": {},
   "outputs": [
    {
     "name": "stderr",
     "output_type": "stream",
     "text": [
      "Loading cached shuffled indices for dataset at /home/x/.cache/huggingface/datasets/snli/plain_text/1.0.0/1f60b67533b65ae0275561ff7828aad5ee4282d0e6f844fd148d05d3c6ea251b/cache-0e9d0b15c43a175e.arrow\n"
     ]
    },
    {
     "data": {
      "application/vnd.jupyter.widget-view+json": {
       "model_id": "c119c1c221c7423d95f265d6603cb2ad",
       "version_major": 2,
       "version_minor": 0
      },
      "text/plain": [
       "HBox(children=(FloatProgress(value=0.0, max=41946.0), HTML(value='')))"
      ]
     },
     "metadata": {},
     "output_type": "display_data"
    },
    {
     "name": "stdout",
     "output_type": "stream",
     "text": [
      "\n"
     ]
    },
    {
     "data": {
      "application/vnd.jupyter.widget-view+json": {
       "model_id": "fd941cc6f7a640e38cac40856dd8a176",
       "version_major": 2,
       "version_minor": 0
      },
      "text/plain": [
       "HBox(children=(FloatProgress(value=0.0, max=41946.0), HTML(value='')))"
      ]
     },
     "metadata": {},
     "output_type": "display_data"
    },
    {
     "name": "stdout",
     "output_type": "stream",
     "text": [
      "\n"
     ]
    },
    {
     "data": {
      "text/plain": [
       "Dataset({\n",
       "    features: ['prompt', 'completion'],\n",
       "    num_rows: 41946\n",
       "})"
      ]
     },
     "execution_count": 71,
     "metadata": {},
     "output_type": "execute_result"
    }
   ],
   "source": [
    "snli_only = snli['train'].shuffle(0).select(list(range(total_training_size)))\n",
    "snli_only = snli_only.map(map_finetune)\n",
    "snli_only = snli_only.remove_columns(['premise', 'hypothesis', 'label'])\n",
    "snli_only"
   ]
  },
  {
   "cell_type": "code",
   "execution_count": 72,
   "id": "7049ba07",
   "metadata": {},
   "outputs": [
    {
     "name": "stderr",
     "output_type": "stream",
     "text": [
      "Loading cached processed dataset at /home/x/.cache/huggingface/datasets/anli/plain_text/0.1.0/aabce88453b06dff21c201855ea83283bab0390bff746deadb30b65695755c0b/cache-d198be314a77b6f4.arrow\n"
     ]
    },
    {
     "data": {
      "text/plain": [
       "Dataset({\n",
       "    features: ['prompt', 'completion'],\n",
       "    num_rows: 16946\n",
       "})"
      ]
     },
     "execution_count": 72,
     "metadata": {},
     "output_type": "execute_result"
    }
   ],
   "source": [
    "anli_only = anli['train_r1'].map(map_finetune)\n",
    "anli_only = anli_only.remove_columns(['uid', 'reason', 'premise', 'hypothesis', 'label'])\n",
    "anli_only"
   ]
  },
  {
   "cell_type": "code",
   "execution_count": 73,
   "id": "97603877",
   "metadata": {},
   "outputs": [
    {
     "data": {
      "text/plain": [
       "Dataset({\n",
       "    features: ['prompt', 'completion'],\n",
       "    num_rows: 41946\n",
       "})"
      ]
     },
     "execution_count": 73,
     "metadata": {},
     "output_type": "execute_result"
    }
   ],
   "source": [
    "snli_plus_anli = concatenate_datasets([\n",
    "    snli_only.select(list(range(snli_training_size))),\n",
    "    anli_only\n",
    "]).shuffle(0)\n",
    "snli_plus_anli"
   ]
  },
  {
   "cell_type": "code",
   "execution_count": 74,
   "id": "989a15fb",
   "metadata": {},
   "outputs": [
    {
     "name": "stderr",
     "output_type": "stream",
     "text": [
      "Loading cached shuffled indices for dataset at /home/x/.cache/huggingface/datasets/snli/plain_text/1.0.0/1f60b67533b65ae0275561ff7828aad5ee4282d0e6f844fd148d05d3c6ea251b/cache-70baa31142a3b54f.arrow\n",
      "Loading cached processed dataset at /home/x/.cache/huggingface/datasets/snli/plain_text/1.0.0/1f60b67533b65ae0275561ff7828aad5ee4282d0e6f844fd148d05d3c6ea251b/cache-7d2d35d5f4813980.arrow\n"
     ]
    },
    {
     "data": {
      "text/plain": [
       "Dataset({\n",
       "    features: ['prompt', 'completion'],\n",
       "    num_rows: 10000\n",
       "})"
      ]
     },
     "execution_count": 74,
     "metadata": {},
     "output_type": "execute_result"
    }
   ],
   "source": [
    "# Same setup for the validation\n",
    "total_valid_size = snli['validation'].num_rows\n",
    "anli_valid_size = anli['dev_r1'].num_rows\n",
    "snli_valid_size = total_valid_size - anli_valid_size\n",
    "\n",
    "snli_valid = snli['validation'].shuffle(0).select(list(range(total_valid_size)))\n",
    "snli_valid = snli_valid.map(map_finetune).remove_columns(['premise', 'hypothesis', 'label'])\n",
    "snli_valid"
   ]
  },
  {
   "cell_type": "code",
   "execution_count": 75,
   "id": "d7dbfef4",
   "metadata": {},
   "outputs": [
    {
     "name": "stderr",
     "output_type": "stream",
     "text": [
      "Loading cached processed dataset at /home/x/.cache/huggingface/datasets/anli/plain_text/0.1.0/aabce88453b06dff21c201855ea83283bab0390bff746deadb30b65695755c0b/cache-5e201f1ee0e85880.arrow\n"
     ]
    },
    {
     "data": {
      "text/plain": [
       "Dataset({\n",
       "    features: ['prompt', 'completion'],\n",
       "    num_rows: 1000\n",
       "})"
      ]
     },
     "execution_count": 75,
     "metadata": {},
     "output_type": "execute_result"
    }
   ],
   "source": [
    "anli_valid = anli['dev_r1']\n",
    "anli_valid = anli_valid.map(map_finetune).remove_columns(['uid', 'reason', 'premise', 'hypothesis', 'label'])\n",
    "anli_valid"
   ]
  },
  {
   "cell_type": "code",
   "execution_count": 76,
   "id": "eb55c382",
   "metadata": {},
   "outputs": [
    {
     "name": "stderr",
     "output_type": "stream",
     "text": [
      "Loading cached shuffled indices for dataset at /home/x/.cache/huggingface/datasets/snli/plain_text/1.0.0/1f60b67533b65ae0275561ff7828aad5ee4282d0e6f844fd148d05d3c6ea251b/cache-be13fafa07810d17.arrow\n"
     ]
    },
    {
     "data": {
      "text/plain": [
       "Dataset({\n",
       "    features: ['prompt', 'completion'],\n",
       "    num_rows: 10000\n",
       "})"
      ]
     },
     "execution_count": 76,
     "metadata": {},
     "output_type": "execute_result"
    }
   ],
   "source": [
    "snli_plus_anli_valid = concatenate_datasets([\n",
    "    snli_valid.select(list(range(snli_valid_size))),\n",
    "    anli_valid\n",
    "]).shuffle(0)\n",
    "snli_plus_anli_valid"
   ]
  },
  {
   "cell_type": "code",
   "execution_count": 77,
   "id": "9157165d",
   "metadata": {},
   "outputs": [],
   "source": [
    "def upload(dataset, filename, purpose='fine-tune'):\n",
    "    dataset.to_json(filename)\n",
    "    response = openai.File.create(\n",
    "        file=open(filename), purpose=purpose\n",
    "    )\n",
    "    file_id = response['id']\n",
    "    return file_id"
   ]
  },
  {
   "cell_type": "code",
   "execution_count": 78,
   "id": "1e9fcfe2",
   "metadata": {},
   "outputs": [
    {
     "data": {
      "application/vnd.jupyter.widget-view+json": {
       "model_id": "bd65ff52fa1845d2b3530adfd41472f1",
       "version_major": 2,
       "version_minor": 0
      },
      "text/plain": [
       "HBox(children=(FloatProgress(value=0.0, max=5.0), HTML(value='')))"
      ]
     },
     "metadata": {},
     "output_type": "display_data"
    },
    {
     "name": "stdout",
     "output_type": "stream",
     "text": [
      "\n"
     ]
    },
    {
     "data": {
      "application/vnd.jupyter.widget-view+json": {
       "model_id": "93b6104fbffa407e97ea4aec4b2d52e2",
       "version_major": 2,
       "version_minor": 0
      },
      "text/plain": [
       "HBox(children=(FloatProgress(value=0.0, max=5.0), HTML(value='')))"
      ]
     },
     "metadata": {},
     "output_type": "display_data"
    },
    {
     "name": "stdout",
     "output_type": "stream",
     "text": [
      "\n"
     ]
    }
   ],
   "source": [
    "# Save and upload all files\n",
    "snli_train_id = upload(snli_only, 'ablation_snli_train.jsonl')\n",
    "# snli_valid_id = upload(snli_valid, 'ablation_snli_valid.jsonl')\n",
    "anli_train_id = upload(snli_plus_anli, 'ablation_anli_train.jsonl')\n",
    "# anli_valid_id = upload(snli_plus_anli_valid, 'ablation_anli_valid.jsonl')"
   ]
  },
  {
   "cell_type": "code",
   "execution_count": 79,
   "id": "29d07853",
   "metadata": {},
   "outputs": [
    {
     "name": "stdout",
     "output_type": "stream",
     "text": [
      "file-SbdP5nU4beGEMZCH9P56MPjH\n",
      "file-1syChFe6i616f70H3MfnArBf\n",
      "file-a7ryGWMmgQwczg959jdTDsJw\n",
      "file-v5uBw86uR9XhsKeaKCLkTwKq\n"
     ]
    }
   ],
   "source": [
    "print(snli_train_id, snli_valid_id, anli_train_id, anli_valid_id, sep='\\n')"
   ]
  },
  {
   "cell_type": "code",
   "execution_count": 80,
   "id": "b688c6dd",
   "metadata": {},
   "outputs": [],
   "source": [
    "def finetune(\n",
    "    train_file_id,\n",
    "    valid_file_id,\n",
    "    model='curie',\n",
    "    n_epochs=4,\n",
    "    compute_classification_metrics=True,\n",
    "    classification_n_classes=3,\n",
    "):\n",
    "    # Initialize OpenAI API with API_KEY\n",
    "    init_openai()\n",
    "\n",
    "    # Create fine-tune\n",
    "    finetune_resp = openai.FineTune.create(\n",
    "        training_file=train_file_id,\n",
    "        validation_file=valid_file_id,\n",
    "        model=model,\n",
    "        n_epochs=n_epochs,\n",
    "        compute_classification_metrics=compute_classification_metrics,\n",
    "        classification_n_classes=classification_n_classes,\n",
    "    )\n",
    "\n",
    "    # Get the fine-tune ID\n",
    "    finetune_id = finetune_resp['id']\n",
    "\n",
    "    return finetune_id"
   ]
  },
  {
   "cell_type": "code",
   "execution_count": 84,
   "id": "c8dc3614",
   "metadata": {},
   "outputs": [
    {
     "data": {
      "text/plain": [
       "'ft-a0nNphtyncMOu5XmSLlUkvDz'"
      ]
     },
     "execution_count": 84,
     "metadata": {},
     "output_type": "execute_result"
    }
   ],
   "source": [
    "# Fine tuning 1: snli only with more snli data instead of anli\n",
    "snli_finetune_id = finetune(snli_train_id, snli_valid_id)\n",
    "snli_finetune_id"
   ]
  },
  {
   "cell_type": "code",
   "execution_count": 81,
   "id": "fb3f3709",
   "metadata": {},
   "outputs": [
    {
     "data": {
      "text/plain": [
       "'ft-rDeH2hvXBGo0ZlmsxEKbvkP4'"
      ]
     },
     "execution_count": 81,
     "metadata": {},
     "output_type": "execute_result"
    }
   ],
   "source": [
    "# Fine tuning 2: snli with anli in addition\n",
    "anli_finetune_id = finetune(anli_train_id, anli_valid_id)\n",
    "anli_finetune_id"
   ]
  },
  {
   "cell_type": "code",
   "execution_count": 101,
   "id": "6f3cebb0",
   "metadata": {
    "scrolled": false
   },
   "outputs": [
    {
     "data": {
      "text/plain": [
       "<FineTune fine-tune id=ft-a0nNphtyncMOu5XmSLlUkvDz at 0x7f6914249360> JSON: {\n",
       "  \"created_at\": 1638837445,\n",
       "  \"events\": [\n",
       "    {\n",
       "      \"created_at\": 1638837445,\n",
       "      \"level\": \"info\",\n",
       "      \"message\": \"Created fine-tune: ft-a0nNphtyncMOu5XmSLlUkvDz\",\n",
       "      \"object\": \"fine-tune-event\"\n",
       "    },\n",
       "    {\n",
       "      \"created_at\": 1638843358,\n",
       "      \"level\": \"info\",\n",
       "      \"message\": \"Fine-tune enqueued. Queue number: 0\",\n",
       "      \"object\": \"fine-tune-event\"\n",
       "    },\n",
       "    {\n",
       "      \"created_at\": 1638843365,\n",
       "      \"level\": \"info\",\n",
       "      \"message\": \"Fine-tune started\",\n",
       "      \"object\": \"fine-tune-event\"\n",
       "    },\n",
       "    {\n",
       "      \"created_at\": 1638843811,\n",
       "      \"level\": \"info\",\n",
       "      \"message\": \"Completed epoch 1/4\",\n",
       "      \"object\": \"fine-tune-event\"\n",
       "    },\n",
       "    {\n",
       "      \"created_at\": 1638844462,\n",
       "      \"level\": \"info\",\n",
       "      \"message\": \"Completed epoch 2/4\",\n",
       "      \"object\": \"fine-tune-event\"\n",
       "    },\n",
       "    {\n",
       "      \"created_at\": 1638845102,\n",
       "      \"level\": \"info\",\n",
       "      \"message\": \"Completed epoch 3/4\",\n",
       "      \"object\": \"fine-tune-event\"\n",
       "    },\n",
       "    {\n",
       "      \"created_at\": 1638845742,\n",
       "      \"level\": \"info\",\n",
       "      \"message\": \"Completed epoch 4/4\",\n",
       "      \"object\": \"fine-tune-event\"\n",
       "    },\n",
       "    {\n",
       "      \"created_at\": 1638846158,\n",
       "      \"level\": \"info\",\n",
       "      \"message\": \"Uploaded model: curie:ft-user-5hzndcnnszukksvrzrlnjn8l-2021-12-07-03-02-36\",\n",
       "      \"object\": \"fine-tune-event\"\n",
       "    },\n",
       "    {\n",
       "      \"created_at\": 1638846162,\n",
       "      \"level\": \"info\",\n",
       "      \"message\": \"Uploaded result file: file-xCIoJMXr89SuZRVvTcI1yDbg\",\n",
       "      \"object\": \"fine-tune-event\"\n",
       "    },\n",
       "    {\n",
       "      \"created_at\": 1638846162,\n",
       "      \"level\": \"info\",\n",
       "      \"message\": \"Fine-tune succeeded\",\n",
       "      \"object\": \"fine-tune-event\"\n",
       "    }\n",
       "  ],\n",
       "  \"fine_tuned_model\": \"curie:ft-user-5hzndcnnszukksvrzrlnjn8l-2021-12-07-03-02-36\",\n",
       "  \"hyperparams\": {\n",
       "    \"batch_size\": 1,\n",
       "    \"classification_n_classes\": 3,\n",
       "    \"compute_classification_metrics\": true,\n",
       "    \"learning_rate_multiplier\": 0.2,\n",
       "    \"n_epochs\": 4,\n",
       "    \"prompt_loss_weight\": 0.1,\n",
       "    \"use_packing\": true\n",
       "  },\n",
       "  \"id\": \"ft-a0nNphtyncMOu5XmSLlUkvDz\",\n",
       "  \"model\": \"curie\",\n",
       "  \"object\": \"fine-tune\",\n",
       "  \"organization_id\": \"org-5AE307Eg4rc5EAoEA2S2bwkH\",\n",
       "  \"result_files\": [\n",
       "    {\n",
       "      \"bytes\": 208461,\n",
       "      \"created_at\": 1638846160,\n",
       "      \"filename\": \"compiled_results.csv\",\n",
       "      \"id\": \"file-xCIoJMXr89SuZRVvTcI1yDbg\",\n",
       "      \"object\": \"file\",\n",
       "      \"purpose\": \"fine-tune-results\",\n",
       "      \"status\": \"processed\",\n",
       "      \"status_details\": null\n",
       "    }\n",
       "  ],\n",
       "  \"status\": \"succeeded\",\n",
       "  \"training_files\": [\n",
       "    {\n",
       "      \"bytes\": 7630415,\n",
       "      \"created_at\": 1638837407,\n",
       "      \"filename\": \"ablation_snli_train.jsonl\",\n",
       "      \"id\": \"file-SbdP5nU4beGEMZCH9P56MPjH\",\n",
       "      \"object\": \"file\",\n",
       "      \"purpose\": \"fine-tune\",\n",
       "      \"status\": \"processed\",\n",
       "      \"status_details\": null\n",
       "    }\n",
       "  ],\n",
       "  \"updated_at\": 1638846163,\n",
       "  \"validation_files\": [\n",
       "    {\n",
       "      \"bytes\": 1883798,\n",
       "      \"created_at\": 1638836536,\n",
       "      \"filename\": \"ablation_snli_valid.jsonl\",\n",
       "      \"id\": \"file-1syChFe6i616f70H3MfnArBf\",\n",
       "      \"object\": \"file\",\n",
       "      \"purpose\": \"fine-tune\",\n",
       "      \"status\": \"processed\",\n",
       "      \"status_details\": null\n",
       "    }\n",
       "  ]\n",
       "}"
      ]
     },
     "execution_count": 101,
     "metadata": {},
     "output_type": "execute_result"
    }
   ],
   "source": [
    "openai.FineTune.retrieve(snli_finetune_id)"
   ]
  },
  {
   "cell_type": "code",
   "execution_count": 102,
   "id": "e09ed995",
   "metadata": {
    "scrolled": false
   },
   "outputs": [
    {
     "data": {
      "text/plain": [
       "<FineTune fine-tune id=ft-rDeH2hvXBGo0ZlmsxEKbvkP4 at 0x7f6914247130> JSON: {\n",
       "  \"created_at\": 1638837419,\n",
       "  \"events\": [\n",
       "    {\n",
       "      \"created_at\": 1638837420,\n",
       "      \"level\": \"info\",\n",
       "      \"message\": \"Created fine-tune: ft-rDeH2hvXBGo0ZlmsxEKbvkP4\",\n",
       "      \"object\": \"fine-tune-event\"\n",
       "    },\n",
       "    {\n",
       "      \"created_at\": 1638839160,\n",
       "      \"level\": \"info\",\n",
       "      \"message\": \"Fine-tune enqueued. Queue number: 11\",\n",
       "      \"object\": \"fine-tune-event\"\n",
       "    },\n",
       "    {\n",
       "      \"created_at\": 1638839173,\n",
       "      \"level\": \"info\",\n",
       "      \"message\": \"Fine-tune is in the queue. Queue number: 10\",\n",
       "      \"object\": \"fine-tune-event\"\n",
       "    },\n",
       "    {\n",
       "      \"created_at\": 1638839256,\n",
       "      \"level\": \"info\",\n",
       "      \"message\": \"Fine-tune is in the queue. Queue number: 9\",\n",
       "      \"object\": \"fine-tune-event\"\n",
       "    },\n",
       "    {\n",
       "      \"created_at\": 1638839530,\n",
       "      \"level\": \"info\",\n",
       "      \"message\": \"Fine-tune is in the queue. Queue number: 8\",\n",
       "      \"object\": \"fine-tune-event\"\n",
       "    },\n",
       "    {\n",
       "      \"created_at\": 1638839562,\n",
       "      \"level\": \"info\",\n",
       "      \"message\": \"Fine-tune is in the queue. Queue number: 7\",\n",
       "      \"object\": \"fine-tune-event\"\n",
       "    },\n",
       "    {\n",
       "      \"created_at\": 1638839585,\n",
       "      \"level\": \"info\",\n",
       "      \"message\": \"Fine-tune is in the queue. Queue number: 6\",\n",
       "      \"object\": \"fine-tune-event\"\n",
       "    },\n",
       "    {\n",
       "      \"created_at\": 1638839638,\n",
       "      \"level\": \"info\",\n",
       "      \"message\": \"Fine-tune is in the queue. Queue number: 5\",\n",
       "      \"object\": \"fine-tune-event\"\n",
       "    },\n",
       "    {\n",
       "      \"created_at\": 1638839672,\n",
       "      \"level\": \"info\",\n",
       "      \"message\": \"Fine-tune is in the queue. Queue number: 4\",\n",
       "      \"object\": \"fine-tune-event\"\n",
       "    },\n",
       "    {\n",
       "      \"created_at\": 1638839720,\n",
       "      \"level\": \"info\",\n",
       "      \"message\": \"Fine-tune is in the queue. Queue number: 3\",\n",
       "      \"object\": \"fine-tune-event\"\n",
       "    },\n",
       "    {\n",
       "      \"created_at\": 1638839770,\n",
       "      \"level\": \"info\",\n",
       "      \"message\": \"Fine-tune is in the queue. Queue number: 2\",\n",
       "      \"object\": \"fine-tune-event\"\n",
       "    },\n",
       "    {\n",
       "      \"created_at\": 1638839986,\n",
       "      \"level\": \"info\",\n",
       "      \"message\": \"Fine-tune is in the queue. Queue number: 1\",\n",
       "      \"object\": \"fine-tune-event\"\n",
       "    },\n",
       "    {\n",
       "      \"created_at\": 1638840001,\n",
       "      \"level\": \"info\",\n",
       "      \"message\": \"Fine-tune is in the queue. Queue number: 0\",\n",
       "      \"object\": \"fine-tune-event\"\n",
       "    },\n",
       "    {\n",
       "      \"created_at\": 1638840198,\n",
       "      \"level\": \"info\",\n",
       "      \"message\": \"Fine-tune started\",\n",
       "      \"object\": \"fine-tune-event\"\n",
       "    },\n",
       "    {\n",
       "      \"created_at\": 1638840662,\n",
       "      \"level\": \"info\",\n",
       "      \"message\": \"Completed epoch 1/4\",\n",
       "      \"object\": \"fine-tune-event\"\n",
       "    },\n",
       "    {\n",
       "      \"created_at\": 1638841417,\n",
       "      \"level\": \"info\",\n",
       "      \"message\": \"Completed epoch 2/4\",\n",
       "      \"object\": \"fine-tune-event\"\n",
       "    },\n",
       "    {\n",
       "      \"created_at\": 1638842170,\n",
       "      \"level\": \"info\",\n",
       "      \"message\": \"Completed epoch 3/4\",\n",
       "      \"object\": \"fine-tune-event\"\n",
       "    },\n",
       "    {\n",
       "      \"created_at\": 1638842922,\n",
       "      \"level\": \"info\",\n",
       "      \"message\": \"Completed epoch 4/4\",\n",
       "      \"object\": \"fine-tune-event\"\n",
       "    },\n",
       "    {\n",
       "      \"created_at\": 1638843350,\n",
       "      \"level\": \"info\",\n",
       "      \"message\": \"Uploaded model: curie:ft-user-5hzndcnnszukksvrzrlnjn8l-2021-12-07-02-15-48\",\n",
       "      \"object\": \"fine-tune-event\"\n",
       "    },\n",
       "    {\n",
       "      \"created_at\": 1638843353,\n",
       "      \"level\": \"info\",\n",
       "      \"message\": \"Uploaded result file: file-T2uIh00Sl5pTmPkmAoCfnBwl\",\n",
       "      \"object\": \"fine-tune-event\"\n",
       "    },\n",
       "    {\n",
       "      \"created_at\": 1638843354,\n",
       "      \"level\": \"info\",\n",
       "      \"message\": \"Fine-tune succeeded\",\n",
       "      \"object\": \"fine-tune-event\"\n",
       "    }\n",
       "  ],\n",
       "  \"fine_tuned_model\": \"curie:ft-user-5hzndcnnszukksvrzrlnjn8l-2021-12-07-02-15-48\",\n",
       "  \"hyperparams\": {\n",
       "    \"batch_size\": 2,\n",
       "    \"classification_n_classes\": 3,\n",
       "    \"compute_classification_metrics\": true,\n",
       "    \"learning_rate_multiplier\": 0.2,\n",
       "    \"n_epochs\": 4,\n",
       "    \"prompt_loss_weight\": 0.1,\n",
       "    \"use_packing\": true\n",
       "  },\n",
       "  \"id\": \"ft-rDeH2hvXBGo0ZlmsxEKbvkP4\",\n",
       "  \"model\": \"curie\",\n",
       "  \"object\": \"fine-tune\",\n",
       "  \"organization_id\": \"org-5AE307Eg4rc5EAoEA2S2bwkH\",\n",
       "  \"result_files\": [\n",
       "    {\n",
       "      \"bytes\": 175914,\n",
       "      \"created_at\": 1638843351,\n",
       "      \"filename\": \"compiled_results.csv\",\n",
       "      \"id\": \"file-T2uIh00Sl5pTmPkmAoCfnBwl\",\n",
       "      \"object\": \"file\",\n",
       "      \"purpose\": \"fine-tune-results\",\n",
       "      \"status\": \"processed\",\n",
       "      \"status_details\": null\n",
       "    }\n",
       "  ],\n",
       "  \"status\": \"succeeded\",\n",
       "  \"training_files\": [\n",
       "    {\n",
       "      \"bytes\": 12587384,\n",
       "      \"created_at\": 1638837416,\n",
       "      \"filename\": \"ablation_anli_train.jsonl\",\n",
       "      \"id\": \"file-a7ryGWMmgQwczg959jdTDsJw\",\n",
       "      \"object\": \"file\",\n",
       "      \"purpose\": \"fine-tune\",\n",
       "      \"status\": \"processed\",\n",
       "      \"status_details\": null\n",
       "    }\n",
       "  ],\n",
       "  \"updated_at\": 1638843355,\n",
       "  \"validation_files\": [\n",
       "    {\n",
       "      \"bytes\": 2171077,\n",
       "      \"created_at\": 1638836551,\n",
       "      \"filename\": \"ablation_anli_valid.jsonl\",\n",
       "      \"id\": \"file-v5uBw86uR9XhsKeaKCLkTwKq\",\n",
       "      \"object\": \"file\",\n",
       "      \"purpose\": \"fine-tune\",\n",
       "      \"status\": \"processed\",\n",
       "      \"status_details\": null\n",
       "    }\n",
       "  ]\n",
       "}"
      ]
     },
     "execution_count": 102,
     "metadata": {},
     "output_type": "execute_result"
    }
   ],
   "source": [
    "openai.FineTune.retrieve(anli_finetune_id)"
   ]
  },
  {
   "cell_type": "code",
   "execution_count": 103,
   "id": "ce1216a2",
   "metadata": {},
   "outputs": [],
   "source": [
    "def save_results(file_id, filename):\n",
    "    with open(f'../results/{filename}', 'wb') as f:\n",
    "        f.write(openai.File.download(file_id))"
   ]
  },
  {
   "cell_type": "code",
   "execution_count": 104,
   "id": "cced9009",
   "metadata": {},
   "outputs": [],
   "source": [
    "save_results('file-xCIoJMXr89SuZRVvTcI1yDbg', 'ablation_snli_results.csv')"
   ]
  },
  {
   "cell_type": "code",
   "execution_count": 105,
   "id": "a41662c9",
   "metadata": {},
   "outputs": [],
   "source": [
    "save_results('file-T2uIh00Sl5pTmPkmAoCfnBwl', 'ablation_anli_results.csv')"
   ]
  },
  {
   "cell_type": "code",
   "execution_count": 106,
   "id": "c0765a04",
   "metadata": {},
   "outputs": [],
   "source": [
    "import pandas as pd"
   ]
  },
  {
   "cell_type": "code",
   "execution_count": 109,
   "id": "5df478f5",
   "metadata": {},
   "outputs": [
    {
     "data": {
      "text/html": [
       "<div>\n",
       "<style scoped>\n",
       "    .dataframe tbody tr th:only-of-type {\n",
       "        vertical-align: middle;\n",
       "    }\n",
       "\n",
       "    .dataframe tbody tr th {\n",
       "        vertical-align: top;\n",
       "    }\n",
       "\n",
       "    .dataframe thead th {\n",
       "        text-align: right;\n",
       "    }\n",
       "</style>\n",
       "<table border=\"1\" class=\"dataframe\">\n",
       "  <thead>\n",
       "    <tr style=\"text-align: right;\">\n",
       "      <th></th>\n",
       "      <th>step</th>\n",
       "      <th>elapsed_tokens</th>\n",
       "      <th>elapsed_examples</th>\n",
       "      <th>training_loss</th>\n",
       "      <th>training_sequence_accuracy</th>\n",
       "      <th>training_token_accuracy</th>\n",
       "      <th>validation_loss</th>\n",
       "      <th>validation_sequence_accuracy</th>\n",
       "      <th>validation_token_accuracy</th>\n",
       "      <th>classification/accuracy</th>\n",
       "      <th>classification/weighted_f1_score</th>\n",
       "    </tr>\n",
       "  </thead>\n",
       "  <tbody>\n",
       "    <tr>\n",
       "      <th>0</th>\n",
       "      <td>1</td>\n",
       "      <td>2049</td>\n",
       "      <td>1</td>\n",
       "      <td>0.331407</td>\n",
       "      <td>0.0</td>\n",
       "      <td>0.733728</td>\n",
       "      <td>0.323015</td>\n",
       "      <td>0.0</td>\n",
       "      <td>0.666667</td>\n",
       "      <td>NaN</td>\n",
       "      <td>NaN</td>\n",
       "    </tr>\n",
       "    <tr>\n",
       "      <th>1</th>\n",
       "      <td>2</td>\n",
       "      <td>4098</td>\n",
       "      <td>2</td>\n",
       "      <td>0.287834</td>\n",
       "      <td>0.0</td>\n",
       "      <td>0.729282</td>\n",
       "      <td>NaN</td>\n",
       "      <td>NaN</td>\n",
       "      <td>NaN</td>\n",
       "      <td>NaN</td>\n",
       "      <td>NaN</td>\n",
       "    </tr>\n",
       "    <tr>\n",
       "      <th>2</th>\n",
       "      <td>3</td>\n",
       "      <td>6147</td>\n",
       "      <td>3</td>\n",
       "      <td>0.315665</td>\n",
       "      <td>0.0</td>\n",
       "      <td>0.810056</td>\n",
       "      <td>NaN</td>\n",
       "      <td>NaN</td>\n",
       "      <td>NaN</td>\n",
       "      <td>NaN</td>\n",
       "      <td>NaN</td>\n",
       "    </tr>\n",
       "    <tr>\n",
       "      <th>3</th>\n",
       "      <td>4</td>\n",
       "      <td>8196</td>\n",
       "      <td>4</td>\n",
       "      <td>0.328352</td>\n",
       "      <td>0.0</td>\n",
       "      <td>0.804469</td>\n",
       "      <td>NaN</td>\n",
       "      <td>NaN</td>\n",
       "      <td>NaN</td>\n",
       "      <td>NaN</td>\n",
       "      <td>NaN</td>\n",
       "    </tr>\n",
       "    <tr>\n",
       "      <th>4</th>\n",
       "      <td>5</td>\n",
       "      <td>10245</td>\n",
       "      <td>5</td>\n",
       "      <td>0.284234</td>\n",
       "      <td>0.0</td>\n",
       "      <td>0.822857</td>\n",
       "      <td>NaN</td>\n",
       "      <td>NaN</td>\n",
       "      <td>NaN</td>\n",
       "      <td>NaN</td>\n",
       "      <td>NaN</td>\n",
       "    </tr>\n",
       "    <tr>\n",
       "      <th>...</th>\n",
       "      <td>...</td>\n",
       "      <td>...</td>\n",
       "      <td>...</td>\n",
       "      <td>...</td>\n",
       "      <td>...</td>\n",
       "      <td>...</td>\n",
       "      <td>...</td>\n",
       "      <td>...</td>\n",
       "      <td>...</td>\n",
       "      <td>...</td>\n",
       "      <td>...</td>\n",
       "    </tr>\n",
       "    <tr>\n",
       "      <th>3379</th>\n",
       "      <td>3380</td>\n",
       "      <td>6925620</td>\n",
       "      <td>3380</td>\n",
       "      <td>0.056051</td>\n",
       "      <td>1.0</td>\n",
       "      <td>1.000000</td>\n",
       "      <td>NaN</td>\n",
       "      <td>NaN</td>\n",
       "      <td>NaN</td>\n",
       "      <td>NaN</td>\n",
       "      <td>NaN</td>\n",
       "    </tr>\n",
       "    <tr>\n",
       "      <th>3380</th>\n",
       "      <td>3381</td>\n",
       "      <td>6927669</td>\n",
       "      <td>3381</td>\n",
       "      <td>0.053326</td>\n",
       "      <td>0.0</td>\n",
       "      <td>0.994681</td>\n",
       "      <td>NaN</td>\n",
       "      <td>NaN</td>\n",
       "      <td>NaN</td>\n",
       "      <td>NaN</td>\n",
       "      <td>NaN</td>\n",
       "    </tr>\n",
       "    <tr>\n",
       "      <th>3381</th>\n",
       "      <td>3382</td>\n",
       "      <td>6929718</td>\n",
       "      <td>3382</td>\n",
       "      <td>0.051672</td>\n",
       "      <td>1.0</td>\n",
       "      <td>1.000000</td>\n",
       "      <td>NaN</td>\n",
       "      <td>NaN</td>\n",
       "      <td>NaN</td>\n",
       "      <td>NaN</td>\n",
       "      <td>NaN</td>\n",
       "    </tr>\n",
       "    <tr>\n",
       "      <th>3382</th>\n",
       "      <td>3383</td>\n",
       "      <td>6931767</td>\n",
       "      <td>3383</td>\n",
       "      <td>0.058237</td>\n",
       "      <td>1.0</td>\n",
       "      <td>1.000000</td>\n",
       "      <td>NaN</td>\n",
       "      <td>NaN</td>\n",
       "      <td>NaN</td>\n",
       "      <td>NaN</td>\n",
       "      <td>NaN</td>\n",
       "    </tr>\n",
       "    <tr>\n",
       "      <th>3383</th>\n",
       "      <td>3384</td>\n",
       "      <td>6933816</td>\n",
       "      <td>3384</td>\n",
       "      <td>0.052778</td>\n",
       "      <td>1.0</td>\n",
       "      <td>1.000000</td>\n",
       "      <td>NaN</td>\n",
       "      <td>NaN</td>\n",
       "      <td>NaN</td>\n",
       "      <td>0.8877</td>\n",
       "      <td>0.888082</td>\n",
       "    </tr>\n",
       "  </tbody>\n",
       "</table>\n",
       "<p>3384 rows × 11 columns</p>\n",
       "</div>"
      ],
      "text/plain": [
       "      step  elapsed_tokens  elapsed_examples  training_loss  \\\n",
       "0        1            2049                 1       0.331407   \n",
       "1        2            4098                 2       0.287834   \n",
       "2        3            6147                 3       0.315665   \n",
       "3        4            8196                 4       0.328352   \n",
       "4        5           10245                 5       0.284234   \n",
       "...    ...             ...               ...            ...   \n",
       "3379  3380         6925620              3380       0.056051   \n",
       "3380  3381         6927669              3381       0.053326   \n",
       "3381  3382         6929718              3382       0.051672   \n",
       "3382  3383         6931767              3383       0.058237   \n",
       "3383  3384         6933816              3384       0.052778   \n",
       "\n",
       "      training_sequence_accuracy  training_token_accuracy  validation_loss  \\\n",
       "0                            0.0                 0.733728         0.323015   \n",
       "1                            0.0                 0.729282              NaN   \n",
       "2                            0.0                 0.810056              NaN   \n",
       "3                            0.0                 0.804469              NaN   \n",
       "4                            0.0                 0.822857              NaN   \n",
       "...                          ...                      ...              ...   \n",
       "3379                         1.0                 1.000000              NaN   \n",
       "3380                         0.0                 0.994681              NaN   \n",
       "3381                         1.0                 1.000000              NaN   \n",
       "3382                         1.0                 1.000000              NaN   \n",
       "3383                         1.0                 1.000000              NaN   \n",
       "\n",
       "      validation_sequence_accuracy  validation_token_accuracy  \\\n",
       "0                              0.0                   0.666667   \n",
       "1                              NaN                        NaN   \n",
       "2                              NaN                        NaN   \n",
       "3                              NaN                        NaN   \n",
       "4                              NaN                        NaN   \n",
       "...                            ...                        ...   \n",
       "3379                           NaN                        NaN   \n",
       "3380                           NaN                        NaN   \n",
       "3381                           NaN                        NaN   \n",
       "3382                           NaN                        NaN   \n",
       "3383                           NaN                        NaN   \n",
       "\n",
       "      classification/accuracy  classification/weighted_f1_score  \n",
       "0                         NaN                               NaN  \n",
       "1                         NaN                               NaN  \n",
       "2                         NaN                               NaN  \n",
       "3                         NaN                               NaN  \n",
       "4                         NaN                               NaN  \n",
       "...                       ...                               ...  \n",
       "3379                      NaN                               NaN  \n",
       "3380                      NaN                               NaN  \n",
       "3381                      NaN                               NaN  \n",
       "3382                      NaN                               NaN  \n",
       "3383                   0.8877                          0.888082  \n",
       "\n",
       "[3384 rows x 11 columns]"
      ]
     },
     "execution_count": 109,
     "metadata": {},
     "output_type": "execute_result"
    }
   ],
   "source": [
    "pd.read_csv('../results/ablation_snli_results.csv')"
   ]
  },
  {
   "cell_type": "code",
   "execution_count": 110,
   "id": "364f7749",
   "metadata": {},
   "outputs": [
    {
     "data": {
      "text/html": [
       "<div>\n",
       "<style scoped>\n",
       "    .dataframe tbody tr th:only-of-type {\n",
       "        vertical-align: middle;\n",
       "    }\n",
       "\n",
       "    .dataframe tbody tr th {\n",
       "        vertical-align: top;\n",
       "    }\n",
       "\n",
       "    .dataframe thead th {\n",
       "        text-align: right;\n",
       "    }\n",
       "</style>\n",
       "<table border=\"1\" class=\"dataframe\">\n",
       "  <thead>\n",
       "    <tr style=\"text-align: right;\">\n",
       "      <th></th>\n",
       "      <th>step</th>\n",
       "      <th>elapsed_tokens</th>\n",
       "      <th>elapsed_examples</th>\n",
       "      <th>training_loss</th>\n",
       "      <th>training_sequence_accuracy</th>\n",
       "      <th>training_token_accuracy</th>\n",
       "      <th>validation_loss</th>\n",
       "      <th>validation_sequence_accuracy</th>\n",
       "      <th>validation_token_accuracy</th>\n",
       "      <th>classification/accuracy</th>\n",
       "      <th>classification/weighted_f1_score</th>\n",
       "    </tr>\n",
       "  </thead>\n",
       "  <tbody>\n",
       "    <tr>\n",
       "      <th>0</th>\n",
       "      <td>1</td>\n",
       "      <td>4098</td>\n",
       "      <td>2</td>\n",
       "      <td>0.308890</td>\n",
       "      <td>0.0</td>\n",
       "      <td>0.710638</td>\n",
       "      <td>0.33548</td>\n",
       "      <td>0.5</td>\n",
       "      <td>0.875</td>\n",
       "      <td>NaN</td>\n",
       "      <td>NaN</td>\n",
       "    </tr>\n",
       "    <tr>\n",
       "      <th>1</th>\n",
       "      <td>2</td>\n",
       "      <td>8196</td>\n",
       "      <td>4</td>\n",
       "      <td>0.228767</td>\n",
       "      <td>0.0</td>\n",
       "      <td>0.792553</td>\n",
       "      <td>NaN</td>\n",
       "      <td>NaN</td>\n",
       "      <td>NaN</td>\n",
       "      <td>NaN</td>\n",
       "      <td>NaN</td>\n",
       "    </tr>\n",
       "    <tr>\n",
       "      <th>2</th>\n",
       "      <td>3</td>\n",
       "      <td>12294</td>\n",
       "      <td>6</td>\n",
       "      <td>0.351408</td>\n",
       "      <td>0.0</td>\n",
       "      <td>0.792035</td>\n",
       "      <td>NaN</td>\n",
       "      <td>NaN</td>\n",
       "      <td>NaN</td>\n",
       "      <td>NaN</td>\n",
       "      <td>NaN</td>\n",
       "    </tr>\n",
       "    <tr>\n",
       "      <th>3</th>\n",
       "      <td>4</td>\n",
       "      <td>16392</td>\n",
       "      <td>8</td>\n",
       "      <td>0.205856</td>\n",
       "      <td>0.0</td>\n",
       "      <td>0.742991</td>\n",
       "      <td>NaN</td>\n",
       "      <td>NaN</td>\n",
       "      <td>NaN</td>\n",
       "      <td>NaN</td>\n",
       "      <td>NaN</td>\n",
       "    </tr>\n",
       "    <tr>\n",
       "      <th>4</th>\n",
       "      <td>5</td>\n",
       "      <td>20490</td>\n",
       "      <td>10</td>\n",
       "      <td>0.199700</td>\n",
       "      <td>0.0</td>\n",
       "      <td>0.830986</td>\n",
       "      <td>NaN</td>\n",
       "      <td>NaN</td>\n",
       "      <td>NaN</td>\n",
       "      <td>NaN</td>\n",
       "      <td>NaN</td>\n",
       "    </tr>\n",
       "    <tr>\n",
       "      <th>...</th>\n",
       "      <td>...</td>\n",
       "      <td>...</td>\n",
       "      <td>...</td>\n",
       "      <td>...</td>\n",
       "      <td>...</td>\n",
       "      <td>...</td>\n",
       "      <td>...</td>\n",
       "      <td>...</td>\n",
       "      <td>...</td>\n",
       "      <td>...</td>\n",
       "      <td>...</td>\n",
       "    </tr>\n",
       "    <tr>\n",
       "      <th>2821</th>\n",
       "      <td>2822</td>\n",
       "      <td>11564556</td>\n",
       "      <td>5644</td>\n",
       "      <td>0.027085</td>\n",
       "      <td>1.0</td>\n",
       "      <td>1.000000</td>\n",
       "      <td>NaN</td>\n",
       "      <td>NaN</td>\n",
       "      <td>NaN</td>\n",
       "      <td>NaN</td>\n",
       "      <td>NaN</td>\n",
       "    </tr>\n",
       "    <tr>\n",
       "      <th>2822</th>\n",
       "      <td>2823</td>\n",
       "      <td>11568654</td>\n",
       "      <td>5646</td>\n",
       "      <td>0.030592</td>\n",
       "      <td>0.5</td>\n",
       "      <td>0.995261</td>\n",
       "      <td>NaN</td>\n",
       "      <td>NaN</td>\n",
       "      <td>NaN</td>\n",
       "      <td>NaN</td>\n",
       "      <td>NaN</td>\n",
       "    </tr>\n",
       "    <tr>\n",
       "      <th>2823</th>\n",
       "      <td>2824</td>\n",
       "      <td>11572752</td>\n",
       "      <td>5648</td>\n",
       "      <td>0.033020</td>\n",
       "      <td>1.0</td>\n",
       "      <td>1.000000</td>\n",
       "      <td>NaN</td>\n",
       "      <td>NaN</td>\n",
       "      <td>NaN</td>\n",
       "      <td>NaN</td>\n",
       "      <td>NaN</td>\n",
       "    </tr>\n",
       "    <tr>\n",
       "      <th>2824</th>\n",
       "      <td>2825</td>\n",
       "      <td>11576850</td>\n",
       "      <td>5650</td>\n",
       "      <td>0.029584</td>\n",
       "      <td>0.0</td>\n",
       "      <td>0.990431</td>\n",
       "      <td>NaN</td>\n",
       "      <td>NaN</td>\n",
       "      <td>NaN</td>\n",
       "      <td>NaN</td>\n",
       "      <td>NaN</td>\n",
       "    </tr>\n",
       "    <tr>\n",
       "      <th>2825</th>\n",
       "      <td>2826</td>\n",
       "      <td>11580948</td>\n",
       "      <td>5652</td>\n",
       "      <td>0.029605</td>\n",
       "      <td>1.0</td>\n",
       "      <td>1.000000</td>\n",
       "      <td>NaN</td>\n",
       "      <td>NaN</td>\n",
       "      <td>NaN</td>\n",
       "      <td>0.852</td>\n",
       "      <td>0.852107</td>\n",
       "    </tr>\n",
       "  </tbody>\n",
       "</table>\n",
       "<p>2826 rows × 11 columns</p>\n",
       "</div>"
      ],
      "text/plain": [
       "      step  elapsed_tokens  elapsed_examples  training_loss  \\\n",
       "0        1            4098                 2       0.308890   \n",
       "1        2            8196                 4       0.228767   \n",
       "2        3           12294                 6       0.351408   \n",
       "3        4           16392                 8       0.205856   \n",
       "4        5           20490                10       0.199700   \n",
       "...    ...             ...               ...            ...   \n",
       "2821  2822        11564556              5644       0.027085   \n",
       "2822  2823        11568654              5646       0.030592   \n",
       "2823  2824        11572752              5648       0.033020   \n",
       "2824  2825        11576850              5650       0.029584   \n",
       "2825  2826        11580948              5652       0.029605   \n",
       "\n",
       "      training_sequence_accuracy  training_token_accuracy  validation_loss  \\\n",
       "0                            0.0                 0.710638          0.33548   \n",
       "1                            0.0                 0.792553              NaN   \n",
       "2                            0.0                 0.792035              NaN   \n",
       "3                            0.0                 0.742991              NaN   \n",
       "4                            0.0                 0.830986              NaN   \n",
       "...                          ...                      ...              ...   \n",
       "2821                         1.0                 1.000000              NaN   \n",
       "2822                         0.5                 0.995261              NaN   \n",
       "2823                         1.0                 1.000000              NaN   \n",
       "2824                         0.0                 0.990431              NaN   \n",
       "2825                         1.0                 1.000000              NaN   \n",
       "\n",
       "      validation_sequence_accuracy  validation_token_accuracy  \\\n",
       "0                              0.5                      0.875   \n",
       "1                              NaN                        NaN   \n",
       "2                              NaN                        NaN   \n",
       "3                              NaN                        NaN   \n",
       "4                              NaN                        NaN   \n",
       "...                            ...                        ...   \n",
       "2821                           NaN                        NaN   \n",
       "2822                           NaN                        NaN   \n",
       "2823                           NaN                        NaN   \n",
       "2824                           NaN                        NaN   \n",
       "2825                           NaN                        NaN   \n",
       "\n",
       "      classification/accuracy  classification/weighted_f1_score  \n",
       "0                         NaN                               NaN  \n",
       "1                         NaN                               NaN  \n",
       "2                         NaN                               NaN  \n",
       "3                         NaN                               NaN  \n",
       "4                         NaN                               NaN  \n",
       "...                       ...                               ...  \n",
       "2821                      NaN                               NaN  \n",
       "2822                      NaN                               NaN  \n",
       "2823                      NaN                               NaN  \n",
       "2824                      NaN                               NaN  \n",
       "2825                    0.852                          0.852107  \n",
       "\n",
       "[2826 rows x 11 columns]"
      ]
     },
     "execution_count": 110,
     "metadata": {},
     "output_type": "execute_result"
    }
   ],
   "source": [
    "pd.read_csv('../results/ablation_anli_results.csv')"
   ]
  },
  {
   "cell_type": "code",
   "execution_count": 122,
   "id": "b34c6fac",
   "metadata": {},
   "outputs": [],
   "source": [
    "def evaluate(\n",
    "    finetune_id,\n",
    "    test,\n",
    "    responses_local_filename,\n",
    "):\n",
    "    # Initialize OpenAI API with API_KEY\n",
    "    init_openai()\n",
    "\n",
    "    # Check if fine-tuning has completed.\n",
    "    # And retrieve the model name.\n",
    "    finetune_resp = openai.FineTune.retrieve(finetune_id)\n",
    "\n",
    "    assert (\n",
    "        finetune_resp['events'][-1]['message'] == 'Fine-tune succeeded'\n",
    "    ), 'Please wait for the fine-tuning to be completed.'\n",
    "\n",
    "    # Get the model name\n",
    "    model = finetune_resp['fine_tuned_model']\n",
    "\n",
    "    # Evaluate the model on test set\n",
    "    def map_response(x):\n",
    "        try:\n",
    "            response = get_finetune_response(x['prompt'], model)\n",
    "            return {'response': response['choices'][0]['text']}\n",
    "        except Exception as e:\n",
    "            return {'response': None}\n",
    "\n",
    "    responses = test.map(map_response)\n",
    "\n",
    "    # Save the responses\n",
    "    responses.to_json(f'../results/{responses_local_filename}')\n",
    "\n",
    "    # Load metrics\n",
    "    f1_metric = load_metric('f1')\n",
    "    acc_metric = load_metric('accuracy')\n",
    "\n",
    "    # Convert response to references and predictions for metrics\n",
    "    results = responses.map(map_refs_and_preds)\n",
    "\n",
    "    # Compute metrics\n",
    "    f1 = f1_metric.compute(\n",
    "        references=results['references'],\n",
    "        predictions=results['predictions'],\n",
    "        average='weighted',\n",
    "    )\n",
    "\n",
    "    accuracy = acc_metric.compute(\n",
    "        references=results['references'], predictions=results['predictions']\n",
    "    )\n",
    "\n",
    "    print(f'{f1=}')\n",
    "    print(f'{accuracy=}')\n",
    "\n",
    "    return model\n"
   ]
  },
  {
   "cell_type": "code",
   "execution_count": 116,
   "id": "d2d5c601",
   "metadata": {},
   "outputs": [
    {
     "name": "stderr",
     "output_type": "stream",
     "text": [
      "Loading cached shuffled indices for dataset at /home/x/.cache/huggingface/datasets/snli/plain_text/1.0.0/1f60b67533b65ae0275561ff7828aad5ee4282d0e6f844fd148d05d3c6ea251b/cache-c5677fec1a305d01.arrow\n"
     ]
    },
    {
     "data": {
      "application/vnd.jupyter.widget-view+json": {
       "model_id": "22c50d292b1f4a97bc9db276207815f2",
       "version_major": 2,
       "version_minor": 0
      },
      "text/plain": [
       "HBox(children=(FloatProgress(value=0.0, max=1000.0), HTML(value='')))"
      ]
     },
     "metadata": {},
     "output_type": "display_data"
    },
    {
     "name": "stdout",
     "output_type": "stream",
     "text": [
      "\n"
     ]
    },
    {
     "data": {
      "application/vnd.jupyter.widget-view+json": {
       "model_id": "3a77783139db454982afcae4cdea888f",
       "version_major": 2,
       "version_minor": 0
      },
      "text/plain": [
       "HBox(children=(FloatProgress(value=0.0, max=1000.0), HTML(value='')))"
      ]
     },
     "metadata": {},
     "output_type": "display_data"
    },
    {
     "name": "stdout",
     "output_type": "stream",
     "text": [
      "\n"
     ]
    },
    {
     "data": {
      "text/plain": [
       "Dataset({\n",
       "    features: ['prompt', 'completion'],\n",
       "    num_rows: 1000\n",
       "})"
      ]
     },
     "execution_count": 116,
     "metadata": {},
     "output_type": "execute_result"
    }
   ],
   "source": [
    "test_size = 1000\n",
    "snli_test = snli['test'].shuffle(0).select(list(range(test_size))).map(map_finetune)\n",
    "snli_test = snli_test.map(map_finetune)\n",
    "snli_test = snli_test.remove_columns(['premise', 'hypothesis', 'label'])\n",
    "snli_test"
   ]
  },
  {
   "cell_type": "code",
   "execution_count": 117,
   "id": "1a715ddd",
   "metadata": {},
   "outputs": [
    {
     "data": {
      "application/vnd.jupyter.widget-view+json": {
       "model_id": "e5eba9fe692e472f83de9f852bb775c6",
       "version_major": 2,
       "version_minor": 0
      },
      "text/plain": [
       "HBox(children=(FloatProgress(value=0.0, max=1000.0), HTML(value='')))"
      ]
     },
     "metadata": {},
     "output_type": "display_data"
    },
    {
     "name": "stdout",
     "output_type": "stream",
     "text": [
      "\n"
     ]
    },
    {
     "data": {
      "application/vnd.jupyter.widget-view+json": {
       "model_id": "1447d4e8174b4889b18b98e5964524e4",
       "version_major": 2,
       "version_minor": 0
      },
      "text/plain": [
       "HBox(children=(FloatProgress(value=0.0, max=1000.0), HTML(value='')))"
      ]
     },
     "metadata": {},
     "output_type": "display_data"
    },
    {
     "name": "stdout",
     "output_type": "stream",
     "text": [
      "\n"
     ]
    },
    {
     "data": {
      "text/plain": [
       "Dataset({\n",
       "    features: ['prompt', 'completion'],\n",
       "    num_rows: 1000\n",
       "})"
      ]
     },
     "execution_count": 117,
     "metadata": {},
     "output_type": "execute_result"
    }
   ],
   "source": [
    "anli_test = anli['test_r1'].shuffle(0).select(list(range(test_size))).map(map_finetune)\n",
    "anli_test = anli_test.map(map_finetune)\n",
    "anli_test = anli_test.remove_columns(['uid', 'reason', 'premise', 'hypothesis', 'label'])\n",
    "anli_test"
   ]
  },
  {
   "cell_type": "code",
   "execution_count": 123,
   "id": "b0dcf8f7",
   "metadata": {},
   "outputs": [
    {
     "data": {
      "application/vnd.jupyter.widget-view+json": {
       "model_id": "3ed8bce1e77f4825931bebe639df6e7d",
       "version_major": 2,
       "version_minor": 0
      },
      "text/plain": [
       "HBox(children=(FloatProgress(value=0.0, max=1000.0), HTML(value='')))"
      ]
     },
     "metadata": {},
     "output_type": "display_data"
    },
    {
     "name": "stdout",
     "output_type": "stream",
     "text": [
      "\n"
     ]
    },
    {
     "data": {
      "application/vnd.jupyter.widget-view+json": {
       "model_id": "a67c9dbec8154fff8cc5052420e0137c",
       "version_major": 2,
       "version_minor": 0
      },
      "text/plain": [
       "HBox(children=(FloatProgress(value=0.0, max=1.0), HTML(value='')))"
      ]
     },
     "metadata": {},
     "output_type": "display_data"
    },
    {
     "name": "stdout",
     "output_type": "stream",
     "text": [
      "\n"
     ]
    },
    {
     "data": {
      "application/vnd.jupyter.widget-view+json": {
       "model_id": "2c46ee6cb2ac4d178f2f679f470024b5",
       "version_major": 2,
       "version_minor": 0
      },
      "text/plain": [
       "HBox(children=(FloatProgress(value=0.0, max=1000.0), HTML(value='')))"
      ]
     },
     "metadata": {},
     "output_type": "display_data"
    },
    {
     "name": "stdout",
     "output_type": "stream",
     "text": [
      "\n",
      "f1={'f1': 0.8935001649479813}\n",
      "accuracy={'accuracy': 0.893}\n"
     ]
    },
    {
     "data": {
      "text/plain": [
       "'curie:ft-user-5hzndcnnszukksvrzrlnjn8l-2021-12-07-03-02-36'"
      ]
     },
     "execution_count": 123,
     "metadata": {},
     "output_type": "execute_result"
    }
   ],
   "source": [
    "evaluate(snli_finetune_id, snli_test, 'ablation_snli_snli_responses.jsonl')"
   ]
  },
  {
   "cell_type": "code",
   "execution_count": 124,
   "id": "9644b309",
   "metadata": {},
   "outputs": [
    {
     "data": {
      "application/vnd.jupyter.widget-view+json": {
       "model_id": "c2df9781029f4b268ee760f93d8e7760",
       "version_major": 2,
       "version_minor": 0
      },
      "text/plain": [
       "HBox(children=(FloatProgress(value=0.0, max=1000.0), HTML(value='')))"
      ]
     },
     "metadata": {},
     "output_type": "display_data"
    },
    {
     "name": "stdout",
     "output_type": "stream",
     "text": [
      "\n"
     ]
    },
    {
     "data": {
      "application/vnd.jupyter.widget-view+json": {
       "model_id": "633244984c1a4c768507fdabc5454ff6",
       "version_major": 2,
       "version_minor": 0
      },
      "text/plain": [
       "HBox(children=(FloatProgress(value=0.0, max=1.0), HTML(value='')))"
      ]
     },
     "metadata": {},
     "output_type": "display_data"
    },
    {
     "name": "stdout",
     "output_type": "stream",
     "text": [
      "\n"
     ]
    },
    {
     "data": {
      "application/vnd.jupyter.widget-view+json": {
       "model_id": "4642b85b8ba74560abc43bf9619c7622",
       "version_major": 2,
       "version_minor": 0
      },
      "text/plain": [
       "HBox(children=(FloatProgress(value=0.0, max=1000.0), HTML(value='')))"
      ]
     },
     "metadata": {},
     "output_type": "display_data"
    },
    {
     "name": "stdout",
     "output_type": "stream",
     "text": [
      "\n",
      "f1={'f1': 0.3350202931874234}\n",
      "accuracy={'accuracy': 0.337}\n"
     ]
    },
    {
     "data": {
      "text/plain": [
       "'curie:ft-user-5hzndcnnszukksvrzrlnjn8l-2021-12-07-03-02-36'"
      ]
     },
     "execution_count": 124,
     "metadata": {},
     "output_type": "execute_result"
    }
   ],
   "source": [
    "evaluate(snli_finetune_id, anli_test, 'ablation_snli_anli_responses.jsonl')"
   ]
  },
  {
   "cell_type": "code",
   "execution_count": 125,
   "id": "414cd070",
   "metadata": {},
   "outputs": [
    {
     "data": {
      "application/vnd.jupyter.widget-view+json": {
       "model_id": "c80f7230760340d28bc1842c7fd1f95e",
       "version_major": 2,
       "version_minor": 0
      },
      "text/plain": [
       "HBox(children=(FloatProgress(value=0.0, max=1000.0), HTML(value='')))"
      ]
     },
     "metadata": {},
     "output_type": "display_data"
    },
    {
     "name": "stdout",
     "output_type": "stream",
     "text": [
      "\n"
     ]
    },
    {
     "data": {
      "application/vnd.jupyter.widget-view+json": {
       "model_id": "a0453f4b3bbe49bf9c7a24d6aecf1a45",
       "version_major": 2,
       "version_minor": 0
      },
      "text/plain": [
       "HBox(children=(FloatProgress(value=0.0, max=1.0), HTML(value='')))"
      ]
     },
     "metadata": {},
     "output_type": "display_data"
    },
    {
     "name": "stdout",
     "output_type": "stream",
     "text": [
      "\n"
     ]
    },
    {
     "data": {
      "application/vnd.jupyter.widget-view+json": {
       "model_id": "72fc6b82866642d4894742964fbb07fd",
       "version_major": 2,
       "version_minor": 0
      },
      "text/plain": [
       "HBox(children=(FloatProgress(value=0.0, max=1000.0), HTML(value='')))"
      ]
     },
     "metadata": {},
     "output_type": "display_data"
    },
    {
     "name": "stdout",
     "output_type": "stream",
     "text": [
      "\n",
      "f1={'f1': 0.8892603877796055}\n",
      "accuracy={'accuracy': 0.889}\n"
     ]
    },
    {
     "data": {
      "text/plain": [
       "'curie:ft-user-5hzndcnnszukksvrzrlnjn8l-2021-12-07-02-15-48'"
      ]
     },
     "execution_count": 125,
     "metadata": {},
     "output_type": "execute_result"
    }
   ],
   "source": [
    "evaluate(anli_finetune_id, snli_test, 'ablation_anli_snli_responses.jsonl')"
   ]
  },
  {
   "cell_type": "code",
   "execution_count": 127,
   "id": "5c60b7c4",
   "metadata": {},
   "outputs": [
    {
     "data": {
      "application/vnd.jupyter.widget-view+json": {
       "model_id": "5b06193ff0594f2ab8114ab1554d79b1",
       "version_major": 2,
       "version_minor": 0
      },
      "text/plain": [
       "HBox(children=(FloatProgress(value=0.0, max=1000.0), HTML(value='')))"
      ]
     },
     "metadata": {},
     "output_type": "display_data"
    },
    {
     "name": "stdout",
     "output_type": "stream",
     "text": [
      "\n"
     ]
    },
    {
     "data": {
      "application/vnd.jupyter.widget-view+json": {
       "model_id": "093100f476b74ee1bd8e86fccd00f624",
       "version_major": 2,
       "version_minor": 0
      },
      "text/plain": [
       "HBox(children=(FloatProgress(value=0.0, max=1.0), HTML(value='')))"
      ]
     },
     "metadata": {},
     "output_type": "display_data"
    },
    {
     "name": "stdout",
     "output_type": "stream",
     "text": [
      "\n"
     ]
    },
    {
     "data": {
      "application/vnd.jupyter.widget-view+json": {
       "model_id": "2bd6bb1a736a42fe913be6acbacc6e3c",
       "version_major": 2,
       "version_minor": 0
      },
      "text/plain": [
       "HBox(children=(FloatProgress(value=0.0, max=1000.0), HTML(value='')))"
      ]
     },
     "metadata": {},
     "output_type": "display_data"
    },
    {
     "name": "stdout",
     "output_type": "stream",
     "text": [
      "\n",
      "f1={'f1': 0.5864711946043328}\n",
      "accuracy={'accuracy': 0.586}\n"
     ]
    },
    {
     "data": {
      "text/plain": [
       "'curie:ft-user-5hzndcnnszukksvrzrlnjn8l-2021-12-07-02-15-48'"
      ]
     },
     "execution_count": 127,
     "metadata": {},
     "output_type": "execute_result"
    }
   ],
   "source": [
    "evaluate(anli_finetune_id, anli_test, 'ablation_anli_anli_responses.jsonl')"
   ]
  },
  {
   "cell_type": "code",
   "execution_count": null,
   "id": "6bd12980",
   "metadata": {},
   "outputs": [],
   "source": []
  }
 ],
 "metadata": {
  "kernelspec": {
   "display_name": "Python 3 (ipykernel)",
   "language": "python",
   "name": "python3"
  },
  "language_info": {
   "codemirror_mode": {
    "name": "ipython",
    "version": 3
   },
   "file_extension": ".py",
   "mimetype": "text/x-python",
   "name": "python",
   "nbconvert_exporter": "python",
   "pygments_lexer": "ipython3",
   "version": "3.9.5"
  }
 },
 "nbformat": 4,
 "nbformat_minor": 5
}
