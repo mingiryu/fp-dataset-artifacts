{
 "cells": [
  {
   "cell_type": "code",
   "execution_count": 1,
   "id": "f39fe1c0",
   "metadata": {},
   "outputs": [
    {
     "name": "stderr",
     "output_type": "stream",
     "text": [
      "Reusing dataset snli (/home/x/.cache/huggingface/datasets/snli/plain_text/1.0.0/1f60b67533b65ae0275561ff7828aad5ee4282d0e6f844fd148d05d3c6ea251b)\n",
      "Reusing dataset anli (/home/x/.cache/huggingface/datasets/anli/plain_text/0.1.0/aabce88453b06dff21c201855ea83283bab0390bff746deadb30b65695755c0b)\n"
     ]
    }
   ],
   "source": [
    "import openai\n",
    "\n",
    "from fp_dataset_artifacts.utils import init_openai\n",
    "from fp_dataset_artifacts.anli import map_finetune, get_response\n",
    "from datasets import (\n",
    "    list_datasets, load_dataset, list_metrics, load_metric, concatenate_datasets\n",
    ")\n",
    "\n",
    "init_openai()\n",
    "\n",
    "snli = load_dataset('snli')\n",
    "anli = load_dataset('anli')"
   ]
  },
  {
   "cell_type": "code",
   "execution_count": 70,
   "id": "b84105b3",
   "metadata": {},
   "outputs": [
    {
     "data": {
      "text/plain": [
       "41946"
      ]
     },
     "execution_count": 70,
     "metadata": {},
     "output_type": "execute_result"
    }
   ],
   "source": [
    "# Prepare two seperate training set for fine-tuning\n",
    "# One for training with only snli\n",
    "# Another with training with snli and anli round 1\n",
    "# We make sure that the trainging set size is equal\n",
    "snli_training_size = 25000\n",
    "anli_training_size = anli['train_r1'].num_rows\n",
    "total_training_size = snli_training_size + anli_training_size\n",
    "total_training_size"
   ]
  },
  {
   "cell_type": "code",
   "execution_count": 71,
   "id": "6880193e",
   "metadata": {},
   "outputs": [
    {
     "name": "stderr",
     "output_type": "stream",
     "text": [
      "Loading cached shuffled indices for dataset at /home/x/.cache/huggingface/datasets/snli/plain_text/1.0.0/1f60b67533b65ae0275561ff7828aad5ee4282d0e6f844fd148d05d3c6ea251b/cache-0e9d0b15c43a175e.arrow\n"
     ]
    },
    {
     "data": {
      "application/vnd.jupyter.widget-view+json": {
       "model_id": "c119c1c221c7423d95f265d6603cb2ad",
       "version_major": 2,
       "version_minor": 0
      },
      "text/plain": [
       "HBox(children=(FloatProgress(value=0.0, max=41946.0), HTML(value='')))"
      ]
     },
     "metadata": {},
     "output_type": "display_data"
    },
    {
     "name": "stdout",
     "output_type": "stream",
     "text": [
      "\n"
     ]
    },
    {
     "data": {
      "application/vnd.jupyter.widget-view+json": {
       "model_id": "fd941cc6f7a640e38cac40856dd8a176",
       "version_major": 2,
       "version_minor": 0
      },
      "text/plain": [
       "HBox(children=(FloatProgress(value=0.0, max=41946.0), HTML(value='')))"
      ]
     },
     "metadata": {},
     "output_type": "display_data"
    },
    {
     "name": "stdout",
     "output_type": "stream",
     "text": [
      "\n"
     ]
    },
    {
     "data": {
      "text/plain": [
       "Dataset({\n",
       "    features: ['prompt', 'completion'],\n",
       "    num_rows: 41946\n",
       "})"
      ]
     },
     "execution_count": 71,
     "metadata": {},
     "output_type": "execute_result"
    }
   ],
   "source": [
    "snli_only = snli['train'].shuffle(0).select(list(range(total_training_size))).map(map_finetune)\n",
    "snli_only = snli_only.map(map_finetune)\n",
    "snli_only = snli_only.remove_columns(['premise', 'hypothesis', 'label'])\n",
    "snli_only"
   ]
  },
  {
   "cell_type": "code",
   "execution_count": 72,
   "id": "79869743",
   "metadata": {},
   "outputs": [
    {
     "name": "stderr",
     "output_type": "stream",
     "text": [
      "Loading cached processed dataset at /home/x/.cache/huggingface/datasets/anli/plain_text/0.1.0/aabce88453b06dff21c201855ea83283bab0390bff746deadb30b65695755c0b/cache-d198be314a77b6f4.arrow\n"
     ]
    },
    {
     "data": {
      "text/plain": [
       "Dataset({\n",
       "    features: ['prompt', 'completion'],\n",
       "    num_rows: 16946\n",
       "})"
      ]
     },
     "execution_count": 72,
     "metadata": {},
     "output_type": "execute_result"
    }
   ],
   "source": [
    "anli_only = anli['train_r1'].map(map_finetune)\n",
    "anli_only = anli_only.remove_columns(['uid', 'reason', 'premise', 'hypothesis', 'label'])\n",
    "anli_only"
   ]
  },
  {
   "cell_type": "code",
   "execution_count": 73,
   "id": "c7b5ec9c",
   "metadata": {},
   "outputs": [
    {
     "data": {
      "text/plain": [
       "Dataset({\n",
       "    features: ['prompt', 'completion'],\n",
       "    num_rows: 41946\n",
       "})"
      ]
     },
     "execution_count": 73,
     "metadata": {},
     "output_type": "execute_result"
    }
   ],
   "source": [
    "snli_plus_anli = concatenate_datasets([\n",
    "    snli_only.select(list(range(snli_training_size))),\n",
    "    anli_only\n",
    "]).shuffle(0)\n",
    "snli_plus_anli"
   ]
  },
  {
   "cell_type": "code",
   "execution_count": 74,
   "id": "7eeabc57",
   "metadata": {},
   "outputs": [
    {
     "name": "stderr",
     "output_type": "stream",
     "text": [
      "Loading cached shuffled indices for dataset at /home/x/.cache/huggingface/datasets/snli/plain_text/1.0.0/1f60b67533b65ae0275561ff7828aad5ee4282d0e6f844fd148d05d3c6ea251b/cache-70baa31142a3b54f.arrow\n",
      "Loading cached processed dataset at /home/x/.cache/huggingface/datasets/snli/plain_text/1.0.0/1f60b67533b65ae0275561ff7828aad5ee4282d0e6f844fd148d05d3c6ea251b/cache-7d2d35d5f4813980.arrow\n"
     ]
    },
    {
     "data": {
      "text/plain": [
       "Dataset({\n",
       "    features: ['prompt', 'completion'],\n",
       "    num_rows: 10000\n",
       "})"
      ]
     },
     "execution_count": 74,
     "metadata": {},
     "output_type": "execute_result"
    }
   ],
   "source": [
    "# Same setup for the validation\n",
    "total_valid_size = snli['validation'].num_rows\n",
    "anli_valid_size = anli['dev_r1'].num_rows\n",
    "snli_valid_size = total_valid_size - anli_valid_size\n",
    "\n",
    "snli_valid = snli['validation'].shuffle(0).select(list(range(total_valid_size)))\n",
    "snli_valid = snli_valid.map(map_finetune).remove_columns(['premise', 'hypothesis', 'label'])\n",
    "snli_valid"
   ]
  },
  {
   "cell_type": "code",
   "execution_count": 75,
   "id": "dcda29ee",
   "metadata": {},
   "outputs": [
    {
     "name": "stderr",
     "output_type": "stream",
     "text": [
      "Loading cached processed dataset at /home/x/.cache/huggingface/datasets/anli/plain_text/0.1.0/aabce88453b06dff21c201855ea83283bab0390bff746deadb30b65695755c0b/cache-5e201f1ee0e85880.arrow\n"
     ]
    },
    {
     "data": {
      "text/plain": [
       "Dataset({\n",
       "    features: ['prompt', 'completion'],\n",
       "    num_rows: 1000\n",
       "})"
      ]
     },
     "execution_count": 75,
     "metadata": {},
     "output_type": "execute_result"
    }
   ],
   "source": [
    "anli_valid = anli['dev_r1']\n",
    "anli_valid = anli_valid.map(map_finetune).remove_columns(['uid', 'reason', 'premise', 'hypothesis', 'label'])\n",
    "anli_valid"
   ]
  },
  {
   "cell_type": "code",
   "execution_count": 76,
   "id": "cc438fda",
   "metadata": {},
   "outputs": [
    {
     "name": "stderr",
     "output_type": "stream",
     "text": [
      "Loading cached shuffled indices for dataset at /home/x/.cache/huggingface/datasets/snli/plain_text/1.0.0/1f60b67533b65ae0275561ff7828aad5ee4282d0e6f844fd148d05d3c6ea251b/cache-be13fafa07810d17.arrow\n"
     ]
    },
    {
     "data": {
      "text/plain": [
       "Dataset({\n",
       "    features: ['prompt', 'completion'],\n",
       "    num_rows: 10000\n",
       "})"
      ]
     },
     "execution_count": 76,
     "metadata": {},
     "output_type": "execute_result"
    }
   ],
   "source": [
    "snli_plus_anli_valid = concatenate_datasets([\n",
    "    snli_valid.select(list(range(snli_valid_size))),\n",
    "    anli_valid\n",
    "]).shuffle(0)\n",
    "snli_plus_anli_valid"
   ]
  },
  {
   "cell_type": "code",
   "execution_count": 77,
   "id": "6f1958b2",
   "metadata": {},
   "outputs": [],
   "source": [
    "def upload(dataset, filename, purpose='fine-tune'):\n",
    "    dataset.to_json(filename)\n",
    "    response = openai.File.create(\n",
    "        file=open(filename), purpose=purpose\n",
    "    )\n",
    "    file_id = response['id']\n",
    "    return file_id"
   ]
  },
  {
   "cell_type": "code",
   "execution_count": 78,
   "id": "d921841d",
   "metadata": {},
   "outputs": [
    {
     "data": {
      "application/vnd.jupyter.widget-view+json": {
       "model_id": "bd65ff52fa1845d2b3530adfd41472f1",
       "version_major": 2,
       "version_minor": 0
      },
      "text/plain": [
       "HBox(children=(FloatProgress(value=0.0, max=5.0), HTML(value='')))"
      ]
     },
     "metadata": {},
     "output_type": "display_data"
    },
    {
     "name": "stdout",
     "output_type": "stream",
     "text": [
      "\n"
     ]
    },
    {
     "data": {
      "application/vnd.jupyter.widget-view+json": {
       "model_id": "93b6104fbffa407e97ea4aec4b2d52e2",
       "version_major": 2,
       "version_minor": 0
      },
      "text/plain": [
       "HBox(children=(FloatProgress(value=0.0, max=5.0), HTML(value='')))"
      ]
     },
     "metadata": {},
     "output_type": "display_data"
    },
    {
     "name": "stdout",
     "output_type": "stream",
     "text": [
      "\n"
     ]
    }
   ],
   "source": [
    "# Save and upload all files\n",
    "snli_train_id = upload(snli_only, 'ablation_snli_train.jsonl')\n",
    "# snli_valid_id = upload(snli_valid, 'ablation_snli_valid.jsonl')\n",
    "anli_train_id = upload(snli_plus_anli, 'ablation_anli_train.jsonl')\n",
    "# anli_valid_id = upload(snli_plus_anli_valid, 'ablation_anli_valid.jsonl')"
   ]
  },
  {
   "cell_type": "code",
   "execution_count": 79,
   "id": "34c48a18",
   "metadata": {},
   "outputs": [
    {
     "name": "stdout",
     "output_type": "stream",
     "text": [
      "file-SbdP5nU4beGEMZCH9P56MPjH\n",
      "file-1syChFe6i616f70H3MfnArBf\n",
      "file-a7ryGWMmgQwczg959jdTDsJw\n",
      "file-v5uBw86uR9XhsKeaKCLkTwKq\n"
     ]
    }
   ],
   "source": [
    "print(snli_train_id, snli_valid_id, anli_train_id, anli_valid_id, sep='\\n')"
   ]
  },
  {
   "cell_type": "code",
   "execution_count": 80,
   "id": "d46ae69f",
   "metadata": {},
   "outputs": [],
   "source": [
    "def finetune(\n",
    "    train_file_id,\n",
    "    valid_file_id,\n",
    "    model='curie',\n",
    "    n_epochs=4,\n",
    "    compute_classification_metrics=True,\n",
    "    classification_n_classes=3,\n",
    "):\n",
    "    # Initialize OpenAI API with API_KEY\n",
    "    init_openai()\n",
    "\n",
    "    # Create fine-tune\n",
    "    finetune_resp = openai.FineTune.create(\n",
    "        training_file=train_file_id,\n",
    "        validation_file=valid_file_id,\n",
    "        model=model,\n",
    "        n_epochs=n_epochs,\n",
    "        compute_classification_metrics=compute_classification_metrics,\n",
    "        classification_n_classes=classification_n_classes,\n",
    "    )\n",
    "\n",
    "    # Get the fine-tune ID\n",
    "    finetune_id = finetune_resp['id']\n",
    "\n",
    "    return finetune_id"
   ]
  },
  {
   "cell_type": "code",
   "execution_count": 84,
   "id": "523740b7",
   "metadata": {},
   "outputs": [
    {
     "data": {
      "text/plain": [
       "'ft-a0nNphtyncMOu5XmSLlUkvDz'"
      ]
     },
     "execution_count": 84,
     "metadata": {},
     "output_type": "execute_result"
    }
   ],
   "source": [
    "# Fine tuning 1: snli only with more snli data instead of anli\n",
    "snli_finetune_id = finetune(snli_train_id, snli_valid_id)\n",
    "snli_finetune_id"
   ]
  },
  {
   "cell_type": "code",
   "execution_count": 81,
   "id": "034ee951",
   "metadata": {},
   "outputs": [
    {
     "data": {
      "text/plain": [
       "'ft-rDeH2hvXBGo0ZlmsxEKbvkP4'"
      ]
     },
     "execution_count": 81,
     "metadata": {},
     "output_type": "execute_result"
    }
   ],
   "source": [
    "# Fine tuning 2: snli with anli in addition\n",
    "anli_finetune_id = finetune(anli_train_id, anli_valid_id)\n",
    "anli_finetune_id"
   ]
  },
  {
   "cell_type": "code",
   "execution_count": 85,
   "id": "69efd2ba",
   "metadata": {},
   "outputs": [
    {
     "data": {
      "text/plain": [
       "<FineTune fine-tune id=ft-a0nNphtyncMOu5XmSLlUkvDz at 0x7f690c09e6d0> JSON: {\n",
       "  \"created_at\": 1638837445,\n",
       "  \"events\": [\n",
       "    {\n",
       "      \"created_at\": 1638837445,\n",
       "      \"level\": \"info\",\n",
       "      \"message\": \"Created fine-tune: ft-a0nNphtyncMOu5XmSLlUkvDz\",\n",
       "      \"object\": \"fine-tune-event\"\n",
       "    }\n",
       "  ],\n",
       "  \"fine_tuned_model\": null,\n",
       "  \"hyperparams\": {\n",
       "    \"batch_size\": null,\n",
       "    \"classification_n_classes\": 3,\n",
       "    \"compute_classification_metrics\": true,\n",
       "    \"learning_rate_multiplier\": null,\n",
       "    \"n_epochs\": 4,\n",
       "    \"prompt_loss_weight\": 0.1,\n",
       "    \"use_packing\": null\n",
       "  },\n",
       "  \"id\": \"ft-a0nNphtyncMOu5XmSLlUkvDz\",\n",
       "  \"model\": \"curie\",\n",
       "  \"object\": \"fine-tune\",\n",
       "  \"organization_id\": \"org-5AE307Eg4rc5EAoEA2S2bwkH\",\n",
       "  \"result_files\": [],\n",
       "  \"status\": \"pending\",\n",
       "  \"training_files\": [\n",
       "    {\n",
       "      \"bytes\": 7630415,\n",
       "      \"created_at\": 1638837407,\n",
       "      \"filename\": \"ablation_snli_train.jsonl\",\n",
       "      \"id\": \"file-SbdP5nU4beGEMZCH9P56MPjH\",\n",
       "      \"object\": \"file\",\n",
       "      \"purpose\": \"fine-tune\",\n",
       "      \"status\": \"processed\",\n",
       "      \"status_details\": null\n",
       "    }\n",
       "  ],\n",
       "  \"updated_at\": 1638837445,\n",
       "  \"validation_files\": [\n",
       "    {\n",
       "      \"bytes\": 1883798,\n",
       "      \"created_at\": 1638836536,\n",
       "      \"filename\": \"ablation_snli_valid.jsonl\",\n",
       "      \"id\": \"file-1syChFe6i616f70H3MfnArBf\",\n",
       "      \"object\": \"file\",\n",
       "      \"purpose\": \"fine-tune\",\n",
       "      \"status\": \"processed\",\n",
       "      \"status_details\": null\n",
       "    }\n",
       "  ]\n",
       "}"
      ]
     },
     "execution_count": 85,
     "metadata": {},
     "output_type": "execute_result"
    }
   ],
   "source": [
    "openai.FineTune.retrieve(snli_finetune_id)"
   ]
  },
  {
   "cell_type": "code",
   "execution_count": 87,
   "id": "9c1218dc",
   "metadata": {
    "scrolled": false
   },
   "outputs": [
    {
     "data": {
      "text/plain": [
       "<FineTune fine-tune id=ft-rDeH2hvXBGo0ZlmsxEKbvkP4 at 0x7f690c09e900> JSON: {\n",
       "  \"created_at\": 1638837419,\n",
       "  \"events\": [\n",
       "    {\n",
       "      \"created_at\": 1638837420,\n",
       "      \"level\": \"info\",\n",
       "      \"message\": \"Created fine-tune: ft-rDeH2hvXBGo0ZlmsxEKbvkP4\",\n",
       "      \"object\": \"fine-tune-event\"\n",
       "    }\n",
       "  ],\n",
       "  \"fine_tuned_model\": null,\n",
       "  \"hyperparams\": {\n",
       "    \"batch_size\": null,\n",
       "    \"classification_n_classes\": 3,\n",
       "    \"compute_classification_metrics\": true,\n",
       "    \"learning_rate_multiplier\": null,\n",
       "    \"n_epochs\": 4,\n",
       "    \"prompt_loss_weight\": 0.1,\n",
       "    \"use_packing\": null\n",
       "  },\n",
       "  \"id\": \"ft-rDeH2hvXBGo0ZlmsxEKbvkP4\",\n",
       "  \"model\": \"curie\",\n",
       "  \"object\": \"fine-tune\",\n",
       "  \"organization_id\": \"org-5AE307Eg4rc5EAoEA2S2bwkH\",\n",
       "  \"result_files\": [],\n",
       "  \"status\": \"pending\",\n",
       "  \"training_files\": [\n",
       "    {\n",
       "      \"bytes\": 12587384,\n",
       "      \"created_at\": 1638837416,\n",
       "      \"filename\": \"ablation_anli_train.jsonl\",\n",
       "      \"id\": \"file-a7ryGWMmgQwczg959jdTDsJw\",\n",
       "      \"object\": \"file\",\n",
       "      \"purpose\": \"fine-tune\",\n",
       "      \"status\": \"processed\",\n",
       "      \"status_details\": null\n",
       "    }\n",
       "  ],\n",
       "  \"updated_at\": 1638837420,\n",
       "  \"validation_files\": [\n",
       "    {\n",
       "      \"bytes\": 2171077,\n",
       "      \"created_at\": 1638836551,\n",
       "      \"filename\": \"ablation_anli_valid.jsonl\",\n",
       "      \"id\": \"file-v5uBw86uR9XhsKeaKCLkTwKq\",\n",
       "      \"object\": \"file\",\n",
       "      \"purpose\": \"fine-tune\",\n",
       "      \"status\": \"processed\",\n",
       "      \"status_details\": null\n",
       "    }\n",
       "  ]\n",
       "}"
      ]
     },
     "execution_count": 87,
     "metadata": {},
     "output_type": "execute_result"
    }
   ],
   "source": [
    "openai.FineTune.retrieve(anli_finetune_id)"
   ]
  },
  {
   "cell_type": "code",
   "execution_count": 86,
   "id": "9233712a",
   "metadata": {
    "scrolled": true
   },
   "outputs": [
    {
     "data": {
      "text/plain": [
       "<OpenAIObject list at 0x7f690c098b80> JSON: {\n",
       "  \"data\": [\n",
       "    {\n",
       "      \"created_at\": 1638409797,\n",
       "      \"fine_tuned_model\": null,\n",
       "      \"hyperparams\": {\n",
       "        \"batch_size\": null,\n",
       "        \"classification_n_classes\": 3,\n",
       "        \"compute_classification_metrics\": true,\n",
       "        \"learning_rate_multiplier\": null,\n",
       "        \"n_epochs\": 4,\n",
       "        \"prompt_loss_weight\": 0.1,\n",
       "        \"use_packing\": null\n",
       "      },\n",
       "      \"id\": \"ft-dUn3kTdJRe33NcVQlngm2L1n\",\n",
       "      \"model\": \"curie\",\n",
       "      \"object\": \"fine-tune\",\n",
       "      \"organization_id\": \"org-5AE307Eg4rc5EAoEA2S2bwkH\",\n",
       "      \"result_files\": [],\n",
       "      \"status\": \"failed\",\n",
       "      \"training_files\": [\n",
       "        {\n",
       "          \"bytes\": 98207620,\n",
       "          \"created_at\": 1638409664,\n",
       "          \"filename\": \"snli_finetune_train.jsonl\",\n",
       "          \"id\": \"file-zESrbwb1mh3p2OjVzhcsKmH4\",\n",
       "          \"object\": \"file\",\n",
       "          \"purpose\": \"fine-tune\",\n",
       "          \"status\": \"error\",\n",
       "          \"status_details\": \"The file contains 20821169 tokens and exceeds our 3000000 token limit. Please contact finetuning@openai.com and tell us about your use-case if you would like this limit increased.\"\n",
       "        }\n",
       "      ],\n",
       "      \"updated_at\": 1638409803,\n",
       "      \"validation_files\": [\n",
       "        {\n",
       "          \"bytes\": 1822513,\n",
       "          \"created_at\": 1638409667,\n",
       "          \"filename\": \"snli_finetune_validation.jsonl\",\n",
       "          \"id\": \"file-QC8NTdPW56lhbaDtuxvofGLj\",\n",
       "          \"object\": \"file\",\n",
       "          \"purpose\": \"fine-tune\",\n",
       "          \"status\": \"processed\",\n",
       "          \"status_details\": null\n",
       "        }\n",
       "      ]\n",
       "    },\n",
       "    {\n",
       "      \"created_at\": 1638410655,\n",
       "      \"fine_tuned_model\": \"curie:ft-user-5hzndcnnszukksvrzrlnjn8l-2021-12-02-03-14-04\",\n",
       "      \"hyperparams\": {\n",
       "        \"batch_size\": 2,\n",
       "        \"classification_n_classes\": 3,\n",
       "        \"compute_classification_metrics\": true,\n",
       "        \"learning_rate_multiplier\": 0.2,\n",
       "        \"n_epochs\": 4,\n",
       "        \"prompt_loss_weight\": 0.1,\n",
       "        \"use_packing\": true\n",
       "      },\n",
       "      \"id\": \"ft-liaJqXchRH2a0b7InmAZuvEG\",\n",
       "      \"model\": \"curie\",\n",
       "      \"object\": \"fine-tune\",\n",
       "      \"organization_id\": \"org-5AE307Eg4rc5EAoEA2S2bwkH\",\n",
       "      \"result_files\": [\n",
       "        {\n",
       "          \"bytes\": 129886,\n",
       "          \"created_at\": 1638414846,\n",
       "          \"filename\": \"compiled_results.csv\",\n",
       "          \"id\": \"file-fODaqo7g6sIEmjKDynpQUfJq\",\n",
       "          \"object\": \"file\",\n",
       "          \"purpose\": \"fine-tune-results\",\n",
       "          \"status\": \"processed\",\n",
       "          \"status_details\": null\n",
       "        }\n",
       "      ],\n",
       "      \"status\": \"succeeded\",\n",
       "      \"training_files\": [\n",
       "        {\n",
       "          \"bytes\": 9805852,\n",
       "          \"created_at\": 1638410623,\n",
       "          \"filename\": \"snli_finetune_train_sample.jsonl\",\n",
       "          \"id\": \"file-pD1lpBznzyfCVq8U8rOV58RE\",\n",
       "          \"object\": \"file\",\n",
       "          \"purpose\": \"fine-tune\",\n",
       "          \"status\": \"processed\",\n",
       "          \"status_details\": null\n",
       "        }\n",
       "      ],\n",
       "      \"updated_at\": 1638414849,\n",
       "      \"validation_files\": [\n",
       "        {\n",
       "          \"bytes\": 1822513,\n",
       "          \"created_at\": 1638409667,\n",
       "          \"filename\": \"snli_finetune_validation.jsonl\",\n",
       "          \"id\": \"file-QC8NTdPW56lhbaDtuxvofGLj\",\n",
       "          \"object\": \"file\",\n",
       "          \"purpose\": \"fine-tune\",\n",
       "          \"status\": \"processed\",\n",
       "          \"status_details\": null\n",
       "        }\n",
       "      ]\n",
       "    },\n",
       "    {\n",
       "      \"created_at\": 1638669489,\n",
       "      \"fine_tuned_model\": \"curie:ft-user-5hzndcnnszukksvrzrlnjn8l-2021-12-05-02-38-38\",\n",
       "      \"hyperparams\": {\n",
       "        \"batch_size\": 1,\n",
       "        \"classification_n_classes\": 2,\n",
       "        \"classification_positive_class\": \"Yes\",\n",
       "        \"compute_classification_metrics\": true,\n",
       "        \"learning_rate_multiplier\": 0.1,\n",
       "        \"n_epochs\": 4,\n",
       "        \"prompt_loss_weight\": 0.1,\n",
       "        \"use_packing\": true\n",
       "      },\n",
       "      \"id\": \"ft-9ZmeSNYkAUhZEmXkoiigSMdJ\",\n",
       "      \"model\": \"curie\",\n",
       "      \"object\": \"fine-tune\",\n",
       "      \"organization_id\": \"org-5AE307Eg4rc5EAoEA2S2bwkH\",\n",
       "      \"result_files\": [\n",
       "        {\n",
       "          \"bytes\": 163900,\n",
       "          \"created_at\": 1638671921,\n",
       "          \"filename\": \"compiled_results.csv\",\n",
       "          \"id\": \"file-7mMJchteVwqmaih6gj199hXk\",\n",
       "          \"object\": \"file\",\n",
       "          \"purpose\": \"fine-tune-results\",\n",
       "          \"status\": \"processed\",\n",
       "          \"status_details\": null\n",
       "        }\n",
       "      ],\n",
       "      \"status\": \"succeeded\",\n",
       "      \"training_files\": [\n",
       "        {\n",
       "          \"bytes\": 6223009,\n",
       "          \"created_at\": 1638669386,\n",
       "          \"filename\": \"boolq_finetune_train.jsonl\",\n",
       "          \"id\": \"file-gJIlaEZ4vKpcMs8kOd8Tzifx\",\n",
       "          \"object\": \"file\",\n",
       "          \"purpose\": \"fine-tune\",\n",
       "          \"status\": \"processed\",\n",
       "          \"status_details\": null\n",
       "        }\n",
       "      ],\n",
       "      \"updated_at\": 1638671924,\n",
       "      \"validation_files\": [\n",
       "        {\n",
       "          \"bytes\": 2134729,\n",
       "          \"created_at\": 1638669392,\n",
       "          \"filename\": \"boolq_finetune_valid.jsonl\",\n",
       "          \"id\": \"file-MahHYpnc6hjHw2EZQ1CH3jOw\",\n",
       "          \"object\": \"file\",\n",
       "          \"purpose\": \"fine-tune\",\n",
       "          \"status\": \"processed\",\n",
       "          \"status_details\": null\n",
       "        }\n",
       "      ]\n",
       "    },\n",
       "    {\n",
       "      \"created_at\": 1638672534,\n",
       "      \"fine_tuned_model\": \"curie:ft-user-5hzndcnnszukksvrzrlnjn8l-2021-12-05-03-26-14\",\n",
       "      \"hyperparams\": {\n",
       "        \"batch_size\": 1,\n",
       "        \"classification_n_classes\": 3,\n",
       "        \"compute_classification_metrics\": true,\n",
       "        \"learning_rate_multiplier\": 0.2,\n",
       "        \"n_epochs\": 4,\n",
       "        \"prompt_loss_weight\": 0.1,\n",
       "        \"use_packing\": true\n",
       "      },\n",
       "      \"id\": \"ft-uYZ4vdMlvmoLVuycheBpvM7U\",\n",
       "      \"model\": \"curie\",\n",
       "      \"object\": \"fine-tune\",\n",
       "      \"organization_id\": \"org-5AE307Eg4rc5EAoEA2S2bwkH\",\n",
       "      \"result_files\": [\n",
       "        {\n",
       "          \"bytes\": 217340,\n",
       "          \"created_at\": 1638674777,\n",
       "          \"filename\": \"compiled_results.csv\",\n",
       "          \"id\": \"file-8d5IsoqvC86h9bihVABgKQSP\",\n",
       "          \"object\": \"file\",\n",
       "          \"purpose\": \"fine-tune-results\",\n",
       "          \"status\": \"processed\",\n",
       "          \"status_details\": null\n",
       "        }\n",
       "      ],\n",
       "      \"status\": \"succeeded\",\n",
       "      \"training_files\": [\n",
       "        {\n",
       "          \"bytes\": 8042647,\n",
       "          \"created_at\": 1638672457,\n",
       "          \"filename\": \"anli_finetune_train_r1.jsonl\",\n",
       "          \"id\": \"file-FkO4WnaoNWQjODh96npgZ6Kr\",\n",
       "          \"object\": \"file\",\n",
       "          \"purpose\": \"fine-tune\",\n",
       "          \"status\": \"processed\",\n",
       "          \"status_details\": null\n",
       "        }\n",
       "      ],\n",
       "      \"updated_at\": 1638674780,\n",
       "      \"validation_files\": [\n",
       "        {\n",
       "          \"bytes\": 475195,\n",
       "          \"created_at\": 1638672465,\n",
       "          \"filename\": \"anli_finetune_dev_r1.jsonl\",\n",
       "          \"id\": \"file-cZYCbTSEyYvGpQ1lW2kB41pg\",\n",
       "          \"object\": \"file\",\n",
       "          \"purpose\": \"fine-tune\",\n",
       "          \"status\": \"processed\",\n",
       "          \"status_details\": null\n",
       "        }\n",
       "      ]\n",
       "    },\n",
       "    {\n",
       "      \"created_at\": 1638820976,\n",
       "      \"fine_tuned_model\": null,\n",
       "      \"hyperparams\": {\n",
       "        \"batch_size\": 2,\n",
       "        \"classification_n_classes\": 3,\n",
       "        \"compute_classification_metrics\": true,\n",
       "        \"learning_rate_multiplier\": 0.2,\n",
       "        \"n_epochs\": 4,\n",
       "        \"prompt_loss_weight\": 0.1,\n",
       "        \"use_packing\": true\n",
       "      },\n",
       "      \"id\": \"ft-8brkU9ndEMQxJrA6PuE8CRdS\",\n",
       "      \"model\": \"curie\",\n",
       "      \"object\": \"fine-tune\",\n",
       "      \"organization_id\": \"org-5AE307Eg4rc5EAoEA2S2bwkH\",\n",
       "      \"result_files\": [],\n",
       "      \"status\": \"running\",\n",
       "      \"training_files\": [\n",
       "        {\n",
       "          \"bytes\": 17853570,\n",
       "          \"created_at\": 1638820971,\n",
       "          \"filename\": \"snli_finetune_train_sample.jsonl\",\n",
       "          \"id\": \"file-vEGR3mzOq5XylMgqV5zjuFv5\",\n",
       "          \"object\": \"file\",\n",
       "          \"purpose\": \"fine-tune\",\n",
       "          \"status\": \"processed\",\n",
       "          \"status_details\": null\n",
       "        }\n",
       "      ],\n",
       "      \"updated_at\": 1638837388,\n",
       "      \"validation_files\": [\n",
       "        {\n",
       "          \"bytes\": 3377151,\n",
       "          \"created_at\": 1638820976,\n",
       "          \"filename\": \"snli_finetune_validation.jsonl\",\n",
       "          \"id\": \"file-sCWXvJkbPPdRW4hLXGutd56g\",\n",
       "          \"object\": \"file\",\n",
       "          \"purpose\": \"fine-tune\",\n",
       "          \"status\": \"processed\",\n",
       "          \"status_details\": null\n",
       "        }\n",
       "      ]\n",
       "    },\n",
       "    {\n",
       "      \"created_at\": 1638836635,\n",
       "      \"fine_tuned_model\": null,\n",
       "      \"hyperparams\": {\n",
       "        \"batch_size\": null,\n",
       "        \"classification_n_classes\": 3,\n",
       "        \"compute_classification_metrics\": true,\n",
       "        \"learning_rate_multiplier\": null,\n",
       "        \"n_epochs\": 4,\n",
       "        \"prompt_loss_weight\": 0.1,\n",
       "        \"use_packing\": null\n",
       "      },\n",
       "      \"id\": \"ft-zuYz2YKZWfVBkqAm9npHQ6EL\",\n",
       "      \"model\": \"curie\",\n",
       "      \"object\": \"fine-tune\",\n",
       "      \"organization_id\": \"org-5AE307Eg4rc5EAoEA2S2bwkH\",\n",
       "      \"result_files\": [],\n",
       "      \"status\": \"cancelled\",\n",
       "      \"training_files\": [\n",
       "        {\n",
       "          \"bytes\": 13081587,\n",
       "          \"created_at\": 1638836534,\n",
       "          \"filename\": \"ablation_snli_train.jsonl\",\n",
       "          \"id\": \"file-pjFUo8RYVsLpdFhPr1vnyD64\",\n",
       "          \"object\": \"file\",\n",
       "          \"purpose\": \"fine-tune\",\n",
       "          \"status\": \"processed\",\n",
       "          \"status_details\": null\n",
       "        }\n",
       "      ],\n",
       "      \"updated_at\": 1638836847,\n",
       "      \"validation_files\": [\n",
       "        {\n",
       "          \"bytes\": 1883798,\n",
       "          \"created_at\": 1638836536,\n",
       "          \"filename\": \"ablation_snli_valid.jsonl\",\n",
       "          \"id\": \"file-1syChFe6i616f70H3MfnArBf\",\n",
       "          \"object\": \"file\",\n",
       "          \"purpose\": \"fine-tune\",\n",
       "          \"status\": \"processed\",\n",
       "          \"status_details\": null\n",
       "        }\n",
       "      ]\n",
       "    },\n",
       "    {\n",
       "      \"created_at\": 1638836680,\n",
       "      \"fine_tuned_model\": null,\n",
       "      \"hyperparams\": {\n",
       "        \"batch_size\": null,\n",
       "        \"classification_n_classes\": 3,\n",
       "        \"compute_classification_metrics\": true,\n",
       "        \"learning_rate_multiplier\": null,\n",
       "        \"n_epochs\": 4,\n",
       "        \"prompt_loss_weight\": 0.1,\n",
       "        \"use_packing\": null\n",
       "      },\n",
       "      \"id\": \"ft-5ZkUyJsv9EE8mp60ldJMtBeg\",\n",
       "      \"model\": \"curie\",\n",
       "      \"object\": \"fine-tune\",\n",
       "      \"organization_id\": \"org-5AE307Eg4rc5EAoEA2S2bwkH\",\n",
       "      \"result_files\": [],\n",
       "      \"status\": \"cancelled\",\n",
       "      \"training_files\": [\n",
       "        {\n",
       "          \"bytes\": 18042444,\n",
       "          \"created_at\": 1638836547,\n",
       "          \"filename\": \"ablation_anli_train.jsonl\",\n",
       "          \"id\": \"file-BlVmSW6Yiwrb0zE6dZERe3q9\",\n",
       "          \"object\": \"file\",\n",
       "          \"purpose\": \"fine-tune\",\n",
       "          \"status\": \"error\",\n",
       "          \"status_details\": \"The file contains 4065518 tokens and exceeds our 3000000 token limit. Please contact finetuning@openai.com and tell us about your use-case if you would like this limit increased.\"\n",
       "        }\n",
       "      ],\n",
       "      \"updated_at\": 1638837193,\n",
       "      \"validation_files\": [\n",
       "        {\n",
       "          \"bytes\": 2171077,\n",
       "          \"created_at\": 1638836551,\n",
       "          \"filename\": \"ablation_anli_valid.jsonl\",\n",
       "          \"id\": \"file-v5uBw86uR9XhsKeaKCLkTwKq\",\n",
       "          \"object\": \"file\",\n",
       "          \"purpose\": \"fine-tune\",\n",
       "          \"status\": \"processed\",\n",
       "          \"status_details\": null\n",
       "        }\n",
       "      ]\n",
       "    },\n",
       "    {\n",
       "      \"created_at\": 1638837003,\n",
       "      \"fine_tuned_model\": null,\n",
       "      \"hyperparams\": {\n",
       "        \"batch_size\": null,\n",
       "        \"classification_n_classes\": 3,\n",
       "        \"compute_classification_metrics\": true,\n",
       "        \"learning_rate_multiplier\": null,\n",
       "        \"n_epochs\": 4,\n",
       "        \"prompt_loss_weight\": 0.1,\n",
       "        \"use_packing\": null\n",
       "      },\n",
       "      \"id\": \"ft-RzTia5oibBsl4cD4hPNyXirQ\",\n",
       "      \"model\": \"curie\",\n",
       "      \"object\": \"fine-tune\",\n",
       "      \"organization_id\": \"org-5AE307Eg4rc5EAoEA2S2bwkH\",\n",
       "      \"result_files\": [],\n",
       "      \"status\": \"cancelled\",\n",
       "      \"training_files\": [\n",
       "        {\n",
       "          \"bytes\": 15319821,\n",
       "          \"created_at\": 1638836990,\n",
       "          \"filename\": \"ablation_anli_train.jsonl\",\n",
       "          \"id\": \"file-bLemSHfPuTIrqdZJEjI4lbH7\",\n",
       "          \"object\": \"file\",\n",
       "          \"purpose\": \"fine-tune\",\n",
       "          \"status\": \"error\",\n",
       "          \"status_details\": \"The file contains 3452873 tokens and exceeds our 3000000 token limit. Please contact finetuning@openai.com and tell us about your use-case if you would like this limit increased.\"\n",
       "        }\n",
       "      ],\n",
       "      \"updated_at\": 1638837207,\n",
       "      \"validation_files\": [\n",
       "        {\n",
       "          \"bytes\": 2171077,\n",
       "          \"created_at\": 1638836551,\n",
       "          \"filename\": \"ablation_anli_valid.jsonl\",\n",
       "          \"id\": \"file-v5uBw86uR9XhsKeaKCLkTwKq\",\n",
       "          \"object\": \"file\",\n",
       "          \"purpose\": \"fine-tune\",\n",
       "          \"status\": \"processed\",\n",
       "          \"status_details\": null\n",
       "        }\n",
       "      ]\n",
       "    },\n",
       "    {\n",
       "      \"created_at\": 1638837098,\n",
       "      \"fine_tuned_model\": null,\n",
       "      \"hyperparams\": {\n",
       "        \"batch_size\": null,\n",
       "        \"classification_n_classes\": 3,\n",
       "        \"compute_classification_metrics\": true,\n",
       "        \"learning_rate_multiplier\": null,\n",
       "        \"n_epochs\": 4,\n",
       "        \"prompt_loss_weight\": 0.1,\n",
       "        \"use_packing\": null\n",
       "      },\n",
       "      \"id\": \"ft-4oet9pCBD6O8GZcNIFjXNz0c\",\n",
       "      \"model\": \"curie\",\n",
       "      \"object\": \"fine-tune\",\n",
       "      \"organization_id\": \"org-5AE307Eg4rc5EAoEA2S2bwkH\",\n",
       "      \"result_files\": [],\n",
       "      \"status\": \"cancelled\",\n",
       "      \"training_files\": [\n",
       "        {\n",
       "          \"bytes\": 14411848,\n",
       "          \"created_at\": 1638837091,\n",
       "          \"filename\": \"ablation_anli_train.jsonl\",\n",
       "          \"id\": \"file-TQKqgrSdohcS5pkoeNQCdP1f\",\n",
       "          \"object\": \"file\",\n",
       "          \"purpose\": \"fine-tune\",\n",
       "          \"status\": \"error\",\n",
       "          \"status_details\": \"The file contains 3248582 tokens and exceeds our 3000000 token limit. Please contact finetuning@openai.com and tell us about your use-case if you would like this limit increased.\"\n",
       "        }\n",
       "      ],\n",
       "      \"updated_at\": 1638837254,\n",
       "      \"validation_files\": [\n",
       "        {\n",
       "          \"bytes\": 2171077,\n",
       "          \"created_at\": 1638836551,\n",
       "          \"filename\": \"ablation_anli_valid.jsonl\",\n",
       "          \"id\": \"file-v5uBw86uR9XhsKeaKCLkTwKq\",\n",
       "          \"object\": \"file\",\n",
       "          \"purpose\": \"fine-tune\",\n",
       "          \"status\": \"processed\",\n",
       "          \"status_details\": null\n",
       "        }\n",
       "      ]\n",
       "    },\n",
       "    {\n",
       "      \"created_at\": 1638837111,\n",
       "      \"fine_tuned_model\": null,\n",
       "      \"hyperparams\": {\n",
       "        \"batch_size\": null,\n",
       "        \"classification_n_classes\": 3,\n",
       "        \"compute_classification_metrics\": true,\n",
       "        \"learning_rate_multiplier\": null,\n",
       "        \"n_epochs\": 4,\n",
       "        \"prompt_loss_weight\": 0.1,\n",
       "        \"use_packing\": null\n",
       "      },\n",
       "      \"id\": \"ft-EX6zAXWRNUm9Yksp7w4JuDhy\",\n",
       "      \"model\": \"curie\",\n",
       "      \"object\": \"fine-tune\",\n",
       "      \"organization_id\": \"org-5AE307Eg4rc5EAoEA2S2bwkH\",\n",
       "      \"result_files\": [],\n",
       "      \"status\": \"cancelled\",\n",
       "      \"training_files\": [\n",
       "        {\n",
       "          \"bytes\": 9444971,\n",
       "          \"created_at\": 1638837082,\n",
       "          \"filename\": \"ablation_snli_train.jsonl\",\n",
       "          \"id\": \"file-wFPRJZwjYDZ6woAAhRzyS4AB\",\n",
       "          \"object\": \"file\",\n",
       "          \"purpose\": \"fine-tune\",\n",
       "          \"status\": \"processed\",\n",
       "          \"status_details\": null\n",
       "        }\n",
       "      ],\n",
       "      \"updated_at\": 1638837263,\n",
       "      \"validation_files\": [\n",
       "        {\n",
       "          \"bytes\": 1883798,\n",
       "          \"created_at\": 1638836536,\n",
       "          \"filename\": \"ablation_snli_valid.jsonl\",\n",
       "          \"id\": \"file-1syChFe6i616f70H3MfnArBf\",\n",
       "          \"object\": \"file\",\n",
       "          \"purpose\": \"fine-tune\",\n",
       "          \"status\": \"processed\",\n",
       "          \"status_details\": null\n",
       "        }\n",
       "      ]\n",
       "    },\n",
       "    {\n",
       "      \"created_at\": 1638837342,\n",
       "      \"fine_tuned_model\": null,\n",
       "      \"hyperparams\": {\n",
       "        \"batch_size\": null,\n",
       "        \"classification_n_classes\": 3,\n",
       "        \"compute_classification_metrics\": true,\n",
       "        \"learning_rate_multiplier\": null,\n",
       "        \"n_epochs\": 4,\n",
       "        \"prompt_loss_weight\": 0.1,\n",
       "        \"use_packing\": null\n",
       "      },\n",
       "      \"id\": \"ft-c3uTTRmjuODtbxvK4J9IWOO8\",\n",
       "      \"model\": \"curie\",\n",
       "      \"object\": \"fine-tune\",\n",
       "      \"organization_id\": \"org-5AE307Eg4rc5EAoEA2S2bwkH\",\n",
       "      \"result_files\": [],\n",
       "      \"status\": \"cancelled\",\n",
       "      \"training_files\": [\n",
       "        {\n",
       "          \"bytes\": 13499120,\n",
       "          \"created_at\": 1638837298,\n",
       "          \"filename\": \"ablation_anli_train.jsonl\",\n",
       "          \"id\": \"file-q8ajEIfbnRtlhsVeeWcB7eON\",\n",
       "          \"object\": \"file\",\n",
       "          \"purpose\": \"fine-tune\",\n",
       "          \"status\": \"error\",\n",
       "          \"status_details\": \"The file contains 3043391 tokens and exceeds our 3000000 token limit. Please contact finetuning@openai.com and tell us about your use-case if you would like this limit increased.\"\n",
       "        }\n",
       "      ],\n",
       "      \"updated_at\": 1638837362,\n",
       "      \"validation_files\": [\n",
       "        {\n",
       "          \"bytes\": 2171077,\n",
       "          \"created_at\": 1638836551,\n",
       "          \"filename\": \"ablation_anli_valid.jsonl\",\n",
       "          \"id\": \"file-v5uBw86uR9XhsKeaKCLkTwKq\",\n",
       "          \"object\": \"file\",\n",
       "          \"purpose\": \"fine-tune\",\n",
       "          \"status\": \"processed\",\n",
       "          \"status_details\": null\n",
       "        }\n",
       "      ]\n",
       "    },\n",
       "    {\n",
       "      \"created_at\": 1638837419,\n",
       "      \"fine_tuned_model\": null,\n",
       "      \"hyperparams\": {\n",
       "        \"batch_size\": null,\n",
       "        \"classification_n_classes\": 3,\n",
       "        \"compute_classification_metrics\": true,\n",
       "        \"learning_rate_multiplier\": null,\n",
       "        \"n_epochs\": 4,\n",
       "        \"prompt_loss_weight\": 0.1,\n",
       "        \"use_packing\": null\n",
       "      },\n",
       "      \"id\": \"ft-rDeH2hvXBGo0ZlmsxEKbvkP4\",\n",
       "      \"model\": \"curie\",\n",
       "      \"object\": \"fine-tune\",\n",
       "      \"organization_id\": \"org-5AE307Eg4rc5EAoEA2S2bwkH\",\n",
       "      \"result_files\": [],\n",
       "      \"status\": \"pending\",\n",
       "      \"training_files\": [\n",
       "        {\n",
       "          \"bytes\": 12587384,\n",
       "          \"created_at\": 1638837416,\n",
       "          \"filename\": \"ablation_anli_train.jsonl\",\n",
       "          \"id\": \"file-a7ryGWMmgQwczg959jdTDsJw\",\n",
       "          \"object\": \"file\",\n",
       "          \"purpose\": \"fine-tune\",\n",
       "          \"status\": \"processed\",\n",
       "          \"status_details\": null\n",
       "        }\n",
       "      ],\n",
       "      \"updated_at\": 1638837420,\n",
       "      \"validation_files\": [\n",
       "        {\n",
       "          \"bytes\": 2171077,\n",
       "          \"created_at\": 1638836551,\n",
       "          \"filename\": \"ablation_anli_valid.jsonl\",\n",
       "          \"id\": \"file-v5uBw86uR9XhsKeaKCLkTwKq\",\n",
       "          \"object\": \"file\",\n",
       "          \"purpose\": \"fine-tune\",\n",
       "          \"status\": \"processed\",\n",
       "          \"status_details\": null\n",
       "        }\n",
       "      ]\n",
       "    },\n",
       "    {\n",
       "      \"created_at\": 1638837445,\n",
       "      \"fine_tuned_model\": null,\n",
       "      \"hyperparams\": {\n",
       "        \"batch_size\": null,\n",
       "        \"classification_n_classes\": 3,\n",
       "        \"compute_classification_metrics\": true,\n",
       "        \"learning_rate_multiplier\": null,\n",
       "        \"n_epochs\": 4,\n",
       "        \"prompt_loss_weight\": 0.1,\n",
       "        \"use_packing\": null\n",
       "      },\n",
       "      \"id\": \"ft-a0nNphtyncMOu5XmSLlUkvDz\",\n",
       "      \"model\": \"curie\",\n",
       "      \"object\": \"fine-tune\",\n",
       "      \"organization_id\": \"org-5AE307Eg4rc5EAoEA2S2bwkH\",\n",
       "      \"result_files\": [],\n",
       "      \"status\": \"pending\",\n",
       "      \"training_files\": [\n",
       "        {\n",
       "          \"bytes\": 7630415,\n",
       "          \"created_at\": 1638837407,\n",
       "          \"filename\": \"ablation_snli_train.jsonl\",\n",
       "          \"id\": \"file-SbdP5nU4beGEMZCH9P56MPjH\",\n",
       "          \"object\": \"file\",\n",
       "          \"purpose\": \"fine-tune\",\n",
       "          \"status\": \"processed\",\n",
       "          \"status_details\": null\n",
       "        }\n",
       "      ],\n",
       "      \"updated_at\": 1638837445,\n",
       "      \"validation_files\": [\n",
       "        {\n",
       "          \"bytes\": 1883798,\n",
       "          \"created_at\": 1638836536,\n",
       "          \"filename\": \"ablation_snli_valid.jsonl\",\n",
       "          \"id\": \"file-1syChFe6i616f70H3MfnArBf\",\n",
       "          \"object\": \"file\",\n",
       "          \"purpose\": \"fine-tune\",\n",
       "          \"status\": \"processed\",\n",
       "          \"status_details\": null\n",
       "        }\n",
       "      ]\n",
       "    }\n",
       "  ],\n",
       "  \"object\": \"list\"\n",
       "}"
      ]
     },
     "execution_count": 86,
     "metadata": {},
     "output_type": "execute_result"
    }
   ],
   "source": [
    "openai.FineTune.list()"
   ]
  },
  {
   "cell_type": "code",
   "execution_count": 69,
   "id": "22ee53d3",
   "metadata": {},
   "outputs": [
    {
     "data": {
      "text/plain": [
       "<FineTune fine-tune id=ft-c3uTTRmjuODtbxvK4J9IWOO8 at 0x7f6920cd6ae0> JSON: {\n",
       "  \"created_at\": 1638837342,\n",
       "  \"events\": [\n",
       "    {\n",
       "      \"created_at\": 1638837342,\n",
       "      \"level\": \"info\",\n",
       "      \"message\": \"Created fine-tune: ft-c3uTTRmjuODtbxvK4J9IWOO8\",\n",
       "      \"object\": \"fine-tune-event\"\n",
       "    },\n",
       "    {\n",
       "      \"created_at\": 1638837362,\n",
       "      \"level\": \"info\",\n",
       "      \"message\": \"Fine-tune cancelled\",\n",
       "      \"object\": \"fine-tune-event\"\n",
       "    }\n",
       "  ],\n",
       "  \"fine_tuned_model\": null,\n",
       "  \"hyperparams\": {\n",
       "    \"batch_size\": null,\n",
       "    \"classification_n_classes\": 3,\n",
       "    \"compute_classification_metrics\": true,\n",
       "    \"learning_rate_multiplier\": null,\n",
       "    \"n_epochs\": 4,\n",
       "    \"prompt_loss_weight\": 0.1,\n",
       "    \"use_packing\": null\n",
       "  },\n",
       "  \"id\": \"ft-c3uTTRmjuODtbxvK4J9IWOO8\",\n",
       "  \"model\": \"curie\",\n",
       "  \"object\": \"fine-tune\",\n",
       "  \"organization_id\": \"org-5AE307Eg4rc5EAoEA2S2bwkH\",\n",
       "  \"result_files\": [],\n",
       "  \"status\": \"cancelled\",\n",
       "  \"training_files\": [\n",
       "    {\n",
       "      \"bytes\": 13499120,\n",
       "      \"created_at\": 1638837298,\n",
       "      \"filename\": \"ablation_anli_train.jsonl\",\n",
       "      \"id\": \"file-q8ajEIfbnRtlhsVeeWcB7eON\",\n",
       "      \"object\": \"file\",\n",
       "      \"purpose\": \"fine-tune\",\n",
       "      \"status\": \"error\",\n",
       "      \"status_details\": \"The file contains 3043391 tokens and exceeds our 3000000 token limit. Please contact finetuning@openai.com and tell us about your use-case if you would like this limit increased.\"\n",
       "    }\n",
       "  ],\n",
       "  \"updated_at\": 1638837362,\n",
       "  \"validation_files\": [\n",
       "    {\n",
       "      \"bytes\": 2171077,\n",
       "      \"created_at\": 1638836551,\n",
       "      \"filename\": \"ablation_anli_valid.jsonl\",\n",
       "      \"id\": \"file-v5uBw86uR9XhsKeaKCLkTwKq\",\n",
       "      \"object\": \"file\",\n",
       "      \"purpose\": \"fine-tune\",\n",
       "      \"status\": \"processed\",\n",
       "      \"status_details\": null\n",
       "    }\n",
       "  ]\n",
       "}"
      ]
     },
     "execution_count": 69,
     "metadata": {},
     "output_type": "execute_result"
    }
   ],
   "source": [
    "openai.FineTune.cancel()"
   ]
  },
  {
   "cell_type": "code",
   "execution_count": null,
   "id": "42340623",
   "metadata": {},
   "outputs": [],
   "source": []
  }
 ],
 "metadata": {
  "kernelspec": {
   "display_name": "Python 3 (ipykernel)",
   "language": "python",
   "name": "python3"
  },
  "language_info": {
   "codemirror_mode": {
    "name": "ipython",
    "version": 3
   },
   "file_extension": ".py",
   "mimetype": "text/x-python",
   "name": "python",
   "nbconvert_exporter": "python",
   "pygments_lexer": "ipython3",
   "version": "3.9.5"
  }
 },
 "nbformat": 4,
 "nbformat_minor": 5
}
