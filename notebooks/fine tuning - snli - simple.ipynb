{
 "cells": [
  {
   "cell_type": "code",
   "execution_count": 1,
   "id": "73aabf0a",
   "metadata": {},
   "outputs": [],
   "source": [
    "import openai\n",
    "\n",
    "from fp_dataset_artifacts.utils import init_openai\n",
    "from fp_dataset_artifacts.snli import finetune, evaluate\n",
    "from datasets import list_datasets, load_dataset, list_metrics, load_metric\n",
    "\n",
    "# Initialize OpenAI API with API_KEY\n",
    "init_openai()"
   ]
  },
  {
   "cell_type": "code",
   "execution_count": 2,
   "id": "39b9854e",
   "metadata": {},
   "outputs": [
    {
     "name": "stderr",
     "output_type": "stream",
     "text": [
      "Reusing dataset snli (/home/x/.cache/huggingface/datasets/snli/plain_text/1.0.0/1f60b67533b65ae0275561ff7828aad5ee4282d0e6f844fd148d05d3c6ea251b)\n"
     ]
    },
    {
     "data": {
      "application/vnd.jupyter.widget-view+json": {
       "model_id": "0951116c17314922847974d4ddf82216",
       "version_major": 2,
       "version_minor": 0
      },
      "text/plain": [
       "  0%|          | 0/3 [00:00<?, ?it/s]"
      ]
     },
     "metadata": {},
     "output_type": "display_data"
    },
    {
     "name": "stderr",
     "output_type": "stream",
     "text": [
      "Loading cached shuffled indices for dataset at /home/x/.cache/huggingface/datasets/snli/plain_text/1.0.0/1f60b67533b65ae0275561ff7828aad5ee4282d0e6f844fd148d05d3c6ea251b/cache-58eae7b788318b35.arrow\n",
      "Loading cached processed dataset at /home/x/.cache/huggingface/datasets/snli/plain_text/1.0.0/1f60b67533b65ae0275561ff7828aad5ee4282d0e6f844fd148d05d3c6ea251b/cache-f79433c8b17f4fe9.arrow\n",
      "Loading cached processed dataset at /home/x/.cache/huggingface/datasets/snli/plain_text/1.0.0/1f60b67533b65ae0275561ff7828aad5ee4282d0e6f844fd148d05d3c6ea251b/cache-bc1cd21903c27049.arrow\n"
     ]
    },
    {
     "data": {
      "application/vnd.jupyter.widget-view+json": {
       "model_id": "8bcb769c753a4dc1bec4445f7c952bf6",
       "version_major": 2,
       "version_minor": 0
      },
      "text/plain": [
       "Creating json from Arrow format:   0%|          | 0/6 [00:00<?, ?ba/s]"
      ]
     },
     "metadata": {},
     "output_type": "display_data"
    },
    {
     "data": {
      "application/vnd.jupyter.widget-view+json": {
       "model_id": "f6df7583cb014f5c94e48c8f308f273c",
       "version_major": 2,
       "version_minor": 0
      },
      "text/plain": [
       "Creating json from Arrow format:   0%|          | 0/1 [00:00<?, ?ba/s]"
      ]
     },
     "metadata": {},
     "output_type": "display_data"
    },
    {
     "name": "stderr",
     "output_type": "stream",
     "text": [
      "2021-12-06 14:02:58.105 | INFO     | fp_dataset_artifacts.snli:finetune:117 - finetune_id='ft-8brkU9ndEMQxJrA6PuE8CRdS'\n"
     ]
    }
   ],
   "source": [
    "# Start fine tuning (it takes about an hour)\n",
    "finetune_id = finetune()"
   ]
  },
  {
   "cell_type": "code",
   "execution_count": 3,
   "id": "a0d2c836",
   "metadata": {},
   "outputs": [
    {
     "name": "stderr",
     "output_type": "stream",
     "text": [
      "2021-12-06 14:03:03.501 | INFO     | fp_dataset_artifacts.snli:evaluate:131 - Fine tuning events:\n",
      "2021-12-06 14:03:03.501 | INFO     | fp_dataset_artifacts.snli:evaluate:132 - [<OpenAIObject fine-tune-event at 0x7f31dc2fb360> JSON: {\n",
      "  \"created_at\": 1638820977,\n",
      "  \"level\": \"info\",\n",
      "  \"message\": \"Created fine-tune: ft-8brkU9ndEMQxJrA6PuE8CRdS\",\n",
      "  \"object\": \"fine-tune-event\"\n",
      "}]\n"
     ]
    },
    {
     "ename": "AssertionError",
     "evalue": "Please wait for the fine-tuning to be completed.",
     "output_type": "error",
     "traceback": [
      "\u001b[0;31m---------------------------------------------------------------------------\u001b[0m",
      "\u001b[0;31mAssertionError\u001b[0m                            Traceback (most recent call last)",
      "\u001b[0;32m/tmp/ipykernel_68580/1674638205.py\u001b[0m in \u001b[0;36m<module>\u001b[0;34m\u001b[0m\n\u001b[1;32m      1\u001b[0m \u001b[0;31m# Evaluate the fine-tuned model\u001b[0m\u001b[0;34m\u001b[0m\u001b[0;34m\u001b[0m\u001b[0;34m\u001b[0m\u001b[0m\n\u001b[0;32m----> 2\u001b[0;31m \u001b[0mmodel\u001b[0m \u001b[0;34m=\u001b[0m \u001b[0mevaluate\u001b[0m\u001b[0;34m(\u001b[0m\u001b[0mfinetune_id\u001b[0m\u001b[0;34m)\u001b[0m\u001b[0;34m\u001b[0m\u001b[0;34m\u001b[0m\u001b[0m\n\u001b[0m",
      "\u001b[0;32m~/fp-dataset-artifacts/fp_dataset_artifacts/snli.py\u001b[0m in \u001b[0;36mevaluate\u001b[0;34m(finetune_id, responses_local_filename)\u001b[0m\n\u001b[1;32m    132\u001b[0m     \u001b[0mlogger\u001b[0m\u001b[0;34m.\u001b[0m\u001b[0minfo\u001b[0m\u001b[0;34m(\u001b[0m\u001b[0mfinetune_resp\u001b[0m\u001b[0;34m[\u001b[0m\u001b[0;34m'events'\u001b[0m\u001b[0;34m]\u001b[0m\u001b[0;34m)\u001b[0m\u001b[0;34m\u001b[0m\u001b[0;34m\u001b[0m\u001b[0m\n\u001b[1;32m    133\u001b[0m \u001b[0;34m\u001b[0m\u001b[0m\n\u001b[0;32m--> 134\u001b[0;31m     assert (\n\u001b[0m\u001b[1;32m    135\u001b[0m         \u001b[0mfinetune_resp\u001b[0m\u001b[0;34m[\u001b[0m\u001b[0;34m'events'\u001b[0m\u001b[0;34m]\u001b[0m\u001b[0;34m[\u001b[0m\u001b[0;34m-\u001b[0m\u001b[0;36m1\u001b[0m\u001b[0;34m]\u001b[0m\u001b[0;34m[\u001b[0m\u001b[0;34m'message'\u001b[0m\u001b[0;34m]\u001b[0m \u001b[0;34m==\u001b[0m \u001b[0;34m'Fine-tune succeeded'\u001b[0m\u001b[0;34m\u001b[0m\u001b[0;34m\u001b[0m\u001b[0m\n\u001b[1;32m    136\u001b[0m     ), 'Please wait for the fine-tuning to be completed.'\n",
      "\u001b[0;31mAssertionError\u001b[0m: Please wait for the fine-tuning to be completed."
     ]
    }
   ],
   "source": [
    "# Evaluate the fine-tuned model\n",
    "model = evaluate(finetune_id)"
   ]
  },
  {
   "cell_type": "code",
   "execution_count": 17,
   "id": "51b5d73d",
   "metadata": {
    "scrolled": false
   },
   "outputs": [
    {
     "data": {
      "text/plain": [
       "<FineTune fine-tune id=ft-8brkU9ndEMQxJrA6PuE8CRdS at 0x7f317c310d10> JSON: {\n",
       "  \"created_at\": 1638820976,\n",
       "  \"events\": [\n",
       "    {\n",
       "      \"created_at\": 1638820977,\n",
       "      \"level\": \"info\",\n",
       "      \"message\": \"Created fine-tune: ft-8brkU9ndEMQxJrA6PuE8CRdS\",\n",
       "      \"object\": \"fine-tune-event\"\n",
       "    },\n",
       "    {\n",
       "      \"created_at\": 1638821003,\n",
       "      \"level\": \"info\",\n",
       "      \"message\": \"Fine-tune enqueued. Queue number: 27\",\n",
       "      \"object\": \"fine-tune-event\"\n",
       "    }\n",
       "  ],\n",
       "  \"fine_tuned_model\": null,\n",
       "  \"hyperparams\": {\n",
       "    \"batch_size\": 2,\n",
       "    \"classification_n_classes\": 3,\n",
       "    \"compute_classification_metrics\": true,\n",
       "    \"learning_rate_multiplier\": 0.2,\n",
       "    \"n_epochs\": 4,\n",
       "    \"prompt_loss_weight\": 0.1,\n",
       "    \"use_packing\": true\n",
       "  },\n",
       "  \"id\": \"ft-8brkU9ndEMQxJrA6PuE8CRdS\",\n",
       "  \"model\": \"curie\",\n",
       "  \"object\": \"fine-tune\",\n",
       "  \"organization_id\": \"org-5AE307Eg4rc5EAoEA2S2bwkH\",\n",
       "  \"result_files\": [],\n",
       "  \"status\": \"pending\",\n",
       "  \"training_files\": [\n",
       "    {\n",
       "      \"bytes\": 17853570,\n",
       "      \"created_at\": 1638820971,\n",
       "      \"filename\": \"snli_finetune_train_sample.jsonl\",\n",
       "      \"id\": \"file-vEGR3mzOq5XylMgqV5zjuFv5\",\n",
       "      \"object\": \"file\",\n",
       "      \"purpose\": \"fine-tune\",\n",
       "      \"status\": \"processed\",\n",
       "      \"status_details\": null\n",
       "    }\n",
       "  ],\n",
       "  \"updated_at\": 1638821003,\n",
       "  \"validation_files\": [\n",
       "    {\n",
       "      \"bytes\": 3377151,\n",
       "      \"created_at\": 1638820976,\n",
       "      \"filename\": \"snli_finetune_validation.jsonl\",\n",
       "      \"id\": \"file-sCWXvJkbPPdRW4hLXGutd56g\",\n",
       "      \"object\": \"file\",\n",
       "      \"purpose\": \"fine-tune\",\n",
       "      \"status\": \"processed\",\n",
       "      \"status_details\": null\n",
       "    }\n",
       "  ]\n",
       "}"
      ]
     },
     "execution_count": 17,
     "metadata": {},
     "output_type": "execute_result"
    }
   ],
   "source": [
    "openai.FineTune.retrieve(finetune_id)"
   ]
  },
  {
   "cell_type": "code",
   "execution_count": null,
   "id": "5af5f469",
   "metadata": {},
   "outputs": [],
   "source": []
  }
 ],
 "metadata": {
  "kernelspec": {
   "display_name": "Python 3 (ipykernel)",
   "language": "python",
   "name": "python3"
  },
  "language_info": {
   "codemirror_mode": {
    "name": "ipython",
    "version": 3
   },
   "file_extension": ".py",
   "mimetype": "text/x-python",
   "name": "python",
   "nbconvert_exporter": "python",
   "pygments_lexer": "ipython3",
   "version": "3.9.5"
  }
 },
 "nbformat": 4,
 "nbformat_minor": 5
}
