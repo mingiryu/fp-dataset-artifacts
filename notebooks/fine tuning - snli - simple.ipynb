{
 "cells": [
  {
   "cell_type": "code",
   "execution_count": 1,
   "id": "73aabf0a",
   "metadata": {},
   "outputs": [],
   "source": [
    "import openai\n",
    "\n",
    "from fp_dataset_artifacts.utils import init_openai\n",
    "from fp_dataset_artifacts.snli import finetune, evaluate\n",
    "from datasets import list_datasets, load_dataset, list_metrics, load_metric\n",
    "\n",
    "# Initialize OpenAI API with API_KEY\n",
    "init_openai()"
   ]
  },
  {
   "cell_type": "code",
   "execution_count": null,
   "id": "a6ac7bd2",
   "metadata": {},
   "outputs": [],
   "source": [
    "# Start fine tuning (it takes about an hour)\n",
    "finetune_id = finetune()"
   ]
  },
  {
   "cell_type": "code",
   "execution_count": null,
   "id": "a0d2c836",
   "metadata": {},
   "outputs": [],
   "source": [
    "# Evaluate the fine-tuned model\n",
    "model = evaluate(finetune_id)"
   ]
  }
 ],
 "metadata": {
  "kernelspec": {
   "display_name": "Python 3 (ipykernel)",
   "language": "python",
   "name": "python3"
  },
  "language_info": {
   "codemirror_mode": {
    "name": "ipython",
    "version": 3
   },
   "file_extension": ".py",
   "mimetype": "text/x-python",
   "name": "python",
   "nbconvert_exporter": "python",
   "pygments_lexer": "ipython3",
   "version": "3.9.5"
  }
 },
 "nbformat": 4,
 "nbformat_minor": 5
}
