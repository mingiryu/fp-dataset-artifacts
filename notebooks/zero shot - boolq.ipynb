{
 "cells": [
  {
   "cell_type": "code",
   "execution_count": 1,
   "id": "26076782",
   "metadata": {},
   "outputs": [
    {
     "data": {
      "application/vnd.jupyter.widget-view+json": {
       "model_id": "793bfb974a0f47a1b3440e6256fd44c3",
       "version_major": 2,
       "version_minor": 0
      },
      "text/plain": [
       "Downloading:   0%|          | 0.00/1.42k [00:00<?, ?B/s]"
      ]
     },
     "metadata": {},
     "output_type": "display_data"
    },
    {
     "data": {
      "application/vnd.jupyter.widget-view+json": {
       "model_id": "70fbfafd6f934962a7d18227df7e5a62",
       "version_major": 2,
       "version_minor": 0
      },
      "text/plain": [
       "Downloading:   0%|          | 0.00/952 [00:00<?, ?B/s]"
      ]
     },
     "metadata": {},
     "output_type": "display_data"
    },
    {
     "name": "stderr",
     "output_type": "stream",
     "text": [
      "Using custom data configuration default\n"
     ]
    },
    {
     "name": "stdout",
     "output_type": "stream",
     "text": [
      "Downloading and preparing dataset boolq/default (download: 8.36 MiB, generated: 7.47 MiB, post-processed: Unknown size, total: 15.82 MiB) to /home/x/.cache/huggingface/datasets/boolq/default/0.1.0/bf0dd57da941c50de94ae3ce3cef7fea48c08f337a4b7aac484e9dddc5aa24e5...\n"
     ]
    },
    {
     "data": {
      "application/vnd.jupyter.widget-view+json": {
       "model_id": "eba4dde35687409b81264b5f92a62e0f",
       "version_major": 2,
       "version_minor": 0
      },
      "text/plain": [
       "  0%|          | 0/2 [00:00<?, ?it/s]"
      ]
     },
     "metadata": {},
     "output_type": "display_data"
    },
    {
     "data": {
      "application/vnd.jupyter.widget-view+json": {
       "model_id": "8ba3b3949b2746c2a2c8a07e7d50b789",
       "version_major": 2,
       "version_minor": 0
      },
      "text/plain": [
       "Downloading:   0%|          | 0.00/6.53M [00:00<?, ?B/s]"
      ]
     },
     "metadata": {},
     "output_type": "display_data"
    },
    {
     "data": {
      "application/vnd.jupyter.widget-view+json": {
       "model_id": "fdaf6e3df7674850a91e42cd4768a75a",
       "version_major": 2,
       "version_minor": 0
      },
      "text/plain": [
       "Downloading:   0%|          | 0.00/2.24M [00:00<?, ?B/s]"
      ]
     },
     "metadata": {},
     "output_type": "display_data"
    },
    {
     "data": {
      "application/vnd.jupyter.widget-view+json": {
       "model_id": "",
       "version_major": 2,
       "version_minor": 0
      },
      "text/plain": [
       "0 examples [00:00, ? examples/s]"
      ]
     },
     "metadata": {},
     "output_type": "display_data"
    },
    {
     "data": {
      "application/vnd.jupyter.widget-view+json": {
       "model_id": "",
       "version_major": 2,
       "version_minor": 0
      },
      "text/plain": [
       "0 examples [00:00, ? examples/s]"
      ]
     },
     "metadata": {},
     "output_type": "display_data"
    },
    {
     "name": "stdout",
     "output_type": "stream",
     "text": [
      "Dataset boolq downloaded and prepared to /home/x/.cache/huggingface/datasets/boolq/default/0.1.0/bf0dd57da941c50de94ae3ce3cef7fea48c08f337a4b7aac484e9dddc5aa24e5. Subsequent calls will reuse this data.\n"
     ]
    },
    {
     "data": {
      "application/vnd.jupyter.widget-view+json": {
       "model_id": "a0477f55c85644fcadf5067c0330a5a5",
       "version_major": 2,
       "version_minor": 0
      },
      "text/plain": [
       "  0%|          | 0/2 [00:00<?, ?it/s]"
      ]
     },
     "metadata": {},
     "output_type": "display_data"
    },
    {
     "data": {
      "text/plain": [
       "DatasetDict({\n",
       "    train: Dataset({\n",
       "        features: ['question', 'answer', 'passage'],\n",
       "        num_rows: 9427\n",
       "    })\n",
       "    validation: Dataset({\n",
       "        features: ['question', 'answer', 'passage'],\n",
       "        num_rows: 3270\n",
       "    })\n",
       "})"
      ]
     },
     "execution_count": 1,
     "metadata": {},
     "output_type": "execute_result"
    }
   ],
   "source": [
    "import openai\n",
    "\n",
    "from fp_dataset_artifacts.utils import init_openai\n",
    "from datasets import list_datasets, load_dataset, list_metrics, load_metric\n",
    "\n",
    "init_openai()\n",
    "\n",
    "data = load_dataset('boolq')\n",
    "data"
   ]
  },
  {
   "cell_type": "code",
   "execution_count": 2,
   "id": "8b06f2ca",
   "metadata": {},
   "outputs": [
    {
     "data": {
      "text/plain": [
       "{'question': 'do iran and afghanistan speak the same language',\n",
       " 'answer': True,\n",
       " 'passage': 'Persian (/ˈpɜːrʒən, -ʃən/), also known by its endonym Farsi (فارسی fārsi (fɒːɾˈsiː) ( listen)), is one of the Western Iranian languages within the Indo-Iranian branch of the Indo-European language family. It is primarily spoken in Iran, Afghanistan (officially known as Dari since 1958), and Tajikistan (officially known as Tajiki since the Soviet era), and some other regions which historically were Persianate societies and considered part of Greater Iran. It is written in the Persian alphabet, a modified variant of the Arabic script, which itself evolved from the Aramaic alphabet.'}"
      ]
     },
     "execution_count": 2,
     "metadata": {},
     "output_type": "execute_result"
    }
   ],
   "source": [
    "data['train'][0]"
   ]
  },
  {
   "cell_type": "code",
   "execution_count": 5,
   "id": "926b9596",
   "metadata": {},
   "outputs": [
    {
     "name": "stdout",
     "output_type": "stream",
     "text": [
      "do iran and afghanistan speak the same language\n"
     ]
    }
   ],
   "source": [
    "# Pretend this is for a chat bot and has to deal with no context or structure\n",
    "def get_bare_prompt(x):\n",
    "    return f\"{x['question']}\"\n",
    "prompt = get_bare_prompt(data['train'][0])\n",
    "print(prompt)"
   ]
  },
  {
   "cell_type": "code",
   "execution_count": 6,
   "id": "6432a699",
   "metadata": {},
   "outputs": [
    {
     "data": {
      "text/plain": [
       "<OpenAIObject text_completion id=cmpl-4BUqUNwKvdUa43XyoWL6r7TMijAdP at 0x7fd51caa0950> JSON: {\n",
       "  \"choices\": [\n",
       "    {\n",
       "      \"finish_reason\": \"stop\",\n",
       "      \"index\": 0,\n",
       "      \"logprobs\": null,\n",
       "      \"text\": \".\"\n",
       "    }\n",
       "  ],\n",
       "  \"created\": 1638645526,\n",
       "  \"id\": \"cmpl-4BUqUNwKvdUa43XyoWL6r7TMijAdP\",\n",
       "  \"model\": \"curie:2020-05-03\",\n",
       "  \"object\": \"text_completion\"\n",
       "}"
      ]
     },
     "execution_count": 6,
     "metadata": {},
     "output_type": "execute_result"
    }
   ],
   "source": [
    "def get_response(prompt):\n",
    "    response = openai.Completion.create(\n",
    "      engine='curie',\n",
    "      prompt=prompt,\n",
    "      temperature=0,\n",
    "      max_tokens=100,\n",
    "      top_p=1,\n",
    "      frequency_penalty=0.0,\n",
    "      presence_penalty=0.0,\n",
    "      stop=[\"\\n\"]\n",
    "    )\n",
    "    return response\n",
    "\n",
    "get_response(prompt)"
   ]
  },
  {
   "cell_type": "code",
   "execution_count": 10,
   "id": "35fb303b",
   "metadata": {},
   "outputs": [
    {
     "name": "stdout",
     "output_type": "stream",
     "text": [
      "I am a highly intelligent question answering bot. If you ask me a question that is rooted in truth, I will answer in either \"Yes\" or \"No\".\n",
      "\n",
      "Q: Do iran and afghanistan speak the same language?\n",
      "\n",
      "A: \n"
     ]
    }
   ],
   "source": [
    "# Make it better\n",
    "intro = 'I am a highly intelligent question answering bot. If you ask me a question that is rooted in truth, I will answer in either \"Yes\" or \"No\".'\n",
    "\n",
    "def clean_question(q):\n",
    "    return q.capitalize() + '?'\n",
    "\n",
    "def get_prompt(x):\n",
    "    return f\"{intro}\\n\\nQ: {clean_question(x['question'])}\\n\\nA: \"\n",
    "prompt = get_prompt(data['train'][0])\n",
    "print(prompt)"
   ]
  },
  {
   "cell_type": "code",
   "execution_count": 11,
   "id": "8b9fb548",
   "metadata": {},
   "outputs": [
    {
     "data": {
      "text/plain": [
       "<OpenAIObject text_completion id=cmpl-4BUsuLf7ZUnUs4DXS48MASdf3fgS4 at 0x7fd51c7bb7c0> JSON: {\n",
       "  \"choices\": [\n",
       "    {\n",
       "      \"finish_reason\": \"stop\",\n",
       "      \"index\": 0,\n",
       "      \"logprobs\": null,\n",
       "      \"text\": \"????\"\n",
       "    }\n",
       "  ],\n",
       "  \"created\": 1638645676,\n",
       "  \"id\": \"cmpl-4BUsuLf7ZUnUs4DXS48MASdf3fgS4\",\n",
       "  \"model\": \"curie:2020-05-03\",\n",
       "  \"object\": \"text_completion\"\n",
       "}"
      ]
     },
     "execution_count": 11,
     "metadata": {},
     "output_type": "execute_result"
    }
   ],
   "source": [
    "get_response(prompt)"
   ]
  },
  {
   "cell_type": "code",
   "execution_count": 14,
   "id": "884dd28e",
   "metadata": {},
   "outputs": [
    {
     "name": "stdout",
     "output_type": "stream",
     "text": [
      "I am a highly intelligent question answering bot. If you ask me a question that is rooted in truth, I will answer in either \"Yes\" or \"No\".\n",
      "\n",
      "Persian (/ˈpɜːrʒən, -ʃən/), also known by its endonym Farsi (فارسی fārsi (fɒːɾˈsiː) ( listen)), is one of the Western Iranian languages within the Indo-Iranian branch of the Indo-European language family. It is primarily spoken in Iran, Afghanistan (officially known as Dari since 1958), and Tajikistan (officially known as Tajiki since the Soviet era), and some other regions which historically were Persianate societies and considered part of Greater Iran. It is written in the Persian alphabet, a modified variant of the Arabic script, which itself evolved from the Aramaic alphabet.\n",
      "\n",
      "Q: Do iran and afghanistan speak the same language?\n",
      "\n",
      "A: \n"
     ]
    }
   ],
   "source": [
    "# With passage\n",
    "\n",
    "def get_passage_prompt(x):\n",
    "    return f\"{intro}\\n\\n{x['passage']}\\n\\nQ: {clean_question(x['question'])}\\n\\nA: \"\n",
    "prompt = get_passage_prompt(data['train'][0])\n",
    "print(prompt)"
   ]
  },
  {
   "cell_type": "code",
   "execution_count": 15,
   "id": "382d6325",
   "metadata": {},
   "outputs": [
    {
     "data": {
      "text/plain": [
       "<OpenAIObject text_completion id=cmpl-4BUu0CsKrJKAzPrdcPzgXfCTkwJwK at 0x7fd5783975e0> JSON: {\n",
       "  \"choices\": [\n",
       "    {\n",
       "      \"finish_reason\": \"length\",\n",
       "      \"index\": 0,\n",
       "      \"logprobs\": null,\n",
       "      \"text\": \"\\u06cc\\u06a9\\u06cc \\u0627\\u0632 \\u062f\\u06cc\\u06af\\u0631 \\u062f\\u0648\\u0644\\u062a \\u0647\\u0627\\u06cc \\u062c\\u0647\\u0627\\u0646 \\u0628\\u0647 \\u0639\\u0646\\u0648\\u0627\\u0646 \\u06cc\\u06a9 \\u062f\\u0648\\u0644\\u062a \\u062f\\u0631 \\u062c\\u0647\\u0627\\u0646 \\u0628\\u0647 \\u0639\\u0646\\u0648\\u0627\\u0646 \\u06cc\\u06a9 \\u062f\\u0648\\u0644\\u062a \\u062f\\u0631 \\u062c\\u0647\\u0627\\u0646 \\u0628\\u0647 \\u0639\\u0646\\u0648\\u0627\\u0646 \\u06cc\\u06a9\"\n",
       "    }\n",
       "  ],\n",
       "  \"created\": 1638645744,\n",
       "  \"id\": \"cmpl-4BUu0CsKrJKAzPrdcPzgXfCTkwJwK\",\n",
       "  \"model\": \"curie:2020-05-03\",\n",
       "  \"object\": \"text_completion\"\n",
       "}"
      ]
     },
     "execution_count": 15,
     "metadata": {},
     "output_type": "execute_result"
    }
   ],
   "source": [
    "get_response(prompt)"
   ]
  },
  {
   "cell_type": "code",
   "execution_count": 16,
   "id": "04e110f1",
   "metadata": {},
   "outputs": [
    {
     "name": "stdout",
     "output_type": "stream",
     "text": [
      "I am a highly intelligent question answering bot. If you ask me a question that is rooted in truth, I will answer in either \"Yes\" or \"No\".\n",
      "\n",
      "Harry Potter and the Forbidden Journey uses KUKA robocoaster technology, which allows the seats to pivot while being held above the track by a robotic arm. However, the ride is not a roller coaster but a scenic dark ride. The experience includes a flight around Hogwarts castle, an encounter with the Whomping Willow and a horde of Dementors, and a Quidditch match. The ride drops, spins around, twists and turns, but does not turn upside down, though passengers sometimes lie flat on their backs. Over-the-shoulder bars are used to secure guests in their seats, and a single parabolic metal bar is used as a hand grip. At the conclusion of the ride, guests exit into Filch's Emporium of Confiscated Goods gift shop.\n",
      "\n",
      "Q: Is the harry potter and the forbidden journey ride a roller coaster?\n",
      "\n",
      "A: \n"
     ]
    }
   ],
   "source": [
    "# Different example\n",
    "prompt = get_passage_prompt(data['train'].shuffle()[0])\n",
    "print(prompt)"
   ]
  },
  {
   "cell_type": "code",
   "execution_count": 17,
   "id": "573d8080",
   "metadata": {},
   "outputs": [
    {
     "data": {
      "text/plain": [
       "<OpenAIObject text_completion id=cmpl-4BUuNjjwOefYrjdNsj5gTNMUzhjHH at 0x7fd51ca3a130> JSON: {\n",
       "  \"choices\": [\n",
       "    {\n",
       "      \"finish_reason\": \"stop\",\n",
       "      \"index\": 0,\n",
       "      \"logprobs\": null,\n",
       "      \"text\": \"ive been on it and it isnt a roller coaster.\"\n",
       "    }\n",
       "  ],\n",
       "  \"created\": 1638645767,\n",
       "  \"id\": \"cmpl-4BUuNjjwOefYrjdNsj5gTNMUzhjHH\",\n",
       "  \"model\": \"curie:2020-05-03\",\n",
       "  \"object\": \"text_completion\"\n",
       "}"
      ]
     },
     "execution_count": 17,
     "metadata": {},
     "output_type": "execute_result"
    }
   ],
   "source": [
    "get_response(prompt)"
   ]
  },
  {
   "cell_type": "code",
   "execution_count": 18,
   "id": "a3c88234",
   "metadata": {},
   "outputs": [
    {
     "name": "stdout",
     "output_type": "stream",
     "text": [
      "I am a highly intelligent question answering bot. If you ask me a question that is rooted in truth, I will answer in either \"Yes\" or \"No\".\n",
      "\n",
      "Goalkeepers are normally allowed to handle the ball within their own penalty area, and once they have control of the ball in their hands opposition players may not challenge them for it. However the back-pass rule prohibits goalkeepers from handling the ball after it has been deliberately kicked to them by a team-mate, or after receiving it directly from a throw-in taken by a team-mate. Back-passes with parts of the body other than the foot, such as headers, are not prohibited. Despite the popular name ``back-pass rule'', there is no requirement in the laws that the kick or throw-in must be backwards; handling by the goalkeeper is forbidden regardless of the direction the ball travels.\n",
      "\n",
      "Q: Can you pass to the goalie in soccer?\n",
      "\n",
      "A: \n"
     ]
    }
   ],
   "source": [
    "# Another one\n",
    "prompt = get_passage_prompt(data['train'].shuffle()[1])\n",
    "print(prompt)"
   ]
  },
  {
   "cell_type": "code",
   "execution_count": 19,
   "id": "e8581cc1",
   "metadata": {},
   "outputs": [
    {
     "data": {
      "text/plain": [
       "<OpenAIObject text_completion id=cmpl-4BUumY2sdMVaK8MHxi9YL4ggTjA7S at 0x7fd51c134db0> JSON: {\n",
       "  \"choices\": [\n",
       "    {\n",
       "      \"finish_reason\": \"stop\",\n",
       "      \"index\": 0,\n",
       "      \"logprobs\": null,\n",
       "      \"text\": \"\"\n",
       "    }\n",
       "  ],\n",
       "  \"created\": 1638645792,\n",
       "  \"id\": \"cmpl-4BUumY2sdMVaK8MHxi9YL4ggTjA7S\",\n",
       "  \"model\": \"curie:2020-05-03\",\n",
       "  \"object\": \"text_completion\"\n",
       "}"
      ]
     },
     "execution_count": 19,
     "metadata": {},
     "output_type": "execute_result"
    }
   ],
   "source": [
    "get_response(prompt)"
   ]
  },
  {
   "cell_type": "code",
   "execution_count": 21,
   "id": "10fee903",
   "metadata": {},
   "outputs": [
    {
     "data": {
      "text/plain": [
       "<OpenAIObject text_completion id=cmpl-4BV1aP6BXjVlR5tn5K7LQBgJnsMTl at 0x7fd51ca585e0> JSON: {\n",
       "  \"choices\": [\n",
       "    {\n",
       "      \"finish_reason\": \"stop\",\n",
       "      \"index\": 0,\n",
       "      \"logprobs\": null,\n",
       "      \"text\": \"\"\n",
       "    }\n",
       "  ],\n",
       "  \"created\": 1638646214,\n",
       "  \"id\": \"cmpl-4BV1aP6BXjVlR5tn5K7LQBgJnsMTl\",\n",
       "  \"model\": \"curie:2020-05-03\",\n",
       "  \"object\": \"text_completion\"\n",
       "}"
      ]
     },
     "execution_count": 21,
     "metadata": {},
     "output_type": "execute_result"
    }
   ],
   "source": [
    "# Try without the stop parameter\n",
    "def get_no_stop_response(prompt):\n",
    "    response = openai.Completion.create(\n",
    "      engine='curie',\n",
    "      prompt=prompt,\n",
    "      temperature=0,\n",
    "      max_tokens=100,\n",
    "      top_p=1,\n",
    "      frequency_penalty=0.0,\n",
    "      presence_penalty=0.0,\n",
    "    )\n",
    "    return response\n",
    "\n",
    "get_no_stop_response(prompt)"
   ]
  },
  {
   "cell_type": "code",
   "execution_count": null,
   "id": "dc09ae1a",
   "metadata": {},
   "outputs": [],
   "source": []
  }
 ],
 "metadata": {
  "kernelspec": {
   "display_name": "Python 3 (ipykernel)",
   "language": "python",
   "name": "python3"
  },
  "language_info": {
   "codemirror_mode": {
    "name": "ipython",
    "version": 3
   },
   "file_extension": ".py",
   "mimetype": "text/x-python",
   "name": "python",
   "nbconvert_exporter": "python",
   "pygments_lexer": "ipython3",
   "version": "3.9.5"
  }
 },
 "nbformat": 4,
 "nbformat_minor": 5
}
