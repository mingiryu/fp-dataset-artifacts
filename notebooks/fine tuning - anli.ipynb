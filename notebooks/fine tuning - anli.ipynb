{
 "cells": [
  {
   "cell_type": "code",
   "execution_count": 1,
   "id": "f9942f73",
   "metadata": {},
   "outputs": [
    {
     "name": "stderr",
     "output_type": "stream",
     "text": [
      "Reusing dataset anli (/home/x/.cache/huggingface/datasets/anli/plain_text/0.1.0/aabce88453b06dff21c201855ea83283bab0390bff746deadb30b65695755c0b)\n"
     ]
    },
    {
     "data": {
      "application/vnd.jupyter.widget-view+json": {
       "model_id": "0d1a2460f6764761ab7496e7004783de",
       "version_major": 2,
       "version_minor": 0
      },
      "text/plain": [
       "  0%|          | 0/9 [00:00<?, ?it/s]"
      ]
     },
     "metadata": {},
     "output_type": "display_data"
    },
    {
     "data": {
      "text/plain": [
       "DatasetDict({\n",
       "    train_r1: Dataset({\n",
       "        features: ['uid', 'premise', 'hypothesis', 'label', 'reason'],\n",
       "        num_rows: 16946\n",
       "    })\n",
       "    dev_r1: Dataset({\n",
       "        features: ['uid', 'premise', 'hypothesis', 'label', 'reason'],\n",
       "        num_rows: 1000\n",
       "    })\n",
       "    test_r1: Dataset({\n",
       "        features: ['uid', 'premise', 'hypothesis', 'label', 'reason'],\n",
       "        num_rows: 1000\n",
       "    })\n",
       "    train_r2: Dataset({\n",
       "        features: ['uid', 'premise', 'hypothesis', 'label', 'reason'],\n",
       "        num_rows: 45460\n",
       "    })\n",
       "    dev_r2: Dataset({\n",
       "        features: ['uid', 'premise', 'hypothesis', 'label', 'reason'],\n",
       "        num_rows: 1000\n",
       "    })\n",
       "    test_r2: Dataset({\n",
       "        features: ['uid', 'premise', 'hypothesis', 'label', 'reason'],\n",
       "        num_rows: 1000\n",
       "    })\n",
       "    train_r3: Dataset({\n",
       "        features: ['uid', 'premise', 'hypothesis', 'label', 'reason'],\n",
       "        num_rows: 100459\n",
       "    })\n",
       "    dev_r3: Dataset({\n",
       "        features: ['uid', 'premise', 'hypothesis', 'label', 'reason'],\n",
       "        num_rows: 1200\n",
       "    })\n",
       "    test_r3: Dataset({\n",
       "        features: ['uid', 'premise', 'hypothesis', 'label', 'reason'],\n",
       "        num_rows: 1200\n",
       "    })\n",
       "})"
      ]
     },
     "execution_count": 1,
     "metadata": {},
     "output_type": "execute_result"
    }
   ],
   "source": [
    "import openai\n",
    "\n",
    "from fp_dataset_artifacts.utils import init_openai\n",
    "from fp_dataset_artifacts.boolq import format_question, format_answer\n",
    "from datasets import list_datasets, load_dataset, list_metrics, load_metric, concatenate_datasets\n",
    "\n",
    "init_openai()\n",
    "\n",
    "data = load_dataset('anli')\n",
    "data"
   ]
  },
  {
   "cell_type": "code",
   "execution_count": 8,
   "id": "5e416bf6",
   "metadata": {},
   "outputs": [
    {
     "data": {
      "text/plain": [
       "{'uid': '0fd0abfb-659e-4453-b196-c3a64d2d8267',\n",
       " 'premise': 'The Parma trolleybus system (Italian: \"Rete filoviaria di Parma\" ) forms part of the public transport network of the city and \"comune\" of Parma, in the region of Emilia-Romagna, northern Italy. In operation since 1953, the system presently comprises four urban routes.',\n",
       " 'hypothesis': 'The trolleybus system has over 2 urban routes',\n",
       " 'label': 0,\n",
       " 'reason': ''}"
      ]
     },
     "execution_count": 8,
     "metadata": {},
     "output_type": "execute_result"
    }
   ],
   "source": [
    "data['train_r1'][0]"
   ]
  },
  {
   "cell_type": "code",
   "execution_count": 9,
   "id": "39cc914d",
   "metadata": {},
   "outputs": [
    {
     "data": {
      "text/plain": [
       "{'uid': '245475c4-6225-4f5c-b945-e13e0e988fc8',\n",
       " 'premise': 'Topi Raja Sweety Roja is a 1996 Telugu comedy film, produced by Dr. A. Vijayalakshmi on Sri Sai Madhavi Productions banner and directed by Dr. N. Siva Prasad. Starring Rajendra Prasad, Roja in the lead roles and music also composed by \"Hero\" Rajendra Prasad.',\n",
       " 'hypothesis': 'The lead role was played by Rajendra Prasad',\n",
       " 'label': 0,\n",
       " 'reason': ''}"
      ]
     },
     "execution_count": 9,
     "metadata": {},
     "output_type": "execute_result"
    }
   ],
   "source": [
    "data['train_r2'][0]"
   ]
  },
  {
   "cell_type": "code",
   "execution_count": 10,
   "id": "fa72b081",
   "metadata": {},
   "outputs": [
    {
     "data": {
      "text/plain": [
       "{'uid': '2093cfb3-a15f-4282-81e3-0cb793ffd0d7',\n",
       " 'premise': 'TOKYO, Dec 18 (Reuters) - Japan’s Shionogi & Co said on Tuesday that it has applied to health regulators in the United States, Canada and Europe for approval of its HIV drug Dolutegravir. Shionogi developed Dolutegravir with a Viiv Healthcare, an AIDS drug joint venture between GlaxoSmithKline and Pfizer, in exchange for its rights to the drug.',\n",
       " 'hypothesis': 'The article was written on December 18th.',\n",
       " 'label': 0,\n",
       " 'reason': 'TOKYO, Dec 18 (Reuters) is when the article was written as it states in the first words of the sentence'}"
      ]
     },
     "execution_count": 10,
     "metadata": {},
     "output_type": "execute_result"
    }
   ],
   "source": [
    "data['train_r3'][0]"
   ]
  },
  {
   "cell_type": "code",
   "execution_count": 38,
   "id": "23f313cf",
   "metadata": {},
   "outputs": [
    {
     "data": {
      "text/plain": [
       "'Entailment'"
      ]
     },
     "execution_count": 38,
     "metadata": {},
     "output_type": "execute_result"
    }
   ],
   "source": [
    "def int2label(i):\n",
    "    return ['Entailment', 'Neutral', 'Contradiction'][i]\n",
    "int2label(0)"
   ]
  },
  {
   "cell_type": "code",
   "execution_count": 39,
   "id": "b14c9cf5",
   "metadata": {},
   "outputs": [
    {
     "data": {
      "text/plain": [
       "{'prompt': 'Premise: The Parma trolleybus system (Italian: \"Rete filoviaria di Parma\" ) forms part of the public transport network of the city and \"comune\" of Parma, in the region of Emilia-Romagna, northern Italy. In operation since 1953, the system presently comprises four urban routes.\\n\\nHypothesis: The trolleybus system has over 2 urban routes\\n\\nLabel: ',\n",
       " 'completion': 'Entailment\\n'}"
      ]
     },
     "execution_count": 39,
     "metadata": {},
     "output_type": "execute_result"
    }
   ],
   "source": [
    "def map_finetune_train(x):\n",
    "    premise = x['premise']\n",
    "    hypothesis = x['hypothesis']\n",
    "    label = int2label(x['label'])\n",
    "\n",
    "    return {\n",
    "        'prompt': f\"Premise: {premise}\\n\\nHypothesis: {hypothesis}\\n\\nLabel: \",\n",
    "        'completion': label + '\\n',\n",
    "    }\n",
    "map_finetune_train(data['train_r1'][0])"
   ]
  },
  {
   "cell_type": "code",
   "execution_count": 38,
   "id": "b6835b6f",
   "metadata": {},
   "outputs": [
    {
     "name": "stderr",
     "output_type": "stream",
     "text": [
      "Loading cached processed dataset at /home/x/.cache/huggingface/datasets/anli/plain_text/0.1.0/aabce88453b06dff21c201855ea83283bab0390bff746deadb30b65695755c0b/cache-0abd26387ee4a689.arrow\n"
     ]
    }
   ],
   "source": [
    "train_r1 = data['train_r1'].map(map_finetune_train)\n",
    "train_r1 = train_r1.remove_columns(['uid', 'reason', 'premise', 'hypothesis', 'label'])"
   ]
  },
  {
   "cell_type": "code",
   "execution_count": 39,
   "id": "a2da6b3a",
   "metadata": {},
   "outputs": [
    {
     "data": {
      "application/vnd.jupyter.widget-view+json": {
       "model_id": "df98fb720ea24308ac205ecdfbca9baa",
       "version_major": 2,
       "version_minor": 0
      },
      "text/plain": [
       "  0%|          | 0/45460 [00:00<?, ?ex/s]"
      ]
     },
     "metadata": {},
     "output_type": "display_data"
    }
   ],
   "source": [
    "train_r2 = data['train_r2'].map(map_finetune_train)\n",
    "train_r2 = train_r2.remove_columns(['uid', 'reason', 'premise', 'hypothesis', 'label'])"
   ]
  },
  {
   "cell_type": "code",
   "execution_count": 47,
   "id": "20a2bf7e",
   "metadata": {},
   "outputs": [
    {
     "data": {
      "application/vnd.jupyter.widget-view+json": {
       "model_id": "df4a84a634cb40bb8a85ebf6a46d773e",
       "version_major": 2,
       "version_minor": 0
      },
      "text/plain": [
       "  0%|          | 0/100459 [00:00<?, ?ex/s]"
      ]
     },
     "metadata": {},
     "output_type": "display_data"
    }
   ],
   "source": [
    "train_r3 = data['train_r3'].map(map_finetune_train)\n",
    "train_r3 = train_r3.remove_columns(['uid', 'reason', 'premise', 'hypothesis', 'label'])"
   ]
  },
  {
   "cell_type": "code",
   "execution_count": 49,
   "id": "585fc34a",
   "metadata": {},
   "outputs": [
    {
     "data": {
      "application/vnd.jupyter.widget-view+json": {
       "model_id": "e23ba858fbf048ba9dcb469b3edb931a",
       "version_major": 2,
       "version_minor": 0
      },
      "text/plain": [
       "Creating json from Arrow format:   0%|          | 0/17 [00:00<?, ?ba/s]"
      ]
     },
     "metadata": {},
     "output_type": "display_data"
    },
    {
     "data": {
      "text/plain": [
       "74546999"
      ]
     },
     "execution_count": 49,
     "metadata": {},
     "output_type": "execute_result"
    }
   ],
   "source": [
    "train = concatenate_datasets([train_r1, train_r2, train_r3])\n",
    "train.to_json('anli_finetune_train.jsonl')"
   ]
  },
  {
   "cell_type": "code",
   "execution_count": 50,
   "id": "9744e8cf",
   "metadata": {},
   "outputs": [],
   "source": [
    "# This trainging dataset will definitely go over the token limit.\n",
    "# Let's just use round 1 for fine tuning for now."
   ]
  },
  {
   "cell_type": "code",
   "execution_count": 51,
   "id": "6396126d",
   "metadata": {},
   "outputs": [
    {
     "data": {
      "application/vnd.jupyter.widget-view+json": {
       "model_id": "b27a4311e42742c3acf2a0297756102c",
       "version_major": 2,
       "version_minor": 0
      },
      "text/plain": [
       "Creating json from Arrow format:   0%|          | 0/2 [00:00<?, ?ba/s]"
      ]
     },
     "metadata": {},
     "output_type": "display_data"
    },
    {
     "data": {
      "text/plain": [
       "8042647"
      ]
     },
     "execution_count": 51,
     "metadata": {},
     "output_type": "execute_result"
    }
   ],
   "source": [
    "train_r1.to_json('anli_finetune_train_r1.jsonl')"
   ]
  },
  {
   "cell_type": "code",
   "execution_count": 53,
   "id": "f0de5874",
   "metadata": {},
   "outputs": [
    {
     "data": {
      "application/vnd.jupyter.widget-view+json": {
       "model_id": "ea77ffbf54e844b4960b1dfa39e18472",
       "version_major": 2,
       "version_minor": 0
      },
      "text/plain": [
       "  0%|          | 0/1000 [00:00<?, ?ex/s]"
      ]
     },
     "metadata": {},
     "output_type": "display_data"
    },
    {
     "data": {
      "application/vnd.jupyter.widget-view+json": {
       "model_id": "9606cc9cc99244f19aa1d6e69e10673a",
       "version_major": 2,
       "version_minor": 0
      },
      "text/plain": [
       "Creating json from Arrow format:   0%|          | 0/1 [00:00<?, ?ba/s]"
      ]
     },
     "metadata": {},
     "output_type": "display_data"
    },
    {
     "data": {
      "text/plain": [
       "475195"
      ]
     },
     "execution_count": 53,
     "metadata": {},
     "output_type": "execute_result"
    }
   ],
   "source": [
    "dev_r1 = data['dev_r1'].map(map_finetune_train)\n",
    "dev_r1 = dev_r1.remove_columns(['uid', 'reason', 'premise', 'hypothesis', 'label'])\n",
    "dev_r1.to_json('anli_finetune_dev_r1.jsonl')"
   ]
  },
  {
   "cell_type": "code",
   "execution_count": 54,
   "id": "372393d4",
   "metadata": {},
   "outputs": [
    {
     "data": {
      "text/plain": [
       "<File file id=file-FkO4WnaoNWQjODh96npgZ6Kr at 0x7f67643eccc0> JSON: {\n",
       "  \"bytes\": 8042647,\n",
       "  \"created_at\": 1638672457,\n",
       "  \"filename\": \"anli_finetune_train_r1.jsonl\",\n",
       "  \"id\": \"file-FkO4WnaoNWQjODh96npgZ6Kr\",\n",
       "  \"object\": \"file\",\n",
       "  \"purpose\": \"fine-tune\",\n",
       "  \"status\": \"uploaded\",\n",
       "  \"status_details\": null\n",
       "}"
      ]
     },
     "execution_count": 54,
     "metadata": {},
     "output_type": "execute_result"
    }
   ],
   "source": [
    "openai.File.create(file=open('anli_finetune_train_r1.jsonl'), purpose='fine-tune')"
   ]
  },
  {
   "cell_type": "code",
   "execution_count": 55,
   "id": "7fadb9f9",
   "metadata": {},
   "outputs": [
    {
     "data": {
      "text/plain": [
       "<File file id=file-cZYCbTSEyYvGpQ1lW2kB41pg at 0x7f66ff96b2c0> JSON: {\n",
       "  \"bytes\": 475195,\n",
       "  \"created_at\": 1638672465,\n",
       "  \"filename\": \"anli_finetune_dev_r1.jsonl\",\n",
       "  \"id\": \"file-cZYCbTSEyYvGpQ1lW2kB41pg\",\n",
       "  \"object\": \"file\",\n",
       "  \"purpose\": \"fine-tune\",\n",
       "  \"status\": \"uploaded\",\n",
       "  \"status_details\": null\n",
       "}"
      ]
     },
     "execution_count": 55,
     "metadata": {},
     "output_type": "execute_result"
    }
   ],
   "source": [
    "openai.File.create(file=open('anli_finetune_dev_r1.jsonl'), purpose='fine-tune')"
   ]
  },
  {
   "cell_type": "code",
   "execution_count": 56,
   "id": "9ad81c83",
   "metadata": {},
   "outputs": [
    {
     "data": {
      "text/plain": [
       "<FineTune fine-tune id=ft-uYZ4vdMlvmoLVuycheBpvM7U at 0x7f66ff988bd0> JSON: {\n",
       "  \"created_at\": 1638672534,\n",
       "  \"events\": [\n",
       "    {\n",
       "      \"created_at\": 1638672534,\n",
       "      \"level\": \"info\",\n",
       "      \"message\": \"Created fine-tune: ft-uYZ4vdMlvmoLVuycheBpvM7U\",\n",
       "      \"object\": \"fine-tune-event\"\n",
       "    }\n",
       "  ],\n",
       "  \"fine_tuned_model\": null,\n",
       "  \"hyperparams\": {\n",
       "    \"batch_size\": null,\n",
       "    \"classification_n_classes\": 3,\n",
       "    \"compute_classification_metrics\": true,\n",
       "    \"learning_rate_multiplier\": null,\n",
       "    \"n_epochs\": 4,\n",
       "    \"prompt_loss_weight\": 0.1,\n",
       "    \"use_packing\": null\n",
       "  },\n",
       "  \"id\": \"ft-uYZ4vdMlvmoLVuycheBpvM7U\",\n",
       "  \"model\": \"curie\",\n",
       "  \"object\": \"fine-tune\",\n",
       "  \"organization_id\": \"org-5AE307Eg4rc5EAoEA2S2bwkH\",\n",
       "  \"result_files\": [],\n",
       "  \"status\": \"pending\",\n",
       "  \"training_files\": [\n",
       "    {\n",
       "      \"bytes\": 8042647,\n",
       "      \"created_at\": 1638672457,\n",
       "      \"filename\": \"anli_finetune_train_r1.jsonl\",\n",
       "      \"id\": \"file-FkO4WnaoNWQjODh96npgZ6Kr\",\n",
       "      \"object\": \"file\",\n",
       "      \"purpose\": \"fine-tune\",\n",
       "      \"status\": \"processed\",\n",
       "      \"status_details\": null\n",
       "    }\n",
       "  ],\n",
       "  \"updated_at\": 1638672534,\n",
       "  \"validation_files\": [\n",
       "    {\n",
       "      \"bytes\": 475195,\n",
       "      \"created_at\": 1638672465,\n",
       "      \"filename\": \"anli_finetune_dev_r1.jsonl\",\n",
       "      \"id\": \"file-cZYCbTSEyYvGpQ1lW2kB41pg\",\n",
       "      \"object\": \"file\",\n",
       "      \"purpose\": \"fine-tune\",\n",
       "      \"status\": \"processed\",\n",
       "      \"status_details\": null\n",
       "    }\n",
       "  ]\n",
       "}"
      ]
     },
     "execution_count": 56,
     "metadata": {},
     "output_type": "execute_result"
    }
   ],
   "source": [
    "openai.FineTune.create(\n",
    "    training_file='file-FkO4WnaoNWQjODh96npgZ6Kr',\n",
    "    validation_file='file-cZYCbTSEyYvGpQ1lW2kB41pg',\n",
    "    model='curie',\n",
    "    n_epochs=4,\n",
    "    compute_classification_metrics=True,\n",
    "    classification_n_classes=3\n",
    ")"
   ]
  },
  {
   "cell_type": "code",
   "execution_count": 2,
   "id": "c287aca8",
   "metadata": {
    "scrolled": false
   },
   "outputs": [
    {
     "data": {
      "text/plain": [
       "<FineTune fine-tune id=ft-uYZ4vdMlvmoLVuycheBpvM7U at 0x7fb682539220> JSON: {\n",
       "  \"created_at\": 1638672534,\n",
       "  \"events\": [\n",
       "    {\n",
       "      \"created_at\": 1638672534,\n",
       "      \"level\": \"info\",\n",
       "      \"message\": \"Created fine-tune: ft-uYZ4vdMlvmoLVuycheBpvM7U\",\n",
       "      \"object\": \"fine-tune-event\"\n",
       "    },\n",
       "    {\n",
       "      \"created_at\": 1638672540,\n",
       "      \"level\": \"info\",\n",
       "      \"message\": \"Fine-tune enqueued. Queue number: 0\",\n",
       "      \"object\": \"fine-tune-event\"\n",
       "    },\n",
       "    {\n",
       "      \"created_at\": 1638672545,\n",
       "      \"level\": \"info\",\n",
       "      \"message\": \"Fine-tune started\",\n",
       "      \"object\": \"fine-tune-event\"\n",
       "    },\n",
       "    {\n",
       "      \"created_at\": 1638673078,\n",
       "      \"level\": \"info\",\n",
       "      \"message\": \"Completed epoch 1/4\",\n",
       "      \"object\": \"fine-tune-event\"\n",
       "    },\n",
       "    {\n",
       "      \"created_at\": 1638673618,\n",
       "      \"level\": \"info\",\n",
       "      \"message\": \"Completed epoch 2/4\",\n",
       "      \"object\": \"fine-tune-event\"\n",
       "    },\n",
       "    {\n",
       "      \"created_at\": 1638674154,\n",
       "      \"level\": \"info\",\n",
       "      \"message\": \"Completed epoch 3/4\",\n",
       "      \"object\": \"fine-tune-event\"\n",
       "    },\n",
       "    {\n",
       "      \"created_at\": 1638674691,\n",
       "      \"level\": \"info\",\n",
       "      \"message\": \"Completed epoch 4/4\",\n",
       "      \"object\": \"fine-tune-event\"\n",
       "    },\n",
       "    {\n",
       "      \"created_at\": 1638674775,\n",
       "      \"level\": \"info\",\n",
       "      \"message\": \"Uploaded model: curie:ft-user-5hzndcnnszukksvrzrlnjn8l-2021-12-05-03-26-14\",\n",
       "      \"object\": \"fine-tune-event\"\n",
       "    },\n",
       "    {\n",
       "      \"created_at\": 1638674779,\n",
       "      \"level\": \"info\",\n",
       "      \"message\": \"Uploaded result file: file-8d5IsoqvC86h9bihVABgKQSP\",\n",
       "      \"object\": \"fine-tune-event\"\n",
       "    },\n",
       "    {\n",
       "      \"created_at\": 1638674779,\n",
       "      \"level\": \"info\",\n",
       "      \"message\": \"Fine-tune succeeded\",\n",
       "      \"object\": \"fine-tune-event\"\n",
       "    }\n",
       "  ],\n",
       "  \"fine_tuned_model\": \"curie:ft-user-5hzndcnnszukksvrzrlnjn8l-2021-12-05-03-26-14\",\n",
       "  \"hyperparams\": {\n",
       "    \"batch_size\": 1,\n",
       "    \"classification_n_classes\": 3,\n",
       "    \"compute_classification_metrics\": true,\n",
       "    \"learning_rate_multiplier\": 0.2,\n",
       "    \"n_epochs\": 4,\n",
       "    \"prompt_loss_weight\": 0.1,\n",
       "    \"use_packing\": true\n",
       "  },\n",
       "  \"id\": \"ft-uYZ4vdMlvmoLVuycheBpvM7U\",\n",
       "  \"model\": \"curie\",\n",
       "  \"object\": \"fine-tune\",\n",
       "  \"organization_id\": \"org-5AE307Eg4rc5EAoEA2S2bwkH\",\n",
       "  \"result_files\": [\n",
       "    {\n",
       "      \"bytes\": 217340,\n",
       "      \"created_at\": 1638674777,\n",
       "      \"filename\": \"compiled_results.csv\",\n",
       "      \"id\": \"file-8d5IsoqvC86h9bihVABgKQSP\",\n",
       "      \"object\": \"file\",\n",
       "      \"purpose\": \"fine-tune-results\",\n",
       "      \"status\": \"processed\",\n",
       "      \"status_details\": null\n",
       "    }\n",
       "  ],\n",
       "  \"status\": \"succeeded\",\n",
       "  \"training_files\": [\n",
       "    {\n",
       "      \"bytes\": 8042647,\n",
       "      \"created_at\": 1638672457,\n",
       "      \"filename\": \"anli_finetune_train_r1.jsonl\",\n",
       "      \"id\": \"file-FkO4WnaoNWQjODh96npgZ6Kr\",\n",
       "      \"object\": \"file\",\n",
       "      \"purpose\": \"fine-tune\",\n",
       "      \"status\": \"processed\",\n",
       "      \"status_details\": null\n",
       "    }\n",
       "  ],\n",
       "  \"updated_at\": 1638674780,\n",
       "  \"validation_files\": [\n",
       "    {\n",
       "      \"bytes\": 475195,\n",
       "      \"created_at\": 1638672465,\n",
       "      \"filename\": \"anli_finetune_dev_r1.jsonl\",\n",
       "      \"id\": \"file-cZYCbTSEyYvGpQ1lW2kB41pg\",\n",
       "      \"object\": \"file\",\n",
       "      \"purpose\": \"fine-tune\",\n",
       "      \"status\": \"processed\",\n",
       "      \"status_details\": null\n",
       "    }\n",
       "  ]\n",
       "}"
      ]
     },
     "execution_count": 2,
     "metadata": {},
     "output_type": "execute_result"
    }
   ],
   "source": [
    "openai.FineTune.retrieve('ft-uYZ4vdMlvmoLVuycheBpvM7U')"
   ]
  },
  {
   "cell_type": "code",
   "execution_count": 32,
   "id": "c1dbb72f",
   "metadata": {},
   "outputs": [],
   "source": [
    "with open('../results/anli_results.csv', 'wb') as f:\n",
    "    f.write(openai.File.download('file-8d5IsoqvC86h9bihVABgKQSP'))"
   ]
  },
  {
   "cell_type": "code",
   "execution_count": 29,
   "id": "275bebb0",
   "metadata": {},
   "outputs": [],
   "source": [
    "import pandas as pd"
   ]
  },
  {
   "cell_type": "code",
   "execution_count": 33,
   "id": "0312d2f7",
   "metadata": {},
   "outputs": [
    {
     "data": {
      "text/html": [
       "<div>\n",
       "<style scoped>\n",
       "    .dataframe tbody tr th:only-of-type {\n",
       "        vertical-align: middle;\n",
       "    }\n",
       "\n",
       "    .dataframe tbody tr th {\n",
       "        vertical-align: top;\n",
       "    }\n",
       "\n",
       "    .dataframe thead th {\n",
       "        text-align: right;\n",
       "    }\n",
       "</style>\n",
       "<table border=\"1\" class=\"dataframe\">\n",
       "  <thead>\n",
       "    <tr style=\"text-align: right;\">\n",
       "      <th></th>\n",
       "      <th>step</th>\n",
       "      <th>elapsed_tokens</th>\n",
       "      <th>elapsed_examples</th>\n",
       "      <th>training_loss</th>\n",
       "      <th>training_sequence_accuracy</th>\n",
       "      <th>training_token_accuracy</th>\n",
       "      <th>validation_loss</th>\n",
       "      <th>validation_sequence_accuracy</th>\n",
       "      <th>validation_token_accuracy</th>\n",
       "      <th>classification/accuracy</th>\n",
       "      <th>classification/weighted_f1_score</th>\n",
       "    </tr>\n",
       "  </thead>\n",
       "  <tbody>\n",
       "    <tr>\n",
       "      <th>0</th>\n",
       "      <td>1</td>\n",
       "      <td>2049</td>\n",
       "      <td>1</td>\n",
       "      <td>0.296271</td>\n",
       "      <td>0.0</td>\n",
       "      <td>0.619048</td>\n",
       "      <td>0.2819</td>\n",
       "      <td>0.0</td>\n",
       "      <td>0.666667</td>\n",
       "      <td>NaN</td>\n",
       "      <td>NaN</td>\n",
       "    </tr>\n",
       "    <tr>\n",
       "      <th>1</th>\n",
       "      <td>2</td>\n",
       "      <td>4098</td>\n",
       "      <td>2</td>\n",
       "      <td>0.200318</td>\n",
       "      <td>0.0</td>\n",
       "      <td>0.893939</td>\n",
       "      <td>NaN</td>\n",
       "      <td>NaN</td>\n",
       "      <td>NaN</td>\n",
       "      <td>NaN</td>\n",
       "      <td>NaN</td>\n",
       "    </tr>\n",
       "    <tr>\n",
       "      <th>2</th>\n",
       "      <td>3</td>\n",
       "      <td>6147</td>\n",
       "      <td>3</td>\n",
       "      <td>0.200883</td>\n",
       "      <td>0.0</td>\n",
       "      <td>0.803030</td>\n",
       "      <td>NaN</td>\n",
       "      <td>NaN</td>\n",
       "      <td>NaN</td>\n",
       "      <td>NaN</td>\n",
       "      <td>NaN</td>\n",
       "    </tr>\n",
       "    <tr>\n",
       "      <th>3</th>\n",
       "      <td>4</td>\n",
       "      <td>8196</td>\n",
       "      <td>4</td>\n",
       "      <td>0.216732</td>\n",
       "      <td>0.0</td>\n",
       "      <td>0.763889</td>\n",
       "      <td>NaN</td>\n",
       "      <td>NaN</td>\n",
       "      <td>NaN</td>\n",
       "      <td>NaN</td>\n",
       "      <td>NaN</td>\n",
       "    </tr>\n",
       "    <tr>\n",
       "      <th>4</th>\n",
       "      <td>5</td>\n",
       "      <td>10245</td>\n",
       "      <td>5</td>\n",
       "      <td>0.194912</td>\n",
       "      <td>0.0</td>\n",
       "      <td>0.865672</td>\n",
       "      <td>NaN</td>\n",
       "      <td>NaN</td>\n",
       "      <td>NaN</td>\n",
       "      <td>NaN</td>\n",
       "      <td>NaN</td>\n",
       "    </tr>\n",
       "    <tr>\n",
       "      <th>...</th>\n",
       "      <td>...</td>\n",
       "      <td>...</td>\n",
       "      <td>...</td>\n",
       "      <td>...</td>\n",
       "      <td>...</td>\n",
       "      <td>...</td>\n",
       "      <td>...</td>\n",
       "      <td>...</td>\n",
       "      <td>...</td>\n",
       "      <td>...</td>\n",
       "      <td>...</td>\n",
       "    </tr>\n",
       "    <tr>\n",
       "      <th>3635</th>\n",
       "      <td>3636</td>\n",
       "      <td>7450164</td>\n",
       "      <td>3636</td>\n",
       "      <td>0.013985</td>\n",
       "      <td>1.0</td>\n",
       "      <td>1.000000</td>\n",
       "      <td>NaN</td>\n",
       "      <td>NaN</td>\n",
       "      <td>NaN</td>\n",
       "      <td>NaN</td>\n",
       "      <td>NaN</td>\n",
       "    </tr>\n",
       "    <tr>\n",
       "      <th>3636</th>\n",
       "      <td>3637</td>\n",
       "      <td>7452213</td>\n",
       "      <td>3637</td>\n",
       "      <td>0.013357</td>\n",
       "      <td>1.0</td>\n",
       "      <td>1.000000</td>\n",
       "      <td>NaN</td>\n",
       "      <td>NaN</td>\n",
       "      <td>NaN</td>\n",
       "      <td>NaN</td>\n",
       "      <td>NaN</td>\n",
       "    </tr>\n",
       "    <tr>\n",
       "      <th>3637</th>\n",
       "      <td>3638</td>\n",
       "      <td>7454262</td>\n",
       "      <td>3638</td>\n",
       "      <td>0.013917</td>\n",
       "      <td>0.0</td>\n",
       "      <td>0.985507</td>\n",
       "      <td>NaN</td>\n",
       "      <td>NaN</td>\n",
       "      <td>NaN</td>\n",
       "      <td>NaN</td>\n",
       "      <td>NaN</td>\n",
       "    </tr>\n",
       "    <tr>\n",
       "      <th>3638</th>\n",
       "      <td>3639</td>\n",
       "      <td>7456311</td>\n",
       "      <td>3639</td>\n",
       "      <td>0.013196</td>\n",
       "      <td>1.0</td>\n",
       "      <td>1.000000</td>\n",
       "      <td>NaN</td>\n",
       "      <td>NaN</td>\n",
       "      <td>NaN</td>\n",
       "      <td>NaN</td>\n",
       "      <td>NaN</td>\n",
       "    </tr>\n",
       "    <tr>\n",
       "      <th>3639</th>\n",
       "      <td>3640</td>\n",
       "      <td>7458360</td>\n",
       "      <td>3640</td>\n",
       "      <td>0.013113</td>\n",
       "      <td>1.0</td>\n",
       "      <td>1.000000</td>\n",
       "      <td>NaN</td>\n",
       "      <td>NaN</td>\n",
       "      <td>NaN</td>\n",
       "      <td>0.552</td>\n",
       "      <td>0.550766</td>\n",
       "    </tr>\n",
       "  </tbody>\n",
       "</table>\n",
       "<p>3640 rows × 11 columns</p>\n",
       "</div>"
      ],
      "text/plain": [
       "      step  elapsed_tokens  elapsed_examples  training_loss  \\\n",
       "0        1            2049                 1       0.296271   \n",
       "1        2            4098                 2       0.200318   \n",
       "2        3            6147                 3       0.200883   \n",
       "3        4            8196                 4       0.216732   \n",
       "4        5           10245                 5       0.194912   \n",
       "...    ...             ...               ...            ...   \n",
       "3635  3636         7450164              3636       0.013985   \n",
       "3636  3637         7452213              3637       0.013357   \n",
       "3637  3638         7454262              3638       0.013917   \n",
       "3638  3639         7456311              3639       0.013196   \n",
       "3639  3640         7458360              3640       0.013113   \n",
       "\n",
       "      training_sequence_accuracy  training_token_accuracy  validation_loss  \\\n",
       "0                            0.0                 0.619048           0.2819   \n",
       "1                            0.0                 0.893939              NaN   \n",
       "2                            0.0                 0.803030              NaN   \n",
       "3                            0.0                 0.763889              NaN   \n",
       "4                            0.0                 0.865672              NaN   \n",
       "...                          ...                      ...              ...   \n",
       "3635                         1.0                 1.000000              NaN   \n",
       "3636                         1.0                 1.000000              NaN   \n",
       "3637                         0.0                 0.985507              NaN   \n",
       "3638                         1.0                 1.000000              NaN   \n",
       "3639                         1.0                 1.000000              NaN   \n",
       "\n",
       "      validation_sequence_accuracy  validation_token_accuracy  \\\n",
       "0                              0.0                   0.666667   \n",
       "1                              NaN                        NaN   \n",
       "2                              NaN                        NaN   \n",
       "3                              NaN                        NaN   \n",
       "4                              NaN                        NaN   \n",
       "...                            ...                        ...   \n",
       "3635                           NaN                        NaN   \n",
       "3636                           NaN                        NaN   \n",
       "3637                           NaN                        NaN   \n",
       "3638                           NaN                        NaN   \n",
       "3639                           NaN                        NaN   \n",
       "\n",
       "      classification/accuracy  classification/weighted_f1_score  \n",
       "0                         NaN                               NaN  \n",
       "1                         NaN                               NaN  \n",
       "2                         NaN                               NaN  \n",
       "3                         NaN                               NaN  \n",
       "4                         NaN                               NaN  \n",
       "...                       ...                               ...  \n",
       "3635                      NaN                               NaN  \n",
       "3636                      NaN                               NaN  \n",
       "3637                      NaN                               NaN  \n",
       "3638                      NaN                               NaN  \n",
       "3639                    0.552                          0.550766  \n",
       "\n",
       "[3640 rows x 11 columns]"
      ]
     },
     "execution_count": 33,
     "metadata": {},
     "output_type": "execute_result"
    }
   ],
   "source": [
    "df = pd.read_csv('../results/anli_results.csv')\n",
    "df"
   ]
  },
  {
   "cell_type": "code",
   "execution_count": 40,
   "id": "c69d0f2b",
   "metadata": {},
   "outputs": [
    {
     "data": {
      "application/vnd.jupyter.widget-view+json": {
       "model_id": "920b1e6eddf243288869530bd268b0ce",
       "version_major": 2,
       "version_minor": 0
      },
      "text/plain": [
       "  0%|          | 0/1000 [00:00<?, ?ex/s]"
      ]
     },
     "metadata": {},
     "output_type": "display_data"
    },
    {
     "data": {
      "text/plain": [
       "Dataset({\n",
       "    features: ['prompt', 'completion'],\n",
       "    num_rows: 1000\n",
       "})"
      ]
     },
     "execution_count": 40,
     "metadata": {},
     "output_type": "execute_result"
    }
   ],
   "source": [
    "test_r1 = data['test_r1'].map(map_finetune_train)\n",
    "test_r1 = test_r1.remove_columns(['uid', 'reason', 'premise', 'hypothesis', 'label'])\n",
    "test_r1"
   ]
  },
  {
   "cell_type": "code",
   "execution_count": 41,
   "id": "e6e8bbf3",
   "metadata": {},
   "outputs": [
    {
     "data": {
      "text/plain": [
       "{'prompt': 'Premise: Ernest Jones is a British jeweller and watchmaker. Established in 1949, its first store was opened in Oxford Street, London. Ernest Jones specialises in diamonds and watches, stocking brands such as Gucci and Emporio Armani. Ernest Jones is part of the Signet Jewelers group.\\n\\nHypothesis: The first Ernest Jones store was opened on the continent of Europe.\\n\\nLabel: ',\n",
       " 'completion': 'Entailment\\n'}"
      ]
     },
     "execution_count": 41,
     "metadata": {},
     "output_type": "execute_result"
    }
   ],
   "source": [
    "test_r1[0]"
   ]
  },
  {
   "cell_type": "code",
   "execution_count": 43,
   "id": "053fe92d",
   "metadata": {},
   "outputs": [
    {
     "data": {
      "text/plain": [
       "<OpenAIObject text_completion id=cmpl-4Bpl3HMLFQi3iujtRsrHeUsS4tPP2 at 0x7fb682545900> JSON: {\n",
       "  \"choices\": [\n",
       "    {\n",
       "      \"finish_reason\": \"stop\",\n",
       "      \"index\": 0,\n",
       "      \"logprobs\": null,\n",
       "      \"text\": \"Entailment\"\n",
       "    }\n",
       "  ],\n",
       "  \"created\": 1638725913,\n",
       "  \"id\": \"cmpl-4Bpl3HMLFQi3iujtRsrHeUsS4tPP2\",\n",
       "  \"model\": \"curie:ft-user-5hzndcnnszukksvrzrlnjn8l-2021-12-05-03-26-14\",\n",
       "  \"object\": \"text_completion\"\n",
       "}"
      ]
     },
     "execution_count": 43,
     "metadata": {},
     "output_type": "execute_result"
    }
   ],
   "source": [
    "openai.Completion.create(\n",
    "    model='curie:ft-user-5hzndcnnszukksvrzrlnjn8l-2021-12-05-03-26-14',\n",
    "    prompt=test_r1[0]['prompt'],\n",
    "    temperature=0.3,\n",
    "    max_tokens=10,\n",
    "    stop=['\\n'],\n",
    "    top_p=1,\n",
    "    frequency_penalty=0.5,\n",
    "    presence_penalty=0,\n",
    ")"
   ]
  },
  {
   "cell_type": "code",
   "execution_count": 46,
   "id": "af5bd5b9",
   "metadata": {},
   "outputs": [
    {
     "data": {
      "text/plain": [
       "{'prompt': \"Premise: Shadowboxer is a 2005 crime thriller film directed by Lee Daniels and starring Academy Award winners Cuba Gooding Jr., Helen Mirren, and Mo'Nique. It opened in limited release in six cities: New York, Los Angeles, Washington, D.C., Baltimore, Philadelphia, and Richmond, Virginia.\\n\\nHypothesis: Shadowboxer was written and directed by Lee Daniels and was starring Academy Award winners Cuba Gooding Jr., Helen Mirren, and Mo'Nique.\\n\\nLabel: \",\n",
       " 'completion': 'Neutral\\n'}"
      ]
     },
     "execution_count": 46,
     "metadata": {},
     "output_type": "execute_result"
    }
   ],
   "source": [
    "test_r1[3]"
   ]
  },
  {
   "cell_type": "code",
   "execution_count": 47,
   "id": "cbcfff78",
   "metadata": {},
   "outputs": [
    {
     "data": {
      "text/plain": [
       "<OpenAIObject text_completion id=cmpl-4BplRBigRny9VprKnJYoXZ3PhEi3v at 0x7fb682539630> JSON: {\n",
       "  \"choices\": [\n",
       "    {\n",
       "      \"finish_reason\": \"stop\",\n",
       "      \"index\": 0,\n",
       "      \"logprobs\": null,\n",
       "      \"text\": \"Entailment\"\n",
       "    }\n",
       "  ],\n",
       "  \"created\": 1638725937,\n",
       "  \"id\": \"cmpl-4BplRBigRny9VprKnJYoXZ3PhEi3v\",\n",
       "  \"model\": \"curie:ft-user-5hzndcnnszukksvrzrlnjn8l-2021-12-05-03-26-14\",\n",
       "  \"object\": \"text_completion\"\n",
       "}"
      ]
     },
     "execution_count": 47,
     "metadata": {},
     "output_type": "execute_result"
    }
   ],
   "source": [
    "openai.Completion.create(\n",
    "    model='curie:ft-user-5hzndcnnszukksvrzrlnjn8l-2021-12-05-03-26-14',\n",
    "    prompt=test_r1[3]['prompt'],\n",
    "    temperature=0.3,\n",
    "    max_tokens=10,\n",
    "    stop=['\\n'],\n",
    "    top_p=1,\n",
    "    frequency_penalty=0.5,\n",
    "    presence_penalty=0,\n",
    ")"
   ]
  },
  {
   "cell_type": "code",
   "execution_count": 48,
   "id": "95723775",
   "metadata": {},
   "outputs": [
    {
     "data": {
      "text/plain": [
       "{'prompt': 'Premise: Takaaki Kajita (梶田 隆章 , Kajita Takaaki ) is a Japanese physicist, known for neutrino experiments at the Kamiokande and its successor, Super-Kamiokande. In 2015, he was awarded the Nobel Prize in Physics jointly with Canadian physicist Arthur B. McDonald.\\n\\nHypothesis: Arthur B. McDonald is a Japanese physicist, known for neutrino experiments at the Kamiokande and its successor, Super-Kamiokande.\\n\\nLabel: ',\n",
       " 'completion': 'Contradiction\\n'}"
      ]
     },
     "execution_count": 48,
     "metadata": {},
     "output_type": "execute_result"
    }
   ],
   "source": [
    "test_r1[4]"
   ]
  },
  {
   "cell_type": "code",
   "execution_count": 49,
   "id": "9cf0414e",
   "metadata": {},
   "outputs": [
    {
     "data": {
      "text/plain": [
       "<OpenAIObject text_completion id=cmpl-4BpleO24l6rcwury8gNFTgjeWoaZ9 at 0x7fb682545e00> JSON: {\n",
       "  \"choices\": [\n",
       "    {\n",
       "      \"finish_reason\": \"stop\",\n",
       "      \"index\": 0,\n",
       "      \"logprobs\": null,\n",
       "      \"text\": \"Contradiction\"\n",
       "    }\n",
       "  ],\n",
       "  \"created\": 1638725950,\n",
       "  \"id\": \"cmpl-4BpleO24l6rcwury8gNFTgjeWoaZ9\",\n",
       "  \"model\": \"curie:ft-user-5hzndcnnszukksvrzrlnjn8l-2021-12-05-03-26-14\",\n",
       "  \"object\": \"text_completion\"\n",
       "}"
      ]
     },
     "execution_count": 49,
     "metadata": {},
     "output_type": "execute_result"
    }
   ],
   "source": [
    "openai.Completion.create(\n",
    "    model='curie:ft-user-5hzndcnnszukksvrzrlnjn8l-2021-12-05-03-26-14',\n",
    "    prompt=test_r1[4]['prompt'],\n",
    "    temperature=0.3,\n",
    "    max_tokens=10,\n",
    "    stop=['\\n'],\n",
    "    top_p=1,\n",
    "    frequency_penalty=0.5,\n",
    "    presence_penalty=0,\n",
    ")"
   ]
  },
  {
   "cell_type": "code",
   "execution_count": 50,
   "id": "3321b8d4",
   "metadata": {},
   "outputs": [
    {
     "data": {
      "text/plain": [
       "{'prompt': 'Premise: Michael T. Scuse (born 1954) is an American public official. He was the acting United States Deputy Secretary of Agriculture, and, following the resignation of Tom Vilsack on January 13, 2017, was acting United States Secretary of Agriculture until Donald Trump took office as President. He also served as Under Secretary of Agriculture for Farm and Foreign Agricultural Services since 2012.\\n\\nHypothesis: The US Secretary of Agriculture is assigned Secret Service for protection purposes.\\n\\nLabel: ',\n",
       " 'completion': 'Neutral\\n'}"
      ]
     },
     "execution_count": 50,
     "metadata": {},
     "output_type": "execute_result"
    }
   ],
   "source": [
    "test_r1[5]"
   ]
  },
  {
   "cell_type": "code",
   "execution_count": 51,
   "id": "2853922a",
   "metadata": {},
   "outputs": [
    {
     "data": {
      "text/plain": [
       "<OpenAIObject text_completion id=cmpl-4Bplsj6FbMF8o0TNczocCI9rBOkuv at 0x7fb6737b4900> JSON: {\n",
       "  \"choices\": [\n",
       "    {\n",
       "      \"finish_reason\": \"stop\",\n",
       "      \"index\": 0,\n",
       "      \"logprobs\": null,\n",
       "      \"text\": \"Neutral\"\n",
       "    }\n",
       "  ],\n",
       "  \"created\": 1638725964,\n",
       "  \"id\": \"cmpl-4Bplsj6FbMF8o0TNczocCI9rBOkuv\",\n",
       "  \"model\": \"curie:ft-user-5hzndcnnszukksvrzrlnjn8l-2021-12-05-03-26-14\",\n",
       "  \"object\": \"text_completion\"\n",
       "}"
      ]
     },
     "execution_count": 51,
     "metadata": {},
     "output_type": "execute_result"
    }
   ],
   "source": [
    "openai.Completion.create(\n",
    "    model='curie:ft-user-5hzndcnnszukksvrzrlnjn8l-2021-12-05-03-26-14',\n",
    "    prompt=test_r1[5]['prompt'],\n",
    "    temperature=0.3,\n",
    "    max_tokens=10,\n",
    "    stop=['\\n'],\n",
    "    top_p=1,\n",
    "    frequency_penalty=0.5,\n",
    "    presence_penalty=0,\n",
    ")"
   ]
  },
  {
   "cell_type": "code",
   "execution_count": null,
   "id": "a6ac00e3",
   "metadata": {},
   "outputs": [],
   "source": []
  }
 ],
 "metadata": {
  "kernelspec": {
   "display_name": "Python 3 (ipykernel)",
   "language": "python",
   "name": "python3"
  },
  "language_info": {
   "codemirror_mode": {
    "name": "ipython",
    "version": 3
   },
   "file_extension": ".py",
   "mimetype": "text/x-python",
   "name": "python",
   "nbconvert_exporter": "python",
   "pygments_lexer": "ipython3",
   "version": "3.9.5"
  }
 },
 "nbformat": 4,
 "nbformat_minor": 5
}
