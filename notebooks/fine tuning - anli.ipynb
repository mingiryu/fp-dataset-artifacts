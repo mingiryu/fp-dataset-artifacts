{
 "cells": [
  {
   "cell_type": "code",
   "execution_count": 42,
   "id": "f87da5da",
   "metadata": {},
   "outputs": [
    {
     "name": "stderr",
     "output_type": "stream",
     "text": [
      "Reusing dataset anli (/home/x/.cache/huggingface/datasets/anli/plain_text/0.1.0/aabce88453b06dff21c201855ea83283bab0390bff746deadb30b65695755c0b)\n"
     ]
    },
    {
     "data": {
      "application/vnd.jupyter.widget-view+json": {
       "model_id": "0e32d081da3c43c28f020d6be21efd0e",
       "version_major": 2,
       "version_minor": 0
      },
      "text/plain": [
       "  0%|          | 0/9 [00:00<?, ?it/s]"
      ]
     },
     "metadata": {},
     "output_type": "display_data"
    },
    {
     "data": {
      "text/plain": [
       "DatasetDict({\n",
       "    train_r1: Dataset({\n",
       "        features: ['uid', 'premise', 'hypothesis', 'label', 'reason'],\n",
       "        num_rows: 16946\n",
       "    })\n",
       "    dev_r1: Dataset({\n",
       "        features: ['uid', 'premise', 'hypothesis', 'label', 'reason'],\n",
       "        num_rows: 1000\n",
       "    })\n",
       "    test_r1: Dataset({\n",
       "        features: ['uid', 'premise', 'hypothesis', 'label', 'reason'],\n",
       "        num_rows: 1000\n",
       "    })\n",
       "    train_r2: Dataset({\n",
       "        features: ['uid', 'premise', 'hypothesis', 'label', 'reason'],\n",
       "        num_rows: 45460\n",
       "    })\n",
       "    dev_r2: Dataset({\n",
       "        features: ['uid', 'premise', 'hypothesis', 'label', 'reason'],\n",
       "        num_rows: 1000\n",
       "    })\n",
       "    test_r2: Dataset({\n",
       "        features: ['uid', 'premise', 'hypothesis', 'label', 'reason'],\n",
       "        num_rows: 1000\n",
       "    })\n",
       "    train_r3: Dataset({\n",
       "        features: ['uid', 'premise', 'hypothesis', 'label', 'reason'],\n",
       "        num_rows: 100459\n",
       "    })\n",
       "    dev_r3: Dataset({\n",
       "        features: ['uid', 'premise', 'hypothesis', 'label', 'reason'],\n",
       "        num_rows: 1200\n",
       "    })\n",
       "    test_r3: Dataset({\n",
       "        features: ['uid', 'premise', 'hypothesis', 'label', 'reason'],\n",
       "        num_rows: 1200\n",
       "    })\n",
       "})"
      ]
     },
     "execution_count": 42,
     "metadata": {},
     "output_type": "execute_result"
    }
   ],
   "source": [
    "import openai\n",
    "\n",
    "from fp_dataset_artifacts.utils import init_openai\n",
    "from fp_dataset_artifacts.boolq import format_question, format_answer\n",
    "from datasets import list_datasets, load_dataset, list_metrics, load_metric, concatenate_datasets\n",
    "\n",
    "init_openai()\n",
    "\n",
    "data = load_dataset('anli')\n",
    "data"
   ]
  },
  {
   "cell_type": "code",
   "execution_count": 8,
   "id": "70edf2ba",
   "metadata": {},
   "outputs": [
    {
     "data": {
      "text/plain": [
       "{'uid': '0fd0abfb-659e-4453-b196-c3a64d2d8267',\n",
       " 'premise': 'The Parma trolleybus system (Italian: \"Rete filoviaria di Parma\" ) forms part of the public transport network of the city and \"comune\" of Parma, in the region of Emilia-Romagna, northern Italy. In operation since 1953, the system presently comprises four urban routes.',\n",
       " 'hypothesis': 'The trolleybus system has over 2 urban routes',\n",
       " 'label': 0,\n",
       " 'reason': ''}"
      ]
     },
     "execution_count": 8,
     "metadata": {},
     "output_type": "execute_result"
    }
   ],
   "source": [
    "data['train_r1'][0]"
   ]
  },
  {
   "cell_type": "code",
   "execution_count": 9,
   "id": "76abc152",
   "metadata": {},
   "outputs": [
    {
     "data": {
      "text/plain": [
       "{'uid': '245475c4-6225-4f5c-b945-e13e0e988fc8',\n",
       " 'premise': 'Topi Raja Sweety Roja is a 1996 Telugu comedy film, produced by Dr. A. Vijayalakshmi on Sri Sai Madhavi Productions banner and directed by Dr. N. Siva Prasad. Starring Rajendra Prasad, Roja in the lead roles and music also composed by \"Hero\" Rajendra Prasad.',\n",
       " 'hypothesis': 'The lead role was played by Rajendra Prasad',\n",
       " 'label': 0,\n",
       " 'reason': ''}"
      ]
     },
     "execution_count": 9,
     "metadata": {},
     "output_type": "execute_result"
    }
   ],
   "source": [
    "data['train_r2'][0]"
   ]
  },
  {
   "cell_type": "code",
   "execution_count": 10,
   "id": "5b84e314",
   "metadata": {},
   "outputs": [
    {
     "data": {
      "text/plain": [
       "{'uid': '2093cfb3-a15f-4282-81e3-0cb793ffd0d7',\n",
       " 'premise': 'TOKYO, Dec 18 (Reuters) - Japan’s Shionogi & Co said on Tuesday that it has applied to health regulators in the United States, Canada and Europe for approval of its HIV drug Dolutegravir. Shionogi developed Dolutegravir with a Viiv Healthcare, an AIDS drug joint venture between GlaxoSmithKline and Pfizer, in exchange for its rights to the drug.',\n",
       " 'hypothesis': 'The article was written on December 18th.',\n",
       " 'label': 0,\n",
       " 'reason': 'TOKYO, Dec 18 (Reuters) is when the article was written as it states in the first words of the sentence'}"
      ]
     },
     "execution_count": 10,
     "metadata": {},
     "output_type": "execute_result"
    }
   ],
   "source": [
    "data['train_r3'][0]"
   ]
  },
  {
   "cell_type": "code",
   "execution_count": 32,
   "id": "90be4370",
   "metadata": {},
   "outputs": [
    {
     "data": {
      "text/plain": [
       "'Entailment'"
      ]
     },
     "execution_count": 32,
     "metadata": {},
     "output_type": "execute_result"
    }
   ],
   "source": [
    "def int2label(i):\n",
    "    return ['Entailment', 'Neutral', 'Contradiction'][i]\n",
    "int2label(0)"
   ]
  },
  {
   "cell_type": "code",
   "execution_count": 33,
   "id": "d5067006",
   "metadata": {},
   "outputs": [
    {
     "data": {
      "text/plain": [
       "{'prompt': 'Premise: The Parma trolleybus system (Italian: \"Rete filoviaria di Parma\" ) forms part of the public transport network of the city and \"comune\" of Parma, in the region of Emilia-Romagna, northern Italy. In operation since 1953, the system presently comprises four urban routes.\\n\\nHypothesis: The trolleybus system has over 2 urban routes\\n\\nLabel: ',\n",
       " 'completion': 'Entailment\\n'}"
      ]
     },
     "execution_count": 33,
     "metadata": {},
     "output_type": "execute_result"
    }
   ],
   "source": [
    "def map_finetune_train(x):\n",
    "    premise = x['premise']\n",
    "    hypothesis = x['hypothesis']\n",
    "    label = int2label(x['label'])\n",
    "\n",
    "    return {\n",
    "        'prompt': f\"Premise: {premise}\\n\\nHypothesis: {hypothesis}\\n\\nLabel: \",\n",
    "        'completion': label + '\\n',\n",
    "    }\n",
    "map_finetune_train(data['train_r1'][0])"
   ]
  },
  {
   "cell_type": "code",
   "execution_count": 38,
   "id": "dc15dc5f",
   "metadata": {},
   "outputs": [
    {
     "name": "stderr",
     "output_type": "stream",
     "text": [
      "Loading cached processed dataset at /home/x/.cache/huggingface/datasets/anli/plain_text/0.1.0/aabce88453b06dff21c201855ea83283bab0390bff746deadb30b65695755c0b/cache-0abd26387ee4a689.arrow\n"
     ]
    }
   ],
   "source": [
    "train_r1 = data['train_r1'].map(map_finetune_train)\n",
    "train_r1 = train_r1.remove_columns(['uid', 'reason', 'premise', 'hypothesis', 'label'])"
   ]
  },
  {
   "cell_type": "code",
   "execution_count": 39,
   "id": "bc906fe5",
   "metadata": {},
   "outputs": [
    {
     "data": {
      "application/vnd.jupyter.widget-view+json": {
       "model_id": "df98fb720ea24308ac205ecdfbca9baa",
       "version_major": 2,
       "version_minor": 0
      },
      "text/plain": [
       "  0%|          | 0/45460 [00:00<?, ?ex/s]"
      ]
     },
     "metadata": {},
     "output_type": "display_data"
    }
   ],
   "source": [
    "train_r2 = data['train_r2'].map(map_finetune_train)\n",
    "train_r2 = train_r2.remove_columns(['uid', 'reason', 'premise', 'hypothesis', 'label'])"
   ]
  },
  {
   "cell_type": "code",
   "execution_count": 47,
   "id": "d26839ac",
   "metadata": {},
   "outputs": [
    {
     "data": {
      "application/vnd.jupyter.widget-view+json": {
       "model_id": "df4a84a634cb40bb8a85ebf6a46d773e",
       "version_major": 2,
       "version_minor": 0
      },
      "text/plain": [
       "  0%|          | 0/100459 [00:00<?, ?ex/s]"
      ]
     },
     "metadata": {},
     "output_type": "display_data"
    }
   ],
   "source": [
    "train_r3 = data['train_r3'].map(map_finetune_train)\n",
    "train_r3 = train_r3.remove_columns(['uid', 'reason', 'premise', 'hypothesis', 'label'])"
   ]
  },
  {
   "cell_type": "code",
   "execution_count": 49,
   "id": "c34f775e",
   "metadata": {},
   "outputs": [
    {
     "data": {
      "application/vnd.jupyter.widget-view+json": {
       "model_id": "e23ba858fbf048ba9dcb469b3edb931a",
       "version_major": 2,
       "version_minor": 0
      },
      "text/plain": [
       "Creating json from Arrow format:   0%|          | 0/17 [00:00<?, ?ba/s]"
      ]
     },
     "metadata": {},
     "output_type": "display_data"
    },
    {
     "data": {
      "text/plain": [
       "74546999"
      ]
     },
     "execution_count": 49,
     "metadata": {},
     "output_type": "execute_result"
    }
   ],
   "source": [
    "train = concatenate_datasets([train_r1, train_r2, train_r3])\n",
    "train.to_json('anli_finetune_train.jsonl')"
   ]
  },
  {
   "cell_type": "code",
   "execution_count": 50,
   "id": "1d8283e3",
   "metadata": {},
   "outputs": [],
   "source": [
    "# This trainging dataset will definitely go over the token limit.\n",
    "# Let's just use round 1 for fine tuning for now."
   ]
  },
  {
   "cell_type": "code",
   "execution_count": 51,
   "id": "c909881d",
   "metadata": {},
   "outputs": [
    {
     "data": {
      "application/vnd.jupyter.widget-view+json": {
       "model_id": "b27a4311e42742c3acf2a0297756102c",
       "version_major": 2,
       "version_minor": 0
      },
      "text/plain": [
       "Creating json from Arrow format:   0%|          | 0/2 [00:00<?, ?ba/s]"
      ]
     },
     "metadata": {},
     "output_type": "display_data"
    },
    {
     "data": {
      "text/plain": [
       "8042647"
      ]
     },
     "execution_count": 51,
     "metadata": {},
     "output_type": "execute_result"
    }
   ],
   "source": [
    "train_r1.to_json('anli_finetune_train_r1.jsonl')"
   ]
  },
  {
   "cell_type": "code",
   "execution_count": 53,
   "id": "46c5b81b",
   "metadata": {},
   "outputs": [
    {
     "data": {
      "application/vnd.jupyter.widget-view+json": {
       "model_id": "ea77ffbf54e844b4960b1dfa39e18472",
       "version_major": 2,
       "version_minor": 0
      },
      "text/plain": [
       "  0%|          | 0/1000 [00:00<?, ?ex/s]"
      ]
     },
     "metadata": {},
     "output_type": "display_data"
    },
    {
     "data": {
      "application/vnd.jupyter.widget-view+json": {
       "model_id": "9606cc9cc99244f19aa1d6e69e10673a",
       "version_major": 2,
       "version_minor": 0
      },
      "text/plain": [
       "Creating json from Arrow format:   0%|          | 0/1 [00:00<?, ?ba/s]"
      ]
     },
     "metadata": {},
     "output_type": "display_data"
    },
    {
     "data": {
      "text/plain": [
       "475195"
      ]
     },
     "execution_count": 53,
     "metadata": {},
     "output_type": "execute_result"
    }
   ],
   "source": [
    "dev_r1 = data['dev_r1'].map(map_finetune_train)\n",
    "dev_r1 = dev_r1.remove_columns(['uid', 'reason', 'premise', 'hypothesis', 'label'])\n",
    "dev_r1.to_json('anli_finetune_dev_r1.jsonl')"
   ]
  },
  {
   "cell_type": "code",
   "execution_count": 54,
   "id": "474b5026",
   "metadata": {},
   "outputs": [
    {
     "data": {
      "text/plain": [
       "<File file id=file-FkO4WnaoNWQjODh96npgZ6Kr at 0x7f67643eccc0> JSON: {\n",
       "  \"bytes\": 8042647,\n",
       "  \"created_at\": 1638672457,\n",
       "  \"filename\": \"anli_finetune_train_r1.jsonl\",\n",
       "  \"id\": \"file-FkO4WnaoNWQjODh96npgZ6Kr\",\n",
       "  \"object\": \"file\",\n",
       "  \"purpose\": \"fine-tune\",\n",
       "  \"status\": \"uploaded\",\n",
       "  \"status_details\": null\n",
       "}"
      ]
     },
     "execution_count": 54,
     "metadata": {},
     "output_type": "execute_result"
    }
   ],
   "source": [
    "openai.File.create(file=open('anli_finetune_train_r1.jsonl'), purpose='fine-tune')"
   ]
  },
  {
   "cell_type": "code",
   "execution_count": 55,
   "id": "650f8bf7",
   "metadata": {},
   "outputs": [
    {
     "data": {
      "text/plain": [
       "<File file id=file-cZYCbTSEyYvGpQ1lW2kB41pg at 0x7f66ff96b2c0> JSON: {\n",
       "  \"bytes\": 475195,\n",
       "  \"created_at\": 1638672465,\n",
       "  \"filename\": \"anli_finetune_dev_r1.jsonl\",\n",
       "  \"id\": \"file-cZYCbTSEyYvGpQ1lW2kB41pg\",\n",
       "  \"object\": \"file\",\n",
       "  \"purpose\": \"fine-tune\",\n",
       "  \"status\": \"uploaded\",\n",
       "  \"status_details\": null\n",
       "}"
      ]
     },
     "execution_count": 55,
     "metadata": {},
     "output_type": "execute_result"
    }
   ],
   "source": [
    "openai.File.create(file=open('anli_finetune_dev_r1.jsonl'), purpose='fine-tune')"
   ]
  },
  {
   "cell_type": "code",
   "execution_count": 56,
   "id": "19f05a98",
   "metadata": {},
   "outputs": [
    {
     "data": {
      "text/plain": [
       "<FineTune fine-tune id=ft-uYZ4vdMlvmoLVuycheBpvM7U at 0x7f66ff988bd0> JSON: {\n",
       "  \"created_at\": 1638672534,\n",
       "  \"events\": [\n",
       "    {\n",
       "      \"created_at\": 1638672534,\n",
       "      \"level\": \"info\",\n",
       "      \"message\": \"Created fine-tune: ft-uYZ4vdMlvmoLVuycheBpvM7U\",\n",
       "      \"object\": \"fine-tune-event\"\n",
       "    }\n",
       "  ],\n",
       "  \"fine_tuned_model\": null,\n",
       "  \"hyperparams\": {\n",
       "    \"batch_size\": null,\n",
       "    \"classification_n_classes\": 3,\n",
       "    \"compute_classification_metrics\": true,\n",
       "    \"learning_rate_multiplier\": null,\n",
       "    \"n_epochs\": 4,\n",
       "    \"prompt_loss_weight\": 0.1,\n",
       "    \"use_packing\": null\n",
       "  },\n",
       "  \"id\": \"ft-uYZ4vdMlvmoLVuycheBpvM7U\",\n",
       "  \"model\": \"curie\",\n",
       "  \"object\": \"fine-tune\",\n",
       "  \"organization_id\": \"org-5AE307Eg4rc5EAoEA2S2bwkH\",\n",
       "  \"result_files\": [],\n",
       "  \"status\": \"pending\",\n",
       "  \"training_files\": [\n",
       "    {\n",
       "      \"bytes\": 8042647,\n",
       "      \"created_at\": 1638672457,\n",
       "      \"filename\": \"anli_finetune_train_r1.jsonl\",\n",
       "      \"id\": \"file-FkO4WnaoNWQjODh96npgZ6Kr\",\n",
       "      \"object\": \"file\",\n",
       "      \"purpose\": \"fine-tune\",\n",
       "      \"status\": \"processed\",\n",
       "      \"status_details\": null\n",
       "    }\n",
       "  ],\n",
       "  \"updated_at\": 1638672534,\n",
       "  \"validation_files\": [\n",
       "    {\n",
       "      \"bytes\": 475195,\n",
       "      \"created_at\": 1638672465,\n",
       "      \"filename\": \"anli_finetune_dev_r1.jsonl\",\n",
       "      \"id\": \"file-cZYCbTSEyYvGpQ1lW2kB41pg\",\n",
       "      \"object\": \"file\",\n",
       "      \"purpose\": \"fine-tune\",\n",
       "      \"status\": \"processed\",\n",
       "      \"status_details\": null\n",
       "    }\n",
       "  ]\n",
       "}"
      ]
     },
     "execution_count": 56,
     "metadata": {},
     "output_type": "execute_result"
    }
   ],
   "source": [
    "openai.FineTune.create(\n",
    "    training_file='file-FkO4WnaoNWQjODh96npgZ6Kr',\n",
    "    validation_file='file-cZYCbTSEyYvGpQ1lW2kB41pg',\n",
    "    model='curie',\n",
    "    n_epochs=4,\n",
    "    compute_classification_metrics=True,\n",
    "    classification_n_classes=3\n",
    ")"
   ]
  },
  {
   "cell_type": "code",
   "execution_count": null,
   "id": "196d0988",
   "metadata": {},
   "outputs": [],
   "source": []
  }
 ],
 "metadata": {
  "kernelspec": {
   "display_name": "Python 3 (ipykernel)",
   "language": "python",
   "name": "python3"
  },
  "language_info": {
   "codemirror_mode": {
    "name": "ipython",
    "version": 3
   },
   "file_extension": ".py",
   "mimetype": "text/x-python",
   "name": "python",
   "nbconvert_exporter": "python",
   "pygments_lexer": "ipython3",
   "version": "3.9.5"
  }
 },
 "nbformat": 4,
 "nbformat_minor": 5
}
