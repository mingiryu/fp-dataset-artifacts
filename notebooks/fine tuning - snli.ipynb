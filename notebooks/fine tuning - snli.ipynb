{
 "cells": [
  {
   "cell_type": "code",
   "execution_count": 1,
   "id": "73aabf0a",
   "metadata": {},
   "outputs": [
    {
     "name": "stderr",
     "output_type": "stream",
     "text": [
      "Reusing dataset snli (/home/x/.cache/huggingface/datasets/snli/plain_text/1.0.0/1f60b67533b65ae0275561ff7828aad5ee4282d0e6f844fd148d05d3c6ea251b)\n"
     ]
    },
    {
     "data": {
      "application/vnd.jupyter.widget-view+json": {
       "model_id": "54d89aa22d204b46a41c269b44b897dd",
       "version_major": 2,
       "version_minor": 0
      },
      "text/plain": [
       "  0%|          | 0/3 [00:00<?, ?it/s]"
      ]
     },
     "metadata": {},
     "output_type": "display_data"
    },
    {
     "data": {
      "text/plain": [
       "DatasetDict({\n",
       "    test: Dataset({\n",
       "        features: ['premise', 'hypothesis', 'label'],\n",
       "        num_rows: 10000\n",
       "    })\n",
       "    train: Dataset({\n",
       "        features: ['premise', 'hypothesis', 'label'],\n",
       "        num_rows: 550152\n",
       "    })\n",
       "    validation: Dataset({\n",
       "        features: ['premise', 'hypothesis', 'label'],\n",
       "        num_rows: 10000\n",
       "    })\n",
       "})"
      ]
     },
     "execution_count": 1,
     "metadata": {},
     "output_type": "execute_result"
    }
   ],
   "source": [
    "# Reference: https://beta.openai.com/docs/guides/fine-tuning\n",
    "\n",
    "\"\"\"\n",
    "Currently there is no fee for fine-tuning the model itself, however we will be introducing a fee for this starting December 8th 2021 at 00:00 UTC. After this time, trained tokens will be billed at 50% the base model inference rate per 1k tokens (trained tokens = tokens in file * epochs).\n",
    "\n",
    "We will also begin supporting unlimited monthly fine-tunes and file sizes on December 8th, but until then there is a limit of 10 fine-tuning runs per month and data sets are limited to 2.5M tokens (a file size that's roughly 80-100MB).\n",
    "\"\"\"\n",
    "\n",
    "# There are some limitations put in at the moment\n",
    "\n",
    "import openai\n",
    "\n",
    "from fp_dataset_artifacts.utils import init_openai\n",
    "from datasets import list_datasets, load_dataset, list_metrics, load_metric\n",
    "\n",
    "init_openai()\n",
    "\n",
    "data = load_dataset('snli')\n",
    "data"
   ]
  },
  {
   "cell_type": "code",
   "execution_count": 5,
   "id": "5494044e",
   "metadata": {},
   "outputs": [],
   "source": [
    "\"\"\"Fine tuning expects the following format:\n",
    "\n",
    "{\"prompt\": \"<prompt text>\", \"completion\": \"<ideal generated text>\"}\n",
    "{\"prompt\": \"<prompt text>\", \"completion\": \"<ideal generated text>\"}\n",
    "{\"prompt\": \"<prompt text>\", \"completion\": \"<ideal generated text>\"}\n",
    "...\n",
    "\n",
    "\"\"\"\n",
    "\n",
    "int2label = data['train'].features['label'].int2str\n",
    "\n",
    "def to_example(data, include_label=True):\n",
    "    sentences = []\n",
    "    \n",
    "    for feature in data.keys():                \n",
    "        text = data[feature]\n",
    "        \n",
    "        if feature == 'label':\n",
    "            if not include_label:\n",
    "                text = ''\n",
    "            else:\n",
    "                text = int2label(text).capitalize()\n",
    "            \n",
    "        sentence = f'{feature.capitalize()}: {text}'\n",
    "        sentences.append(sentence)\n",
    "        \n",
    "    return '\\n'.join(sentences)\n",
    "\n",
    "\n",
    "def format_jsonl(x):\n",
    "     return {\n",
    "         'prompt': to_example(x, False),\n",
    "         'completion': int2label(x['label']).capitalize()\n",
    "     }\n",
    "    \n",
    "\n",
    "def build_jsonl(data, filename):\n",
    "    import json\n",
    "    \n",
    "    with open(filename, 'w') as f:\n",
    "        for x in data:\n",
    "            if x['label'] >= 0:\n",
    "                f.write(json.dumps(format_jsonl(x)) + '\\n') \n",
    "\n",
    "build_jsonl(data['train'], 'snli_finetune_train.jsonl')\n",
    "build_jsonl(data['validation'], 'snli_finetune_validation.jsonl')"
   ]
  },
  {
   "cell_type": "code",
   "execution_count": 6,
   "id": "2f784386",
   "metadata": {},
   "outputs": [
    {
     "data": {
      "text/plain": [
       "<File file id=file-zESrbwb1mh3p2OjVzhcsKmH4 at 0x7f1fda351f40> JSON: {\n",
       "  \"bytes\": 98207620,\n",
       "  \"created_at\": 1638409664,\n",
       "  \"filename\": \"snli_finetune_train.jsonl\",\n",
       "  \"id\": \"file-zESrbwb1mh3p2OjVzhcsKmH4\",\n",
       "  \"object\": \"file\",\n",
       "  \"purpose\": \"fine-tune\",\n",
       "  \"status\": \"uploaded\",\n",
       "  \"status_details\": null\n",
       "}"
      ]
     },
     "execution_count": 6,
     "metadata": {},
     "output_type": "execute_result"
    }
   ],
   "source": [
    "# Upload files\n",
    "openai.File.create(file=open(\"snli_finetune_train.jsonl\"), purpose=\"fine-tune\")"
   ]
  },
  {
   "cell_type": "code",
   "execution_count": 7,
   "id": "20e15178",
   "metadata": {},
   "outputs": [
    {
     "data": {
      "text/plain": [
       "<File file id=file-QC8NTdPW56lhbaDtuxvofGLj at 0x7f203a616810> JSON: {\n",
       "  \"bytes\": 1822513,\n",
       "  \"created_at\": 1638409667,\n",
       "  \"filename\": \"snli_finetune_validation.jsonl\",\n",
       "  \"id\": \"file-QC8NTdPW56lhbaDtuxvofGLj\",\n",
       "  \"object\": \"file\",\n",
       "  \"purpose\": \"fine-tune\",\n",
       "  \"status\": \"uploaded\",\n",
       "  \"status_details\": null\n",
       "}"
      ]
     },
     "execution_count": 7,
     "metadata": {},
     "output_type": "execute_result"
    }
   ],
   "source": [
    "openai.File.create(file=open(\"snli_finetune_validation.jsonl\"), purpose=\"fine-tune\")"
   ]
  },
  {
   "cell_type": "code",
   "execution_count": 13,
   "id": "1b363a8d",
   "metadata": {},
   "outputs": [
    {
     "data": {
      "text/plain": [
       "<FineTune fine-tune id=ft-dUn3kTdJRe33NcVQlngm2L1n at 0x7f1fda35c900> JSON: {\n",
       "  \"created_at\": 1638409797,\n",
       "  \"events\": [\n",
       "    {\n",
       "      \"created_at\": 1638409797,\n",
       "      \"level\": \"info\",\n",
       "      \"message\": \"Created fine-tune: ft-dUn3kTdJRe33NcVQlngm2L1n\",\n",
       "      \"object\": \"fine-tune-event\"\n",
       "    }\n",
       "  ],\n",
       "  \"fine_tuned_model\": null,\n",
       "  \"hyperparams\": {\n",
       "    \"batch_size\": null,\n",
       "    \"classification_n_classes\": 3,\n",
       "    \"compute_classification_metrics\": true,\n",
       "    \"learning_rate_multiplier\": null,\n",
       "    \"n_epochs\": 4,\n",
       "    \"prompt_loss_weight\": 0.1,\n",
       "    \"use_packing\": null\n",
       "  },\n",
       "  \"id\": \"ft-dUn3kTdJRe33NcVQlngm2L1n\",\n",
       "  \"model\": \"curie\",\n",
       "  \"object\": \"fine-tune\",\n",
       "  \"organization_id\": \"org-5AE307Eg4rc5EAoEA2S2bwkH\",\n",
       "  \"result_files\": [],\n",
       "  \"status\": \"pending\",\n",
       "  \"training_files\": [\n",
       "    {\n",
       "      \"bytes\": 98207620,\n",
       "      \"created_at\": 1638409664,\n",
       "      \"filename\": \"snli_finetune_train.jsonl\",\n",
       "      \"id\": \"file-zESrbwb1mh3p2OjVzhcsKmH4\",\n",
       "      \"object\": \"file\",\n",
       "      \"purpose\": \"fine-tune\",\n",
       "      \"status\": \"error\",\n",
       "      \"status_details\": \"The file contains 20821169 tokens and exceeds our 3000000 token limit. Please contact finetuning@openai.com and tell us about your use-case if you would like this limit increased.\"\n",
       "    }\n",
       "  ],\n",
       "  \"updated_at\": 1638409797,\n",
       "  \"validation_files\": [\n",
       "    {\n",
       "      \"bytes\": 1822513,\n",
       "      \"created_at\": 1638409667,\n",
       "      \"filename\": \"snli_finetune_validation.jsonl\",\n",
       "      \"id\": \"file-QC8NTdPW56lhbaDtuxvofGLj\",\n",
       "      \"object\": \"file\",\n",
       "      \"purpose\": \"fine-tune\",\n",
       "      \"status\": \"processed\",\n",
       "      \"status_details\": null\n",
       "    }\n",
       "  ]\n",
       "}"
      ]
     },
     "execution_count": 13,
     "metadata": {},
     "output_type": "execute_result"
    }
   ],
   "source": [
    "openai.FineTune.create(\n",
    "    training_file=\"file-zESrbwb1mh3p2OjVzhcsKmH4\",\n",
    "    validation_file=\"file-QC8NTdPW56lhbaDtuxvofGLj\",\n",
    "    model=\"curie\",\n",
    "    n_epochs=4, # default\n",
    "    compute_classification_metrics=True,\n",
    "    classification_n_classes=3\n",
    ")"
   ]
  },
  {
   "cell_type": "code",
   "execution_count": 23,
   "id": "9f63c400",
   "metadata": {},
   "outputs": [
    {
     "data": {
      "text/plain": [
       "55015"
      ]
     },
     "execution_count": 23,
     "metadata": {},
     "output_type": "execute_result"
    }
   ],
   "source": [
    "# Too many tokens, I'm allowed about 10% of the entire training dataset based on the current limit\n",
    "int(len(data['train']) * 0.1)"
   ]
  },
  {
   "cell_type": "code",
   "execution_count": 26,
   "id": "f4c82a13",
   "metadata": {},
   "outputs": [
    {
     "name": "stderr",
     "output_type": "stream",
     "text": [
      "Loading cached shuffled indices for dataset at /home/x/.cache/huggingface/datasets/snli/plain_text/1.0.0/1f60b67533b65ae0275561ff7828aad5ee4282d0e6f844fd148d05d3c6ea251b/cache-81adece7851b63ef.arrow\n"
     ]
    },
    {
     "data": {
      "text/plain": [
       "Dataset({\n",
       "    features: ['premise', 'hypothesis', 'label'],\n",
       "    num_rows: 55015\n",
       "})"
      ]
     },
     "execution_count": 26,
     "metadata": {},
     "output_type": "execute_result"
    }
   ],
   "source": [
    "sample_data = data['train'].shuffle().select([i for i in range(55015)])\n",
    "sample_data"
   ]
  },
  {
   "cell_type": "code",
   "execution_count": 27,
   "id": "96acc9a0",
   "metadata": {},
   "outputs": [
    {
     "data": {
      "text/plain": [
       "<File file id=file-pD1lpBznzyfCVq8U8rOV58RE at 0x7f1fda16e270> JSON: {\n",
       "  \"bytes\": 9805852,\n",
       "  \"created_at\": 1638410623,\n",
       "  \"filename\": \"snli_finetune_train_sample.jsonl\",\n",
       "  \"id\": \"file-pD1lpBznzyfCVq8U8rOV58RE\",\n",
       "  \"object\": \"file\",\n",
       "  \"purpose\": \"fine-tune\",\n",
       "  \"status\": \"uploaded\",\n",
       "  \"status_details\": null\n",
       "}"
      ]
     },
     "execution_count": 27,
     "metadata": {},
     "output_type": "execute_result"
    }
   ],
   "source": [
    "build_jsonl(sample_data, 'snli_finetune_train_sample.jsonl')\n",
    "openai.File.create(file=open(\"snli_finetune_train_sample.jsonl\"), purpose=\"fine-tune\")"
   ]
  },
  {
   "cell_type": "code",
   "execution_count": 28,
   "id": "b9aba83f",
   "metadata": {},
   "outputs": [
    {
     "data": {
      "text/plain": [
       "<FineTune fine-tune id=ft-liaJqXchRH2a0b7InmAZuvEG at 0x7f1fda0caf90> JSON: {\n",
       "  \"created_at\": 1638410655,\n",
       "  \"events\": [\n",
       "    {\n",
       "      \"created_at\": 1638410655,\n",
       "      \"level\": \"info\",\n",
       "      \"message\": \"Created fine-tune: ft-liaJqXchRH2a0b7InmAZuvEG\",\n",
       "      \"object\": \"fine-tune-event\"\n",
       "    }\n",
       "  ],\n",
       "  \"fine_tuned_model\": null,\n",
       "  \"hyperparams\": {\n",
       "    \"batch_size\": null,\n",
       "    \"classification_n_classes\": 3,\n",
       "    \"compute_classification_metrics\": true,\n",
       "    \"learning_rate_multiplier\": null,\n",
       "    \"n_epochs\": 4,\n",
       "    \"prompt_loss_weight\": 0.1,\n",
       "    \"use_packing\": null\n",
       "  },\n",
       "  \"id\": \"ft-liaJqXchRH2a0b7InmAZuvEG\",\n",
       "  \"model\": \"curie\",\n",
       "  \"object\": \"fine-tune\",\n",
       "  \"organization_id\": \"org-5AE307Eg4rc5EAoEA2S2bwkH\",\n",
       "  \"result_files\": [],\n",
       "  \"status\": \"pending\",\n",
       "  \"training_files\": [\n",
       "    {\n",
       "      \"bytes\": 9805852,\n",
       "      \"created_at\": 1638410623,\n",
       "      \"filename\": \"snli_finetune_train_sample.jsonl\",\n",
       "      \"id\": \"file-pD1lpBznzyfCVq8U8rOV58RE\",\n",
       "      \"object\": \"file\",\n",
       "      \"purpose\": \"fine-tune\",\n",
       "      \"status\": \"processed\",\n",
       "      \"status_details\": null\n",
       "    }\n",
       "  ],\n",
       "  \"updated_at\": 1638410655,\n",
       "  \"validation_files\": [\n",
       "    {\n",
       "      \"bytes\": 1822513,\n",
       "      \"created_at\": 1638409667,\n",
       "      \"filename\": \"snli_finetune_validation.jsonl\",\n",
       "      \"id\": \"file-QC8NTdPW56lhbaDtuxvofGLj\",\n",
       "      \"object\": \"file\",\n",
       "      \"purpose\": \"fine-tune\",\n",
       "      \"status\": \"processed\",\n",
       "      \"status_details\": null\n",
       "    }\n",
       "  ]\n",
       "}"
      ]
     },
     "execution_count": 28,
     "metadata": {},
     "output_type": "execute_result"
    }
   ],
   "source": [
    "# Try creating a fine tune with smaller dataset\n",
    "openai.FineTune.create(\n",
    "    training_file=\"file-pD1lpBznzyfCVq8U8rOV58RE\",\n",
    "    validation_file=\"file-QC8NTdPW56lhbaDtuxvofGLj\",\n",
    "    model=\"curie\",\n",
    "    n_epochs=4, # default\n",
    "    compute_classification_metrics=True,\n",
    "    classification_n_classes=3\n",
    ")"
   ]
  },
  {
   "cell_type": "code",
   "execution_count": 29,
   "id": "726de026",
   "metadata": {},
   "outputs": [
    {
     "data": {
      "text/plain": [
       "<OpenAIObject list at 0x7f1fda351450> JSON: {\n",
       "  \"data\": [\n",
       "    {\n",
       "      \"created_at\": 1638409797,\n",
       "      \"fine_tuned_model\": null,\n",
       "      \"hyperparams\": {\n",
       "        \"batch_size\": null,\n",
       "        \"classification_n_classes\": 3,\n",
       "        \"compute_classification_metrics\": true,\n",
       "        \"learning_rate_multiplier\": null,\n",
       "        \"n_epochs\": 4,\n",
       "        \"prompt_loss_weight\": 0.1,\n",
       "        \"use_packing\": null\n",
       "      },\n",
       "      \"id\": \"ft-dUn3kTdJRe33NcVQlngm2L1n\",\n",
       "      \"model\": \"curie\",\n",
       "      \"object\": \"fine-tune\",\n",
       "      \"organization_id\": \"org-5AE307Eg4rc5EAoEA2S2bwkH\",\n",
       "      \"result_files\": [],\n",
       "      \"status\": \"failed\",\n",
       "      \"training_files\": [\n",
       "        {\n",
       "          \"bytes\": 98207620,\n",
       "          \"created_at\": 1638409664,\n",
       "          \"filename\": \"snli_finetune_train.jsonl\",\n",
       "          \"id\": \"file-zESrbwb1mh3p2OjVzhcsKmH4\",\n",
       "          \"object\": \"file\",\n",
       "          \"purpose\": \"fine-tune\",\n",
       "          \"status\": \"error\",\n",
       "          \"status_details\": \"The file contains 20821169 tokens and exceeds our 3000000 token limit. Please contact finetuning@openai.com and tell us about your use-case if you would like this limit increased.\"\n",
       "        }\n",
       "      ],\n",
       "      \"updated_at\": 1638409803,\n",
       "      \"validation_files\": [\n",
       "        {\n",
       "          \"bytes\": 1822513,\n",
       "          \"created_at\": 1638409667,\n",
       "          \"filename\": \"snli_finetune_validation.jsonl\",\n",
       "          \"id\": \"file-QC8NTdPW56lhbaDtuxvofGLj\",\n",
       "          \"object\": \"file\",\n",
       "          \"purpose\": \"fine-tune\",\n",
       "          \"status\": \"processed\",\n",
       "          \"status_details\": null\n",
       "        }\n",
       "      ]\n",
       "    },\n",
       "    {\n",
       "      \"created_at\": 1638410655,\n",
       "      \"fine_tuned_model\": null,\n",
       "      \"hyperparams\": {\n",
       "        \"batch_size\": 2,\n",
       "        \"classification_n_classes\": 3,\n",
       "        \"compute_classification_metrics\": true,\n",
       "        \"learning_rate_multiplier\": 0.2,\n",
       "        \"n_epochs\": 4,\n",
       "        \"prompt_loss_weight\": 0.1,\n",
       "        \"use_packing\": true\n",
       "      },\n",
       "      \"id\": \"ft-liaJqXchRH2a0b7InmAZuvEG\",\n",
       "      \"model\": \"curie\",\n",
       "      \"object\": \"fine-tune\",\n",
       "      \"organization_id\": \"org-5AE307Eg4rc5EAoEA2S2bwkH\",\n",
       "      \"result_files\": [],\n",
       "      \"status\": \"running\",\n",
       "      \"training_files\": [\n",
       "        {\n",
       "          \"bytes\": 9805852,\n",
       "          \"created_at\": 1638410623,\n",
       "          \"filename\": \"snli_finetune_train_sample.jsonl\",\n",
       "          \"id\": \"file-pD1lpBznzyfCVq8U8rOV58RE\",\n",
       "          \"object\": \"file\",\n",
       "          \"purpose\": \"fine-tune\",\n",
       "          \"status\": \"processed\",\n",
       "          \"status_details\": null\n",
       "        }\n",
       "      ],\n",
       "      \"updated_at\": 1638410664,\n",
       "      \"validation_files\": [\n",
       "        {\n",
       "          \"bytes\": 1822513,\n",
       "          \"created_at\": 1638409667,\n",
       "          \"filename\": \"snli_finetune_validation.jsonl\",\n",
       "          \"id\": \"file-QC8NTdPW56lhbaDtuxvofGLj\",\n",
       "          \"object\": \"file\",\n",
       "          \"purpose\": \"fine-tune\",\n",
       "          \"status\": \"processed\",\n",
       "          \"status_details\": null\n",
       "        }\n",
       "      ]\n",
       "    }\n",
       "  ],\n",
       "  \"object\": \"list\"\n",
       "}"
      ]
     },
     "execution_count": 29,
     "metadata": {},
     "output_type": "execute_result"
    }
   ],
   "source": [
    "openai.FineTune.list()"
   ]
  },
  {
   "cell_type": "code",
   "execution_count": 36,
   "id": "37876e80",
   "metadata": {},
   "outputs": [
    {
     "data": {
      "text/plain": [
       "<FineTune fine-tune id=ft-liaJqXchRH2a0b7InmAZuvEG at 0x7f1fda0ceb80> JSON: {\n",
       "  \"created_at\": 1638410655,\n",
       "  \"events\": [\n",
       "    {\n",
       "      \"created_at\": 1638410655,\n",
       "      \"level\": \"info\",\n",
       "      \"message\": \"Created fine-tune: ft-liaJqXchRH2a0b7InmAZuvEG\",\n",
       "      \"object\": \"fine-tune-event\"\n",
       "    },\n",
       "    {\n",
       "      \"created_at\": 1638410659,\n",
       "      \"level\": \"info\",\n",
       "      \"message\": \"Fine-tune enqueued. Queue number: 0\",\n",
       "      \"object\": \"fine-tune-event\"\n",
       "    },\n",
       "    {\n",
       "      \"created_at\": 1638410663,\n",
       "      \"level\": \"info\",\n",
       "      \"message\": \"Fine-tune started\",\n",
       "      \"object\": \"fine-tune-event\"\n",
       "    }\n",
       "  ],\n",
       "  \"fine_tuned_model\": null,\n",
       "  \"hyperparams\": {\n",
       "    \"batch_size\": 2,\n",
       "    \"classification_n_classes\": 3,\n",
       "    \"compute_classification_metrics\": true,\n",
       "    \"learning_rate_multiplier\": 0.2,\n",
       "    \"n_epochs\": 4,\n",
       "    \"prompt_loss_weight\": 0.1,\n",
       "    \"use_packing\": true\n",
       "  },\n",
       "  \"id\": \"ft-liaJqXchRH2a0b7InmAZuvEG\",\n",
       "  \"model\": \"curie\",\n",
       "  \"object\": \"fine-tune\",\n",
       "  \"organization_id\": \"org-5AE307Eg4rc5EAoEA2S2bwkH\",\n",
       "  \"result_files\": [],\n",
       "  \"status\": \"running\",\n",
       "  \"training_files\": [\n",
       "    {\n",
       "      \"bytes\": 9805852,\n",
       "      \"created_at\": 1638410623,\n",
       "      \"filename\": \"snli_finetune_train_sample.jsonl\",\n",
       "      \"id\": \"file-pD1lpBznzyfCVq8U8rOV58RE\",\n",
       "      \"object\": \"file\",\n",
       "      \"purpose\": \"fine-tune\",\n",
       "      \"status\": \"processed\",\n",
       "      \"status_details\": null\n",
       "    }\n",
       "  ],\n",
       "  \"updated_at\": 1638410664,\n",
       "  \"validation_files\": [\n",
       "    {\n",
       "      \"bytes\": 1822513,\n",
       "      \"created_at\": 1638409667,\n",
       "      \"filename\": \"snli_finetune_validation.jsonl\",\n",
       "      \"id\": \"file-QC8NTdPW56lhbaDtuxvofGLj\",\n",
       "      \"object\": \"file\",\n",
       "      \"purpose\": \"fine-tune\",\n",
       "      \"status\": \"processed\",\n",
       "      \"status_details\": null\n",
       "    }\n",
       "  ]\n",
       "}"
      ]
     },
     "execution_count": 36,
     "metadata": {},
     "output_type": "execute_result"
    }
   ],
   "source": [
    "openai.FineTune.retrieve('ft-liaJqXchRH2a0b7InmAZuvEG')"
   ]
  },
  {
   "cell_type": "code",
   "execution_count": 45,
   "id": "c70ff0ad",
   "metadata": {},
   "outputs": [
    {
     "data": {
      "text/plain": [
       "<OpenAIObject list at 0x7f1fd9eec270> JSON: {\n",
       "  \"data\": [\n",
       "    {\n",
       "      \"created_at\": 1638410655,\n",
       "      \"level\": \"info\",\n",
       "      \"message\": \"Created fine-tune: ft-liaJqXchRH2a0b7InmAZuvEG\",\n",
       "      \"object\": \"fine-tune-event\"\n",
       "    },\n",
       "    {\n",
       "      \"created_at\": 1638410659,\n",
       "      \"level\": \"info\",\n",
       "      \"message\": \"Fine-tune enqueued. Queue number: 0\",\n",
       "      \"object\": \"fine-tune-event\"\n",
       "    },\n",
       "    {\n",
       "      \"created_at\": 1638410663,\n",
       "      \"level\": \"info\",\n",
       "      \"message\": \"Fine-tune started\",\n",
       "      \"object\": \"fine-tune-event\"\n",
       "    },\n",
       "    {\n",
       "      \"created_at\": 1638411178,\n",
       "      \"level\": \"info\",\n",
       "      \"message\": \"Completed epoch 1/4\",\n",
       "      \"object\": \"fine-tune-event\"\n",
       "    },\n",
       "    {\n",
       "      \"created_at\": 1638412203,\n",
       "      \"level\": \"info\",\n",
       "      \"message\": \"Completed epoch 2/4\",\n",
       "      \"object\": \"fine-tune-event\"\n",
       "    },\n",
       "    {\n",
       "      \"created_at\": 1638413227,\n",
       "      \"level\": \"info\",\n",
       "      \"message\": \"Completed epoch 3/4\",\n",
       "      \"object\": \"fine-tune-event\"\n",
       "    },\n",
       "    {\n",
       "      \"created_at\": 1638414249,\n",
       "      \"level\": \"info\",\n",
       "      \"message\": \"Completed epoch 4/4\",\n",
       "      \"object\": \"fine-tune-event\"\n",
       "    },\n",
       "    {\n",
       "      \"created_at\": 1638414845,\n",
       "      \"level\": \"info\",\n",
       "      \"message\": \"Uploaded model: curie:ft-user-5hzndcnnszukksvrzrlnjn8l-2021-12-02-03-14-04\",\n",
       "      \"object\": \"fine-tune-event\"\n",
       "    },\n",
       "    {\n",
       "      \"created_at\": 1638414848,\n",
       "      \"level\": \"info\",\n",
       "      \"message\": \"Uploaded result file: file-fODaqo7g6sIEmjKDynpQUfJq\",\n",
       "      \"object\": \"fine-tune-event\"\n",
       "    },\n",
       "    {\n",
       "      \"created_at\": 1638414849,\n",
       "      \"level\": \"info\",\n",
       "      \"message\": \"Fine-tune succeeded\",\n",
       "      \"object\": \"fine-tune-event\"\n",
       "    }\n",
       "  ],\n",
       "  \"object\": \"list\"\n",
       "}"
      ]
     },
     "execution_count": 45,
     "metadata": {},
     "output_type": "execute_result"
    }
   ],
   "source": [
    "openai.FineTune.list_events('ft-liaJqXchRH2a0b7InmAZuvEG')"
   ]
  },
  {
   "cell_type": "code",
   "execution_count": 50,
   "id": "f798be09",
   "metadata": {
    "scrolled": false
   },
   "outputs": [
    {
     "data": {
      "text/plain": [
       "<FineTune fine-tune id=ft-liaJqXchRH2a0b7InmAZuvEG at 0x7f1fda0d79f0> JSON: {\n",
       "  \"created_at\": 1638410655,\n",
       "  \"events\": [\n",
       "    {\n",
       "      \"created_at\": 1638410655,\n",
       "      \"level\": \"info\",\n",
       "      \"message\": \"Created fine-tune: ft-liaJqXchRH2a0b7InmAZuvEG\",\n",
       "      \"object\": \"fine-tune-event\"\n",
       "    },\n",
       "    {\n",
       "      \"created_at\": 1638410659,\n",
       "      \"level\": \"info\",\n",
       "      \"message\": \"Fine-tune enqueued. Queue number: 0\",\n",
       "      \"object\": \"fine-tune-event\"\n",
       "    },\n",
       "    {\n",
       "      \"created_at\": 1638410663,\n",
       "      \"level\": \"info\",\n",
       "      \"message\": \"Fine-tune started\",\n",
       "      \"object\": \"fine-tune-event\"\n",
       "    },\n",
       "    {\n",
       "      \"created_at\": 1638411178,\n",
       "      \"level\": \"info\",\n",
       "      \"message\": \"Completed epoch 1/4\",\n",
       "      \"object\": \"fine-tune-event\"\n",
       "    },\n",
       "    {\n",
       "      \"created_at\": 1638412203,\n",
       "      \"level\": \"info\",\n",
       "      \"message\": \"Completed epoch 2/4\",\n",
       "      \"object\": \"fine-tune-event\"\n",
       "    },\n",
       "    {\n",
       "      \"created_at\": 1638413227,\n",
       "      \"level\": \"info\",\n",
       "      \"message\": \"Completed epoch 3/4\",\n",
       "      \"object\": \"fine-tune-event\"\n",
       "    },\n",
       "    {\n",
       "      \"created_at\": 1638414249,\n",
       "      \"level\": \"info\",\n",
       "      \"message\": \"Completed epoch 4/4\",\n",
       "      \"object\": \"fine-tune-event\"\n",
       "    },\n",
       "    {\n",
       "      \"created_at\": 1638414845,\n",
       "      \"level\": \"info\",\n",
       "      \"message\": \"Uploaded model: curie:ft-user-5hzndcnnszukksvrzrlnjn8l-2021-12-02-03-14-04\",\n",
       "      \"object\": \"fine-tune-event\"\n",
       "    },\n",
       "    {\n",
       "      \"created_at\": 1638414848,\n",
       "      \"level\": \"info\",\n",
       "      \"message\": \"Uploaded result file: file-fODaqo7g6sIEmjKDynpQUfJq\",\n",
       "      \"object\": \"fine-tune-event\"\n",
       "    },\n",
       "    {\n",
       "      \"created_at\": 1638414849,\n",
       "      \"level\": \"info\",\n",
       "      \"message\": \"Fine-tune succeeded\",\n",
       "      \"object\": \"fine-tune-event\"\n",
       "    }\n",
       "  ],\n",
       "  \"fine_tuned_model\": \"curie:ft-user-5hzndcnnszukksvrzrlnjn8l-2021-12-02-03-14-04\",\n",
       "  \"hyperparams\": {\n",
       "    \"batch_size\": 2,\n",
       "    \"classification_n_classes\": 3,\n",
       "    \"compute_classification_metrics\": true,\n",
       "    \"learning_rate_multiplier\": 0.2,\n",
       "    \"n_epochs\": 4,\n",
       "    \"prompt_loss_weight\": 0.1,\n",
       "    \"use_packing\": true\n",
       "  },\n",
       "  \"id\": \"ft-liaJqXchRH2a0b7InmAZuvEG\",\n",
       "  \"model\": \"curie\",\n",
       "  \"object\": \"fine-tune\",\n",
       "  \"organization_id\": \"org-5AE307Eg4rc5EAoEA2S2bwkH\",\n",
       "  \"result_files\": [\n",
       "    {\n",
       "      \"bytes\": 129886,\n",
       "      \"created_at\": 1638414846,\n",
       "      \"filename\": \"compiled_results.csv\",\n",
       "      \"id\": \"file-fODaqo7g6sIEmjKDynpQUfJq\",\n",
       "      \"object\": \"file\",\n",
       "      \"purpose\": \"fine-tune-results\",\n",
       "      \"status\": \"processed\",\n",
       "      \"status_details\": null\n",
       "    }\n",
       "  ],\n",
       "  \"status\": \"succeeded\",\n",
       "  \"training_files\": [\n",
       "    {\n",
       "      \"bytes\": 9805852,\n",
       "      \"created_at\": 1638410623,\n",
       "      \"filename\": \"snli_finetune_train_sample.jsonl\",\n",
       "      \"id\": \"file-pD1lpBznzyfCVq8U8rOV58RE\",\n",
       "      \"object\": \"file\",\n",
       "      \"purpose\": \"fine-tune\",\n",
       "      \"status\": \"processed\",\n",
       "      \"status_details\": null\n",
       "    }\n",
       "  ],\n",
       "  \"updated_at\": 1638414849,\n",
       "  \"validation_files\": [\n",
       "    {\n",
       "      \"bytes\": 1822513,\n",
       "      \"created_at\": 1638409667,\n",
       "      \"filename\": \"snli_finetune_validation.jsonl\",\n",
       "      \"id\": \"file-QC8NTdPW56lhbaDtuxvofGLj\",\n",
       "      \"object\": \"file\",\n",
       "      \"purpose\": \"fine-tune\",\n",
       "      \"status\": \"processed\",\n",
       "      \"status_details\": null\n",
       "    }\n",
       "  ]\n",
       "}"
      ]
     },
     "execution_count": 50,
     "metadata": {},
     "output_type": "execute_result"
    }
   ],
   "source": [
    "openai.FineTune.retrieve('ft-liaJqXchRH2a0b7InmAZuvEG')"
   ]
  },
  {
   "cell_type": "code",
   "execution_count": 48,
   "id": "cbd1aced",
   "metadata": {},
   "outputs": [
    {
     "data": {
      "text/plain": [
       "'Premise: This church choir sings to the masses as they sing joyous songs from the book at a church.\\nHypothesis: The church has cracks in the ceiling.\\nLabel: '"
      ]
     },
     "execution_count": 48,
     "metadata": {},
     "output_type": "execute_result"
    }
   ],
   "source": [
    "x = data['test'][0]\n",
    "x = to_example(x, False)\n",
    "x"
   ]
  },
  {
   "cell_type": "code",
   "execution_count": 51,
   "id": "f8223db4",
   "metadata": {},
   "outputs": [
    {
     "data": {
      "text/plain": [
       "<OpenAIObject text_completion id=cmpl-4AWtQeqpHkqJ869kJP1BvF14RNMqL at 0x7f1fda0d7810> JSON: {\n",
       "  \"choices\": [\n",
       "    {\n",
       "      \"finish_reason\": \"length\",\n",
       "      \"index\": 0,\n",
       "      \"logprobs\": null,\n",
       "      \"text\": \"Neutralmentailment\\nPremise: Two men in shorts sit on a\"\n",
       "    }\n",
       "  ],\n",
       "  \"created\": 1638415068,\n",
       "  \"id\": \"cmpl-4AWtQeqpHkqJ869kJP1BvF14RNMqL\",\n",
       "  \"model\": \"curie:ft-user-5hzndcnnszukksvrzrlnjn8l-2021-12-02-03-14-04\",\n",
       "  \"object\": \"text_completion\"\n",
       "}"
      ]
     },
     "execution_count": 51,
     "metadata": {},
     "output_type": "execute_result"
    }
   ],
   "source": [
    "# Using the fine tuned model\n",
    "openai.Completion.create(\n",
    "    model='curie:ft-user-5hzndcnnszukksvrzrlnjn8l-2021-12-02-03-14-04',\n",
    "    prompt=x\n",
    ")"
   ]
  },
  {
   "cell_type": "code",
   "execution_count": 52,
   "id": "3de41fe8",
   "metadata": {},
   "outputs": [
    {
     "data": {
      "text/plain": [
       "<OpenAIObject text_completion id=cmpl-4AWued8lpqg9AIawfG9H3rdGNlB81 at 0x7f1fda0cec20> JSON: {\n",
       "  \"choices\": [\n",
       "    {\n",
       "      \"finish_reason\": \"length\",\n",
       "      \"index\": 0,\n",
       "      \"logprobs\": null,\n",
       "      \"text\": \"Neutral: This is happening at a wedding.\\nHypothesis: The choir is singing at the funeral.\\nLabel: Contradiction: A man in a green shirt and jeans is walking down the street.\\nHypothesis: A man is walking to the store.\\nLabel\"\n",
       "    }\n",
       "  ],\n",
       "  \"created\": 1638415144,\n",
       "  \"id\": \"cmpl-4AWued8lpqg9AIawfG9H3rdGNlB81\",\n",
       "  \"model\": \"curie:ft-user-5hzndcnnszukksvrzrlnjn8l-2021-12-02-03-14-04\",\n",
       "  \"object\": \"text_completion\"\n",
       "}"
      ]
     },
     "execution_count": 52,
     "metadata": {},
     "output_type": "execute_result"
    }
   ],
   "source": [
    "openai.Completion.create(\n",
    "    model='curie:ft-user-5hzndcnnszukksvrzrlnjn8l-2021-12-02-03-14-04',\n",
    "    prompt=x,\n",
    "    temperature=0.3,\n",
    "    max_tokens=60,\n",
    "    top_p=1,\n",
    "    frequency_penalty=0.5,\n",
    "    presence_penalty=0,\n",
    ")"
   ]
  },
  {
   "cell_type": "code",
   "execution_count": 53,
   "id": "09e64d35",
   "metadata": {},
   "outputs": [
    {
     "data": {
      "text/plain": [
       "<OpenAIObject text_completion id=cmpl-4AWvCugPl9dwZY7e6obfd2ceJjwjC at 0x7f1fda0c7e50> JSON: {\n",
       "  \"choices\": [\n",
       "    {\n",
       "      \"finish_reason\": \"length\",\n",
       "      \"index\": 0,\n",
       "      \"logprobs\": null,\n",
       "      \"text\": \"Neutral: This choir is singing at a wedding\"\n",
       "    }\n",
       "  ],\n",
       "  \"created\": 1638415178,\n",
       "  \"id\": \"cmpl-4AWvCugPl9dwZY7e6obfd2ceJjwjC\",\n",
       "  \"model\": \"curie:ft-user-5hzndcnnszukksvrzrlnjn8l-2021-12-02-03-14-04\",\n",
       "  \"object\": \"text_completion\"\n",
       "}"
      ]
     },
     "execution_count": 53,
     "metadata": {},
     "output_type": "execute_result"
    }
   ],
   "source": [
    "openai.Completion.create(\n",
    "    model='curie:ft-user-5hzndcnnszukksvrzrlnjn8l-2021-12-02-03-14-04',\n",
    "    prompt=x,\n",
    "    temperature=0.3,\n",
    "    max_tokens=10,\n",
    "    stop=['\\n'],\n",
    "    top_p=1,\n",
    "    frequency_penalty=0.5,\n",
    "    presence_penalty=0,\n",
    ")"
   ]
  },
  {
   "cell_type": "code",
   "execution_count": 56,
   "id": "79a12bcf",
   "metadata": {},
   "outputs": [
    {
     "data": {
      "text/plain": [
       "'Premise: This church choir sings to the masses as they sing joyous songs from the book at a church.\\nHypothesis: The church has cracks in the ceiling.\\nLabel: Neutral'"
      ]
     },
     "execution_count": 56,
     "metadata": {},
     "output_type": "execute_result"
    }
   ],
   "source": [
    "to_example(data['test'][0])"
   ]
  },
  {
   "cell_type": "code",
   "execution_count": 54,
   "id": "d5bdc56d",
   "metadata": {},
   "outputs": [
    {
     "data": {
      "text/plain": [
       "<OpenAIObject text_completion id=cmpl-4AWvsbWr32vSHCkn066wantC9oEV9 at 0x7f1fd9f6da40> JSON: {\n",
       "  \"choices\": [\n",
       "    {\n",
       "      \"finish_reason\": \"length\",\n",
       "      \"index\": 0,\n",
       "      \"logprobs\": null,\n",
       "      \"text\": \"Entailment: A man in a blue shirt\"\n",
       "    }\n",
       "  ],\n",
       "  \"created\": 1638415220,\n",
       "  \"id\": \"cmpl-4AWvsbWr32vSHCkn066wantC9oEV9\",\n",
       "  \"model\": \"curie:ft-user-5hzndcnnszukksvrzrlnjn8l-2021-12-02-03-14-04\",\n",
       "  \"object\": \"text_completion\"\n",
       "}"
      ]
     },
     "execution_count": 54,
     "metadata": {},
     "output_type": "execute_result"
    }
   ],
   "source": [
    "# Another example\n",
    "openai.Completion.create(\n",
    "    model='curie:ft-user-5hzndcnnszukksvrzrlnjn8l-2021-12-02-03-14-04',\n",
    "    prompt=to_example(data['test'][1], False),\n",
    "    temperature=0.3,\n",
    "    max_tokens=10,\n",
    "    stop=['\\n'],\n",
    "    top_p=1,\n",
    "    frequency_penalty=0.5,\n",
    "    presence_penalty=0,\n",
    ")"
   ]
  },
  {
   "cell_type": "code",
   "execution_count": 57,
   "id": "bf5d2da4",
   "metadata": {},
   "outputs": [
    {
     "data": {
      "text/plain": [
       "'Premise: This church choir sings to the masses as they sing joyous songs from the book at a church.\\nHypothesis: The church is filled with song.\\nLabel: Entailment'"
      ]
     },
     "execution_count": 57,
     "metadata": {},
     "output_type": "execute_result"
    }
   ],
   "source": [
    "to_example(data['test'][1])"
   ]
  },
  {
   "cell_type": "code",
   "execution_count": 58,
   "id": "8da0062e",
   "metadata": {},
   "outputs": [
    {
     "data": {
      "text/plain": [
       "<OpenAIObject text_completion id=cmpl-4AWwgP5jpKgje4mI4aUmdqn1YfmcL at 0x7f1fd9eec9a0> JSON: {\n",
       "  \"choices\": [\n",
       "    {\n",
       "      \"finish_reason\": \"stop\",\n",
       "      \"index\": 0,\n",
       "      \"logprobs\": null,\n",
       "      \"text\": \"Contradiction\"\n",
       "    }\n",
       "  ],\n",
       "  \"created\": 1638415270,\n",
       "  \"id\": \"cmpl-4AWwgP5jpKgje4mI4aUmdqn1YfmcL\",\n",
       "  \"model\": \"curie:ft-user-5hzndcnnszukksvrzrlnjn8l-2021-12-02-03-14-04\",\n",
       "  \"object\": \"text_completion\"\n",
       "}"
      ]
     },
     "execution_count": 58,
     "metadata": {},
     "output_type": "execute_result"
    }
   ],
   "source": [
    "# One more\n",
    "openai.Completion.create(\n",
    "    model='curie:ft-user-5hzndcnnszukksvrzrlnjn8l-2021-12-02-03-14-04',\n",
    "    prompt=to_example(data['test'][2], False),\n",
    "    temperature=0.3,\n",
    "    max_tokens=10,\n",
    "    stop=['\\n'],\n",
    "    top_p=1,\n",
    "    frequency_penalty=0.5,\n",
    "    presence_penalty=0,\n",
    ")"
   ]
  },
  {
   "cell_type": "code",
   "execution_count": 59,
   "id": "bfd46caf",
   "metadata": {},
   "outputs": [
    {
     "data": {
      "text/plain": [
       "'Premise: This church choir sings to the masses as they sing joyous songs from the book at a church.\\nHypothesis: A choir singing at a baseball game.\\nLabel: Contradiction'"
      ]
     },
     "execution_count": 59,
     "metadata": {},
     "output_type": "execute_result"
    }
   ],
   "source": [
    "to_example(data['test'][2])"
   ]
  },
  {
   "cell_type": "code",
   "execution_count": 60,
   "id": "4cb5e16b",
   "metadata": {},
   "outputs": [
    {
     "data": {
      "text/plain": [
       "<OpenAIObject text_completion id=cmpl-4AWxdL8LhmlJ5umX8Q6rnAgDNvrH3 at 0x7f1fda0ce4f0> JSON: {\n",
       "  \"choices\": [\n",
       "    {\n",
       "      \"finish_reason\": \"length\",\n",
       "      \"index\": 0,\n",
       "      \"logprobs\": null,\n",
       "      \"text\": \"Neutral: A woman with a green headscar\"\n",
       "    }\n",
       "  ],\n",
       "  \"created\": 1638415329,\n",
       "  \"id\": \"cmpl-4AWxdL8LhmlJ5umX8Q6rnAgDNvrH3\",\n",
       "  \"model\": \"curie:ft-user-5hzndcnnszukksvrzrlnjn8l-2021-12-02-03-14-04\",\n",
       "  \"object\": \"text_completion\"\n",
       "}"
      ]
     },
     "execution_count": 60,
     "metadata": {},
     "output_type": "execute_result"
    }
   ],
   "source": [
    "# One more?\n",
    "openai.Completion.create(\n",
    "    model='curie:ft-user-5hzndcnnszukksvrzrlnjn8l-2021-12-02-03-14-04',\n",
    "    prompt=to_example(data['test'][3], False),\n",
    "    temperature=0.3,\n",
    "    max_tokens=10,\n",
    "    stop=['\\n'],\n",
    "    top_p=1,\n",
    "    frequency_penalty=0.5,\n",
    "    presence_penalty=0,\n",
    ")"
   ]
  },
  {
   "cell_type": "code",
   "execution_count": 61,
   "id": "0ebf756e",
   "metadata": {},
   "outputs": [
    {
     "data": {
      "text/plain": [
       "'Premise: A woman with a green headscarf, blue shirt and a very big grin.\\nHypothesis: The woman is young.\\nLabel: Neutral'"
      ]
     },
     "execution_count": 61,
     "metadata": {},
     "output_type": "execute_result"
    }
   ],
   "source": [
    "to_example(data['test'][3])"
   ]
  },
  {
   "cell_type": "code",
   "execution_count": null,
   "id": "ed796b9a",
   "metadata": {},
   "outputs": [],
   "source": [
    "# We might need to work on prompt engineering to make sure the generated text has only the label\n",
    "# Adding `\\n` might help.\n",
    "# The fine tuning took about 1 hour for 10% of the training data w/ 4 epochs, so it could take a long time to iterate."
   ]
  },
  {
   "cell_type": "code",
   "execution_count": 2,
   "id": "6b2bb40c",
   "metadata": {},
   "outputs": [],
   "source": [
    "with open('../results/snli_results.csv', 'wb') as f:\n",
    "    f.write(openai.File.download('file-fODaqo7g6sIEmjKDynpQUfJq'))"
   ]
  },
  {
   "cell_type": "code",
   "execution_count": 3,
   "id": "2c4ca4af",
   "metadata": {},
   "outputs": [
    {
     "data": {
      "text/html": [
       "<div>\n",
       "<style scoped>\n",
       "    .dataframe tbody tr th:only-of-type {\n",
       "        vertical-align: middle;\n",
       "    }\n",
       "\n",
       "    .dataframe tbody tr th {\n",
       "        vertical-align: top;\n",
       "    }\n",
       "\n",
       "    .dataframe thead th {\n",
       "        text-align: right;\n",
       "    }\n",
       "</style>\n",
       "<table border=\"1\" class=\"dataframe\">\n",
       "  <thead>\n",
       "    <tr style=\"text-align: right;\">\n",
       "      <th></th>\n",
       "      <th>step</th>\n",
       "      <th>elapsed_tokens</th>\n",
       "      <th>elapsed_examples</th>\n",
       "      <th>training_loss</th>\n",
       "      <th>training_sequence_accuracy</th>\n",
       "      <th>training_token_accuracy</th>\n",
       "      <th>validation_loss</th>\n",
       "      <th>validation_sequence_accuracy</th>\n",
       "      <th>validation_token_accuracy</th>\n",
       "      <th>classification/accuracy</th>\n",
       "      <th>classification/weighted_f1_score</th>\n",
       "    </tr>\n",
       "  </thead>\n",
       "  <tbody>\n",
       "    <tr>\n",
       "      <th>0</th>\n",
       "      <td>1</td>\n",
       "      <td>4098</td>\n",
       "      <td>2</td>\n",
       "      <td>0.377935</td>\n",
       "      <td>0.0</td>\n",
       "      <td>0.641304</td>\n",
       "      <td>0.432851</td>\n",
       "      <td>0.0</td>\n",
       "      <td>0.4</td>\n",
       "      <td>NaN</td>\n",
       "      <td>NaN</td>\n",
       "    </tr>\n",
       "    <tr>\n",
       "      <th>1</th>\n",
       "      <td>2</td>\n",
       "      <td>8196</td>\n",
       "      <td>4</td>\n",
       "      <td>0.292203</td>\n",
       "      <td>0.0</td>\n",
       "      <td>0.622837</td>\n",
       "      <td>NaN</td>\n",
       "      <td>NaN</td>\n",
       "      <td>NaN</td>\n",
       "      <td>NaN</td>\n",
       "      <td>NaN</td>\n",
       "    </tr>\n",
       "    <tr>\n",
       "      <th>2</th>\n",
       "      <td>3</td>\n",
       "      <td>12294</td>\n",
       "      <td>6</td>\n",
       "      <td>0.391761</td>\n",
       "      <td>0.0</td>\n",
       "      <td>0.750000</td>\n",
       "      <td>NaN</td>\n",
       "      <td>NaN</td>\n",
       "      <td>NaN</td>\n",
       "      <td>NaN</td>\n",
       "      <td>NaN</td>\n",
       "    </tr>\n",
       "    <tr>\n",
       "      <th>3</th>\n",
       "      <td>4</td>\n",
       "      <td>16392</td>\n",
       "      <td>8</td>\n",
       "      <td>0.357319</td>\n",
       "      <td>0.0</td>\n",
       "      <td>0.736462</td>\n",
       "      <td>NaN</td>\n",
       "      <td>NaN</td>\n",
       "      <td>NaN</td>\n",
       "      <td>NaN</td>\n",
       "      <td>NaN</td>\n",
       "    </tr>\n",
       "    <tr>\n",
       "      <th>4</th>\n",
       "      <td>5</td>\n",
       "      <td>20490</td>\n",
       "      <td>10</td>\n",
       "      <td>0.261835</td>\n",
       "      <td>0.0</td>\n",
       "      <td>0.722807</td>\n",
       "      <td>NaN</td>\n",
       "      <td>NaN</td>\n",
       "      <td>NaN</td>\n",
       "      <td>NaN</td>\n",
       "      <td>NaN</td>\n",
       "    </tr>\n",
       "    <tr>\n",
       "      <th>...</th>\n",
       "      <td>...</td>\n",
       "      <td>...</td>\n",
       "      <td>...</td>\n",
       "      <td>...</td>\n",
       "      <td>...</td>\n",
       "      <td>...</td>\n",
       "      <td>...</td>\n",
       "      <td>...</td>\n",
       "      <td>...</td>\n",
       "      <td>...</td>\n",
       "      <td>...</td>\n",
       "    </tr>\n",
       "    <tr>\n",
       "      <th>2045</th>\n",
       "      <td>2046</td>\n",
       "      <td>8384508</td>\n",
       "      <td>4092</td>\n",
       "      <td>0.069999</td>\n",
       "      <td>1.0</td>\n",
       "      <td>1.000000</td>\n",
       "      <td>NaN</td>\n",
       "      <td>NaN</td>\n",
       "      <td>NaN</td>\n",
       "      <td>NaN</td>\n",
       "      <td>NaN</td>\n",
       "    </tr>\n",
       "    <tr>\n",
       "      <th>2046</th>\n",
       "      <td>2047</td>\n",
       "      <td>8388606</td>\n",
       "      <td>4094</td>\n",
       "      <td>0.073392</td>\n",
       "      <td>0.5</td>\n",
       "      <td>0.993031</td>\n",
       "      <td>NaN</td>\n",
       "      <td>NaN</td>\n",
       "      <td>NaN</td>\n",
       "      <td>NaN</td>\n",
       "      <td>NaN</td>\n",
       "    </tr>\n",
       "    <tr>\n",
       "      <th>2047</th>\n",
       "      <td>2048</td>\n",
       "      <td>8392704</td>\n",
       "      <td>4096</td>\n",
       "      <td>0.063837</td>\n",
       "      <td>1.0</td>\n",
       "      <td>1.000000</td>\n",
       "      <td>NaN</td>\n",
       "      <td>NaN</td>\n",
       "      <td>NaN</td>\n",
       "      <td>NaN</td>\n",
       "      <td>NaN</td>\n",
       "    </tr>\n",
       "    <tr>\n",
       "      <th>2048</th>\n",
       "      <td>2049</td>\n",
       "      <td>8396802</td>\n",
       "      <td>4098</td>\n",
       "      <td>0.071893</td>\n",
       "      <td>0.0</td>\n",
       "      <td>0.993174</td>\n",
       "      <td>NaN</td>\n",
       "      <td>NaN</td>\n",
       "      <td>NaN</td>\n",
       "      <td>NaN</td>\n",
       "      <td>NaN</td>\n",
       "    </tr>\n",
       "    <tr>\n",
       "      <th>2049</th>\n",
       "      <td>2050</td>\n",
       "      <td>8400900</td>\n",
       "      <td>4100</td>\n",
       "      <td>0.065214</td>\n",
       "      <td>0.5</td>\n",
       "      <td>0.996429</td>\n",
       "      <td>NaN</td>\n",
       "      <td>NaN</td>\n",
       "      <td>NaN</td>\n",
       "      <td>0.902357</td>\n",
       "      <td>0.901942</td>\n",
       "    </tr>\n",
       "  </tbody>\n",
       "</table>\n",
       "<p>2050 rows × 11 columns</p>\n",
       "</div>"
      ],
      "text/plain": [
       "      step  elapsed_tokens  elapsed_examples  training_loss  \\\n",
       "0        1            4098                 2       0.377935   \n",
       "1        2            8196                 4       0.292203   \n",
       "2        3           12294                 6       0.391761   \n",
       "3        4           16392                 8       0.357319   \n",
       "4        5           20490                10       0.261835   \n",
       "...    ...             ...               ...            ...   \n",
       "2045  2046         8384508              4092       0.069999   \n",
       "2046  2047         8388606              4094       0.073392   \n",
       "2047  2048         8392704              4096       0.063837   \n",
       "2048  2049         8396802              4098       0.071893   \n",
       "2049  2050         8400900              4100       0.065214   \n",
       "\n",
       "      training_sequence_accuracy  training_token_accuracy  validation_loss  \\\n",
       "0                            0.0                 0.641304         0.432851   \n",
       "1                            0.0                 0.622837              NaN   \n",
       "2                            0.0                 0.750000              NaN   \n",
       "3                            0.0                 0.736462              NaN   \n",
       "4                            0.0                 0.722807              NaN   \n",
       "...                          ...                      ...              ...   \n",
       "2045                         1.0                 1.000000              NaN   \n",
       "2046                         0.5                 0.993031              NaN   \n",
       "2047                         1.0                 1.000000              NaN   \n",
       "2048                         0.0                 0.993174              NaN   \n",
       "2049                         0.5                 0.996429              NaN   \n",
       "\n",
       "      validation_sequence_accuracy  validation_token_accuracy  \\\n",
       "0                              0.0                        0.4   \n",
       "1                              NaN                        NaN   \n",
       "2                              NaN                        NaN   \n",
       "3                              NaN                        NaN   \n",
       "4                              NaN                        NaN   \n",
       "...                            ...                        ...   \n",
       "2045                           NaN                        NaN   \n",
       "2046                           NaN                        NaN   \n",
       "2047                           NaN                        NaN   \n",
       "2048                           NaN                        NaN   \n",
       "2049                           NaN                        NaN   \n",
       "\n",
       "      classification/accuracy  classification/weighted_f1_score  \n",
       "0                         NaN                               NaN  \n",
       "1                         NaN                               NaN  \n",
       "2                         NaN                               NaN  \n",
       "3                         NaN                               NaN  \n",
       "4                         NaN                               NaN  \n",
       "...                       ...                               ...  \n",
       "2045                      NaN                               NaN  \n",
       "2046                      NaN                               NaN  \n",
       "2047                      NaN                               NaN  \n",
       "2048                      NaN                               NaN  \n",
       "2049                 0.902357                          0.901942  \n",
       "\n",
       "[2050 rows x 11 columns]"
      ]
     },
     "execution_count": 3,
     "metadata": {},
     "output_type": "execute_result"
    }
   ],
   "source": [
    "import pandas as pd\n",
    "df = pd.read_csv('../results/snli_results.csv')\n",
    "df"
   ]
  },
  {
   "cell_type": "code",
   "execution_count": null,
   "id": "a0d2c836",
   "metadata": {},
   "outputs": [],
   "source": []
  }
 ],
 "metadata": {
  "kernelspec": {
   "display_name": "Python 3 (ipykernel)",
   "language": "python",
   "name": "python3"
  },
  "language_info": {
   "codemirror_mode": {
    "name": "ipython",
    "version": 3
   },
   "file_extension": ".py",
   "mimetype": "text/x-python",
   "name": "python",
   "nbconvert_exporter": "python",
   "pygments_lexer": "ipython3",
   "version": "3.9.5"
  }
 },
 "nbformat": 4,
 "nbformat_minor": 5
}
